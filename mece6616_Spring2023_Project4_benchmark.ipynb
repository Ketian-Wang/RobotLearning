{
  "cells": [
    {
      "cell_type": "markdown",
      "metadata": {
        "id": "view-in-github",
        "colab_type": "text"
      },
      "source": [
        "<a href=\"https://colab.research.google.com/github/Ketian-Wang/RobotLearning/blob/main/mece6616_Spring2023_Project4_benchmark.ipynb\" target=\"_parent\"><img src=\"https://colab.research.google.com/assets/colab-badge.svg\" alt=\"Open In Colab\"/></a>"
      ]
    },
    {
      "cell_type": "markdown",
      "metadata": {
        "id": "jCleXWNaK8ef"
      },
      "source": [
        "## Project Setup "
      ]
    },
    {
      "cell_type": "code",
      "execution_count": null,
      "metadata": {
        "id": "xm8CaL4aY2am",
        "colab": {
          "base_uri": "https://localhost:8080/"
        },
        "outputId": "43551fc4-f8bc-4951-e8bc-f7361e380624"
      },
      "outputs": [
        {
          "output_type": "stream",
          "name": "stdout",
          "text": [
            "Cloning into 'mecs6616_sp23_project4'...\n",
            "remote: Enumerating objects: 15, done.\u001b[K\n",
            "remote: Counting objects: 100% (15/15), done.\u001b[K\n",
            "remote: Compressing objects: 100% (15/15), done.\u001b[K\n",
            "remote: Total 15 (delta 5), reused 6 (delta 0), pack-reused 0\u001b[K\n",
            "Unpacking objects: 100% (15/15), 8.63 KiB | 2.16 MiB/s, done.\n"
          ]
        }
      ],
      "source": [
        "# DO NOT CHANGE\n",
        "\n",
        "# After running this cell, the folder 'mecs6616_sp23_project3' will show up in the file explorer on the left (click on the folder icon if it's not open)\n",
        "# It may take a few seconds to appear\n",
        "!git clone https://github.com/roamlab/mecs6616_sp23_project4.git"
      ]
    },
    {
      "cell_type": "code",
      "source": [
        "# DO NOT CHANGE\n",
        "\n",
        "# move all needed files into the working directory. This is simply to make accessing files easier\n",
        "!mv /content/mecs6616_sp23_project4/* /content/"
      ],
      "metadata": {
        "id": "KVOBvh6GvAgP"
      },
      "execution_count": null,
      "outputs": []
    },
    {
      "cell_type": "code",
      "execution_count": null,
      "metadata": {
        "id": "j8Cj2R4NyzSg",
        "colab": {
          "base_uri": "https://localhost:8080/"
        },
        "outputId": "619c7858-4ad9-4be8-c40c-8a05ab64a507"
      },
      "outputs": [
        {
          "output_type": "stream",
          "name": "stdout",
          "text": [
            "Looking in indexes: https://pypi.org/simple, https://us-python.pkg.dev/colab-wheels/public/simple/\n",
            "Collecting ray\n",
            "  Downloading ray-2.4.0-cp310-cp310-manylinux2014_x86_64.whl (58.6 MB)\n",
            "\u001b[2K     \u001b[90m━━━━━━━━━━━━━━━━━━━━━━━━━━━━━━━━━━━━━━━━\u001b[0m \u001b[32m58.6/58.6 MB\u001b[0m \u001b[31m15.3 MB/s\u001b[0m eta \u001b[36m0:00:00\u001b[0m\n",
            "\u001b[?25hRequirement already satisfied: attrs in /usr/local/lib/python3.10/dist-packages (from ray) (23.1.0)\n",
            "Requirement already satisfied: requests in /usr/local/lib/python3.10/dist-packages (from ray) (2.27.1)\n",
            "Requirement already satisfied: filelock in /usr/local/lib/python3.10/dist-packages (from ray) (3.12.0)\n",
            "Collecting aiosignal\n",
            "  Downloading aiosignal-1.3.1-py3-none-any.whl (7.6 kB)\n",
            "Requirement already satisfied: jsonschema in /usr/local/lib/python3.10/dist-packages (from ray) (4.3.3)\n",
            "Collecting virtualenv<20.21.1,>=20.0.24\n",
            "  Downloading virtualenv-20.21.0-py3-none-any.whl (8.7 MB)\n",
            "\u001b[2K     \u001b[90m━━━━━━━━━━━━━━━━━━━━━━━━━━━━━━━━━━━━━━━━\u001b[0m \u001b[32m8.7/8.7 MB\u001b[0m \u001b[31m84.5 MB/s\u001b[0m eta \u001b[36m0:00:00\u001b[0m\n",
            "\u001b[?25hCollecting grpcio<=1.51.3,>=1.42.0\n",
            "  Downloading grpcio-1.51.3-cp310-cp310-manylinux_2_17_x86_64.manylinux2014_x86_64.whl (4.8 MB)\n",
            "\u001b[2K     \u001b[90m━━━━━━━━━━━━━━━━━━━━━━━━━━━━━━━━━━━━━━━━\u001b[0m \u001b[32m4.8/4.8 MB\u001b[0m \u001b[31m87.0 MB/s\u001b[0m eta \u001b[36m0:00:00\u001b[0m\n",
            "\u001b[?25hRequirement already satisfied: msgpack<2.0.0,>=1.0.0 in /usr/local/lib/python3.10/dist-packages (from ray) (1.0.5)\n",
            "Requirement already satisfied: protobuf!=3.19.5,>=3.15.3 in /usr/local/lib/python3.10/dist-packages (from ray) (3.20.3)\n",
            "Requirement already satisfied: numpy>=1.19.3 in /usr/local/lib/python3.10/dist-packages (from ray) (1.22.4)\n",
            "Requirement already satisfied: click>=7.0 in /usr/local/lib/python3.10/dist-packages (from ray) (8.1.3)\n",
            "Requirement already satisfied: pyyaml in /usr/local/lib/python3.10/dist-packages (from ray) (6.0)\n",
            "Requirement already satisfied: packaging in /usr/local/lib/python3.10/dist-packages (from ray) (23.1)\n",
            "Collecting frozenlist\n",
            "  Downloading frozenlist-1.3.3-cp310-cp310-manylinux_2_5_x86_64.manylinux1_x86_64.manylinux_2_17_x86_64.manylinux2014_x86_64.whl (149 kB)\n",
            "\u001b[2K     \u001b[90m━━━━━━━━━━━━━━━━━━━━━━━━━━━━━━━━━━━━━━\u001b[0m \u001b[32m149.6/149.6 kB\u001b[0m \u001b[31m18.3 MB/s\u001b[0m eta \u001b[36m0:00:00\u001b[0m\n",
            "\u001b[?25hRequirement already satisfied: platformdirs<4,>=2.4 in /usr/local/lib/python3.10/dist-packages (from virtualenv<20.21.1,>=20.0.24->ray) (3.3.0)\n",
            "Collecting distlib<1,>=0.3.6\n",
            "  Downloading distlib-0.3.6-py2.py3-none-any.whl (468 kB)\n",
            "\u001b[2K     \u001b[90m━━━━━━━━━━━━━━━━━━━━━━━━━━━━━━━━━━━━━━\u001b[0m \u001b[32m468.5/468.5 kB\u001b[0m \u001b[31m43.8 MB/s\u001b[0m eta \u001b[36m0:00:00\u001b[0m\n",
            "\u001b[?25hRequirement already satisfied: pyrsistent!=0.17.0,!=0.17.1,!=0.17.2,>=0.14.0 in /usr/local/lib/python3.10/dist-packages (from jsonschema->ray) (0.19.3)\n",
            "Requirement already satisfied: certifi>=2017.4.17 in /usr/local/lib/python3.10/dist-packages (from requests->ray) (2022.12.7)\n",
            "Requirement already satisfied: charset-normalizer~=2.0.0 in /usr/local/lib/python3.10/dist-packages (from requests->ray) (2.0.12)\n",
            "Requirement already satisfied: idna<4,>=2.5 in /usr/local/lib/python3.10/dist-packages (from requests->ray) (3.4)\n",
            "Requirement already satisfied: urllib3<1.27,>=1.21.1 in /usr/local/lib/python3.10/dist-packages (from requests->ray) (1.26.15)\n",
            "Installing collected packages: distlib, virtualenv, grpcio, frozenlist, aiosignal, ray\n",
            "  Attempting uninstall: grpcio\n",
            "    Found existing installation: grpcio 1.54.0\n",
            "    Uninstalling grpcio-1.54.0:\n",
            "      Successfully uninstalled grpcio-1.54.0\n",
            "Successfully installed aiosignal-1.3.1 distlib-0.3.6 frozenlist-1.3.3 grpcio-1.51.3 ray-2.4.0 virtualenv-20.21.0\n"
          ]
        }
      ],
      "source": [
        "!pip install ray"
      ]
    },
    {
      "cell_type": "markdown",
      "metadata": {
        "id": "tIoNAwGQpHfH"
      },
      "source": [
        "# Starter Code Explanation\n",
        "\n",
        "This project uses the same environment as in project 3 which consists of an n linked robot arm. The code for teacher dynamics and the controller is provoded. And the scripts for collecting data, skeleton classes for implementing student dynamics and finally training and evaluating the model are also provided.\n",
        "\n",
        "Similar to last time we define a Robot class inside `robot.py` which provides the interface for controlling the robot arm i.e it provides you with some functions to set/get the state and set the action for the arm and take a step using the `Robot.advance()` method. The state of the arm is a 2n-dimensional vector : n joint positions [rad] + n joint velocities [rad/s] and the action is defined as the n torques (in N-m) applied to n joints respectively.\n",
        "\n",
        "The `arm_dynamic_base.py` defines the base class for forward dynamics for the arm. The ground truth forward dynamics are defined in `arm_dynamics_teacher.py`. The student dynamics which internally uses a neural network model is defined in `arm_dynamics_student.py`\n",
        "\n",
        "\n",
        "The `models.py` file provides the base class for neural network to learn forward model and also contains skeleton code for you to implement the network architecture for arms with different number of links. We will revisit this again in when providing instructions for training below."
      ]
    },
    {
      "cell_type": "markdown",
      "metadata": {
        "id": "AfEtTP6Gob6m"
      },
      "source": [
        "## Part 1: Implement Model Predictive Control\n",
        "\n",
        "This section will implement this controller by completing the MPC class. Specifically, this section will implement the compute_action() method by following the algorithm discussed in the lecture. As with previous projects you are free to implement additional methods as needed or change the initialization if need be. While scoring your controller, this section will be creating an instance of the MPC class and passing it to the scoring function so ensure that the arguments to the compute_action method remain the same.\n",
        "\n",
        "The velocity of the end effector can be computed with the code below:\n",
        "```\n",
        "pos_ee = dynamics.compute_fk(state)\n",
        "vel_ee = dynamics.compute_vel_ee(state)\n",
        "```\n"
      ]
    },
    {
      "cell_type": "code",
      "source": [
        "from collections import defaultdict\n",
        "import numpy as np\n",
        "class MPC:\n",
        "\n",
        "  def __init__(self):\n",
        "        self.control_horizon = 10\n",
        "        self.repeat_n = 40\n",
        "        self.delta_u_max = 0.1\n",
        "        self.delta_u_min = 0.01\n",
        "        self.delta_u_decay = 0.99\n",
        "        self.position_weight = 80\n",
        "        self.velocity_weight = 1\n",
        "        self.update_max = 40\n",
        "\n",
        "\n",
        "\n",
        "  def compute_cost(self, dynamics, trajectory, goal):\n",
        "        position_error = 0\n",
        "        velocity_error = 0\n",
        "        # print(trajectory)\n",
        "        for state in trajectory:\n",
        "            pos_ee = dynamics.compute_fk(state)\n",
        "            position_error += np.linalg.norm(goal - pos_ee)**2\n",
        "            vel_ee = dynamics.compute_vel_ee(state)\n",
        "            velocity_error += np.linalg.norm(vel_ee)**2\n",
        "   \n",
        "        # vel_ee = dynamics.compute_vel_ee(state)\n",
        "        # velocity_error = np.linalg.norm(vel_ee)**2\n",
        "        # print('position_error', position_error)\n",
        "        # print('velocity_error', velocity_error)\n",
        "        cost = position_error * self.position_weight + velocity_error * self.velocity_weight\n",
        "        return cost\n",
        "\n",
        "\n",
        "  def rollout_trajectory(self, dynamics, state, U):\n",
        "        num_steps = len(U)\n",
        "        trajectory = [np.zeros_like(state) for _ in range(num_steps+1)]\n",
        "        # trajectory[0] = state\n",
        "        for i in range(len(U)):\n",
        "            state = dynamics.advance(state, U[0])\n",
        "            trajectory[i] = state\n",
        "        return trajectory\n",
        "\n",
        "  def compute_action(self, dynamics, state, goal, action):\n",
        "    # Put your code here. You must return an array of shape (num_links, 1)\n",
        "        N = self.repeat_n\n",
        "        H = self.control_horizon\n",
        "        num_joints = dynamics.get_action_dim()\n",
        "        # print('action', action)\n",
        "        best_action = np.copy(action).reshape(-1)\n",
        "        U_star = np.tile(best_action, (N, 1))\n",
        "\n",
        "        for i in range(num_joints - 1, -1, -1): # update from the largest joint\n",
        "             best_cost = float('inf')\n",
        "             update_flag = True\n",
        "             update_counter = 0\n",
        "\n",
        "             while update_flag and update_counter < self.update_max:\n",
        "\n",
        "                    \n",
        "                    update_counter += 1\n",
        "                    Du = self.delta_u_max * self.delta_u_decay ** update_counter\n",
        "                    Du = np.max([Du, self.delta_u_min])\n",
        "                    U_i_plus = np.copy(U_star)\n",
        "                    U_i_minu = np.copy(U_star)\n",
        "                    U_i_plus[:, i] += Du\n",
        "                    U_i_minu[:, i] -= Du\n",
        "\n",
        "                    trajectory_i_plus = self.rollout_trajectory(dynamics, state, U_i_plus)\n",
        "                    cost_i_plus = self.compute_cost(dynamics, trajectory_i_plus, goal)\n",
        "                    trajectory_i_minu = self.rollout_trajectory(dynamics, state, U_i_minu)\n",
        "                    cost_i_minu = self.compute_cost(dynamics, trajectory_i_minu, goal)\n",
        "\n",
        "                    min_cost = np.min([best_cost, cost_i_plus, cost_i_minu])\n",
        "\n",
        "\n",
        "                    update_flag = False\n",
        "                    if min_cost < best_cost:\n",
        "                        update_flag = True\n",
        "                        # print('update')\n",
        "                        best_cost = min_cost\n",
        "                        index = np.argmin([cost_i_plus, cost_i_minu])\n",
        "                        combi = [U_i_plus, U_i_minu]\n",
        "                        U_star =  combi[index]\n",
        "\n",
        "        result = U_star[0].reshape([-1, 1])\n",
        "\n",
        "        return result"
      ],
      "metadata": {
        "id": "c8HWNBI_-zo6"
      },
      "execution_count": null,
      "outputs": []
    },
    {
      "cell_type": "markdown",
      "metadata": {
        "id": "br5wyFnGRxgg"
      },
      "source": [
        "# Manually testing the controller\n",
        "Every time step within the environment is 0.01s, which is defined in the dynamics as `dt`.\n",
        "\n",
        "The MPC class has a `control_horizon` variable which represents the frequency at which `controller.compute_action()` will be called\n",
        "\n",
        "In the scoring function the distance of your end effector of the goal position and the velocity of the end effector will be evaluated."
      ]
    },
    {
      "cell_type": "code",
      "source": [
        "# !!not important!!\n",
        "goal =[]\n",
        "np.random.seed(0)\n",
        "import matplotlib.pyplot as plt\n",
        "\n",
        "def sample_goal():\n",
        "  goal = np.zeros((2,1))\n",
        "  r = np.random.uniform(low=0.05, high=1.95)\n",
        "  theta = np.random.uniform(low=np.pi, high=2.0*np.pi)\n",
        "  goal[0,0] = r * np.cos(theta)\n",
        "  goal[1,0] = r * np.sin(theta)\n",
        "  return goal\n",
        "for i in range(800):\n",
        "    x, y = sample_goal()\n",
        "    goal.append((x, y))\n",
        "\n",
        "# Create a scatter plot of the goals\n",
        "x_coords = [g[0] for g in goal]\n",
        "y_coords = [g[1] for g in goal]\n",
        "plt.scatter(x_coords, y_coords, marker = '.')"
      ],
      "metadata": {
        "colab": {
          "base_uri": "https://localhost:8080/",
          "height": 448
        },
        "id": "odw-16CrNpXM",
        "outputId": "94215b5f-a54e-42b6-acb2-4a81c9cddcb3"
      },
      "execution_count": null,
      "outputs": [
        {
          "output_type": "execute_result",
          "data": {
            "text/plain": [
              "<matplotlib.collections.PathCollection at 0x7f4a68b02fd0>"
            ]
          },
          "metadata": {},
          "execution_count": 102
        },
        {
          "output_type": "display_data",
          "data": {
            "text/plain": [
              "<Figure size 640x480 with 1 Axes>"
            ],
            "image/png": "[encoded data removed]"
          },
          "metadata": {}
        }
      ]
    },
    {
      "cell_type": "code",
      "execution_count": null,
      "metadata": {
        "id": "bZ0GFCoLpJ9A",
        "colab": {
          "base_uri": "https://localhost:8080/"
        },
        "outputId": "5839ff2d-7331-456a-ca14-575d96cbb175"
      },
      "outputs": [
        {
          "output_type": "stream",
          "name": "stderr",
          "text": [
            "  1%|▏         | 5/400 [00:33<43:20,  6.58s/it]"
          ]
        },
        {
          "output_type": "stream",
          "name": "stdout",
          "text": [
            "goal [[-0.05]\n",
            " [ 0.  ]]\n",
            "dist 0.04475736824419409\n",
            "vel_ee 0.1388879712725387\n"
          ]
        },
        {
          "output_type": "stream",
          "name": "stderr",
          "text": [
            "  2%|▏         | 7/400 [00:50<48:23,  7.39s/it]"
          ]
        },
        {
          "output_type": "stream",
          "name": "stdout",
          "text": [
            "goal [[-0.05]\n",
            " [ 0.  ]]\n",
            "dist 0.05044238053586012\n",
            "vel_ee 0.17936425097612962\n"
          ]
        },
        {
          "output_type": "stream",
          "name": "stderr",
          "text": [
            "\r  2%|▏         | 8/400 [00:59<52:31,  8.04s/it]"
          ]
        },
        {
          "output_type": "stream",
          "name": "stdout",
          "text": [
            "goal [[-0.05]\n",
            " [ 0.  ]]\n",
            "dist 0.05216421890357262\n",
            "vel_ee 0.2503062343813329\n"
          ]
        },
        {
          "output_type": "stream",
          "name": "stderr",
          "text": [
            "  3%|▎         | 11/400 [01:20<47:49,  7.38s/it]"
          ]
        },
        {
          "output_type": "stream",
          "name": "stdout",
          "text": [
            "goal [[-0.05]\n",
            " [ 0.  ]]\n",
            "dist 0.048380219300653844\n",
            "vel_ee 0.10557552691713258\n"
          ]
        },
        {
          "output_type": "stream",
          "name": "stderr",
          "text": [
            "  4%|▍         | 17/400 [02:02<42:36,  6.67s/it]"
          ]
        },
        {
          "output_type": "stream",
          "name": "stdout",
          "text": [
            "goal [[-0.05]\n",
            " [ 0.  ]]\n",
            "dist 0.04637698222972581\n",
            "vel_ee 0.12387426388859926\n"
          ]
        },
        {
          "output_type": "stream",
          "name": "stderr",
          "text": [
            "100%|██████████| 400/400 [47:03<00:00,  7.06s/it]\n"
          ]
        }
      ],
      "source": [
        "import sys\n",
        "import numpy as np\n",
        "from arm_dynamics_teacher import ArmDynamicsTeacher\n",
        "from robot import Robot\n",
        "from render import Renderer\n",
        "from score import *\n",
        "import torch\n",
        "import time\n",
        "import math\n",
        "np.set_printoptions(suppress=True)\n",
        "\n",
        "# Teacher arm with 3 links\n",
        "dynamics_teacher = ArmDynamicsTeacher(\n",
        "    num_links=2,\n",
        "    link_mass=0.1,\n",
        "    link_length=1,\n",
        "    joint_viscous_friction=0.1,\n",
        "    dt=0.01)\n",
        "\n",
        "arm = Robot(dynamics_teacher)\n",
        "arm.reset()\n",
        "\n",
        "gui = False\n",
        "if gui:\n",
        "  renderer = Renderer()\n",
        "  time.sleep(1)\n",
        "\n",
        "# Controller\n",
        "controller = MPC()\n",
        "\n",
        "# Resetting the arm will set its state so that it is in the vertical position,\n",
        "# and set the action to be zeros\n",
        "arm.reset()\n",
        "\n",
        "def sample_goal():\n",
        "  goal = np.zeros((2,1))\n",
        "  r = np.random.uniform(low=0.05, high=1.95)\n",
        "  theta = np.random.uniform(low=np.pi, high=2.0*np.pi)\n",
        "  goal[0,0] = r * np.cos(theta)\n",
        "  goal[1,0] = r * np.sin(theta)\n",
        "  return goal\n",
        "\n",
        "# Choose the goal position you would like to see the performance of your controller\n",
        "goal = np.zeros((2, 1))\n",
        "goal[0, 0] = -0.05\n",
        "goal[1, 0] = 0\n",
        "arm.goal = goal\n",
        "\n",
        "dt = 0.01\n",
        "time_limit = 2.5\n",
        "num_steps = round(time_limit/dt)\n",
        "\n",
        "action = np.zeros([dynamics_teacher.num_links, 1])\n",
        "\n",
        "# print(arm.goal)\n",
        "\n",
        "dist_roc  = []\n",
        "# test loop\n",
        "from tqdm import tqdm \n",
        "for _ in tqdm(range(400)):\n",
        "  # arm.goal = sample_goal()\n",
        "\n",
        "  for s in range(num_steps):\n",
        "    t = time.time()\n",
        "    arm.advance()\n",
        "\n",
        "    if gui:\n",
        "      renderer.plot([(arm, \"tab:blue\")])\n",
        "    # time.sleep(max(0, dt - (time.time() - t)))\n",
        "\n",
        "    if s % controller.control_horizon==0:\n",
        "      state = arm.get_state()\n",
        "\n",
        "      # Measuring distance and velocity of end effector\n",
        "      pos_ee = dynamics_teacher.compute_fk(state)\n",
        "      dist = np.linalg.norm(arm.goal-pos_ee)\n",
        "      vel_ee = np.linalg.norm(arm.dynamics.compute_vel_ee(state))\n",
        "      # print(f'At timestep {s}: Distance to goal: {dist}, Velocity of end effector: {vel_ee}')\n",
        "\n",
        "      action = controller.compute_action(arm.dynamics, state, arm.goal, action)\n",
        "      # print('action', action)\n",
        "\n",
        "      arm.set_action(action)\n",
        "  dist_roc.append(dist)\n",
        "  if dist > 0.1 or vel_ee > 0.1:\n",
        "    print('goal', arm.goal)\n",
        "    print('dist', dist)\n",
        "    print('vel_ee', vel_ee)"
      ]
    },
    {
      "cell_type": "code",
      "source": [
        "import matplotlib.pyplot as plt\n",
        "\n",
        "plt.figure()\n",
        "plt.plot(dist_roc)\n",
        "plt.xlabel('num points')\n",
        "plt.ylabel('position err')\n",
        "plt.title('MPC error')\n",
        "# plt.legend(['State 1', 'State 2'])\n",
        "plt.grid()\n",
        "plt.show()\n"
      ],
      "metadata": {
        "colab": {
          "base_uri": "https://localhost:8080/",
          "height": 472
        },
        "id": "14aDADLTtGbO",
        "outputId": "b74d0b5c-8971-4eb1-da68-d2cdd983ab67"
      },
      "execution_count": null,
      "outputs": [
        {
          "output_type": "display_data",
          "data": {
            "text/plain": [
              "<Figure size 640x480 with 1 Axes>"
            ],
            "image/png": "[encoded data removed]"
          },
          "metadata": {}
        }
      ]
    },
    {
      "cell_type": "markdown",
      "metadata": {
        "id": "lVIGZZimCNI4"
      },
      "source": [
        "## Grading and Evaluation for Part 1\n",
        "The controller will be graded on 6 tests. 2 tests each for the 1-link ,2-link, and 3-link arms. The arm will start off in the initial state with the arms pointing stright down. The testing criteria depend on the distance and the velocity of the end effectors. Each test will run the robot arm for **5.0 seconds**. At the end of the 5 seconds the test will be:\n",
        "\n",
        "A success if the end effectors meet this criteria:\n",
        "`distance_to_goal < 0.1 and vel_ee < 0.5` \n",
        "\n",
        "A partial success if the end effectors meet this criteria:\n",
        "`distance_to_goal < 0.2 and vel_ee < 0.5` \n"
      ]
    },
    {
      "cell_type": "code",
      "execution_count": null,
      "metadata": {
        "id": "IXswattzCLyC"
      },
      "outputs": [],
      "source": [
        "# Scoring using score_mpc\n",
        "controller = MPC()\n",
        "gui = False"
      ]
    },
    {
      "cell_type": "code",
      "source": [
        "# DO NOT CHANGE\n",
        "score_mpc_true_dynamics(controller, gui)"
      ],
      "metadata": {
        "id": "B5iMweqC1SsB",
        "colab": {
          "base_uri": "https://localhost:8080/"
        },
        "outputId": "32c6c78c-88b9-4aae-cc55-a97a997606a3"
      },
      "execution_count": null,
      "outputs": [
        {
          "output_type": "stream",
          "name": "stdout",
          "text": [
            "\n",
            "Part1: EVALUATING CONTROLLER (with perfect dynamics)\n",
            "-----------------------------------------------------\n",
            "NUM_LINKS: 1\n",
            "Test  1\n",
            "Success! :)\n",
            " Goal: [ 0.38941834 -0.92106099], Final position: [ 0.38887185 -0.92129186], Final velocity: [0.]\n",
            "score: 1.5/1.5\n",
            "Test  2\n",
            "Success! :)\n",
            " Goal: [-0.68163876 -0.73168887], Final position: [-0.70585212 -0.70835922], Final velocity: [0.]\n",
            "score: 1.0/1.0\n",
            "NUM_LINKS: 2\n",
            "Test  1\n",
            "Success! :)\n",
            " Goal: [ 0.6814821  -1.61185674], Final position: [ 0.69232514 -1.61398382], Final velocity: [0.01287573]\n",
            "score: 1.5/1.5\n",
            "Test  2\n",
            "Success! :)\n",
            " Goal: [-1.19286783 -1.28045552], Final position: [-1.19588463 -1.27466335], Final velocity: [0.0072852]\n",
            "score: 1.0/1.0\n",
            "NUM_LINKS: 3\n",
            "Test  1\n",
            "Success! :)\n",
            " Goal: [ 1.29444895 -2.36947292], Final position: [ 1.29822715 -2.35144495], Final velocity: [0.04987696]\n",
            "score: 1.5/1.5\n",
            "Test  2\n",
            "Success! :)\n",
            " Goal: [-2.10367746 -1.35075576], Final position: [-2.11581901 -1.36929023], Final velocity: [0.06246801]\n",
            "score: 1.0/1.0\n",
            "       \n",
            "-------------------------\n",
            "Part 1 SCORE:  7.5/7.5\n",
            "-------------------------\n"
          ]
        }
      ]
    },
    {
      "cell_type": "markdown",
      "metadata": {
        "id": "3O1cAx4rMce7"
      },
      "source": [
        "### Part 2.1: Model Architecture\n",
        "Beyond this point you will be focusing on the 2 link arm only.\n",
        "\n",
        "The base class Model is subclass for the 2-link arm. The class Model is a base class for the models. In compute_next_state() method, \n",
        "this section have to use the trick to use joint accelerations to compute the next state similar to what you did in Project 3.\n",
        "\n",
        "The `Model2Link` class will use a neural network to compute the joint accelerations by implementing `compute_qddot()` method. This will take 6 values (2 joint angles, 2 joint velocities and 2 actions applied to the arm) and output 2 joint acceleration values"
      ]
    },
    {
      "cell_type": "code",
      "execution_count": null,
      "metadata": {
        "id": "iPOWJZOyMekB"
      },
      "outputs": [],
      "source": [
        "import torch\n",
        "import torch.nn as nn\n",
        "import torch.nn.functional as F\n",
        "\n",
        "class Model(nn.Module):\n",
        "\tdef __init__(self, num_links, time_step):\n",
        "\t\tsuper().__init__()\n",
        "\t\tself.num_links = num_links\n",
        "\t\tself.time_step = time_step\n",
        "\n",
        "\tdef forward(self, x):\n",
        "\t\tqddot = self.compute_qddot(x)\n",
        "\t\tstate = x[:, :2*self.num_links]\n",
        "\t\tnext_state = self.compute_next_state(state, qddot)\n",
        "\t\treturn next_state\n",
        "\n",
        "\tdef compute_next_state(self, state, qddot):\n",
        "\t\tpos = state[:, :self.num_links]\n",
        "\t\tvel = state[:, self.num_links: 2 * self.num_links]\n",
        "\n",
        "\t\tnew_vel = vel + qddot * self.time_step\n",
        "\t\tnew_pos = pos + vel * self.time_step + qddot * 0.5 * self.time_step ** 2\n",
        "\t\t\n",
        "\t\toutput = torch.cat([new_pos, new_vel], dim=1)\n",
        "\t\treturn output\n",
        "\n",
        "\tdef compute_qddot(self, x):\n",
        "\t\tpass\n",
        "\n",
        "class Model2Link(Model): # \n",
        "  def __init__(self, time_step):\n",
        "    super().__init__(2, time_step)\n",
        "    # Your code goes here\n",
        "    self.layer1 = nn.Linear(6, 512)\n",
        "    self.layer2 = nn.Linear(512,64)\n",
        "    self.layer3 = nn.Linear(64,2)\n",
        "\n",
        "  def compute_qddot(self, x):\n",
        "      y = F.relu(self.layer1(x))\n",
        "      y = F.relu(self.layer2(y))   \n",
        "      y = self.layer3(y)\n",
        "      # print(y)\n",
        "      # y = self.compute_next_state(state, y)\n",
        "      return y\n",
        "\n",
        "  def predict(self, features):\n",
        "      self.eval()\n",
        "      features = torch.from_numpy(features).float()\n",
        "      features = features.unsqueeze(0)\n",
        "      return self.forward(features).detach().numpy()\t    \n"
      ]
    },
    {
      "cell_type": "markdown",
      "metadata": {
        "id": "xYr1nkuIUQpj"
      },
      "source": [
        "### Part 2.2: Collect Data\n",
        "Similar to project 3, the data which will be used to learn a forward model for our 2 link robot arm will be collected. Once a forward model is learnt, it will be evaluated on the MPC Controller that uses the learnt dynamics model instead of the true dynamics."
      ]
    },
    {
      "cell_type": "code",
      "source": [
        "# Teacher arm with 2 links\n",
        "dynamics_teacher = ArmDynamicsTeacher(\n",
        "    num_links=2,\n",
        "    link_mass=0.1,\n",
        "    link_length=1,\n",
        "    joint_viscous_friction=0.1,\n",
        "    dt=0.01)\n",
        "\n",
        "arm = Robot(dynamics_teacher)\n",
        "arm.reset()\n",
        "\n",
        "np.random.seed(0)\n",
        "\n",
        "\n",
        "\n",
        "def collect_data(arm):\n",
        "\n",
        "  data_collect_MPC = MPC()\n",
        "  num_points = 800\n",
        "  num_steps = 250\n",
        "\n",
        "  def sample_goal():\n",
        "      goal = np.zeros((2,1))\n",
        "      r = np.random.uniform(low=0.05, high=1.95)\n",
        "      theta = np.random.uniform(low=np.pi, high=2.0*np.pi)\n",
        "      goal[0,0] = r * np.cos(theta)\n",
        "      goal[1,0] = r * np.sin(theta)\n",
        "      return goal\n",
        "\n",
        "\n",
        "  X = np.zeros((num_points * num_steps, arm.dynamics.get_state_dim() + arm.dynamics.get_action_dim()))\n",
        "  Y = np.zeros((num_points * num_steps, arm.dynamics.get_state_dim()))\n",
        "\n",
        "  # GUI visualization, this will drastically reudce the speed of the simulator!\n",
        "  gui = False\n",
        "\n",
        "  # Initialize the GUI\n",
        "  if gui:\n",
        "      renderer = Renderer()\n",
        "      time.sleep(1)\n",
        "\n",
        "  init_state = np.zeros((arm.dynamics.get_state_dim(), 1))  \n",
        "  init_state[0] = -math.pi / 2.0   \n",
        "  init_action = initial_state = np.zeros((arm.dynamics.get_action_dim(), 1))\n",
        "  \n",
        "  \n",
        "  from tqdm import tqdm \n",
        "  for count_point in tqdm(range(num_points)):\n",
        "    arm.set_state(init_state)\n",
        "    arm.set_action(init_action)\n",
        "    arm.goal = sample_goal()\n",
        "    action = init_action\n",
        "\n",
        "    for count_step in range(num_steps):\n",
        "      t = time.time()\n",
        "      position = count_point * num_steps + count_step\n",
        "      # print(position)\n",
        "      state = arm.get_state()\n",
        "      \n",
        "      X[position] = np.append(state, action)\n",
        "\n",
        "      arm.advance()\n",
        "      state = arm.get_state()\n",
        "      Y[position] = state.reshape(1, -1)\n",
        "           \n",
        "      if gui:\n",
        "        renderer.plot([(arm, \"tab:blue\")])\n",
        "      # time.sleep(max(0, dt - (time.time() - t)))\n",
        "\n",
        "      if count_step % controller.control_horizon==0:\n",
        "        action = controller.compute_action(arm.dynamics, state, arm.goal, action)\n",
        "        #print('action', action)\n",
        "\n",
        "        arm.set_action(action)\n",
        "  return X, Y\n",
        "\n"
      ],
      "metadata": {
        "id": "XhH4B8VDJfnV"
      },
      "execution_count": null,
      "outputs": []
    },
    {
      "cell_type": "code",
      "execution_count": null,
      "metadata": {
        "id": "53Qtg48i9_LZ",
        "colab": {
          "base_uri": "https://localhost:8080/",
          "height": 235
        },
        "outputId": "6ca88fa7-0632-471b-84ca-86f5078f9c6b"
      },
      "outputs": [
        {
          "output_type": "error",
          "ename": "NameError",
          "evalue": "ignored",
          "traceback": [
            "\u001b[0;31m---------------------------------------------------------------------------\u001b[0m",
            "\u001b[0;31mNameError\u001b[0m                                 Traceback (most recent call last)",
            "\u001b[0;32m<ipython-input-19-6bf38f9b1dc2>\u001b[0m in \u001b[0;36m<cell line: 4>\u001b[0;34m()\u001b[0m\n\u001b[1;32m      2\u001b[0m \u001b[0;34m\u001b[0m\u001b[0m\n\u001b[1;32m      3\u001b[0m \u001b[0;31m# Call the function you have defined above to collect data\u001b[0m\u001b[0;34m\u001b[0m\u001b[0;34m\u001b[0m\u001b[0m\n\u001b[0;32m----> 4\u001b[0;31m \u001b[0mX\u001b[0m\u001b[0;34m,\u001b[0m \u001b[0mY\u001b[0m \u001b[0;34m=\u001b[0m \u001b[0mcollect_data\u001b[0m\u001b[0;34m(\u001b[0m\u001b[0marm\u001b[0m\u001b[0;34m)\u001b[0m\u001b[0;34m\u001b[0m\u001b[0;34m\u001b[0m\u001b[0m\n\u001b[0m\u001b[1;32m      5\u001b[0m \u001b[0msave_dir\u001b[0m \u001b[0;34m=\u001b[0m \u001b[0;34m'dataset'\u001b[0m\u001b[0;34m\u001b[0m\u001b[0;34m\u001b[0m\u001b[0m\n\u001b[1;32m      6\u001b[0m \u001b[0;32mif\u001b[0m \u001b[0;32mnot\u001b[0m \u001b[0mos\u001b[0m\u001b[0;34m.\u001b[0m\u001b[0mpath\u001b[0m\u001b[0;34m.\u001b[0m\u001b[0mexists\u001b[0m\u001b[0;34m(\u001b[0m\u001b[0msave_dir\u001b[0m\u001b[0;34m)\u001b[0m\u001b[0;34m:\u001b[0m\u001b[0;34m\u001b[0m\u001b[0;34m\u001b[0m\u001b[0m\n",
            "\u001b[0;31mNameError\u001b[0m: name 'collect_data' is not defined"
          ]
        }
      ],
      "source": [
        "import pickle\n",
        "\n",
        "# Call the function you have defined above to collect data\n",
        "X, Y = collect_data(arm)\n",
        "save_dir = 'dataset'\n",
        "if not os.path.exists(save_dir):\n",
        "  os.makedirs(save_dir)\n",
        "\n",
        "# Save the collected data in the data.pkl file\n",
        "data = {'X': X, 'Y': Y}\n",
        "pickle.dump(data, open(os.path.join(save_dir, 'data.pkl'), \"wb\" ))"
      ]
    },
    {
      "cell_type": "code",
      "source": [
        "import pickle\n",
        "data = {'X': X, 'Y': Y}\n",
        "pickle.dump(data, open(os.path.join(save_dir, 'data-1.pkl'), \"wb\" ))"
      ],
      "metadata": {
        "colab": {
          "base_uri": "https://localhost:8080/",
          "height": 201
        },
        "id": "53hrSjFA98I5",
        "outputId": "454cc8df-dde3-4400-d7ad-c1945ad95f6e"
      },
      "execution_count": null,
      "outputs": [
        {
          "output_type": "error",
          "ename": "NameError",
          "evalue": "ignored",
          "traceback": [
            "\u001b[0;31m---------------------------------------------------------------------------\u001b[0m",
            "\u001b[0;31mNameError\u001b[0m                                 Traceback (most recent call last)",
            "\u001b[0;32m<ipython-input-7-14034c3ea9ee>\u001b[0m in \u001b[0;36m<cell line: 2>\u001b[0;34m()\u001b[0m\n\u001b[1;32m      1\u001b[0m \u001b[0;32mimport\u001b[0m \u001b[0mpickle\u001b[0m\u001b[0;34m\u001b[0m\u001b[0;34m\u001b[0m\u001b[0m\n\u001b[0;32m----> 2\u001b[0;31m \u001b[0mdata\u001b[0m \u001b[0;34m=\u001b[0m \u001b[0;34m{\u001b[0m\u001b[0;34m'X'\u001b[0m\u001b[0;34m:\u001b[0m \u001b[0mX\u001b[0m\u001b[0;34m,\u001b[0m \u001b[0;34m'Y'\u001b[0m\u001b[0;34m:\u001b[0m \u001b[0mY\u001b[0m\u001b[0;34m}\u001b[0m\u001b[0;34m\u001b[0m\u001b[0;34m\u001b[0m\u001b[0m\n\u001b[0m\u001b[1;32m      3\u001b[0m \u001b[0mpickle\u001b[0m\u001b[0;34m.\u001b[0m\u001b[0mdump\u001b[0m\u001b[0;34m(\u001b[0m\u001b[0mdata\u001b[0m\u001b[0;34m,\u001b[0m \u001b[0mopen\u001b[0m\u001b[0;34m(\u001b[0m\u001b[0mos\u001b[0m\u001b[0;34m.\u001b[0m\u001b[0mpath\u001b[0m\u001b[0;34m.\u001b[0m\u001b[0mjoin\u001b[0m\u001b[0;34m(\u001b[0m\u001b[0msave_dir\u001b[0m\u001b[0;34m,\u001b[0m \u001b[0;34m'data-1.pkl'\u001b[0m\u001b[0;34m)\u001b[0m\u001b[0;34m,\u001b[0m \u001b[0;34m\"wb\"\u001b[0m \u001b[0;34m)\u001b[0m\u001b[0;34m)\u001b[0m\u001b[0;34m\u001b[0m\u001b[0;34m\u001b[0m\u001b[0m\n",
            "\u001b[0;31mNameError\u001b[0m: name 'X' is not defined"
          ]
        }
      ]
    },
    {
      "cell_type": "code",
      "source": [
        "data = pickle.load(open('/content/data-1.pkl', 'rb'))"
      ],
      "metadata": {
        "id": "nocNpIdR-o3Q"
      },
      "execution_count": null,
      "outputs": []
    },
    {
      "cell_type": "code",
      "source": [
        "data['X'].shape"
      ],
      "metadata": {
        "colab": {
          "base_uri": "https://localhost:8080/"
        },
        "id": "hLacGsHE-sx6",
        "outputId": "4d7962e2-f9ec-4804-f1da-c4003a618961"
      },
      "execution_count": null,
      "outputs": [
        {
          "output_type": "execute_result",
          "data": {
            "text/plain": [
              "(200000, 6)"
            ]
          },
          "metadata": {},
          "execution_count": 9
        }
      ]
    },
    {
      "cell_type": "markdown",
      "metadata": {
        "id": "drBZgkLxf-O-"
      },
      "source": [
        "### Part 2.3: Training the forward model\n",
        "\n",
        "The starter code already creates the dataset class and loads the dataset with a random 0.8/0.2 train/test split for you. This script should save the model that it trains. The specific procedure for saving are outlined as below.\n",
        "\n",
        "```\n",
        "model_folder_name = f'epoch_{epoch:04d}_loss_{test_loss:.8f}'\n",
        "if not os.path.exists(os.path.join(args.save_dir, model_folder_name)):\n",
        "    os.makedirs(os.path.join(args.save_dir, model_folder_name))\n",
        "torch.save(model.state_dict(), os.path.join(args.save_dir, model_folder_name, 'dynamics.pth'))\n",
        "print(f'model saved to {os.path.join(args.save_dir, model_folder_name, \"dynamics.pth\")}\\n')\n",
        "```\n",
        "The output from running this code should be a folder as below:\n",
        "\n",
        "```\n",
        "models/\n",
        "    2021-03-24_23-57-50/\n",
        "        epoch_0001_loss_0.00032930/\n",
        "            dynamics.pth\n",
        "        epoch_0002_loss_0.00009413/\n",
        "            dynamics.pth   \n",
        "        ...  \n",
        "```\n",
        "You can implement the functions below to collect data"
      ]
    },
    {
      "cell_type": "code",
      "source": [
        "zip_name = \"/content/zipped_folder.zip\"  # Name of the zip file to be unzipped\n",
        "destination_folder = \"/content/unzipped_folder\"  # Folder where you want to save the unzipped content\n",
        "\n",
        "# Unzip the file\n",
        "!unzip {zip_name} -d {destination_folder}"
      ],
      "metadata": {
        "colab": {
          "base_uri": "https://localhost:8080/"
        },
        "id": "W_Ar-qo2JRwG",
        "outputId": "7fbb2e76-c38a-43b4-9080-e8d14698a155"
      },
      "execution_count": null,
      "outputs": [
        {
          "output_type": "stream",
          "name": "stdout",
          "text": [
            "Archive:  /content/zipped_folder.zip\n",
            "   creating: /content/unzipped_folder/content/models/2023-05-06_14-03-38/\n",
            "   creating: /content/unzipped_folder/content/models/2023-05-06_14-03-38/epoch_0049/\n",
            "  inflating: /content/unzipped_folder/content/models/2023-05-06_14-03-38/epoch_0049/dynamics.pth  \n",
            "   creating: /content/unzipped_folder/content/models/2023-05-06_14-03-38/epoch_0013/\n",
            "  inflating: /content/unzipped_folder/content/models/2023-05-06_14-03-38/epoch_0013/dynamics.pth  \n",
            "   creating: /content/unzipped_folder/content/models/2023-05-06_14-03-38/epoch_0075/\n",
            "  inflating: /content/unzipped_folder/content/models/2023-05-06_14-03-38/epoch_0075/dynamics.pth  \n",
            "   creating: /content/unzipped_folder/content/models/2023-05-06_14-03-38/epoch_0185/\n",
            "  inflating: /content/unzipped_folder/content/models/2023-05-06_14-03-38/epoch_0185/dynamics.pth  \n",
            "   creating: /content/unzipped_folder/content/models/2023-05-06_14-03-38/epoch_0063/\n",
            "  inflating: /content/unzipped_folder/content/models/2023-05-06_14-03-38/epoch_0063/dynamics.pth  \n",
            "   creating: /content/unzipped_folder/content/models/2023-05-06_14-03-38/epoch_0019/\n",
            "  inflating: /content/unzipped_folder/content/models/2023-05-06_14-03-38/epoch_0019/dynamics.pth  \n",
            "   creating: /content/unzipped_folder/content/models/2023-05-06_14-03-38/epoch_0041/\n",
            "  inflating: /content/unzipped_folder/content/models/2023-05-06_14-03-38/epoch_0041/dynamics.pth  \n",
            "   creating: /content/unzipped_folder/content/models/2023-05-06_14-03-38/epoch_0101/\n",
            "  inflating: /content/unzipped_folder/content/models/2023-05-06_14-03-38/epoch_0101/dynamics.pth  \n",
            "   creating: /content/unzipped_folder/content/models/2023-05-06_14-03-38/epoch_0118/\n",
            "  inflating: /content/unzipped_folder/content/models/2023-05-06_14-03-38/epoch_0118/dynamics.pth  \n",
            "   creating: /content/unzipped_folder/content/models/2023-05-06_14-03-38/epoch_0184/\n",
            "  inflating: /content/unzipped_folder/content/models/2023-05-06_14-03-38/epoch_0184/dynamics.pth  \n",
            "   creating: /content/unzipped_folder/content/models/2023-05-06_14-03-38/epoch_0009/\n",
            "  inflating: /content/unzipped_folder/content/models/2023-05-06_14-03-38/epoch_0009/dynamics.pth  \n",
            "   creating: /content/unzipped_folder/content/models/2023-05-06_14-03-38/epoch_0094/\n",
            "  inflating: /content/unzipped_folder/content/models/2023-05-06_14-03-38/epoch_0094/dynamics.pth  \n",
            "   creating: /content/unzipped_folder/content/models/2023-05-06_14-03-38/epoch_0047/\n",
            "  inflating: /content/unzipped_folder/content/models/2023-05-06_14-03-38/epoch_0047/dynamics.pth  \n",
            "   creating: /content/unzipped_folder/content/models/2023-05-06_14-03-38/epoch_0143/\n",
            "  inflating: /content/unzipped_folder/content/models/2023-05-06_14-03-38/epoch_0143/dynamics.pth  \n",
            "   creating: /content/unzipped_folder/content/models/2023-05-06_14-03-38/epoch_0125/\n",
            "  inflating: /content/unzipped_folder/content/models/2023-05-06_14-03-38/epoch_0125/dynamics.pth  \n",
            "   creating: /content/unzipped_folder/content/models/2023-05-06_14-03-38/epoch_0131/\n",
            "  inflating: /content/unzipped_folder/content/models/2023-05-06_14-03-38/epoch_0131/dynamics.pth  \n",
            "   creating: /content/unzipped_folder/content/models/2023-05-06_14-03-38/epoch_0193/\n",
            "  inflating: /content/unzipped_folder/content/models/2023-05-06_14-03-38/epoch_0193/dynamics.pth  \n",
            "   creating: /content/unzipped_folder/content/models/2023-05-06_14-03-38/epoch_0038/\n",
            "  inflating: /content/unzipped_folder/content/models/2023-05-06_14-03-38/epoch_0038/dynamics.pth  \n",
            "   creating: /content/unzipped_folder/content/models/2023-05-06_14-03-38/epoch_0058/\n",
            "  inflating: /content/unzipped_folder/content/models/2023-05-06_14-03-38/epoch_0058/dynamics.pth  \n",
            "   creating: /content/unzipped_folder/content/models/2023-05-06_14-03-38/epoch_0179/\n",
            "  inflating: /content/unzipped_folder/content/models/2023-05-06_14-03-38/epoch_0179/dynamics.pth  \n",
            "   creating: /content/unzipped_folder/content/models/2023-05-06_14-03-38/epoch_0039/\n",
            "  inflating: /content/unzipped_folder/content/models/2023-05-06_14-03-38/epoch_0039/dynamics.pth  \n",
            "   creating: /content/unzipped_folder/content/models/2023-05-06_14-03-38/epoch_0045/\n",
            "  inflating: /content/unzipped_folder/content/models/2023-05-06_14-03-38/epoch_0045/dynamics.pth  \n",
            "   creating: /content/unzipped_folder/content/models/2023-05-06_14-03-38/epoch_0011/\n",
            "  inflating: /content/unzipped_folder/content/models/2023-05-06_14-03-38/epoch_0011/dynamics.pth  \n",
            "   creating: /content/unzipped_folder/content/models/2023-05-06_14-03-38/epoch_0137/\n",
            "  inflating: /content/unzipped_folder/content/models/2023-05-06_14-03-38/epoch_0137/dynamics.pth  \n",
            "   creating: /content/unzipped_folder/content/models/2023-05-06_14-03-38/epoch_0106/\n",
            "  inflating: /content/unzipped_folder/content/models/2023-05-06_14-03-38/epoch_0106/dynamics.pth  \n",
            "   creating: /content/unzipped_folder/content/models/2023-05-06_14-03-38/epoch_0051/\n",
            "  inflating: /content/unzipped_folder/content/models/2023-05-06_14-03-38/epoch_0051/dynamics.pth  \n",
            "   creating: /content/unzipped_folder/content/models/2023-05-06_14-03-38/epoch_0060/\n",
            "  inflating: /content/unzipped_folder/content/models/2023-05-06_14-03-38/epoch_0060/dynamics.pth  \n",
            "   creating: /content/unzipped_folder/content/models/2023-05-06_14-03-38/epoch_0129/\n",
            "  inflating: /content/unzipped_folder/content/models/2023-05-06_14-03-38/epoch_0129/dynamics.pth  \n",
            "   creating: /content/unzipped_folder/content/models/2023-05-06_14-03-38/epoch_0168/\n",
            "  inflating: /content/unzipped_folder/content/models/2023-05-06_14-03-38/epoch_0168/dynamics.pth  \n",
            "   creating: /content/unzipped_folder/content/models/2023-05-06_14-03-38/epoch_0015/\n",
            "  inflating: /content/unzipped_folder/content/models/2023-05-06_14-03-38/epoch_0015/dynamics.pth  \n",
            "   creating: /content/unzipped_folder/content/models/2023-05-06_14-03-38/epoch_0056/\n",
            "  inflating: /content/unzipped_folder/content/models/2023-05-06_14-03-38/epoch_0056/dynamics.pth  \n",
            "   creating: /content/unzipped_folder/content/models/2023-05-06_14-03-38/epoch_0059/\n",
            "  inflating: /content/unzipped_folder/content/models/2023-05-06_14-03-38/epoch_0059/dynamics.pth  \n",
            "   creating: /content/unzipped_folder/content/models/2023-05-06_14-03-38/epoch_0169/\n",
            "  inflating: /content/unzipped_folder/content/models/2023-05-06_14-03-38/epoch_0169/dynamics.pth  \n",
            "   creating: /content/unzipped_folder/content/models/2023-05-06_14-03-38/epoch_0086/\n",
            "  inflating: /content/unzipped_folder/content/models/2023-05-06_14-03-38/epoch_0086/dynamics.pth  \n",
            "   creating: /content/unzipped_folder/content/models/2023-05-06_14-03-38/epoch_0073/\n",
            "  inflating: /content/unzipped_folder/content/models/2023-05-06_14-03-38/epoch_0073/dynamics.pth  \n",
            "   creating: /content/unzipped_folder/content/models/2023-05-06_14-03-38/epoch_0048/\n",
            "  inflating: /content/unzipped_folder/content/models/2023-05-06_14-03-38/epoch_0048/dynamics.pth  \n",
            "   creating: /content/unzipped_folder/content/models/2023-05-06_14-03-38/epoch_0052/\n",
            "  inflating: /content/unzipped_folder/content/models/2023-05-06_14-03-38/epoch_0052/dynamics.pth  \n",
            "   creating: /content/unzipped_folder/content/models/2023-05-06_14-03-38/epoch_0140/\n",
            "  inflating: /content/unzipped_folder/content/models/2023-05-06_14-03-38/epoch_0140/dynamics.pth  \n",
            "   creating: /content/unzipped_folder/content/models/2023-05-06_14-03-38/epoch_0042/\n",
            "  inflating: /content/unzipped_folder/content/models/2023-05-06_14-03-38/epoch_0042/dynamics.pth  \n",
            "   creating: /content/unzipped_folder/content/models/2023-05-06_14-03-38/epoch_0178/\n",
            "  inflating: /content/unzipped_folder/content/models/2023-05-06_14-03-38/epoch_0178/dynamics.pth  \n",
            "   creating: /content/unzipped_folder/content/models/2023-05-06_14-03-38/epoch_0176/\n",
            "  inflating: /content/unzipped_folder/content/models/2023-05-06_14-03-38/epoch_0176/dynamics.pth  \n",
            "   creating: /content/unzipped_folder/content/models/2023-05-06_14-03-38/epoch_0001/\n",
            "  inflating: /content/unzipped_folder/content/models/2023-05-06_14-03-38/epoch_0001/dynamics.pth  \n",
            "   creating: /content/unzipped_folder/content/models/2023-05-06_14-03-38/epoch_0030/\n",
            "  inflating: /content/unzipped_folder/content/models/2023-05-06_14-03-38/epoch_0030/dynamics.pth  \n",
            "   creating: /content/unzipped_folder/content/models/2023-05-06_14-03-38/epoch_0037/\n",
            "  inflating: /content/unzipped_folder/content/models/2023-05-06_14-03-38/epoch_0037/dynamics.pth  \n",
            "   creating: /content/unzipped_folder/content/models/2023-05-06_14-03-38/epoch_0120/\n",
            "  inflating: /content/unzipped_folder/content/models/2023-05-06_14-03-38/epoch_0120/dynamics.pth  \n",
            "   creating: /content/unzipped_folder/content/models/2023-05-06_14-03-38/epoch_0022/\n",
            "  inflating: /content/unzipped_folder/content/models/2023-05-06_14-03-38/epoch_0022/dynamics.pth  \n",
            "   creating: /content/unzipped_folder/content/models/2023-05-06_14-03-38/epoch_0074/\n",
            "  inflating: /content/unzipped_folder/content/models/2023-05-06_14-03-38/epoch_0074/dynamics.pth  \n",
            "   creating: /content/unzipped_folder/content/models/2023-05-06_14-03-38/epoch_0076/\n",
            "  inflating: /content/unzipped_folder/content/models/2023-05-06_14-03-38/epoch_0076/dynamics.pth  \n",
            "   creating: /content/unzipped_folder/content/models/2023-05-06_14-03-38/epoch_0194/\n",
            "  inflating: /content/unzipped_folder/content/models/2023-05-06_14-03-38/epoch_0194/dynamics.pth  \n",
            "   creating: /content/unzipped_folder/content/models/2023-05-06_14-03-38/epoch_0117/\n",
            "  inflating: /content/unzipped_folder/content/models/2023-05-06_14-03-38/epoch_0117/dynamics.pth  \n",
            "   creating: /content/unzipped_folder/content/models/2023-05-06_14-03-38/epoch_0067/\n",
            "  inflating: /content/unzipped_folder/content/models/2023-05-06_14-03-38/epoch_0067/dynamics.pth  \n",
            "   creating: /content/unzipped_folder/content/models/2023-05-06_14-03-38/epoch_0004/\n",
            "  inflating: /content/unzipped_folder/content/models/2023-05-06_14-03-38/epoch_0004/dynamics.pth  \n",
            "   creating: /content/unzipped_folder/content/models/2023-05-06_14-03-38/epoch_0092/\n",
            "  inflating: /content/unzipped_folder/content/models/2023-05-06_14-03-38/epoch_0092/dynamics.pth  \n",
            "   creating: /content/unzipped_folder/content/models/2023-05-06_14-03-38/epoch_0138/\n",
            "  inflating: /content/unzipped_folder/content/models/2023-05-06_14-03-38/epoch_0138/dynamics.pth  \n",
            "   creating: /content/unzipped_folder/content/models/2023-05-06_14-03-38/epoch_0163/\n",
            "  inflating: /content/unzipped_folder/content/models/2023-05-06_14-03-38/epoch_0163/dynamics.pth  \n",
            "   creating: /content/unzipped_folder/content/models/2023-05-06_14-03-38/epoch_0151/\n",
            "  inflating: /content/unzipped_folder/content/models/2023-05-06_14-03-38/epoch_0151/dynamics.pth  \n",
            "   creating: /content/unzipped_folder/content/models/2023-05-06_14-03-38/epoch_0149/\n",
            "  inflating: /content/unzipped_folder/content/models/2023-05-06_14-03-38/epoch_0149/dynamics.pth  \n",
            "   creating: /content/unzipped_folder/content/models/2023-05-06_14-03-38/epoch_0156/\n",
            "  inflating: /content/unzipped_folder/content/models/2023-05-06_14-03-38/epoch_0156/dynamics.pth  \n",
            "   creating: /content/unzipped_folder/content/models/2023-05-06_14-03-38/epoch_0034/\n",
            "  inflating: /content/unzipped_folder/content/models/2023-05-06_14-03-38/epoch_0034/dynamics.pth  \n",
            "   creating: /content/unzipped_folder/content/models/2023-05-06_14-03-38/epoch_0161/\n",
            "  inflating: /content/unzipped_folder/content/models/2023-05-06_14-03-38/epoch_0161/dynamics.pth  \n",
            "   creating: /content/unzipped_folder/content/models/2023-05-06_14-03-38/epoch_0162/\n",
            "  inflating: /content/unzipped_folder/content/models/2023-05-06_14-03-38/epoch_0162/dynamics.pth  \n",
            "   creating: /content/unzipped_folder/content/models/2023-05-06_14-03-38/epoch_0102/\n",
            "  inflating: /content/unzipped_folder/content/models/2023-05-06_14-03-38/epoch_0102/dynamics.pth  \n",
            "   creating: /content/unzipped_folder/content/models/2023-05-06_14-03-38/epoch_0188/\n",
            "  inflating: /content/unzipped_folder/content/models/2023-05-06_14-03-38/epoch_0188/dynamics.pth  \n",
            "   creating: /content/unzipped_folder/content/models/2023-05-06_14-03-38/epoch_0141/\n",
            "  inflating: /content/unzipped_folder/content/models/2023-05-06_14-03-38/epoch_0141/dynamics.pth  \n",
            "   creating: /content/unzipped_folder/content/models/2023-05-06_14-03-38/epoch_0025/\n",
            "  inflating: /content/unzipped_folder/content/models/2023-05-06_14-03-38/epoch_0025/dynamics.pth  \n",
            "   creating: /content/unzipped_folder/content/models/2023-05-06_14-03-38/epoch_0191/\n",
            "  inflating: /content/unzipped_folder/content/models/2023-05-06_14-03-38/epoch_0191/dynamics.pth  \n",
            "   creating: /content/unzipped_folder/content/models/2023-05-06_14-03-38/epoch_0135/\n",
            "  inflating: /content/unzipped_folder/content/models/2023-05-06_14-03-38/epoch_0135/dynamics.pth  \n",
            "   creating: /content/unzipped_folder/content/models/2023-05-06_14-03-38/epoch_0115/\n",
            "  inflating: /content/unzipped_folder/content/models/2023-05-06_14-03-38/epoch_0115/dynamics.pth  \n",
            "   creating: /content/unzipped_folder/content/models/2023-05-06_14-03-38/epoch_0057/\n",
            "  inflating: /content/unzipped_folder/content/models/2023-05-06_14-03-38/epoch_0057/dynamics.pth  \n",
            "   creating: /content/unzipped_folder/content/models/2023-05-06_14-03-38/epoch_0145/\n",
            "  inflating: /content/unzipped_folder/content/models/2023-05-06_14-03-38/epoch_0145/dynamics.pth  \n",
            "   creating: /content/unzipped_folder/content/models/2023-05-06_14-03-38/epoch_0130/\n",
            "  inflating: /content/unzipped_folder/content/models/2023-05-06_14-03-38/epoch_0130/dynamics.pth  \n",
            "   creating: /content/unzipped_folder/content/models/2023-05-06_14-03-38/epoch_0122/\n",
            "  inflating: /content/unzipped_folder/content/models/2023-05-06_14-03-38/epoch_0122/dynamics.pth  \n",
            "   creating: /content/unzipped_folder/content/models/2023-05-06_14-03-38/epoch_0181/\n",
            "  inflating: /content/unzipped_folder/content/models/2023-05-06_14-03-38/epoch_0181/dynamics.pth  \n",
            "   creating: /content/unzipped_folder/content/models/2023-05-06_14-03-38/epoch_0123/\n",
            "  inflating: /content/unzipped_folder/content/models/2023-05-06_14-03-38/epoch_0123/dynamics.pth  \n",
            "   creating: /content/unzipped_folder/content/models/2023-05-06_14-03-38/epoch_0172/\n",
            "  inflating: /content/unzipped_folder/content/models/2023-05-06_14-03-38/epoch_0172/dynamics.pth  \n",
            "   creating: /content/unzipped_folder/content/models/2023-05-06_14-03-38/epoch_0007/\n",
            "  inflating: /content/unzipped_folder/content/models/2023-05-06_14-03-38/epoch_0007/dynamics.pth  \n",
            "   creating: /content/unzipped_folder/content/models/2023-05-06_14-03-38/epoch_0096/\n",
            "  inflating: /content/unzipped_folder/content/models/2023-05-06_14-03-38/epoch_0096/dynamics.pth  \n",
            "   creating: /content/unzipped_folder/content/models/2023-05-06_14-03-38/epoch_0028/\n",
            "  inflating: /content/unzipped_folder/content/models/2023-05-06_14-03-38/epoch_0028/dynamics.pth  \n",
            "   creating: /content/unzipped_folder/content/models/2023-05-06_14-03-38/epoch_0199/\n",
            "  inflating: /content/unzipped_folder/content/models/2023-05-06_14-03-38/epoch_0199/dynamics.pth  \n",
            "   creating: /content/unzipped_folder/content/models/2023-05-06_14-03-38/epoch_0071/\n",
            "  inflating: /content/unzipped_folder/content/models/2023-05-06_14-03-38/epoch_0071/dynamics.pth  \n",
            "   creating: /content/unzipped_folder/content/models/2023-05-06_14-03-38/epoch_0197/\n",
            "  inflating: /content/unzipped_folder/content/models/2023-05-06_14-03-38/epoch_0197/dynamics.pth  \n",
            "   creating: /content/unzipped_folder/content/models/2023-05-06_14-03-38/epoch_0198/\n",
            "  inflating: /content/unzipped_folder/content/models/2023-05-06_14-03-38/epoch_0198/dynamics.pth  \n",
            "   creating: /content/unzipped_folder/content/models/2023-05-06_14-03-38/epoch_0116/\n",
            "  inflating: /content/unzipped_folder/content/models/2023-05-06_14-03-38/epoch_0116/dynamics.pth  \n",
            "   creating: /content/unzipped_folder/content/models/2023-05-06_14-03-38/epoch_0023/\n",
            "  inflating: /content/unzipped_folder/content/models/2023-05-06_14-03-38/epoch_0023/dynamics.pth  \n",
            "   creating: /content/unzipped_folder/content/models/2023-05-06_14-03-38/epoch_0018/\n",
            "  inflating: /content/unzipped_folder/content/models/2023-05-06_14-03-38/epoch_0018/dynamics.pth  \n",
            "   creating: /content/unzipped_folder/content/models/2023-05-06_14-03-38/epoch_0064/\n",
            "  inflating: /content/unzipped_folder/content/models/2023-05-06_14-03-38/epoch_0064/dynamics.pth  \n",
            "   creating: /content/unzipped_folder/content/models/2023-05-06_14-03-38/epoch_0054/\n",
            "  inflating: /content/unzipped_folder/content/models/2023-05-06_14-03-38/epoch_0054/dynamics.pth  \n",
            "   creating: /content/unzipped_folder/content/models/2023-05-06_14-03-38/epoch_0195/\n",
            "  inflating: /content/unzipped_folder/content/models/2023-05-06_14-03-38/epoch_0195/dynamics.pth  \n",
            "   creating: /content/unzipped_folder/content/models/2023-05-06_14-03-38/epoch_0031/\n",
            "  inflating: /content/unzipped_folder/content/models/2023-05-06_14-03-38/epoch_0031/dynamics.pth  \n",
            "   creating: /content/unzipped_folder/content/models/2023-05-06_14-03-38/epoch_0147/\n",
            "  inflating: /content/unzipped_folder/content/models/2023-05-06_14-03-38/epoch_0147/dynamics.pth  \n",
            "   creating: /content/unzipped_folder/content/models/2023-05-06_14-03-38/epoch_0008/\n",
            "  inflating: /content/unzipped_folder/content/models/2023-05-06_14-03-38/epoch_0008/dynamics.pth  \n",
            "   creating: /content/unzipped_folder/content/models/2023-05-06_14-03-38/epoch_0165/\n",
            "  inflating: /content/unzipped_folder/content/models/2023-05-06_14-03-38/epoch_0165/dynamics.pth  \n",
            "   creating: /content/unzipped_folder/content/models/2023-05-06_14-03-38/epoch_0065/\n",
            "  inflating: /content/unzipped_folder/content/models/2023-05-06_14-03-38/epoch_0065/dynamics.pth  \n",
            "   creating: /content/unzipped_folder/content/models/2023-05-06_14-03-38/epoch_0180/\n",
            "  inflating: /content/unzipped_folder/content/models/2023-05-06_14-03-38/epoch_0180/dynamics.pth  \n",
            "   creating: /content/unzipped_folder/content/models/2023-05-06_14-03-38/epoch_0005/\n",
            "  inflating: /content/unzipped_folder/content/models/2023-05-06_14-03-38/epoch_0005/dynamics.pth  \n",
            "   creating: /content/unzipped_folder/content/models/2023-05-06_14-03-38/epoch_0128/\n",
            "  inflating: /content/unzipped_folder/content/models/2023-05-06_14-03-38/epoch_0128/dynamics.pth  \n",
            "   creating: /content/unzipped_folder/content/models/2023-05-06_14-03-38/epoch_0078/\n",
            "  inflating: /content/unzipped_folder/content/models/2023-05-06_14-03-38/epoch_0078/dynamics.pth  \n",
            "   creating: /content/unzipped_folder/content/models/2023-05-06_14-03-38/epoch_0107/\n",
            "  inflating: /content/unzipped_folder/content/models/2023-05-06_14-03-38/epoch_0107/dynamics.pth  \n",
            "   creating: /content/unzipped_folder/content/models/2023-05-06_14-03-38/epoch_0081/\n",
            "  inflating: /content/unzipped_folder/content/models/2023-05-06_14-03-38/epoch_0081/dynamics.pth  \n",
            "   creating: /content/unzipped_folder/content/models/2023-05-06_14-03-38/epoch_0010/\n",
            "  inflating: /content/unzipped_folder/content/models/2023-05-06_14-03-38/epoch_0010/dynamics.pth  \n",
            "   creating: /content/unzipped_folder/content/models/2023-05-06_14-03-38/epoch_0170/\n",
            "  inflating: /content/unzipped_folder/content/models/2023-05-06_14-03-38/epoch_0170/dynamics.pth  \n",
            "   creating: /content/unzipped_folder/content/models/2023-05-06_14-03-38/epoch_0077/\n",
            "  inflating: /content/unzipped_folder/content/models/2023-05-06_14-03-38/epoch_0077/dynamics.pth  \n",
            "   creating: /content/unzipped_folder/content/models/2023-05-06_14-03-38/epoch_0171/\n",
            "  inflating: /content/unzipped_folder/content/models/2023-05-06_14-03-38/epoch_0171/dynamics.pth  \n",
            "   creating: /content/unzipped_folder/content/models/2023-05-06_14-03-38/epoch_0110/\n",
            "  inflating: /content/unzipped_folder/content/models/2023-05-06_14-03-38/epoch_0110/dynamics.pth  \n",
            "   creating: /content/unzipped_folder/content/models/2023-05-06_14-03-38/epoch_0012/\n",
            "  inflating: /content/unzipped_folder/content/models/2023-05-06_14-03-38/epoch_0012/dynamics.pth  \n",
            "   creating: /content/unzipped_folder/content/models/2023-05-06_14-03-38/epoch_0006/\n",
            "  inflating: /content/unzipped_folder/content/models/2023-05-06_14-03-38/epoch_0006/dynamics.pth  \n",
            "   creating: /content/unzipped_folder/content/models/2023-05-06_14-03-38/epoch_0132/\n",
            "  inflating: /content/unzipped_folder/content/models/2023-05-06_14-03-38/epoch_0132/dynamics.pth  \n",
            "   creating: /content/unzipped_folder/content/models/2023-05-06_14-03-38/epoch_0091/\n",
            "  inflating: /content/unzipped_folder/content/models/2023-05-06_14-03-38/epoch_0091/dynamics.pth  \n",
            "   creating: /content/unzipped_folder/content/models/2023-05-06_14-03-38/epoch_0027/\n",
            "  inflating: /content/unzipped_folder/content/models/2023-05-06_14-03-38/epoch_0027/dynamics.pth  \n",
            "   creating: /content/unzipped_folder/content/models/2023-05-06_14-03-38/epoch_0033/\n",
            "  inflating: /content/unzipped_folder/content/models/2023-05-06_14-03-38/epoch_0033/dynamics.pth  \n",
            "   creating: /content/unzipped_folder/content/models/2023-05-06_14-03-38/epoch_0017/\n",
            "  inflating: /content/unzipped_folder/content/models/2023-05-06_14-03-38/epoch_0017/dynamics.pth  \n",
            "   creating: /content/unzipped_folder/content/models/2023-05-06_14-03-38/epoch_0069/\n",
            "  inflating: /content/unzipped_folder/content/models/2023-05-06_14-03-38/epoch_0069/dynamics.pth  \n",
            "   creating: /content/unzipped_folder/content/models/2023-05-06_14-03-38/epoch_0082/\n",
            "  inflating: /content/unzipped_folder/content/models/2023-05-06_14-03-38/epoch_0082/dynamics.pth  \n",
            "   creating: /content/unzipped_folder/content/models/2023-05-06_14-03-38/epoch_0189/\n",
            "  inflating: /content/unzipped_folder/content/models/2023-05-06_14-03-38/epoch_0189/dynamics.pth  \n",
            "   creating: /content/unzipped_folder/content/models/2023-05-06_14-03-38/epoch_0046/\n",
            "  inflating: /content/unzipped_folder/content/models/2023-05-06_14-03-38/epoch_0046/dynamics.pth  \n",
            "   creating: /content/unzipped_folder/content/models/2023-05-06_14-03-38/epoch_0127/\n",
            "  inflating: /content/unzipped_folder/content/models/2023-05-06_14-03-38/epoch_0127/dynamics.pth  \n",
            "   creating: /content/unzipped_folder/content/models/2023-05-06_14-03-38/epoch_0024/\n",
            "  inflating: /content/unzipped_folder/content/models/2023-05-06_14-03-38/epoch_0024/dynamics.pth  \n",
            "   creating: /content/unzipped_folder/content/models/2023-05-06_14-03-38/epoch_0043/\n",
            "  inflating: /content/unzipped_folder/content/models/2023-05-06_14-03-38/epoch_0043/dynamics.pth  \n",
            "   creating: /content/unzipped_folder/content/models/2023-05-06_14-03-38/epoch_0186/\n",
            "  inflating: /content/unzipped_folder/content/models/2023-05-06_14-03-38/epoch_0186/dynamics.pth  \n",
            "   creating: /content/unzipped_folder/content/models/2023-05-06_14-03-38/epoch_0164/\n",
            "  inflating: /content/unzipped_folder/content/models/2023-05-06_14-03-38/epoch_0164/dynamics.pth  \n",
            "   creating: /content/unzipped_folder/content/models/2023-05-06_14-03-38/epoch_0066/\n",
            "  inflating: /content/unzipped_folder/content/models/2023-05-06_14-03-38/epoch_0066/dynamics.pth  \n",
            "   creating: /content/unzipped_folder/content/models/2023-05-06_14-03-38/epoch_0153/\n",
            "  inflating: /content/unzipped_folder/content/models/2023-05-06_14-03-38/epoch_0153/dynamics.pth  \n",
            "   creating: /content/unzipped_folder/content/models/2023-05-06_14-03-38/epoch_0144/\n",
            "  inflating: /content/unzipped_folder/content/models/2023-05-06_14-03-38/epoch_0144/dynamics.pth  \n",
            "   creating: /content/unzipped_folder/content/models/2023-05-06_14-03-38/epoch_0100/\n",
            "  inflating: /content/unzipped_folder/content/models/2023-05-06_14-03-38/epoch_0100/dynamics.pth  \n",
            "   creating: /content/unzipped_folder/content/models/2023-05-06_14-03-38/epoch_0192/\n",
            "  inflating: /content/unzipped_folder/content/models/2023-05-06_14-03-38/epoch_0192/dynamics.pth  \n",
            "   creating: /content/unzipped_folder/content/models/2023-05-06_14-03-38/epoch_0109/\n",
            "  inflating: /content/unzipped_folder/content/models/2023-05-06_14-03-38/epoch_0109/dynamics.pth  \n",
            "   creating: /content/unzipped_folder/content/models/2023-05-06_14-03-38/epoch_0139/\n",
            "  inflating: /content/unzipped_folder/content/models/2023-05-06_14-03-38/epoch_0139/dynamics.pth  \n",
            "   creating: /content/unzipped_folder/content/models/2023-05-06_14-03-38/epoch_0175/\n",
            "  inflating: /content/unzipped_folder/content/models/2023-05-06_14-03-38/epoch_0175/dynamics.pth  \n",
            "   creating: /content/unzipped_folder/content/models/2023-05-06_14-03-38/epoch_0036/\n",
            "  inflating: /content/unzipped_folder/content/models/2023-05-06_14-03-38/epoch_0036/dynamics.pth  \n",
            "   creating: /content/unzipped_folder/content/models/2023-05-06_14-03-38/epoch_0158/\n",
            "  inflating: /content/unzipped_folder/content/models/2023-05-06_14-03-38/epoch_0158/dynamics.pth  \n",
            "   creating: /content/unzipped_folder/content/models/2023-05-06_14-03-38/epoch_0021/\n",
            "  inflating: /content/unzipped_folder/content/models/2023-05-06_14-03-38/epoch_0021/dynamics.pth  \n",
            "   creating: /content/unzipped_folder/content/models/2023-05-06_14-03-38/epoch_0093/\n",
            "  inflating: /content/unzipped_folder/content/models/2023-05-06_14-03-38/epoch_0093/dynamics.pth  \n",
            "   creating: /content/unzipped_folder/content/models/2023-05-06_14-03-38/epoch_0079/\n",
            "  inflating: /content/unzipped_folder/content/models/2023-05-06_14-03-38/epoch_0079/dynamics.pth  \n",
            "   creating: /content/unzipped_folder/content/models/2023-05-06_14-03-38/epoch_0099/\n",
            "  inflating: /content/unzipped_folder/content/models/2023-05-06_14-03-38/epoch_0099/dynamics.pth  \n",
            "   creating: /content/unzipped_folder/content/models/2023-05-06_14-03-38/epoch_0072/\n",
            "  inflating: /content/unzipped_folder/content/models/2023-05-06_14-03-38/epoch_0072/dynamics.pth  \n",
            "   creating: /content/unzipped_folder/content/models/2023-05-06_14-03-38/epoch_0174/\n",
            "  inflating: /content/unzipped_folder/content/models/2023-05-06_14-03-38/epoch_0174/dynamics.pth  \n",
            "   creating: /content/unzipped_folder/content/models/2023-05-06_14-03-38/epoch_0119/\n",
            "  inflating: /content/unzipped_folder/content/models/2023-05-06_14-03-38/epoch_0119/dynamics.pth  \n",
            "   creating: /content/unzipped_folder/content/models/2023-05-06_14-03-38/epoch_0098/\n",
            "  inflating: /content/unzipped_folder/content/models/2023-05-06_14-03-38/epoch_0098/dynamics.pth  \n",
            "   creating: /content/unzipped_folder/content/models/2023-05-06_14-03-38/epoch_0083/\n",
            "  inflating: /content/unzipped_folder/content/models/2023-05-06_14-03-38/epoch_0083/dynamics.pth  \n",
            "   creating: /content/unzipped_folder/content/models/2023-05-06_14-03-38/epoch_0032/\n",
            "  inflating: /content/unzipped_folder/content/models/2023-05-06_14-03-38/epoch_0032/dynamics.pth  \n",
            "   creating: /content/unzipped_folder/content/models/2023-05-06_14-03-38/epoch_0090/\n",
            "  inflating: /content/unzipped_folder/content/models/2023-05-06_14-03-38/epoch_0090/dynamics.pth  \n",
            "   creating: /content/unzipped_folder/content/models/2023-05-06_14-03-38/epoch_0055/\n",
            "  inflating: /content/unzipped_folder/content/models/2023-05-06_14-03-38/epoch_0055/dynamics.pth  \n",
            "   creating: /content/unzipped_folder/content/models/2023-05-06_14-03-38/epoch_0097/\n",
            "  inflating: /content/unzipped_folder/content/models/2023-05-06_14-03-38/epoch_0097/dynamics.pth  \n",
            "   creating: /content/unzipped_folder/content/models/2023-05-06_14-03-38/epoch_0152/\n",
            "  inflating: /content/unzipped_folder/content/models/2023-05-06_14-03-38/epoch_0152/dynamics.pth  \n",
            "   creating: /content/unzipped_folder/content/models/2023-05-06_14-03-38/epoch_0020/\n",
            "  inflating: /content/unzipped_folder/content/models/2023-05-06_14-03-38/epoch_0020/dynamics.pth  \n",
            "   creating: /content/unzipped_folder/content/models/2023-05-06_14-03-38/epoch_0166/\n",
            "  inflating: /content/unzipped_folder/content/models/2023-05-06_14-03-38/epoch_0166/dynamics.pth  \n",
            "   creating: /content/unzipped_folder/content/models/2023-05-06_14-03-38/epoch_0183/\n",
            "  inflating: /content/unzipped_folder/content/models/2023-05-06_14-03-38/epoch_0183/dynamics.pth  \n",
            "   creating: /content/unzipped_folder/content/models/2023-05-06_14-03-38/epoch_0154/\n",
            "  inflating: /content/unzipped_folder/content/models/2023-05-06_14-03-38/epoch_0154/dynamics.pth  \n",
            "   creating: /content/unzipped_folder/content/models/2023-05-06_14-03-38/epoch_0002/\n",
            "  inflating: /content/unzipped_folder/content/models/2023-05-06_14-03-38/epoch_0002/dynamics.pth  \n",
            "   creating: /content/unzipped_folder/content/models/2023-05-06_14-03-38/epoch_0050/\n",
            "  inflating: /content/unzipped_folder/content/models/2023-05-06_14-03-38/epoch_0050/dynamics.pth  \n",
            "   creating: /content/unzipped_folder/content/models/2023-05-06_14-03-38/epoch_0089/\n",
            "  inflating: /content/unzipped_folder/content/models/2023-05-06_14-03-38/epoch_0089/dynamics.pth  \n",
            "   creating: /content/unzipped_folder/content/models/2023-05-06_14-03-38/epoch_0124/\n",
            "  inflating: /content/unzipped_folder/content/models/2023-05-06_14-03-38/epoch_0124/dynamics.pth  \n",
            "   creating: /content/unzipped_folder/content/models/2023-05-06_14-03-38/epoch_0148/\n",
            "  inflating: /content/unzipped_folder/content/models/2023-05-06_14-03-38/epoch_0148/dynamics.pth  \n",
            "   creating: /content/unzipped_folder/content/models/2023-05-06_14-03-38/epoch_0062/\n",
            "  inflating: /content/unzipped_folder/content/models/2023-05-06_14-03-38/epoch_0062/dynamics.pth  \n",
            "   creating: /content/unzipped_folder/content/models/2023-05-06_14-03-38/epoch_0150/\n",
            "  inflating: /content/unzipped_folder/content/models/2023-05-06_14-03-38/epoch_0150/dynamics.pth  \n",
            "   creating: /content/unzipped_folder/content/models/2023-05-06_14-03-38/epoch_0157/\n",
            "  inflating: /content/unzipped_folder/content/models/2023-05-06_14-03-38/epoch_0157/dynamics.pth  \n",
            "   creating: /content/unzipped_folder/content/models/2023-05-06_14-03-38/epoch_0196/\n",
            "  inflating: /content/unzipped_folder/content/models/2023-05-06_14-03-38/epoch_0196/dynamics.pth  \n",
            "   creating: /content/unzipped_folder/content/models/2023-05-06_14-03-38/epoch_0114/\n",
            "  inflating: /content/unzipped_folder/content/models/2023-05-06_14-03-38/epoch_0114/dynamics.pth  \n",
            "   creating: /content/unzipped_folder/content/models/2023-05-06_14-03-38/epoch_0190/\n",
            "  inflating: /content/unzipped_folder/content/models/2023-05-06_14-03-38/epoch_0190/dynamics.pth  \n",
            "   creating: /content/unzipped_folder/content/models/2023-05-06_14-03-38/epoch_0029/\n",
            "  inflating: /content/unzipped_folder/content/models/2023-05-06_14-03-38/epoch_0029/dynamics.pth  \n",
            "   creating: /content/unzipped_folder/content/models/2023-05-06_14-03-38/epoch_0104/\n",
            "  inflating: /content/unzipped_folder/content/models/2023-05-06_14-03-38/epoch_0104/dynamics.pth  \n",
            "   creating: /content/unzipped_folder/content/models/2023-05-06_14-03-38/epoch_0142/\n",
            "  inflating: /content/unzipped_folder/content/models/2023-05-06_14-03-38/epoch_0142/dynamics.pth  \n",
            "   creating: /content/unzipped_folder/content/models/2023-05-06_14-03-38/epoch_0053/\n",
            "  inflating: /content/unzipped_folder/content/models/2023-05-06_14-03-38/epoch_0053/dynamics.pth  \n",
            "   creating: /content/unzipped_folder/content/models/2023-05-06_14-03-38/epoch_0121/\n",
            "  inflating: /content/unzipped_folder/content/models/2023-05-06_14-03-38/epoch_0121/dynamics.pth  \n",
            "   creating: /content/unzipped_folder/content/models/2023-05-06_14-03-38/epoch_0160/\n",
            "  inflating: /content/unzipped_folder/content/models/2023-05-06_14-03-38/epoch_0160/dynamics.pth  \n",
            "   creating: /content/unzipped_folder/content/models/2023-05-06_14-03-38/epoch_0108/\n",
            "  inflating: /content/unzipped_folder/content/models/2023-05-06_14-03-38/epoch_0108/dynamics.pth  \n",
            "   creating: /content/unzipped_folder/content/models/2023-05-06_14-03-38/epoch_0061/\n",
            "  inflating: /content/unzipped_folder/content/models/2023-05-06_14-03-38/epoch_0061/dynamics.pth  \n",
            "   creating: /content/unzipped_folder/content/models/2023-05-06_14-03-38/epoch_0088/\n",
            "  inflating: /content/unzipped_folder/content/models/2023-05-06_14-03-38/epoch_0088/dynamics.pth  \n",
            "   creating: /content/unzipped_folder/content/models/2023-05-06_14-03-38/epoch_0016/\n",
            "  inflating: /content/unzipped_folder/content/models/2023-05-06_14-03-38/epoch_0016/dynamics.pth  \n",
            "   creating: /content/unzipped_folder/content/models/2023-05-06_14-03-38/epoch_0084/\n",
            "  inflating: /content/unzipped_folder/content/models/2023-05-06_14-03-38/epoch_0084/dynamics.pth  \n",
            "   creating: /content/unzipped_folder/content/models/2023-05-06_14-03-38/epoch_0087/\n",
            "  inflating: /content/unzipped_folder/content/models/2023-05-06_14-03-38/epoch_0087/dynamics.pth  \n",
            "   creating: /content/unzipped_folder/content/models/2023-05-06_14-03-38/epoch_0182/\n",
            "  inflating: /content/unzipped_folder/content/models/2023-05-06_14-03-38/epoch_0182/dynamics.pth  \n",
            "   creating: /content/unzipped_folder/content/models/2023-05-06_14-03-38/epoch_0134/\n",
            "  inflating: /content/unzipped_folder/content/models/2023-05-06_14-03-38/epoch_0134/dynamics.pth  \n",
            "   creating: /content/unzipped_folder/content/models/2023-05-06_14-03-38/epoch_0014/\n",
            "  inflating: /content/unzipped_folder/content/models/2023-05-06_14-03-38/epoch_0014/dynamics.pth  \n",
            "   creating: /content/unzipped_folder/content/models/2023-05-06_14-03-38/epoch_0113/\n",
            "  inflating: /content/unzipped_folder/content/models/2023-05-06_14-03-38/epoch_0113/dynamics.pth  \n",
            "   creating: /content/unzipped_folder/content/models/2023-05-06_14-03-38/epoch_0136/\n",
            "  inflating: /content/unzipped_folder/content/models/2023-05-06_14-03-38/epoch_0136/dynamics.pth  \n",
            "   creating: /content/unzipped_folder/content/models/2023-05-06_14-03-38/epoch_0068/\n",
            "  inflating: /content/unzipped_folder/content/models/2023-05-06_14-03-38/epoch_0068/dynamics.pth  \n",
            "   creating: /content/unzipped_folder/content/models/2023-05-06_14-03-38/epoch_0155/\n",
            "  inflating: /content/unzipped_folder/content/models/2023-05-06_14-03-38/epoch_0155/dynamics.pth  \n",
            "   creating: /content/unzipped_folder/content/models/2023-05-06_14-03-38/epoch_0159/\n",
            "  inflating: /content/unzipped_folder/content/models/2023-05-06_14-03-38/epoch_0159/dynamics.pth  \n",
            "   creating: /content/unzipped_folder/content/models/2023-05-06_14-03-38/epoch_0126/\n",
            "  inflating: /content/unzipped_folder/content/models/2023-05-06_14-03-38/epoch_0126/dynamics.pth  \n",
            "   creating: /content/unzipped_folder/content/models/2023-05-06_14-03-38/epoch_0112/\n",
            "  inflating: /content/unzipped_folder/content/models/2023-05-06_14-03-38/epoch_0112/dynamics.pth  \n",
            "   creating: /content/unzipped_folder/content/models/2023-05-06_14-03-38/epoch_0177/\n",
            "  inflating: /content/unzipped_folder/content/models/2023-05-06_14-03-38/epoch_0177/dynamics.pth  \n",
            "   creating: /content/unzipped_folder/content/models/2023-05-06_14-03-38/epoch_0035/\n",
            "  inflating: /content/unzipped_folder/content/models/2023-05-06_14-03-38/epoch_0035/dynamics.pth  \n",
            "   creating: /content/unzipped_folder/content/models/2023-05-06_14-03-38/epoch_0167/\n",
            "  inflating: /content/unzipped_folder/content/models/2023-05-06_14-03-38/epoch_0167/dynamics.pth  \n",
            "   creating: /content/unzipped_folder/content/models/2023-05-06_14-03-38/epoch_0044/\n",
            "  inflating: /content/unzipped_folder/content/models/2023-05-06_14-03-38/epoch_0044/dynamics.pth  \n",
            "   creating: /content/unzipped_folder/content/models/2023-05-06_14-03-38/epoch_0187/\n",
            "  inflating: /content/unzipped_folder/content/models/2023-05-06_14-03-38/epoch_0187/dynamics.pth  \n",
            "   creating: /content/unzipped_folder/content/models/2023-05-06_14-03-38/epoch_0103/\n",
            "  inflating: /content/unzipped_folder/content/models/2023-05-06_14-03-38/epoch_0103/dynamics.pth  \n",
            "   creating: /content/unzipped_folder/content/models/2023-05-06_14-03-38/epoch_0003/\n",
            "  inflating: /content/unzipped_folder/content/models/2023-05-06_14-03-38/epoch_0003/dynamics.pth  \n",
            "   creating: /content/unzipped_folder/content/models/2023-05-06_14-03-38/epoch_0200/\n",
            "  inflating: /content/unzipped_folder/content/models/2023-05-06_14-03-38/epoch_0200/dynamics.pth  \n",
            "   creating: /content/unzipped_folder/content/models/2023-05-06_14-03-38/epoch_0105/\n",
            "  inflating: /content/unzipped_folder/content/models/2023-05-06_14-03-38/epoch_0105/dynamics.pth  \n",
            "   creating: /content/unzipped_folder/content/models/2023-05-06_14-03-38/epoch_0111/\n",
            "  inflating: /content/unzipped_folder/content/models/2023-05-06_14-03-38/epoch_0111/dynamics.pth  \n",
            "   creating: /content/unzipped_folder/content/models/2023-05-06_14-03-38/epoch_0085/\n",
            "  inflating: /content/unzipped_folder/content/models/2023-05-06_14-03-38/epoch_0085/dynamics.pth  \n",
            "   creating: /content/unzipped_folder/content/models/2023-05-06_14-03-38/epoch_0173/\n",
            "  inflating: /content/unzipped_folder/content/models/2023-05-06_14-03-38/epoch_0173/dynamics.pth  \n",
            "   creating: /content/unzipped_folder/content/models/2023-05-06_14-03-38/epoch_0040/\n",
            "  inflating: /content/unzipped_folder/content/models/2023-05-06_14-03-38/epoch_0040/dynamics.pth  \n",
            "   creating: /content/unzipped_folder/content/models/2023-05-06_14-03-38/epoch_0095/\n",
            "  inflating: /content/unzipped_folder/content/models/2023-05-06_14-03-38/epoch_0095/dynamics.pth  \n",
            "   creating: /content/unzipped_folder/content/models/2023-05-06_14-03-38/epoch_0080/\n",
            "  inflating: /content/unzipped_folder/content/models/2023-05-06_14-03-38/epoch_0080/dynamics.pth  \n",
            "   creating: /content/unzipped_folder/content/models/2023-05-06_14-03-38/epoch_0026/\n",
            "  inflating: /content/unzipped_folder/content/models/2023-05-06_14-03-38/epoch_0026/dynamics.pth  \n",
            "   creating: /content/unzipped_folder/content/models/2023-05-06_14-03-38/epoch_0070/\n",
            "  inflating: /content/unzipped_folder/content/models/2023-05-06_14-03-38/epoch_0070/dynamics.pth  \n",
            "   creating: /content/unzipped_folder/content/models/2023-05-06_14-03-38/epoch_0133/\n",
            "  inflating: /content/unzipped_folder/content/models/2023-05-06_14-03-38/epoch_0133/dynamics.pth  \n",
            "   creating: /content/unzipped_folder/content/models/2023-05-06_14-03-38/epoch_0146/\n",
            "  inflating: /content/unzipped_folder/content/models/2023-05-06_14-03-38/epoch_0146/dynamics.pth  \n"
          ]
        }
      ]
    },
    {
      "cell_type": "code",
      "execution_count": null,
      "metadata": {
        "id": "0c1A-JN4gCtN"
      },
      "outputs": [],
      "source": [
        "import torch\n",
        "from torch.utils.data import Dataset, DataLoader, random_split\n",
        "import os\n",
        "import numpy as np\n",
        "import torch\n",
        "import torch.nn as nn\n",
        "import torch.nn.functional as F\n",
        "import tqdm\n",
        "import pickle\n",
        "import torch.optim as optim\n",
        "import argparse\n",
        "import time\n",
        "\n",
        "class DynamicDataset(Dataset):\n",
        "  def __init__(self, datafile):\n",
        "    data = pickle.load(open('/content/data-1.pkl', 'rb'))\n",
        "    # X: (N, 6), Y: (N, 4)\n",
        "    self.X = data['X'].astype(np.float32)\n",
        "    self.Y = data['Y'].astype(np.float32)\n",
        "\n",
        "  def __len__(self):\n",
        "    return self.X.shape[0]\n",
        "\n",
        "  def __getitem__(self, idx):\n",
        "    return self.X[idx], self.Y[idx]\n",
        "\n",
        "def train_one_epoch(model, loader, optimizer, criterion, scheduler):\n",
        "    model.train()\n",
        "    total_loss = 0.0\n",
        "    for i, data in enumerate(loader):\n",
        "      x = data[0]\n",
        "      y = data[1]\n",
        "      optimizer.zero_grad()\n",
        "      predictions = model.forward(x)\n",
        "      loss = criterion(predictions, y)\n",
        "      loss.backward()\n",
        "      total_loss += loss.item()\n",
        "      optimizer.step()\n",
        "    scheduler.step()\n",
        "    return total_loss/(i+1)\n",
        "\n",
        "def test(model, loader, criterion):\n",
        "    model.eval()\n",
        "    test_loss = 0.0\n",
        "    for i, data in enumerate(loader):\n",
        "      x = data[0]\n",
        "      y = data[1]\n",
        "      predictions = model.forward(x)\n",
        "      loss = criterion(predictions, y)\n",
        "      loss.backward()\n",
        "      test_loss += loss.item()\n",
        "    return test_loss/(i+1)\n",
        "\n",
        "def train_forward_model():\n",
        "\n",
        "  # Keep track of the checkpoint with the smallest test loss and save in model_path\n",
        "  model_path = None\n",
        "  max_test_loss = 1e4\n",
        "\n",
        "  network = Model2Link(0.01)  # in consist with the mpc harizon\n",
        "  learning_rate = 0.00005\n",
        "  criterion = nn.MSELoss()\n",
        "  optimizer = torch.optim.Adam(network.parameters(),lr = learning_rate) #, betas=(0.9, 0.999), eps=1e-08, weight_decay=0, amsgrad=False)\n",
        "  scheduler = torch.optim.lr_scheduler.StepLR(optimizer, step_size=10, gamma=0.8)\n",
        "  batch_size = 128\n",
        "\n",
        "  datafile = 'dataset/data.pkl'\n",
        "  split = 0.2\n",
        "  dataset = DynamicDataset(datafile)\n",
        "  dataset_size = len(dataset)\n",
        "  test_size = int(np.floor(split * dataset_size))\n",
        "  train_size = dataset_size - test_size\n",
        "  train_set, test_set = random_split(dataset, [train_size, test_size])\n",
        "\n",
        "  train_loader = torch.utils.data.DataLoader(train_set, batch_size=batch_size, shuffle=True)\n",
        "  test_loader = torch.utils.data.DataLoader(test_set, batch_size=batch_size, shuffle=True)\n",
        "\n",
        "  # The name of the directory to save all the checkpoints\n",
        "  timestr = time.strftime(\"%Y-%m-%d_%H-%M-%S\")\n",
        "  model_dir = os.path.join('models', timestr) \n",
        "\n",
        "  train_loss_all = []\n",
        "  test_loss_all = []\n",
        "\n",
        "  epochs = 200\n",
        "  min_loss = float('inf')\n",
        "  from tqdm import tqdm\n",
        "  for epoch in tqdm(range(1, 1 + epochs)):\n",
        "    # --\n",
        "    # Your code goes here\n",
        "    # --\n",
        "    total_loss = train_one_epoch(network, train_loader, optimizer, criterion, scheduler)\n",
        "    print(\"train loss:\", total_loss)\n",
        "    train_loss_all.append(total_loss)\n",
        "\n",
        "    test_loss =  test(network, test_loader, criterion)\n",
        "    print(\"test loss:\", test_loss)\n",
        "    test_loss_all.append(test_loss)\n",
        "\n",
        "    model_folder_name = f'epoch_{epoch:04d}'\n",
        "    if not os.path.exists(os.path.join(model_dir, model_folder_name)):\n",
        "        os.makedirs(os.path.join(model_dir, model_folder_name))\n",
        "    torch.save(network.state_dict(), os.path.join(model_dir, model_folder_name, 'dynamics.pth'))\n",
        "    model_path = os.path.join(model_dir, model_folder_name, 'dynamics.pth')\n",
        "    \n",
        "    # if test_loss < min_loss:\n",
        "    #   min_loss  = test_loss\n",
        "    #   model_folder_name = f'epoch_{epoch:04d}_loss_{test_loss:.8f}'\n",
        "    #   if not os.path.exists(os.path.join(model_dir, model_folder_name)):\n",
        "    #       os.makedirs(os.path.join(model_dir, model_folder_name))\n",
        "    #   torch.save(network.state_dict(), os.path.join(model_dir, model_folder_name, 'dynamics.pth'))\n",
        "    #   model_path = os.path.join(model_dir, model_folder_name, 'dynamics.pth')\n",
        "\n",
        "  return model_path, train_loss_all, test_loss_all"
      ]
    },
    {
      "cell_type": "code",
      "execution_count": null,
      "metadata": {
        "id": "g4g5oanOA2lJ",
        "colab": {
          "base_uri": "https://localhost:8080/"
        },
        "outputId": "fb52a587-d72b-4d6b-bd71-8c416f293557"
      },
      "outputs": [
        {
          "output_type": "stream",
          "name": "stderr",
          "text": [
            "\r  0%|          | 0/200 [00:00<?, ?it/s]"
          ]
        },
        {
          "output_type": "stream",
          "name": "stdout",
          "text": [
            "train loss: 0.013638397370232268\n"
          ]
        },
        {
          "output_type": "stream",
          "name": "stderr",
          "text": [
            "\r  0%|          | 1/200 [00:06<21:11,  6.39s/it]"
          ]
        },
        {
          "output_type": "stream",
          "name": "stdout",
          "text": [
            "test loss: 0.012273839586927666\n",
            "train loss: 0.009851422607665881\n"
          ]
        },
        {
          "output_type": "stream",
          "name": "stderr",
          "text": [
            "\r  1%|          | 2/200 [00:11<17:54,  5.42s/it]"
          ]
        },
        {
          "output_type": "stream",
          "name": "stdout",
          "text": [
            "test loss: 0.008052405820543559\n",
            "train loss: 0.006245688216155395\n"
          ]
        },
        {
          "output_type": "stream",
          "name": "stderr",
          "text": [
            "\r  2%|▏         | 3/200 [00:15<16:27,  5.01s/it]"
          ]
        },
        {
          "output_type": "stream",
          "name": "stdout",
          "text": [
            "test loss: 0.004926063308563714\n",
            "train loss: 0.00373523767311126\n"
          ]
        },
        {
          "output_type": "stream",
          "name": "stderr",
          "text": [
            "\r  2%|▏         | 4/200 [00:21<18:01,  5.52s/it]"
          ]
        },
        {
          "output_type": "stream",
          "name": "stdout",
          "text": [
            "test loss: 0.0028776814748262304\n",
            "train loss: 0.0022252999048214405\n"
          ]
        },
        {
          "output_type": "stream",
          "name": "stderr",
          "text": [
            "\r  2%|▎         | 5/200 [00:26<16:45,  5.16s/it]"
          ]
        },
        {
          "output_type": "stream",
          "name": "stdout",
          "text": [
            "test loss: 0.0017536405076722082\n",
            "train loss: 0.001416289282706566\n"
          ]
        },
        {
          "output_type": "stream",
          "name": "stderr",
          "text": [
            "\r  3%|▎         | 6/200 [00:31<16:08,  4.99s/it]"
          ]
        },
        {
          "output_type": "stream",
          "name": "stdout",
          "text": [
            "test loss: 0.0011748332570614918\n",
            "train loss: 0.0009908896551467478\n"
          ]
        },
        {
          "output_type": "stream",
          "name": "stderr",
          "text": [
            "\r  4%|▎         | 7/200 [00:37<17:24,  5.41s/it]"
          ]
        },
        {
          "output_type": "stream",
          "name": "stdout",
          "text": [
            "test loss: 0.0008630886003144454\n",
            "train loss: 0.0007492444959003478\n"
          ]
        },
        {
          "output_type": "stream",
          "name": "stderr",
          "text": [
            "\r  4%|▍         | 8/200 [00:42<16:37,  5.20s/it]"
          ]
        },
        {
          "output_type": "stream",
          "name": "stdout",
          "text": [
            "test loss: 0.0006811428361738951\n",
            "train loss: 0.0006036422374425456\n"
          ]
        },
        {
          "output_type": "stream",
          "name": "stderr",
          "text": [
            "\r  4%|▍         | 9/200 [00:47<16:30,  5.19s/it]"
          ]
        },
        {
          "output_type": "stream",
          "name": "stdout",
          "text": [
            "test loss: 0.0005708951871253003\n",
            "train loss: 0.0005080261653754861\n"
          ]
        },
        {
          "output_type": "stream",
          "name": "stderr",
          "text": [
            "\r  5%|▌         | 10/200 [00:53<17:05,  5.40s/it]"
          ]
        },
        {
          "output_type": "stream",
          "name": "stdout",
          "text": [
            "test loss: 0.00048691616928280766\n",
            "train loss: 0.0004447966538602486\n"
          ]
        },
        {
          "output_type": "stream",
          "name": "stderr",
          "text": [
            "\r  6%|▌         | 11/200 [00:57<16:19,  5.18s/it]"
          ]
        },
        {
          "output_type": "stream",
          "name": "stdout",
          "text": [
            "test loss: 0.0004372534926232403\n",
            "train loss: 0.0004012908179895021\n"
          ]
        },
        {
          "output_type": "stream",
          "name": "stderr",
          "text": [
            "\r  6%|▌         | 12/200 [01:03<16:55,  5.40s/it]"
          ]
        },
        {
          "output_type": "stream",
          "name": "stdout",
          "text": [
            "test loss: 0.00039529529693625726\n",
            "train loss: 0.0003642763484967873\n"
          ]
        },
        {
          "output_type": "stream",
          "name": "stderr",
          "text": [
            "\r  6%|▋         | 13/200 [01:08<16:29,  5.29s/it]"
          ]
        },
        {
          "output_type": "stream",
          "name": "stdout",
          "text": [
            "test loss: 0.00036003092427912075\n",
            "train loss: 0.0003327304070466198\n"
          ]
        },
        {
          "output_type": "stream",
          "name": "stderr",
          "text": [
            "\r  7%|▋         | 14/200 [01:13<15:50,  5.11s/it]"
          ]
        },
        {
          "output_type": "stream",
          "name": "stdout",
          "text": [
            "test loss: 0.0003334954081117339\n",
            "train loss: 0.00030545269621070476\n"
          ]
        },
        {
          "output_type": "stream",
          "name": "stderr",
          "text": [
            "\r  8%|▊         | 15/200 [01:19<16:51,  5.47s/it]"
          ]
        },
        {
          "output_type": "stream",
          "name": "stdout",
          "text": [
            "test loss: 0.0003032780577095386\n",
            "train loss: 0.0002816745076444931\n"
          ]
        },
        {
          "output_type": "stream",
          "name": "stderr",
          "text": [
            "\r  8%|▊         | 16/200 [01:24<16:04,  5.24s/it]"
          ]
        },
        {
          "output_type": "stream",
          "name": "stdout",
          "text": [
            "test loss: 0.0002782467068150675\n",
            "train loss: 0.0002607961904373951\n"
          ]
        },
        {
          "output_type": "stream",
          "name": "stderr",
          "text": [
            "\r  8%|▊         | 17/200 [01:29<15:29,  5.08s/it]"
          ]
        },
        {
          "output_type": "stream",
          "name": "stdout",
          "text": [
            "test loss: 0.00025824025889245654\n",
            "train loss: 0.0002430364792700857\n"
          ]
        },
        {
          "output_type": "stream",
          "name": "stderr",
          "text": [
            "\r  9%|▉         | 18/200 [01:35<16:32,  5.45s/it]"
          ]
        },
        {
          "output_type": "stream",
          "name": "stdout",
          "text": [
            "test loss: 0.00024039394038743504\n",
            "train loss: 0.00022684151426656171\n"
          ]
        },
        {
          "output_type": "stream",
          "name": "stderr",
          "text": [
            "\r 10%|▉         | 19/200 [01:40<15:46,  5.23s/it]"
          ]
        },
        {
          "output_type": "stream",
          "name": "stdout",
          "text": [
            "test loss: 0.00022736873311535887\n",
            "train loss: 0.00021289323191158474\n"
          ]
        },
        {
          "output_type": "stream",
          "name": "stderr",
          "text": [
            "\r 10%|█         | 20/200 [01:45<15:49,  5.28s/it]"
          ]
        },
        {
          "output_type": "stream",
          "name": "stdout",
          "text": [
            "test loss: 0.00021341053932922305\n",
            "train loss: 0.00020076779937371612\n"
          ]
        },
        {
          "output_type": "stream",
          "name": "stderr",
          "text": [
            "\r 10%|█         | 21/200 [01:51<16:06,  5.40s/it]"
          ]
        },
        {
          "output_type": "stream",
          "name": "stdout",
          "text": [
            "test loss: 0.000207990457410939\n",
            "train loss: 0.00019084772458299995\n"
          ]
        },
        {
          "output_type": "stream",
          "name": "stderr",
          "text": [
            "\r 11%|█         | 22/200 [01:56<15:21,  5.18s/it]"
          ]
        },
        {
          "output_type": "stream",
          "name": "stdout",
          "text": [
            "test loss: 0.00019134444177813513\n",
            "train loss: 0.0001818304991524201\n"
          ]
        },
        {
          "output_type": "stream",
          "name": "stderr",
          "text": [
            "\r 12%|█▏        | 23/200 [02:01<15:58,  5.42s/it]"
          ]
        },
        {
          "output_type": "stream",
          "name": "stdout",
          "text": [
            "test loss: 0.00018122692481977658\n",
            "train loss: 0.00017318328218534588\n"
          ]
        },
        {
          "output_type": "stream",
          "name": "stderr",
          "text": [
            "\r 12%|█▏        | 24/200 [02:07<15:41,  5.35s/it]"
          ]
        },
        {
          "output_type": "stream",
          "name": "stdout",
          "text": [
            "test loss: 0.00017430183649998153\n",
            "train loss: 0.0001649236879486125\n"
          ]
        },
        {
          "output_type": "stream",
          "name": "stderr",
          "text": [
            "\r 12%|█▎        | 25/200 [02:11<15:00,  5.15s/it]"
          ]
        },
        {
          "output_type": "stream",
          "name": "stdout",
          "text": [
            "test loss: 0.0001637658159207246\n",
            "train loss: 0.0001572025946516078\n"
          ]
        },
        {
          "output_type": "stream",
          "name": "stderr",
          "text": [
            "\r 13%|█▎        | 26/200 [02:18<15:55,  5.49s/it]"
          ]
        },
        {
          "output_type": "stream",
          "name": "stdout",
          "text": [
            "test loss: 0.00015718807565727488\n",
            "train loss: 0.00015009071240201593\n"
          ]
        },
        {
          "output_type": "stream",
          "name": "stderr",
          "text": [
            "\r 14%|█▎        | 27/200 [02:22<15:10,  5.26s/it]"
          ]
        },
        {
          "output_type": "stream",
          "name": "stdout",
          "text": [
            "test loss: 0.00014927293097815317\n",
            "train loss: 0.0001432259904453531\n"
          ]
        },
        {
          "output_type": "stream",
          "name": "stderr",
          "text": [
            "\r 14%|█▍        | 28/200 [02:27<14:51,  5.19s/it]"
          ]
        },
        {
          "output_type": "stream",
          "name": "stdout",
          "text": [
            "test loss: 0.0001419851528153347\n",
            "train loss: 0.00013674221315595786\n"
          ]
        },
        {
          "output_type": "stream",
          "name": "stderr",
          "text": [
            "\r 14%|█▍        | 29/200 [02:34<15:37,  5.48s/it]"
          ]
        },
        {
          "output_type": "stream",
          "name": "stdout",
          "text": [
            "test loss: 0.0001354991276480686\n",
            "train loss: 0.00013052631484461016\n"
          ]
        },
        {
          "output_type": "stream",
          "name": "stderr",
          "text": [
            "\r 15%|█▌        | 30/200 [02:38<14:50,  5.24s/it]"
          ]
        },
        {
          "output_type": "stream",
          "name": "stdout",
          "text": [
            "test loss: 0.00013019039552062214\n",
            "train loss: 0.00012479120247589889\n"
          ]
        },
        {
          "output_type": "stream",
          "name": "stderr",
          "text": [
            "\r 16%|█▌        | 31/200 [02:44<15:09,  5.38s/it]"
          ]
        },
        {
          "output_type": "stream",
          "name": "stdout",
          "text": [
            "test loss: 0.00012433544890981126\n",
            "train loss: 0.0001201522693008883\n"
          ]
        },
        {
          "output_type": "stream",
          "name": "stderr",
          "text": [
            "\r 16%|█▌        | 32/200 [02:49<15:05,  5.39s/it]"
          ]
        },
        {
          "output_type": "stream",
          "name": "stdout",
          "text": [
            "test loss: 0.00011958748271604017\n",
            "train loss: 0.00011576793567510321\n"
          ]
        },
        {
          "output_type": "stream",
          "name": "stderr",
          "text": [
            "\r 16%|█▋        | 33/200 [02:54<14:32,  5.22s/it]"
          ]
        },
        {
          "output_type": "stream",
          "name": "stdout",
          "text": [
            "test loss: 0.00011689968333650639\n",
            "train loss: 0.00011132448524294887\n"
          ]
        },
        {
          "output_type": "stream",
          "name": "stderr",
          "text": [
            "\r 17%|█▋        | 34/200 [03:01<15:25,  5.58s/it]"
          ]
        },
        {
          "output_type": "stream",
          "name": "stdout",
          "text": [
            "test loss: 0.00011102160302767405\n",
            "train loss: 0.00010691711285326164\n"
          ]
        },
        {
          "output_type": "stream",
          "name": "stderr",
          "text": [
            "\r 18%|█▊        | 35/200 [03:05<14:35,  5.31s/it]"
          ]
        },
        {
          "output_type": "stream",
          "name": "stdout",
          "text": [
            "test loss: 0.00010624346990002909\n",
            "train loss: 0.00010287446261500008\n"
          ]
        },
        {
          "output_type": "stream",
          "name": "stderr",
          "text": [
            "\r 18%|█▊        | 36/200 [03:10<14:04,  5.15s/it]"
          ]
        },
        {
          "output_type": "stream",
          "name": "stdout",
          "text": [
            "test loss: 0.00010207972249214034\n",
            "train loss: 9.892428948951419e-05\n"
          ]
        },
        {
          "output_type": "stream",
          "name": "stderr",
          "text": [
            "\r 18%|█▊        | 37/200 [03:16<14:59,  5.52s/it]"
          ]
        },
        {
          "output_type": "stream",
          "name": "stdout",
          "text": [
            "test loss: 9.963677292924e-05\n",
            "train loss: 9.509041287528817e-05\n"
          ]
        },
        {
          "output_type": "stream",
          "name": "stderr",
          "text": [
            "\r 19%|█▉        | 38/200 [03:21<14:20,  5.31s/it]"
          ]
        },
        {
          "output_type": "stream",
          "name": "stdout",
          "text": [
            "test loss: 9.518361309111436e-05\n",
            "train loss: 9.157031150825787e-05\n"
          ]
        },
        {
          "output_type": "stream",
          "name": "stderr",
          "text": [
            "\r 20%|█▉        | 39/200 [03:27<14:16,  5.32s/it]"
          ]
        },
        {
          "output_type": "stream",
          "name": "stdout",
          "text": [
            "test loss: 9.141319476972936e-05\n",
            "train loss: 8.798784798418638e-05\n"
          ]
        },
        {
          "output_type": "stream",
          "name": "stderr",
          "text": [
            "\r 20%|██        | 40/200 [03:32<14:32,  5.45s/it]"
          ]
        },
        {
          "output_type": "stream",
          "name": "stdout",
          "text": [
            "test loss: 8.780907436406772e-05\n",
            "train loss: 8.457940223743207e-05\n"
          ]
        },
        {
          "output_type": "stream",
          "name": "stderr",
          "text": [
            "\r 20%|██        | 41/200 [03:37<13:52,  5.24s/it]"
          ]
        },
        {
          "output_type": "stream",
          "name": "stdout",
          "text": [
            "test loss: 8.450166889304182e-05\n",
            "train loss: 8.181614284403622e-05\n"
          ]
        },
        {
          "output_type": "stream",
          "name": "stderr",
          "text": [
            "\r 21%|██        | 42/200 [03:43<14:35,  5.54s/it]"
          ]
        },
        {
          "output_type": "stream",
          "name": "stdout",
          "text": [
            "test loss: 8.193584135398805e-05\n",
            "train loss: 7.925808219297323e-05\n"
          ]
        },
        {
          "output_type": "stream",
          "name": "stderr",
          "text": [
            "\r 22%|██▏       | 43/200 [03:48<14:06,  5.39s/it]"
          ]
        },
        {
          "output_type": "stream",
          "name": "stdout",
          "text": [
            "test loss: 7.921262987712309e-05\n",
            "train loss: 7.667858224886003e-05\n"
          ]
        },
        {
          "output_type": "stream",
          "name": "stderr",
          "text": [
            "\r 22%|██▏       | 44/200 [03:53<13:33,  5.21s/it]"
          ]
        },
        {
          "output_type": "stream",
          "name": "stdout",
          "text": [
            "test loss: 7.618280164280031e-05\n",
            "train loss: 7.416941779956688e-05\n"
          ]
        },
        {
          "output_type": "stream",
          "name": "stderr",
          "text": [
            "\r 22%|██▎       | 45/200 [04:00<14:20,  5.55s/it]"
          ]
        },
        {
          "output_type": "stream",
          "name": "stdout",
          "text": [
            "test loss: 7.439565262013374e-05\n",
            "train loss: 7.175721784587949e-05\n"
          ]
        },
        {
          "output_type": "stream",
          "name": "stderr",
          "text": [
            "\r 23%|██▎       | 46/200 [04:04<13:41,  5.33s/it]"
          ]
        },
        {
          "output_type": "stream",
          "name": "stdout",
          "text": [
            "test loss: 7.149422711513478e-05\n",
            "train loss: 6.942014883970842e-05\n"
          ]
        },
        {
          "output_type": "stream",
          "name": "stderr",
          "text": [
            "\r 24%|██▎       | 47/200 [04:10<13:31,  5.30s/it]"
          ]
        },
        {
          "output_type": "stream",
          "name": "stdout",
          "text": [
            "test loss: 7.003542985551405e-05\n",
            "train loss: 6.718747394770616e-05\n"
          ]
        },
        {
          "output_type": "stream",
          "name": "stderr",
          "text": [
            "\r 24%|██▍       | 48/200 [04:16<13:59,  5.53s/it]"
          ]
        },
        {
          "output_type": "stream",
          "name": "stdout",
          "text": [
            "test loss: 6.720103313370918e-05\n",
            "train loss: 6.495518035953864e-05\n"
          ]
        },
        {
          "output_type": "stream",
          "name": "stderr",
          "text": [
            "\r 24%|██▍       | 49/200 [04:21<13:46,  5.47s/it]"
          ]
        },
        {
          "output_type": "stream",
          "name": "stdout",
          "text": [
            "test loss: 6.518374897722607e-05\n",
            "train loss: 6.288152671040734e-05\n"
          ]
        },
        {
          "output_type": "stream",
          "name": "stderr",
          "text": [
            "\r 25%|██▌       | 50/200 [04:29<15:23,  6.16s/it]"
          ]
        },
        {
          "output_type": "stream",
          "name": "stdout",
          "text": [
            "test loss: 6.326976943647298e-05\n",
            "train loss: 6.085375559196109e-05\n"
          ]
        },
        {
          "output_type": "stream",
          "name": "stderr",
          "text": [
            "\r 26%|██▌       | 51/200 [04:34<14:17,  5.76s/it]"
          ]
        },
        {
          "output_type": "stream",
          "name": "stdout",
          "text": [
            "test loss: 6.080724861690055e-05\n",
            "train loss: 5.924928665917832e-05\n"
          ]
        },
        {
          "output_type": "stream",
          "name": "stderr",
          "text": [
            "\r 26%|██▌       | 52/200 [04:38<13:30,  5.48s/it]"
          ]
        },
        {
          "output_type": "stream",
          "name": "stdout",
          "text": [
            "test loss: 5.933233888861842e-05\n",
            "train loss: 5.771280846674927e-05\n"
          ]
        },
        {
          "output_type": "stream",
          "name": "stderr",
          "text": [
            "\r 26%|██▋       | 53/200 [04:45<14:06,  5.76s/it]"
          ]
        },
        {
          "output_type": "stream",
          "name": "stdout",
          "text": [
            "test loss: 5.8473455695706546e-05\n",
            "train loss: 5.628727307484951e-05\n"
          ]
        },
        {
          "output_type": "stream",
          "name": "stderr",
          "text": [
            "\r 27%|██▋       | 54/200 [04:50<13:20,  5.48s/it]"
          ]
        },
        {
          "output_type": "stream",
          "name": "stdout",
          "text": [
            "test loss: 5.6262026180066135e-05\n",
            "train loss: 5.473855540913064e-05\n"
          ]
        },
        {
          "output_type": "stream",
          "name": "stderr",
          "text": [
            "\r 28%|██▊       | 55/200 [04:55<13:20,  5.52s/it]"
          ]
        },
        {
          "output_type": "stream",
          "name": "stdout",
          "text": [
            "test loss: 5.4935106860987766e-05\n",
            "train loss: 5.335250816133339e-05\n"
          ]
        },
        {
          "output_type": "stream",
          "name": "stderr",
          "text": [
            "\r 28%|██▊       | 56/200 [05:01<13:20,  5.56s/it]"
          ]
        },
        {
          "output_type": "stream",
          "name": "stdout",
          "text": [
            "test loss: 5.4233547846564264e-05\n",
            "train loss: 5.1898014443577265e-05\n"
          ]
        },
        {
          "output_type": "stream",
          "name": "stderr",
          "text": [
            "\r 28%|██▊       | 57/200 [05:06<12:42,  5.33s/it]"
          ]
        },
        {
          "output_type": "stream",
          "name": "stdout",
          "text": [
            "test loss: 5.173761570758667e-05\n",
            "train loss: 5.0489618245046585e-05\n"
          ]
        },
        {
          "output_type": "stream",
          "name": "stderr",
          "text": [
            "\r 29%|██▉       | 58/200 [05:12<13:21,  5.65s/it]"
          ]
        },
        {
          "output_type": "stream",
          "name": "stdout",
          "text": [
            "test loss: 5.0361470461409455e-05\n",
            "train loss: 4.915447586827213e-05\n"
          ]
        },
        {
          "output_type": "stream",
          "name": "stderr",
          "text": [
            "\r 30%|██▉       | 59/200 [05:17<12:40,  5.39s/it]"
          ]
        },
        {
          "output_type": "stream",
          "name": "stdout",
          "text": [
            "test loss: 4.885179046591664e-05\n",
            "train loss: 4.792415199917741e-05\n"
          ]
        },
        {
          "output_type": "stream",
          "name": "stderr",
          "text": [
            "\r 30%|███       | 60/200 [05:22<12:11,  5.23s/it]"
          ]
        },
        {
          "output_type": "stream",
          "name": "stdout",
          "text": [
            "test loss: 4.802549677532198e-05\n",
            "train loss: 4.672523407789413e-05\n"
          ]
        },
        {
          "output_type": "stream",
          "name": "stderr",
          "text": [
            "\r 30%|███       | 61/200 [05:28<12:56,  5.58s/it]"
          ]
        },
        {
          "output_type": "stream",
          "name": "stdout",
          "text": [
            "test loss: 4.711152179223023e-05\n",
            "train loss: 4.578066243266221e-05\n"
          ]
        },
        {
          "output_type": "stream",
          "name": "stderr",
          "text": [
            "\r 31%|███       | 62/200 [05:33<12:20,  5.36s/it]"
          ]
        },
        {
          "output_type": "stream",
          "name": "stdout",
          "text": [
            "test loss: 4.594292902521947e-05\n",
            "train loss: 4.4930383979226465e-05\n"
          ]
        },
        {
          "output_type": "stream",
          "name": "stderr",
          "text": [
            "\r 32%|███▏      | 63/200 [05:39<12:26,  5.45s/it]"
          ]
        },
        {
          "output_type": "stream",
          "name": "stdout",
          "text": [
            "test loss: 4.483047283405941e-05\n",
            "train loss: 4.392035498021869e-05\n"
          ]
        },
        {
          "output_type": "stream",
          "name": "stderr",
          "text": [
            "\r 32%|███▏      | 64/200 [05:44<12:28,  5.50s/it]"
          ]
        },
        {
          "output_type": "stream",
          "name": "stdout",
          "text": [
            "test loss: 4.419668698792172e-05\n",
            "train loss: 4.300655246915994e-05\n"
          ]
        },
        {
          "output_type": "stream",
          "name": "stderr",
          "text": [
            "\r 32%|███▎      | 65/200 [05:49<11:54,  5.29s/it]"
          ]
        },
        {
          "output_type": "stream",
          "name": "stdout",
          "text": [
            "test loss: 4.36725238573919e-05\n",
            "train loss: 4.215963815804571e-05\n"
          ]
        },
        {
          "output_type": "stream",
          "name": "stderr",
          "text": [
            "\r 33%|███▎      | 66/200 [05:56<12:39,  5.67s/it]"
          ]
        },
        {
          "output_type": "stream",
          "name": "stdout",
          "text": [
            "test loss: 4.2114075884269846e-05\n",
            "train loss: 4.135167247441132e-05\n"
          ]
        },
        {
          "output_type": "stream",
          "name": "stderr",
          "text": [
            "\r 34%|███▎      | 67/200 [06:00<12:01,  5.43s/it]"
          ]
        },
        {
          "output_type": "stream",
          "name": "stdout",
          "text": [
            "test loss: 4.128216511371676e-05\n",
            "train loss: 4.046901281981263e-05\n"
          ]
        },
        {
          "output_type": "stream",
          "name": "stderr",
          "text": [
            "\r 34%|███▍      | 68/200 [06:05<11:32,  5.24s/it]"
          ]
        },
        {
          "output_type": "stream",
          "name": "stdout",
          "text": [
            "test loss: 4.036003704237292e-05\n",
            "train loss: 3.9644462236901745e-05\n"
          ]
        },
        {
          "output_type": "stream",
          "name": "stderr",
          "text": [
            "\r 34%|███▍      | 69/200 [06:12<12:14,  5.60s/it]"
          ]
        },
        {
          "output_type": "stream",
          "name": "stdout",
          "text": [
            "test loss: 3.9655274369184096e-05\n",
            "train loss: 3.8845891157689036e-05\n"
          ]
        },
        {
          "output_type": "stream",
          "name": "stderr",
          "text": [
            "\r 35%|███▌      | 70/200 [06:17<11:41,  5.39s/it]"
          ]
        },
        {
          "output_type": "stream",
          "name": "stdout",
          "text": [
            "test loss: 3.8817369644989454e-05\n",
            "train loss: 3.8030786847230045e-05\n"
          ]
        },
        {
          "output_type": "stream",
          "name": "stderr",
          "text": [
            "\r 36%|███▌      | 71/200 [06:23<12:05,  5.62s/it]"
          ]
        },
        {
          "output_type": "stream",
          "name": "stdout",
          "text": [
            "test loss: 3.8170205102731344e-05\n",
            "train loss: 3.7404488948959625e-05\n"
          ]
        },
        {
          "output_type": "stream",
          "name": "stderr",
          "text": [
            "\r 36%|███▌      | 72/200 [06:28<11:49,  5.55s/it]"
          ]
        },
        {
          "output_type": "stream",
          "name": "stdout",
          "text": [
            "test loss: 3.7688148520061574e-05\n",
            "train loss: 3.682739530340768e-05\n"
          ]
        },
        {
          "output_type": "stream",
          "name": "stderr",
          "text": [
            "\r 36%|███▋      | 73/200 [06:33<11:15,  5.32s/it]"
          ]
        },
        {
          "output_type": "stream",
          "name": "stdout",
          "text": [
            "test loss: 3.7042906109136516e-05\n",
            "train loss: 3.6195450465311294e-05\n"
          ]
        },
        {
          "output_type": "stream",
          "name": "stderr",
          "text": [
            "\r 37%|███▋      | 74/200 [06:39<11:52,  5.66s/it]"
          ]
        },
        {
          "output_type": "stream",
          "name": "stdout",
          "text": [
            "test loss: 3.618114175323878e-05\n",
            "train loss: 3.552816444280324e-05\n"
          ]
        },
        {
          "output_type": "stream",
          "name": "stderr",
          "text": [
            "\r 38%|███▊      | 75/200 [06:44<11:14,  5.40s/it]"
          ]
        },
        {
          "output_type": "stream",
          "name": "stdout",
          "text": [
            "test loss: 3.558104180673416e-05\n",
            "train loss: 3.50094424400595e-05\n"
          ]
        },
        {
          "output_type": "stream",
          "name": "stderr",
          "text": [
            "\r 38%|███▊      | 76/200 [06:49<10:53,  5.27s/it]"
          ]
        },
        {
          "output_type": "stream",
          "name": "stdout",
          "text": [
            "test loss: 3.5231343284825806e-05\n",
            "train loss: 3.4427240345394236e-05\n"
          ]
        },
        {
          "output_type": "stream",
          "name": "stderr",
          "text": [
            "\r 38%|███▊      | 77/200 [06:55<11:26,  5.58s/it]"
          ]
        },
        {
          "output_type": "stream",
          "name": "stdout",
          "text": [
            "test loss: 3.4555379444643624e-05\n",
            "train loss: 3.3860078862926454e-05\n"
          ]
        },
        {
          "output_type": "stream",
          "name": "stderr",
          "text": [
            "\r 39%|███▉      | 78/200 [07:00<10:53,  5.36s/it]"
          ]
        },
        {
          "output_type": "stream",
          "name": "stdout",
          "text": [
            "test loss: 3.388887651122589e-05\n",
            "train loss: 3.32677806931315e-05\n"
          ]
        },
        {
          "output_type": "stream",
          "name": "stderr",
          "text": [
            "\r 40%|███▉      | 79/200 [07:06<11:07,  5.51s/it]"
          ]
        },
        {
          "output_type": "stream",
          "name": "stdout",
          "text": [
            "test loss: 3.381677902979254e-05\n",
            "train loss: 3.2730811409419404e-05\n"
          ]
        },
        {
          "output_type": "stream",
          "name": "stderr",
          "text": [
            "\r 40%|████      | 80/200 [07:11<10:54,  5.46s/it]"
          ]
        },
        {
          "output_type": "stream",
          "name": "stdout",
          "text": [
            "test loss: 3.270425479796815e-05\n",
            "train loss: 3.223635641625151e-05\n"
          ]
        },
        {
          "output_type": "stream",
          "name": "stderr",
          "text": [
            "\r 40%|████      | 81/200 [07:16<10:25,  5.26s/it]"
          ]
        },
        {
          "output_type": "stream",
          "name": "stdout",
          "text": [
            "test loss: 3.25213384178042e-05\n",
            "train loss: 3.182168399580405e-05\n"
          ]
        },
        {
          "output_type": "stream",
          "name": "stderr",
          "text": [
            "\r 41%|████      | 82/200 [07:23<11:01,  5.60s/it]"
          ]
        },
        {
          "output_type": "stream",
          "name": "stdout",
          "text": [
            "test loss: 3.204603437418914e-05\n",
            "train loss: 3.137417093894328e-05\n"
          ]
        },
        {
          "output_type": "stream",
          "name": "stderr",
          "text": [
            "\r 42%|████▏     | 83/200 [07:28<10:29,  5.38s/it]"
          ]
        },
        {
          "output_type": "stream",
          "name": "stdout",
          "text": [
            "test loss: 3.192509357525875e-05\n",
            "train loss: 3.096067916631e-05\n"
          ]
        },
        {
          "output_type": "stream",
          "name": "stderr",
          "text": [
            "\r 42%|████▏     | 84/200 [07:32<10:06,  5.23s/it]"
          ]
        },
        {
          "output_type": "stream",
          "name": "stdout",
          "text": [
            "test loss: 3.099682927392007e-05\n",
            "train loss: 3.053273281257134e-05\n"
          ]
        },
        {
          "output_type": "stream",
          "name": "stderr",
          "text": [
            "\r 42%|████▎     | 85/200 [07:39<10:38,  5.55s/it]"
          ]
        },
        {
          "output_type": "stream",
          "name": "stdout",
          "text": [
            "test loss: 3.056169932857104e-05\n",
            "train loss: 3.01622184124426e-05\n"
          ]
        },
        {
          "output_type": "stream",
          "name": "stderr",
          "text": [
            "\r 43%|████▎     | 86/200 [07:44<10:08,  5.34s/it]"
          ]
        },
        {
          "output_type": "stream",
          "name": "stdout",
          "text": [
            "test loss: 3.0319692990460882e-05\n",
            "train loss: 2.9775201794109307e-05\n"
          ]
        },
        {
          "output_type": "stream",
          "name": "stderr",
          "text": [
            "\r 44%|████▎     | 87/200 [07:49<10:16,  5.46s/it]"
          ]
        },
        {
          "output_type": "stream",
          "name": "stdout",
          "text": [
            "test loss: 2.9830645287645418e-05\n",
            "train loss: 2.9373290431249188e-05\n"
          ]
        },
        {
          "output_type": "stream",
          "name": "stderr",
          "text": [
            "\r 44%|████▍     | 88/200 [07:55<10:11,  5.46s/it]"
          ]
        },
        {
          "output_type": "stream",
          "name": "stdout",
          "text": [
            "test loss: 2.9596399136076193e-05\n",
            "train loss: 2.9005485834932188e-05\n"
          ]
        },
        {
          "output_type": "stream",
          "name": "stderr",
          "text": [
            "\r 44%|████▍     | 89/200 [08:00<09:51,  5.33s/it]"
          ]
        },
        {
          "output_type": "stream",
          "name": "stdout",
          "text": [
            "test loss: 2.8984871772200668e-05\n",
            "train loss: 2.862517007306451e-05\n"
          ]
        },
        {
          "output_type": "stream",
          "name": "stderr",
          "text": [
            "\r 45%|████▌     | 90/200 [08:06<10:21,  5.65s/it]"
          ]
        },
        {
          "output_type": "stream",
          "name": "stdout",
          "text": [
            "test loss: 2.8679763203945766e-05\n",
            "train loss: 2.8212449328566437e-05\n"
          ]
        },
        {
          "output_type": "stream",
          "name": "stderr",
          "text": [
            "\r 46%|████▌     | 91/200 [08:11<09:48,  5.40s/it]"
          ]
        },
        {
          "output_type": "stream",
          "name": "stdout",
          "text": [
            "test loss: 2.8590691886819378e-05\n",
            "train loss: 2.7940780107019235e-05\n"
          ]
        },
        {
          "output_type": "stream",
          "name": "stderr",
          "text": [
            "\r 46%|████▌     | 92/200 [08:16<09:31,  5.29s/it]"
          ]
        },
        {
          "output_type": "stream",
          "name": "stdout",
          "text": [
            "test loss: 2.8143187830192648e-05\n",
            "train loss: 2.7664838617783972e-05\n"
          ]
        },
        {
          "output_type": "stream",
          "name": "stderr",
          "text": [
            "\r 46%|████▋     | 93/200 [08:22<09:54,  5.56s/it]"
          ]
        },
        {
          "output_type": "stream",
          "name": "stdout",
          "text": [
            "test loss: 2.7946814830843047e-05\n",
            "train loss: 2.7354663273581535e-05\n"
          ]
        },
        {
          "output_type": "stream",
          "name": "stderr",
          "text": [
            "\r 47%|████▋     | 94/200 [08:27<09:26,  5.35s/it]"
          ]
        },
        {
          "output_type": "stream",
          "name": "stdout",
          "text": [
            "test loss: 2.735879944795304e-05\n",
            "train loss: 2.7065234285691985e-05\n"
          ]
        },
        {
          "output_type": "stream",
          "name": "stderr",
          "text": [
            "\r 48%|████▊     | 95/200 [08:33<09:39,  5.52s/it]"
          ]
        },
        {
          "output_type": "stream",
          "name": "stdout",
          "text": [
            "test loss: 2.7128297741279956e-05\n",
            "train loss: 2.679876725160284e-05\n"
          ]
        },
        {
          "output_type": "stream",
          "name": "stderr",
          "text": [
            "\r 48%|████▊     | 96/200 [08:38<09:27,  5.46s/it]"
          ]
        },
        {
          "output_type": "stream",
          "name": "stdout",
          "text": [
            "test loss: 2.683982738773874e-05\n",
            "train loss: 2.6502694685041206e-05\n"
          ]
        },
        {
          "output_type": "stream",
          "name": "stderr",
          "text": [
            "\r 48%|████▊     | 97/200 [08:43<09:02,  5.26s/it]"
          ]
        },
        {
          "output_type": "stream",
          "name": "stdout",
          "text": [
            "test loss: 2.6759477000283347e-05\n",
            "train loss: 2.625062856604927e-05\n"
          ]
        },
        {
          "output_type": "stream",
          "name": "stderr",
          "text": [
            "\r 49%|████▉     | 98/200 [08:49<09:29,  5.58s/it]"
          ]
        },
        {
          "output_type": "stream",
          "name": "stdout",
          "text": [
            "test loss: 2.6359192641672697e-05\n",
            "train loss: 2.599409385002218e-05\n"
          ]
        },
        {
          "output_type": "stream",
          "name": "stderr",
          "text": [
            "\r 50%|████▉     | 99/200 [08:54<08:58,  5.33s/it]"
          ]
        },
        {
          "output_type": "stream",
          "name": "stdout",
          "text": [
            "test loss: 2.600921876079975e-05\n",
            "train loss: 2.571348332130583e-05\n"
          ]
        },
        {
          "output_type": "stream",
          "name": "stderr",
          "text": [
            "\r 50%|█████     | 100/200 [08:59<08:36,  5.17s/it]"
          ]
        },
        {
          "output_type": "stream",
          "name": "stdout",
          "text": [
            "test loss: 2.5843514922366383e-05\n",
            "train loss: 2.5455490223976084e-05\n"
          ]
        },
        {
          "output_type": "stream",
          "name": "stderr",
          "text": [
            "\r 50%|█████     | 101/200 [09:05<09:07,  5.53s/it]"
          ]
        },
        {
          "output_type": "stream",
          "name": "stdout",
          "text": [
            "test loss: 2.5530047839191875e-05\n",
            "train loss: 2.5216658577119235e-05\n"
          ]
        },
        {
          "output_type": "stream",
          "name": "stderr",
          "text": [
            "\r 51%|█████     | 102/200 [09:10<08:39,  5.30s/it]"
          ]
        },
        {
          "output_type": "stream",
          "name": "stdout",
          "text": [
            "test loss: 2.533796970047129e-05\n",
            "train loss: 2.503194352320861e-05\n"
          ]
        },
        {
          "output_type": "stream",
          "name": "stderr",
          "text": [
            "\r 52%|█████▏    | 103/200 [09:16<08:40,  5.36s/it]"
          ]
        },
        {
          "output_type": "stream",
          "name": "stdout",
          "text": [
            "test loss: 2.5037603045812994e-05\n",
            "train loss: 2.4831629870459436e-05\n"
          ]
        },
        {
          "output_type": "stream",
          "name": "stderr",
          "text": [
            "\r 52%|█████▏    | 104/200 [09:21<08:45,  5.48s/it]"
          ]
        },
        {
          "output_type": "stream",
          "name": "stdout",
          "text": [
            "test loss: 2.5019750010599523e-05\n",
            "train loss: 2.463529743399704e-05\n"
          ]
        },
        {
          "output_type": "stream",
          "name": "stderr",
          "text": [
            "\r 52%|█████▎    | 105/200 [09:26<08:21,  5.28s/it]"
          ]
        },
        {
          "output_type": "stream",
          "name": "stdout",
          "text": [
            "test loss: 2.48263736190425e-05\n",
            "train loss: 2.442744815343758e-05\n"
          ]
        },
        {
          "output_type": "stream",
          "name": "stderr",
          "text": [
            "\r 53%|█████▎    | 106/200 [09:33<08:48,  5.62s/it]"
          ]
        },
        {
          "output_type": "stream",
          "name": "stdout",
          "text": [
            "test loss: 2.4518141320043878e-05\n",
            "train loss: 2.4208177984837676e-05\n"
          ]
        },
        {
          "output_type": "stream",
          "name": "stderr",
          "text": [
            "\r 54%|█████▎    | 107/200 [09:37<08:21,  5.39s/it]"
          ]
        },
        {
          "output_type": "stream",
          "name": "stdout",
          "text": [
            "test loss: 2.4303477818529254e-05\n",
            "train loss: 2.4012664198380662e-05\n"
          ]
        },
        {
          "output_type": "stream",
          "name": "stderr",
          "text": [
            "\r 54%|█████▍    | 108/200 [09:42<07:57,  5.19s/it]"
          ]
        },
        {
          "output_type": "stream",
          "name": "stdout",
          "text": [
            "test loss: 2.4026328860847174e-05\n",
            "train loss: 2.38344964600401e-05\n"
          ]
        },
        {
          "output_type": "stream",
          "name": "stderr",
          "text": [
            "\r 55%|█████▍    | 109/200 [09:49<08:24,  5.55s/it]"
          ]
        },
        {
          "output_type": "stream",
          "name": "stdout",
          "text": [
            "test loss: 2.3875788519073042e-05\n",
            "train loss: 2.3625887752859853e-05\n"
          ]
        },
        {
          "output_type": "stream",
          "name": "stderr",
          "text": [
            "\r 55%|█████▌    | 110/200 [09:53<07:57,  5.31s/it]"
          ]
        },
        {
          "output_type": "stream",
          "name": "stdout",
          "text": [
            "test loss: 2.364915874927545e-05\n",
            "train loss: 2.3437999168527314e-05\n"
          ]
        },
        {
          "output_type": "stream",
          "name": "stderr",
          "text": [
            "\r 56%|█████▌    | 111/200 [09:59<08:01,  5.41s/it]"
          ]
        },
        {
          "output_type": "stream",
          "name": "stdout",
          "text": [
            "test loss: 2.3484649890990995e-05\n",
            "train loss: 2.3244610502297292e-05\n"
          ]
        },
        {
          "output_type": "stream",
          "name": "stderr",
          "text": [
            "\r 56%|█████▌    | 112/200 [10:05<08:02,  5.48s/it]"
          ]
        },
        {
          "output_type": "stream",
          "name": "stdout",
          "text": [
            "test loss: 2.354061362507382e-05\n",
            "train loss: 2.3123176569060888e-05\n"
          ]
        },
        {
          "output_type": "stream",
          "name": "stderr",
          "text": [
            "\r 56%|█████▋    | 113/200 [10:09<07:38,  5.27s/it]"
          ]
        },
        {
          "output_type": "stream",
          "name": "stdout",
          "text": [
            "test loss: 2.3226312296987608e-05\n",
            "train loss: 2.295695268767304e-05\n"
          ]
        },
        {
          "output_type": "stream",
          "name": "stderr",
          "text": [
            "\r 57%|█████▋    | 114/200 [10:16<08:00,  5.59s/it]"
          ]
        },
        {
          "output_type": "stream",
          "name": "stdout",
          "text": [
            "test loss: 2.305248889084809e-05\n",
            "train loss: 2.2792426645901288e-05\n"
          ]
        },
        {
          "output_type": "stream",
          "name": "stderr",
          "text": [
            "\r 57%|█████▊    | 115/200 [10:21<07:35,  5.36s/it]"
          ]
        },
        {
          "output_type": "stream",
          "name": "stdout",
          "text": [
            "test loss: 2.3033278261901054e-05\n",
            "train loss: 2.2654864194919354e-05\n"
          ]
        },
        {
          "output_type": "stream",
          "name": "stderr",
          "text": [
            "\r 58%|█████▊    | 116/200 [10:25<07:15,  5.18s/it]"
          ]
        },
        {
          "output_type": "stream",
          "name": "stdout",
          "text": [
            "test loss: 2.2684571615155466e-05\n",
            "train loss: 2.250504903495312e-05\n"
          ]
        },
        {
          "output_type": "stream",
          "name": "stderr",
          "text": [
            "\r 58%|█████▊    | 117/200 [10:32<07:39,  5.54s/it]"
          ]
        },
        {
          "output_type": "stream",
          "name": "stdout",
          "text": [
            "test loss: 2.25333014460163e-05\n",
            "train loss: 2.2346001345431432e-05\n"
          ]
        },
        {
          "output_type": "stream",
          "name": "stderr",
          "text": [
            "\r 59%|█████▉    | 118/200 [10:36<07:16,  5.32s/it]"
          ]
        },
        {
          "output_type": "stream",
          "name": "stdout",
          "text": [
            "test loss: 2.2485713361965726e-05\n",
            "train loss: 2.2199592136894353e-05\n"
          ]
        },
        {
          "output_type": "stream",
          "name": "stderr",
          "text": [
            "\r 60%|█████▉    | 119/200 [10:42<07:10,  5.31s/it]"
          ]
        },
        {
          "output_type": "stream",
          "name": "stdout",
          "text": [
            "test loss: 2.252809372584569e-05\n",
            "train loss: 2.2060383062489564e-05\n"
          ]
        },
        {
          "output_type": "stream",
          "name": "stderr",
          "text": [
            "\r 60%|██████    | 120/200 [10:48<07:18,  5.48s/it]"
          ]
        },
        {
          "output_type": "stream",
          "name": "stdout",
          "text": [
            "test loss: 2.2194441325977236e-05\n",
            "train loss: 2.1909326288005105e-05\n"
          ]
        },
        {
          "output_type": "stream",
          "name": "stderr",
          "text": [
            "\r 60%|██████    | 121/200 [10:52<06:56,  5.27s/it]"
          ]
        },
        {
          "output_type": "stream",
          "name": "stdout",
          "text": [
            "test loss: 2.1982763532847435e-05\n",
            "train loss: 2.1799922620266443e-05\n"
          ]
        },
        {
          "output_type": "stream",
          "name": "stderr",
          "text": [
            "\r 61%|██████    | 122/200 [10:59<07:11,  5.53s/it]"
          ]
        },
        {
          "output_type": "stream",
          "name": "stdout",
          "text": [
            "test loss: 2.19455217123318e-05\n",
            "train loss: 2.168051996413851e-05\n"
          ]
        },
        {
          "output_type": "stream",
          "name": "stderr",
          "text": [
            "\r 62%|██████▏   | 123/200 [11:04<06:57,  5.42s/it]"
          ]
        },
        {
          "output_type": "stream",
          "name": "stdout",
          "text": [
            "test loss: 2.1778896268097886e-05\n",
            "train loss: 2.15670695361041e-05\n"
          ]
        },
        {
          "output_type": "stream",
          "name": "stderr",
          "text": [
            "\r 62%|██████▏   | 124/200 [11:09<06:38,  5.24s/it]"
          ]
        },
        {
          "output_type": "stream",
          "name": "stdout",
          "text": [
            "test loss: 2.1669918172115e-05\n",
            "train loss: 2.14477926499967e-05\n"
          ]
        },
        {
          "output_type": "stream",
          "name": "stderr",
          "text": [
            "\r 62%|██████▎   | 125/200 [11:15<06:57,  5.57s/it]"
          ]
        },
        {
          "output_type": "stream",
          "name": "stdout",
          "text": [
            "test loss: 2.154532852112137e-05\n",
            "train loss: 2.1343739298754372e-05\n"
          ]
        },
        {
          "output_type": "stream",
          "name": "stderr",
          "text": [
            "\r 63%|██████▎   | 126/200 [11:20<06:34,  5.33s/it]"
          ]
        },
        {
          "output_type": "stream",
          "name": "stdout",
          "text": [
            "test loss: 2.1377748723466177e-05\n",
            "train loss: 2.1233336259319913e-05\n"
          ]
        },
        {
          "output_type": "stream",
          "name": "stderr",
          "text": [
            "\r 64%|██████▎   | 127/200 [11:25<06:24,  5.27s/it]"
          ]
        },
        {
          "output_type": "stream",
          "name": "stdout",
          "text": [
            "test loss: 2.1315991667948423e-05\n",
            "train loss: 2.112235788590624e-05\n"
          ]
        },
        {
          "output_type": "stream",
          "name": "stderr",
          "text": [
            "\r 64%|██████▍   | 128/200 [11:31<06:35,  5.49s/it]"
          ]
        },
        {
          "output_type": "stream",
          "name": "stdout",
          "text": [
            "test loss: 2.1139094407987086e-05\n",
            "train loss: 2.1009365624922792e-05\n"
          ]
        },
        {
          "output_type": "stream",
          "name": "stderr",
          "text": [
            "\r 64%|██████▍   | 129/200 [11:36<06:13,  5.27s/it]"
          ]
        },
        {
          "output_type": "stream",
          "name": "stdout",
          "text": [
            "test loss: 2.1049807374989548e-05\n",
            "train loss: 2.0894648801913717e-05\n"
          ]
        },
        {
          "output_type": "stream",
          "name": "stderr",
          "text": [
            "\r 65%|██████▌   | 130/200 [11:41<06:23,  5.48s/it]"
          ]
        },
        {
          "output_type": "stream",
          "name": "stdout",
          "text": [
            "test loss: 2.0960304326830266e-05\n",
            "train loss: 2.0791004149214133e-05\n"
          ]
        },
        {
          "output_type": "stream",
          "name": "stderr",
          "text": [
            "\r 66%|██████▌   | 131/200 [11:47<06:11,  5.38s/it]"
          ]
        },
        {
          "output_type": "stream",
          "name": "stdout",
          "text": [
            "test loss: 2.084661187523081e-05\n",
            "train loss: 2.0708300292608327e-05\n"
          ]
        },
        {
          "output_type": "stream",
          "name": "stderr",
          "text": [
            "\r 66%|██████▌   | 132/200 [11:51<05:52,  5.19s/it]"
          ]
        },
        {
          "output_type": "stream",
          "name": "stdout",
          "text": [
            "test loss: 2.074351609749987e-05\n",
            "train loss: 2.061247230885783e-05\n"
          ]
        },
        {
          "output_type": "stream",
          "name": "stderr",
          "text": [
            "\r 66%|██████▋   | 133/200 [11:58<06:11,  5.54s/it]"
          ]
        },
        {
          "output_type": "stream",
          "name": "stdout",
          "text": [
            "test loss: 2.0695062964852822e-05\n",
            "train loss: 2.0530011576920515e-05\n"
          ]
        },
        {
          "output_type": "stream",
          "name": "stderr",
          "text": [
            "\r 67%|██████▋   | 134/200 [12:02<05:49,  5.30s/it]"
          ]
        },
        {
          "output_type": "stream",
          "name": "stdout",
          "text": [
            "test loss: 2.0567940740142955e-05\n",
            "train loss: 2.04332087210787e-05\n"
          ]
        },
        {
          "output_type": "stream",
          "name": "stderr",
          "text": [
            "\r 68%|██████▊   | 135/200 [12:07<05:37,  5.19s/it]"
          ]
        },
        {
          "output_type": "stream",
          "name": "stdout",
          "text": [
            "test loss: 2.0502280217631476e-05\n",
            "train loss: 2.0357971309567802e-05\n"
          ]
        },
        {
          "output_type": "stream",
          "name": "stderr",
          "text": [
            "\r 68%|██████▊   | 136/200 [12:14<05:51,  5.49s/it]"
          ]
        },
        {
          "output_type": "stream",
          "name": "stdout",
          "text": [
            "test loss: 2.0473896773810425e-05\n",
            "train loss: 2.0272368852602086e-05\n"
          ]
        },
        {
          "output_type": "stream",
          "name": "stderr",
          "text": [
            "\r 68%|██████▊   | 137/200 [12:18<05:31,  5.27s/it]"
          ]
        },
        {
          "output_type": "stream",
          "name": "stdout",
          "text": [
            "test loss: 2.03546186793873e-05\n",
            "train loss: 2.0192779610806612e-05\n"
          ]
        },
        {
          "output_type": "stream",
          "name": "stderr",
          "text": [
            "\r 69%|██████▉   | 138/200 [12:24<05:37,  5.44s/it]"
          ]
        },
        {
          "output_type": "stream",
          "name": "stdout",
          "text": [
            "test loss: 2.0228120815525868e-05\n",
            "train loss: 2.0101126335794107e-05\n"
          ]
        },
        {
          "output_type": "stream",
          "name": "stderr",
          "text": [
            "\r 70%|██████▉   | 139/200 [12:30<05:32,  5.45s/it]"
          ]
        },
        {
          "output_type": "stream",
          "name": "stdout",
          "text": [
            "test loss: 2.0167858914088885e-05\n",
            "train loss: 2.0019803124159806e-05\n"
          ]
        },
        {
          "output_type": "stream",
          "name": "stderr",
          "text": [
            "\r 70%|███████   | 140/200 [12:34<05:15,  5.26s/it]"
          ]
        },
        {
          "output_type": "stream",
          "name": "stdout",
          "text": [
            "test loss: 2.0047231205077412e-05\n",
            "train loss: 1.9936693819181527e-05\n"
          ]
        },
        {
          "output_type": "stream",
          "name": "stderr",
          "text": [
            "\r 70%|███████   | 141/200 [12:41<05:30,  5.60s/it]"
          ]
        },
        {
          "output_type": "stream",
          "name": "stdout",
          "text": [
            "test loss: 2.0060610185959747e-05\n",
            "train loss: 1.9871969675295988e-05\n"
          ]
        },
        {
          "output_type": "stream",
          "name": "stderr",
          "text": [
            "\r 71%|███████   | 142/200 [12:46<05:10,  5.35s/it]"
          ]
        },
        {
          "output_type": "stream",
          "name": "stdout",
          "text": [
            "test loss: 1.9906380994695637e-05\n",
            "train loss: 1.9800063589354977e-05\n"
          ]
        },
        {
          "output_type": "stream",
          "name": "stderr",
          "text": [
            "\r 72%|███████▏  | 143/200 [12:51<04:56,  5.20s/it]"
          ]
        },
        {
          "output_type": "stream",
          "name": "stdout",
          "text": [
            "test loss: 1.990764107200047e-05\n",
            "train loss: 1.9744708463986172e-05\n"
          ]
        },
        {
          "output_type": "stream",
          "name": "stderr",
          "text": [
            "\r 72%|███████▏  | 144/200 [12:57<05:10,  5.55s/it]"
          ]
        },
        {
          "output_type": "stream",
          "name": "stdout",
          "text": [
            "test loss: 1.9874345034680934e-05\n",
            "train loss: 1.9674170301732374e-05\n"
          ]
        },
        {
          "output_type": "stream",
          "name": "stderr",
          "text": [
            "\r 72%|███████▎  | 145/200 [13:02<04:52,  5.32s/it]"
          ]
        },
        {
          "output_type": "stream",
          "name": "stdout",
          "text": [
            "test loss: 1.975610091950437e-05\n",
            "train loss: 1.9603422333602794e-05\n"
          ]
        },
        {
          "output_type": "stream",
          "name": "stderr",
          "text": [
            "\r 73%|███████▎  | 146/200 [13:07<04:52,  5.42s/it]"
          ]
        },
        {
          "output_type": "stream",
          "name": "stdout",
          "text": [
            "test loss: 1.9734012254141123e-05\n",
            "train loss: 1.954037986070034e-05\n"
          ]
        },
        {
          "output_type": "stream",
          "name": "stderr",
          "text": [
            "\r 74%|███████▎  | 147/200 [13:13<04:48,  5.45s/it]"
          ]
        },
        {
          "output_type": "stream",
          "name": "stdout",
          "text": [
            "test loss: 1.960783639789586e-05\n",
            "train loss: 1.9481569619529183e-05\n"
          ]
        },
        {
          "output_type": "stream",
          "name": "stderr",
          "text": [
            "\r 74%|███████▍  | 148/200 [13:18<04:32,  5.23s/it]"
          ]
        },
        {
          "output_type": "stream",
          "name": "stdout",
          "text": [
            "test loss: 1.9534388999677837e-05\n",
            "train loss: 1.9424346290179527e-05\n"
          ]
        },
        {
          "output_type": "stream",
          "name": "stderr",
          "text": [
            "\r 74%|███████▍  | 149/200 [13:24<04:43,  5.57s/it]"
          ]
        },
        {
          "output_type": "stream",
          "name": "stdout",
          "text": [
            "test loss: 1.9488452290678167e-05\n",
            "train loss: 1.9347236578323646e-05\n"
          ]
        },
        {
          "output_type": "stream",
          "name": "stderr",
          "text": [
            "\r 75%|███████▌  | 150/200 [13:29<04:26,  5.33s/it]"
          ]
        },
        {
          "output_type": "stream",
          "name": "stdout",
          "text": [
            "test loss: 1.9392504565967858e-05\n",
            "train loss: 1.9287986798008206e-05\n"
          ]
        },
        {
          "output_type": "stream",
          "name": "stderr",
          "text": [
            "\r 76%|███████▌  | 151/200 [13:33<04:12,  5.15s/it]"
          ]
        },
        {
          "output_type": "stream",
          "name": "stdout",
          "text": [
            "test loss: 1.9350579914142422e-05\n",
            "train loss: 1.9232282669690902e-05\n"
          ]
        },
        {
          "output_type": "stream",
          "name": "stderr",
          "text": [
            "\r 76%|███████▌  | 152/200 [13:40<04:24,  5.51s/it]"
          ]
        },
        {
          "output_type": "stream",
          "name": "stdout",
          "text": [
            "test loss: 1.931247489307706e-05\n",
            "train loss: 1.9183513112511718e-05\n"
          ]
        },
        {
          "output_type": "stream",
          "name": "stderr",
          "text": [
            "\r 76%|███████▋  | 153/200 [13:45<04:08,  5.28s/it]"
          ]
        },
        {
          "output_type": "stream",
          "name": "stdout",
          "text": [
            "test loss: 1.926110495571248e-05\n",
            "train loss: 1.9133497181610438e-05\n"
          ]
        },
        {
          "output_type": "stream",
          "name": "stderr",
          "text": [
            "\r 77%|███████▋  | 154/200 [13:50<04:05,  5.33s/it]"
          ]
        },
        {
          "output_type": "stream",
          "name": "stdout",
          "text": [
            "test loss: 1.9192091451677755e-05\n",
            "train loss: 1.9076514157495695e-05\n"
          ]
        },
        {
          "output_type": "stream",
          "name": "stderr",
          "text": [
            "\r 78%|███████▊  | 155/200 [13:56<04:06,  5.48s/it]"
          ]
        },
        {
          "output_type": "stream",
          "name": "stdout",
          "text": [
            "test loss: 1.914831477516039e-05\n",
            "train loss: 1.9029862099705497e-05\n"
          ]
        },
        {
          "output_type": "stream",
          "name": "stderr",
          "text": [
            "\r 78%|███████▊  | 156/200 [14:01<03:51,  5.27s/it]"
          ]
        },
        {
          "output_type": "stream",
          "name": "stdout",
          "text": [
            "test loss: 1.913473610934067e-05\n",
            "train loss: 1.8981436277681496e-05\n"
          ]
        },
        {
          "output_type": "stream",
          "name": "stderr",
          "text": [
            "\r 78%|███████▊  | 157/200 [14:07<04:00,  5.59s/it]"
          ]
        },
        {
          "output_type": "stream",
          "name": "stdout",
          "text": [
            "test loss: 1.906372728725388e-05\n",
            "train loss: 1.8931871931272327e-05\n"
          ]
        },
        {
          "output_type": "stream",
          "name": "stderr",
          "text": [
            "\r 79%|███████▉  | 158/200 [14:12<03:45,  5.37s/it]"
          ]
        },
        {
          "output_type": "stream",
          "name": "stdout",
          "text": [
            "test loss: 1.8992452677689862e-05\n",
            "train loss: 1.8877885022811824e-05\n"
          ]
        },
        {
          "output_type": "stream",
          "name": "stderr",
          "text": [
            "\r 80%|███████▉  | 159/200 [14:17<03:34,  5.22s/it]"
          ]
        },
        {
          "output_type": "stream",
          "name": "stdout",
          "text": [
            "test loss: 1.8975518557567377e-05\n",
            "train loss: 1.88291756050603e-05\n"
          ]
        },
        {
          "output_type": "stream",
          "name": "stderr",
          "text": [
            "\r 80%|████████  | 160/200 [14:23<03:43,  5.60s/it]"
          ]
        },
        {
          "output_type": "stream",
          "name": "stdout",
          "text": [
            "test loss: 1.8872836344221164e-05\n",
            "train loss: 1.877786470504361e-05\n"
          ]
        },
        {
          "output_type": "stream",
          "name": "stderr",
          "text": [
            "\r 80%|████████  | 161/200 [14:28<03:29,  5.37s/it]"
          ]
        },
        {
          "output_type": "stream",
          "name": "stdout",
          "text": [
            "test loss: 1.8881487591488186e-05\n",
            "train loss: 1.874436173820868e-05\n"
          ]
        },
        {
          "output_type": "stream",
          "name": "stderr",
          "text": [
            "\r 81%|████████  | 162/200 [14:33<03:24,  5.37s/it]"
          ]
        },
        {
          "output_type": "stream",
          "name": "stdout",
          "text": [
            "test loss: 1.8810815857776355e-05\n",
            "train loss: 1.8697410461027174e-05\n"
          ]
        },
        {
          "output_type": "stream",
          "name": "stderr",
          "text": [
            "\r 82%|████████▏ | 163/200 [14:39<03:23,  5.50s/it]"
          ]
        },
        {
          "output_type": "stream",
          "name": "stdout",
          "text": [
            "test loss: 1.8785202110084122e-05\n",
            "train loss: 1.8660089453624095e-05\n"
          ]
        },
        {
          "output_type": "stream",
          "name": "stderr",
          "text": [
            "\r 82%|████████▏ | 164/200 [14:44<03:11,  5.33s/it]"
          ]
        },
        {
          "output_type": "stream",
          "name": "stdout",
          "text": [
            "test loss: 1.8736016180412026e-05\n",
            "train loss: 1.8623322300845756e-05\n"
          ]
        },
        {
          "output_type": "stream",
          "name": "stderr",
          "text": [
            "\r 82%|████████▎ | 165/200 [14:50<03:17,  5.63s/it]"
          ]
        },
        {
          "output_type": "stream",
          "name": "stdout",
          "text": [
            "test loss: 1.870983474530479e-05\n",
            "train loss: 1.8581020063720644e-05\n"
          ]
        },
        {
          "output_type": "stream",
          "name": "stderr",
          "text": [
            "\r 83%|████████▎ | 166/200 [14:55<03:03,  5.41s/it]"
          ]
        },
        {
          "output_type": "stream",
          "name": "stdout",
          "text": [
            "test loss: 1.8680409912615808e-05\n",
            "train loss: 1.85396671986382e-05\n"
          ]
        },
        {
          "output_type": "stream",
          "name": "stderr",
          "text": [
            "\r 84%|████████▎ | 167/200 [15:00<02:53,  5.24s/it]"
          ]
        },
        {
          "output_type": "stream",
          "name": "stdout",
          "text": [
            "test loss: 1.860127849214243e-05\n",
            "train loss: 1.8506038876512322e-05\n"
          ]
        },
        {
          "output_type": "stream",
          "name": "stderr",
          "text": [
            "\r 84%|████████▍ | 168/200 [15:07<02:59,  5.60s/it]"
          ]
        },
        {
          "output_type": "stream",
          "name": "stdout",
          "text": [
            "test loss: 1.8582114049835286e-05\n",
            "train loss: 1.8466926125984173e-05\n"
          ]
        },
        {
          "output_type": "stream",
          "name": "stderr",
          "text": [
            "\r 84%|████████▍ | 169/200 [15:11<02:45,  5.35s/it]"
          ]
        },
        {
          "output_type": "stream",
          "name": "stdout",
          "text": [
            "test loss: 1.8515554600776123e-05\n",
            "train loss: 1.8427497286756988e-05\n"
          ]
        },
        {
          "output_type": "stream",
          "name": "stderr",
          "text": [
            "\r 85%|████████▌ | 170/200 [15:17<02:41,  5.39s/it]"
          ]
        },
        {
          "output_type": "stream",
          "name": "stdout",
          "text": [
            "test loss: 1.8508888905389627e-05\n",
            "train loss: 1.8388812008925015e-05\n"
          ]
        },
        {
          "output_type": "stream",
          "name": "stderr",
          "text": [
            "\r 86%|████████▌ | 171/200 [15:23<02:39,  5.50s/it]"
          ]
        },
        {
          "output_type": "stream",
          "name": "stdout",
          "text": [
            "test loss: 1.8461295114477728e-05\n",
            "train loss: 1.8362188942410286e-05\n"
          ]
        },
        {
          "output_type": "stream",
          "name": "stderr",
          "text": [
            "\r 86%|████████▌ | 172/200 [15:28<02:29,  5.33s/it]"
          ]
        },
        {
          "output_type": "stream",
          "name": "stdout",
          "text": [
            "test loss: 1.8463934296663977e-05\n",
            "train loss: 1.8331601927638986e-05\n"
          ]
        },
        {
          "output_type": "stream",
          "name": "stderr",
          "text": [
            "\r 86%|████████▋ | 173/200 [15:34<02:32,  5.65s/it]"
          ]
        },
        {
          "output_type": "stream",
          "name": "stdout",
          "text": [
            "test loss: 1.8392018484618007e-05\n",
            "train loss: 1.8297504982183454e-05\n"
          ]
        },
        {
          "output_type": "stream",
          "name": "stderr",
          "text": [
            "\r 87%|████████▋ | 174/200 [15:39<02:19,  5.38s/it]"
          ]
        },
        {
          "output_type": "stream",
          "name": "stdout",
          "text": [
            "test loss: 1.8365322316189842e-05\n",
            "train loss: 1.826849993049109e-05\n"
          ]
        },
        {
          "output_type": "stream",
          "name": "stderr",
          "text": [
            "\r 88%|████████▊ | 175/200 [15:43<02:09,  5.18s/it]"
          ]
        },
        {
          "output_type": "stream",
          "name": "stdout",
          "text": [
            "test loss: 1.8354806532140838e-05\n",
            "train loss: 1.82377865203307e-05\n"
          ]
        },
        {
          "output_type": "stream",
          "name": "stderr",
          "text": [
            "\r 88%|████████▊ | 176/200 [15:50<02:12,  5.53s/it]"
          ]
        },
        {
          "output_type": "stream",
          "name": "stdout",
          "text": [
            "test loss: 1.831604089829126e-05\n",
            "train loss: 1.8206449892750243e-05\n"
          ]
        },
        {
          "output_type": "stream",
          "name": "stderr",
          "text": [
            "\r 88%|████████▊ | 177/200 [15:55<02:01,  5.30s/it]"
          ]
        },
        {
          "output_type": "stream",
          "name": "stdout",
          "text": [
            "test loss: 1.8277569731512217e-05\n",
            "train loss: 1.8169657664111583e-05\n"
          ]
        },
        {
          "output_type": "stream",
          "name": "stderr",
          "text": [
            "\r 89%|████████▉ | 178/200 [16:00<01:57,  5.36s/it]"
          ]
        },
        {
          "output_type": "stream",
          "name": "stdout",
          "text": [
            "test loss: 1.822931412193655e-05\n",
            "train loss: 1.8147019702882972e-05\n"
          ]
        },
        {
          "output_type": "stream",
          "name": "stderr",
          "text": [
            "\r 90%|████████▉ | 179/200 [16:06<01:56,  5.53s/it]"
          ]
        },
        {
          "output_type": "stream",
          "name": "stdout",
          "text": [
            "test loss: 1.824457047422738e-05\n",
            "train loss: 1.8115528755151898e-05\n"
          ]
        },
        {
          "output_type": "stream",
          "name": "stderr",
          "text": [
            "\r 90%|█████████ | 180/200 [16:11<01:46,  5.32s/it]"
          ]
        },
        {
          "output_type": "stream",
          "name": "stdout",
          "text": [
            "test loss: 1.81735109790476e-05\n",
            "train loss: 1.808636729983846e-05\n"
          ]
        },
        {
          "output_type": "stream",
          "name": "stderr",
          "text": [
            "\r 90%|█████████ | 181/200 [16:17<01:46,  5.60s/it]"
          ]
        },
        {
          "output_type": "stream",
          "name": "stdout",
          "text": [
            "test loss: 1.818681742700104e-05\n",
            "train loss: 1.80580564236152e-05\n"
          ]
        },
        {
          "output_type": "stream",
          "name": "stderr",
          "text": [
            "\r 91%|█████████ | 182/200 [16:22<01:37,  5.41s/it]"
          ]
        },
        {
          "output_type": "stream",
          "name": "stdout",
          "text": [
            "test loss: 1.8148626497913765e-05\n",
            "train loss: 1.8028522895110655e-05\n"
          ]
        },
        {
          "output_type": "stream",
          "name": "stderr",
          "text": [
            "\r 92%|█████████▏| 183/200 [16:27<01:28,  5.23s/it]"
          ]
        },
        {
          "output_type": "stream",
          "name": "stdout",
          "text": [
            "test loss: 1.8112015863815428e-05\n",
            "train loss: 1.8011017506796635e-05\n"
          ]
        },
        {
          "output_type": "stream",
          "name": "stderr",
          "text": [
            "\r 92%|█████████▏| 184/200 [16:33<01:29,  5.57s/it]"
          ]
        },
        {
          "output_type": "stream",
          "name": "stdout",
          "text": [
            "test loss: 1.8084444790541494e-05\n",
            "train loss: 1.798342736547056e-05\n"
          ]
        },
        {
          "output_type": "stream",
          "name": "stderr",
          "text": [
            "\r 92%|█████████▎| 185/200 [16:38<01:20,  5.35s/it]"
          ]
        },
        {
          "output_type": "stream",
          "name": "stdout",
          "text": [
            "test loss: 1.8108185789847825e-05\n",
            "train loss: 1.7960218039661414e-05\n"
          ]
        },
        {
          "output_type": "stream",
          "name": "stderr",
          "text": [
            "\r 93%|█████████▎| 186/200 [16:43<01:13,  5.28s/it]"
          ]
        },
        {
          "output_type": "stream",
          "name": "stdout",
          "text": [
            "test loss: 1.8044971558191e-05\n",
            "train loss: 1.7936740814184305e-05\n"
          ]
        },
        {
          "output_type": "stream",
          "name": "stderr",
          "text": [
            "\r 94%|█████████▎| 187/200 [16:49<01:11,  5.52s/it]"
          ]
        },
        {
          "output_type": "stream",
          "name": "stdout",
          "text": [
            "test loss: 1.8022461555604918e-05\n",
            "train loss: 1.7917619492072845e-05\n"
          ]
        },
        {
          "output_type": "stream",
          "name": "stderr",
          "text": [
            "\r 94%|█████████▍| 188/200 [16:54<01:03,  5.31s/it]"
          ]
        },
        {
          "output_type": "stream",
          "name": "stdout",
          "text": [
            "test loss: 1.80171155544651e-05\n",
            "train loss: 1.788912242773222e-05\n"
          ]
        },
        {
          "output_type": "stream",
          "name": "stderr",
          "text": [
            "\r 94%|█████████▍| 189/200 [17:00<01:01,  5.58s/it]"
          ]
        },
        {
          "output_type": "stream",
          "name": "stdout",
          "text": [
            "test loss: 1.7974589104814746e-05\n",
            "train loss: 1.7866016981861323e-05\n"
          ]
        },
        {
          "output_type": "stream",
          "name": "stderr",
          "text": [
            "\r 95%|█████████▌| 190/200 [17:05<00:54,  5.42s/it]"
          ]
        },
        {
          "output_type": "stream",
          "name": "stdout",
          "text": [
            "test loss: 1.7965555576293858e-05\n",
            "train loss: 1.7844555460760603e-05\n"
          ]
        },
        {
          "output_type": "stream",
          "name": "stderr",
          "text": [
            "\r 96%|█████████▌| 191/200 [17:10<00:47,  5.23s/it]"
          ]
        },
        {
          "output_type": "stream",
          "name": "stdout",
          "text": [
            "test loss: 1.793395524390117e-05\n",
            "train loss: 1.7825755148078315e-05\n"
          ]
        },
        {
          "output_type": "stream",
          "name": "stderr",
          "text": [
            "\r 96%|█████████▌| 192/200 [17:16<00:44,  5.57s/it]"
          ]
        },
        {
          "output_type": "stream",
          "name": "stdout",
          "text": [
            "test loss: 1.7898156271350888e-05\n",
            "train loss: 1.7801929526467574e-05\n"
          ]
        },
        {
          "output_type": "stream",
          "name": "stderr",
          "text": [
            "\r 96%|█████████▋| 193/200 [17:21<00:37,  5.35s/it]"
          ]
        },
        {
          "output_type": "stream",
          "name": "stdout",
          "text": [
            "test loss: 1.790616364576653e-05\n",
            "train loss: 1.7786190547121805e-05\n"
          ]
        },
        {
          "output_type": "stream",
          "name": "stderr",
          "text": [
            "\r 97%|█████████▋| 194/200 [17:26<00:31,  5.31s/it]"
          ]
        },
        {
          "output_type": "stream",
          "name": "stdout",
          "text": [
            "test loss: 1.786488737358571e-05\n",
            "train loss: 1.7767799943248975e-05\n"
          ]
        },
        {
          "output_type": "stream",
          "name": "stderr",
          "text": [
            "\r 98%|█████████▊| 195/200 [17:33<00:27,  5.56s/it]"
          ]
        },
        {
          "output_type": "stream",
          "name": "stdout",
          "text": [
            "test loss: 1.7839391558008385e-05\n",
            "train loss: 1.7745379277766915e-05\n"
          ]
        },
        {
          "output_type": "stream",
          "name": "stderr",
          "text": [
            "\r 98%|█████████▊| 196/200 [17:37<00:21,  5.32s/it]"
          ]
        },
        {
          "output_type": "stream",
          "name": "stdout",
          "text": [
            "test loss: 1.7840653852388166e-05\n",
            "train loss: 1.7729615725329496e-05\n"
          ]
        },
        {
          "output_type": "stream",
          "name": "stderr",
          "text": [
            "\r 98%|█████████▊| 197/200 [17:44<00:16,  5.57s/it]"
          ]
        },
        {
          "output_type": "stream",
          "name": "stdout",
          "text": [
            "test loss: 1.781479511646176e-05\n",
            "train loss: 1.7710333283321234e-05\n"
          ]
        },
        {
          "output_type": "stream",
          "name": "stderr",
          "text": [
            "\r 99%|█████████▉| 198/200 [17:49<00:10,  5.45s/it]"
          ]
        },
        {
          "output_type": "stream",
          "name": "stdout",
          "text": [
            "test loss: 1.7795472480191183e-05\n",
            "train loss: 1.7691645741797403e-05\n"
          ]
        },
        {
          "output_type": "stream",
          "name": "stderr",
          "text": [
            "\r100%|█████████▉| 199/200 [17:54<00:05,  5.28s/it]"
          ]
        },
        {
          "output_type": "stream",
          "name": "stdout",
          "text": [
            "test loss: 1.7769800359211207e-05\n",
            "train loss: 1.767177713700221e-05\n"
          ]
        },
        {
          "output_type": "stream",
          "name": "stderr",
          "text": [
            "100%|██████████| 200/200 [18:00<00:00,  5.40s/it]"
          ]
        },
        {
          "output_type": "stream",
          "name": "stdout",
          "text": [
            "test loss: 1.774692828765607e-05\n"
          ]
        },
        {
          "output_type": "stream",
          "name": "stderr",
          "text": [
            "\n"
          ]
        }
      ],
      "source": [
        "model_path, train_loss_all, test_loss_all = train_forward_model()"
      ]
    },
    {
      "cell_type": "code",
      "source": [
        "import matplotlib.pyplot as plt\n",
        "\n",
        "epochs = range(1, len(train_loss_all) + 1)\n",
        "\n",
        "\n",
        "\n",
        "plt.plot(epochs, train_loss_all, label='Train Loss')\n",
        "plt.plot(epochs, test_loss_all, label='Test Loss')\n",
        "\n",
        "plt.yscale('log')\n",
        "plt.xlabel('Epochs')\n",
        "plt.ylabel('Loss')\n",
        "plt.title('Train and Test Loss')\n",
        "plt.legend()\n",
        "plt.grid()\n",
        "\n",
        "plt.show()"
      ],
      "metadata": {
        "colab": {
          "base_uri": "https://localhost:8080/",
          "height": 472
        },
        "id": "wK7A10XScS8b",
        "outputId": "691960b3-5eac-4741-fc3e-2996f408813a"
      },
      "execution_count": null,
      "outputs": [
        {
          "output_type": "display_data",
          "data": {
            "text/plain": [
              "<Figure size 640x480 with 1 Axes>"
            ],
            "image/png": "[encoded data removed]"
          },
          "metadata": {}
        }
      ]
    },
    {
      "cell_type": "code",
      "source": [
        "from google.colab import files\n",
        "import os\n",
        "\n",
        "folder_path = \"/content/models/2023-05-06_14-03-38\"  # The path to the folder you want to zip\n",
        "zip_name = \"zipped_folder.zip\"  # Name of the zip file to be created\n",
        "\n",
        "# Create the zip file\n",
        "!zip -r {zip_name} {folder_path}\n",
        "\n",
        "# Check if the zip file was created and download it\n",
        "if os.path.exists(zip_name):\n",
        "    files.download(zip_name)\n",
        "else:\n",
        "    print(f\"Error: {zip_name} not found\")\n"
      ],
      "metadata": {
        "colab": {
          "base_uri": "https://localhost:8080/",
          "height": 1000
        },
        "id": "dyeXZjFzdkpq",
        "outputId": "d14a5abc-45ab-4e41-849c-8ea47281ea97"
      },
      "execution_count": null,
      "outputs": [
        {
          "output_type": "stream",
          "name": "stdout",
          "text": [
            "  adding: content/models/2023-05-06_14-03-38/ (stored 0%)\n",
            "  adding: content/models/2023-05-06_14-03-38/epoch_0049/ (stored 0%)\n",
            "  adding: content/models/2023-05-06_14-03-38/epoch_0049/dynamics.pth (deflated 8%)\n",
            "  adding: content/models/2023-05-06_14-03-38/epoch_0013/ (stored 0%)\n",
            "  adding: content/models/2023-05-06_14-03-38/epoch_0013/dynamics.pth (deflated 8%)\n",
            "  adding: content/models/2023-05-06_14-03-38/epoch_0075/ (stored 0%)\n",
            "  adding: content/models/2023-05-06_14-03-38/epoch_0075/dynamics.pth (deflated 8%)\n",
            "  adding: content/models/2023-05-06_14-03-38/epoch_0185/ (stored 0%)\n",
            "  adding: content/models/2023-05-06_14-03-38/epoch_0185/dynamics.pth (deflated 8%)\n",
            "  adding: content/models/2023-05-06_14-03-38/epoch_0063/ (stored 0%)\n",
            "  adding: content/models/2023-05-06_14-03-38/epoch_0063/dynamics.pth (deflated 8%)\n",
            "  adding: content/models/2023-05-06_14-03-38/epoch_0019/ (stored 0%)\n",
            "  adding: content/models/2023-05-06_14-03-38/epoch_0019/dynamics.pth (deflated 8%)\n",
            "  adding: content/models/2023-05-06_14-03-38/epoch_0041/ (stored 0%)\n",
            "  adding: content/models/2023-05-06_14-03-38/epoch_0041/dynamics.pth (deflated 8%)\n",
            "  adding: content/models/2023-05-06_14-03-38/epoch_0101/ (stored 0%)\n",
            "  adding: content/models/2023-05-06_14-03-38/epoch_0101/dynamics.pth (deflated 8%)\n",
            "  adding: content/models/2023-05-06_14-03-38/epoch_0118/ (stored 0%)\n",
            "  adding: content/models/2023-05-06_14-03-38/epoch_0118/dynamics.pth (deflated 8%)\n",
            "  adding: content/models/2023-05-06_14-03-38/epoch_0184/ (stored 0%)\n",
            "  adding: content/models/2023-05-06_14-03-38/epoch_0184/dynamics.pth (deflated 8%)\n",
            "  adding: content/models/2023-05-06_14-03-38/epoch_0009/ (stored 0%)\n",
            "  adding: content/models/2023-05-06_14-03-38/epoch_0009/dynamics.pth (deflated 8%)\n",
            "  adding: content/models/2023-05-06_14-03-38/epoch_0094/ (stored 0%)\n",
            "  adding: content/models/2023-05-06_14-03-38/epoch_0094/dynamics.pth (deflated 8%)\n",
            "  adding: content/models/2023-05-06_14-03-38/epoch_0047/ (stored 0%)\n",
            "  adding: content/models/2023-05-06_14-03-38/epoch_0047/dynamics.pth (deflated 8%)\n",
            "  adding: content/models/2023-05-06_14-03-38/epoch_0143/ (stored 0%)\n",
            "  adding: content/models/2023-05-06_14-03-38/epoch_0143/dynamics.pth (deflated 8%)\n",
            "  adding: content/models/2023-05-06_14-03-38/epoch_0125/ (stored 0%)\n",
            "  adding: content/models/2023-05-06_14-03-38/epoch_0125/dynamics.pth (deflated 8%)\n",
            "  adding: content/models/2023-05-06_14-03-38/epoch_0131/ (stored 0%)\n",
            "  adding: content/models/2023-05-06_14-03-38/epoch_0131/dynamics.pth (deflated 8%)\n",
            "  adding: content/models/2023-05-06_14-03-38/epoch_0193/ (stored 0%)\n",
            "  adding: content/models/2023-05-06_14-03-38/epoch_0193/dynamics.pth (deflated 8%)\n",
            "  adding: content/models/2023-05-06_14-03-38/epoch_0038/ (stored 0%)\n",
            "  adding: content/models/2023-05-06_14-03-38/epoch_0038/dynamics.pth (deflated 8%)\n",
            "  adding: content/models/2023-05-06_14-03-38/epoch_0058/ (stored 0%)\n",
            "  adding: content/models/2023-05-06_14-03-38/epoch_0058/dynamics.pth (deflated 8%)\n",
            "  adding: content/models/2023-05-06_14-03-38/epoch_0179/ (stored 0%)\n",
            "  adding: content/models/2023-05-06_14-03-38/epoch_0179/dynamics.pth (deflated 8%)\n",
            "  adding: content/models/2023-05-06_14-03-38/epoch_0039/ (stored 0%)\n",
            "  adding: content/models/2023-05-06_14-03-38/epoch_0039/dynamics.pth (deflated 8%)\n",
            "  adding: content/models/2023-05-06_14-03-38/epoch_0045/ (stored 0%)\n",
            "  adding: content/models/2023-05-06_14-03-38/epoch_0045/dynamics.pth (deflated 8%)\n",
            "  adding: content/models/2023-05-06_14-03-38/epoch_0011/ (stored 0%)\n",
            "  adding: content/models/2023-05-06_14-03-38/epoch_0011/dynamics.pth (deflated 8%)\n",
            "  adding: content/models/2023-05-06_14-03-38/epoch_0137/ (stored 0%)\n",
            "  adding: content/models/2023-05-06_14-03-38/epoch_0137/dynamics.pth (deflated 8%)\n",
            "  adding: content/models/2023-05-06_14-03-38/epoch_0106/ (stored 0%)\n",
            "  adding: content/models/2023-05-06_14-03-38/epoch_0106/dynamics.pth (deflated 8%)\n",
            "  adding: content/models/2023-05-06_14-03-38/epoch_0051/ (stored 0%)\n",
            "  adding: content/models/2023-05-06_14-03-38/epoch_0051/dynamics.pth (deflated 8%)\n",
            "  adding: content/models/2023-05-06_14-03-38/epoch_0060/ (stored 0%)\n",
            "  adding: content/models/2023-05-06_14-03-38/epoch_0060/dynamics.pth (deflated 8%)\n",
            "  adding: content/models/2023-05-06_14-03-38/epoch_0129/ (stored 0%)\n",
            "  adding: content/models/2023-05-06_14-03-38/epoch_0129/dynamics.pth (deflated 8%)\n",
            "  adding: content/models/2023-05-06_14-03-38/epoch_0168/ (stored 0%)\n",
            "  adding: content/models/2023-05-06_14-03-38/epoch_0168/dynamics.pth (deflated 8%)\n",
            "  adding: content/models/2023-05-06_14-03-38/epoch_0015/ (stored 0%)\n",
            "  adding: content/models/2023-05-06_14-03-38/epoch_0015/dynamics.pth (deflated 8%)\n",
            "  adding: content/models/2023-05-06_14-03-38/epoch_0056/ (stored 0%)\n",
            "  adding: content/models/2023-05-06_14-03-38/epoch_0056/dynamics.pth (deflated 8%)\n",
            "  adding: content/models/2023-05-06_14-03-38/epoch_0059/ (stored 0%)\n",
            "  adding: content/models/2023-05-06_14-03-38/epoch_0059/dynamics.pth (deflated 8%)\n",
            "  adding: content/models/2023-05-06_14-03-38/epoch_0169/ (stored 0%)\n",
            "  adding: content/models/2023-05-06_14-03-38/epoch_0169/dynamics.pth (deflated 8%)\n",
            "  adding: content/models/2023-05-06_14-03-38/epoch_0086/ (stored 0%)\n",
            "  adding: content/models/2023-05-06_14-03-38/epoch_0086/dynamics.pth (deflated 8%)\n",
            "  adding: content/models/2023-05-06_14-03-38/epoch_0073/ (stored 0%)\n",
            "  adding: content/models/2023-05-06_14-03-38/epoch_0073/dynamics.pth (deflated 8%)\n",
            "  adding: content/models/2023-05-06_14-03-38/epoch_0048/ (stored 0%)\n",
            "  adding: content/models/2023-05-06_14-03-38/epoch_0048/dynamics.pth (deflated 8%)\n",
            "  adding: content/models/2023-05-06_14-03-38/epoch_0052/ (stored 0%)\n",
            "  adding: content/models/2023-05-06_14-03-38/epoch_0052/dynamics.pth (deflated 8%)\n",
            "  adding: content/models/2023-05-06_14-03-38/epoch_0140/ (stored 0%)\n",
            "  adding: content/models/2023-05-06_14-03-38/epoch_0140/dynamics.pth (deflated 8%)\n",
            "  adding: content/models/2023-05-06_14-03-38/epoch_0042/ (stored 0%)\n",
            "  adding: content/models/2023-05-06_14-03-38/epoch_0042/dynamics.pth (deflated 8%)\n",
            "  adding: content/models/2023-05-06_14-03-38/epoch_0178/ (stored 0%)\n",
            "  adding: content/models/2023-05-06_14-03-38/epoch_0178/dynamics.pth (deflated 8%)\n",
            "  adding: content/models/2023-05-06_14-03-38/epoch_0176/ (stored 0%)\n",
            "  adding: content/models/2023-05-06_14-03-38/epoch_0176/dynamics.pth (deflated 8%)\n",
            "  adding: content/models/2023-05-06_14-03-38/epoch_0001/ (stored 0%)\n",
            "  adding: content/models/2023-05-06_14-03-38/epoch_0001/dynamics.pth (deflated 8%)\n",
            "  adding: content/models/2023-05-06_14-03-38/epoch_0030/ (stored 0%)\n",
            "  adding: content/models/2023-05-06_14-03-38/epoch_0030/dynamics.pth (deflated 8%)\n",
            "  adding: content/models/2023-05-06_14-03-38/epoch_0037/ (stored 0%)\n",
            "  adding: content/models/2023-05-06_14-03-38/epoch_0037/dynamics.pth (deflated 8%)\n",
            "  adding: content/models/2023-05-06_14-03-38/epoch_0120/ (stored 0%)\n",
            "  adding: content/models/2023-05-06_14-03-38/epoch_0120/dynamics.pth (deflated 8%)\n",
            "  adding: content/models/2023-05-06_14-03-38/epoch_0022/ (stored 0%)\n",
            "  adding: content/models/2023-05-06_14-03-38/epoch_0022/dynamics.pth (deflated 8%)\n",
            "  adding: content/models/2023-05-06_14-03-38/epoch_0074/ (stored 0%)\n",
            "  adding: content/models/2023-05-06_14-03-38/epoch_0074/dynamics.pth (deflated 8%)\n",
            "  adding: content/models/2023-05-06_14-03-38/epoch_0076/ (stored 0%)\n",
            "  adding: content/models/2023-05-06_14-03-38/epoch_0076/dynamics.pth (deflated 8%)\n",
            "  adding: content/models/2023-05-06_14-03-38/epoch_0194/ (stored 0%)\n",
            "  adding: content/models/2023-05-06_14-03-38/epoch_0194/dynamics.pth (deflated 8%)\n",
            "  adding: content/models/2023-05-06_14-03-38/epoch_0117/ (stored 0%)\n",
            "  adding: content/models/2023-05-06_14-03-38/epoch_0117/dynamics.pth (deflated 8%)\n",
            "  adding: content/models/2023-05-06_14-03-38/epoch_0067/ (stored 0%)\n",
            "  adding: content/models/2023-05-06_14-03-38/epoch_0067/dynamics.pth (deflated 8%)\n",
            "  adding: content/models/2023-05-06_14-03-38/epoch_0004/ (stored 0%)\n",
            "  adding: content/models/2023-05-06_14-03-38/epoch_0004/dynamics.pth (deflated 8%)\n",
            "  adding: content/models/2023-05-06_14-03-38/epoch_0092/ (stored 0%)\n",
            "  adding: content/models/2023-05-06_14-03-38/epoch_0092/dynamics.pth (deflated 8%)\n",
            "  adding: content/models/2023-05-06_14-03-38/epoch_0138/ (stored 0%)\n",
            "  adding: content/models/2023-05-06_14-03-38/epoch_0138/dynamics.pth (deflated 8%)\n",
            "  adding: content/models/2023-05-06_14-03-38/epoch_0163/ (stored 0%)\n",
            "  adding: content/models/2023-05-06_14-03-38/epoch_0163/dynamics.pth (deflated 8%)\n",
            "  adding: content/models/2023-05-06_14-03-38/epoch_0151/ (stored 0%)\n",
            "  adding: content/models/2023-05-06_14-03-38/epoch_0151/dynamics.pth (deflated 8%)\n",
            "  adding: content/models/2023-05-06_14-03-38/epoch_0149/ (stored 0%)\n",
            "  adding: content/models/2023-05-06_14-03-38/epoch_0149/dynamics.pth (deflated 8%)\n",
            "  adding: content/models/2023-05-06_14-03-38/epoch_0156/ (stored 0%)\n",
            "  adding: content/models/2023-05-06_14-03-38/epoch_0156/dynamics.pth (deflated 8%)\n",
            "  adding: content/models/2023-05-06_14-03-38/epoch_0034/ (stored 0%)\n",
            "  adding: content/models/2023-05-06_14-03-38/epoch_0034/dynamics.pth (deflated 8%)\n",
            "  adding: content/models/2023-05-06_14-03-38/epoch_0161/ (stored 0%)\n",
            "  adding: content/models/2023-05-06_14-03-38/epoch_0161/dynamics.pth (deflated 8%)\n",
            "  adding: content/models/2023-05-06_14-03-38/epoch_0162/ (stored 0%)\n",
            "  adding: content/models/2023-05-06_14-03-38/epoch_0162/dynamics.pth (deflated 8%)\n",
            "  adding: content/models/2023-05-06_14-03-38/epoch_0102/ (stored 0%)\n",
            "  adding: content/models/2023-05-06_14-03-38/epoch_0102/dynamics.pth (deflated 8%)\n",
            "  adding: content/models/2023-05-06_14-03-38/epoch_0188/ (stored 0%)\n",
            "  adding: content/models/2023-05-06_14-03-38/epoch_0188/dynamics.pth (deflated 8%)\n",
            "  adding: content/models/2023-05-06_14-03-38/epoch_0141/ (stored 0%)\n",
            "  adding: content/models/2023-05-06_14-03-38/epoch_0141/dynamics.pth (deflated 8%)\n",
            "  adding: content/models/2023-05-06_14-03-38/epoch_0025/ (stored 0%)\n",
            "  adding: content/models/2023-05-06_14-03-38/epoch_0025/dynamics.pth (deflated 8%)\n",
            "  adding: content/models/2023-05-06_14-03-38/epoch_0191/ (stored 0%)\n",
            "  adding: content/models/2023-05-06_14-03-38/epoch_0191/dynamics.pth (deflated 8%)\n",
            "  adding: content/models/2023-05-06_14-03-38/epoch_0135/ (stored 0%)\n",
            "  adding: content/models/2023-05-06_14-03-38/epoch_0135/dynamics.pth (deflated 8%)\n",
            "  adding: content/models/2023-05-06_14-03-38/epoch_0115/ (stored 0%)\n",
            "  adding: content/models/2023-05-06_14-03-38/epoch_0115/dynamics.pth (deflated 8%)\n",
            "  adding: content/models/2023-05-06_14-03-38/epoch_0057/ (stored 0%)\n",
            "  adding: content/models/2023-05-06_14-03-38/epoch_0057/dynamics.pth (deflated 8%)\n",
            "  adding: content/models/2023-05-06_14-03-38/epoch_0145/ (stored 0%)\n",
            "  adding: content/models/2023-05-06_14-03-38/epoch_0145/dynamics.pth (deflated 8%)\n",
            "  adding: content/models/2023-05-06_14-03-38/epoch_0130/ (stored 0%)\n",
            "  adding: content/models/2023-05-06_14-03-38/epoch_0130/dynamics.pth (deflated 8%)\n",
            "  adding: content/models/2023-05-06_14-03-38/epoch_0122/ (stored 0%)\n",
            "  adding: content/models/2023-05-06_14-03-38/epoch_0122/dynamics.pth (deflated 8%)\n",
            "  adding: content/models/2023-05-06_14-03-38/epoch_0181/ (stored 0%)\n",
            "  adding: content/models/2023-05-06_14-03-38/epoch_0181/dynamics.pth (deflated 8%)\n",
            "  adding: content/models/2023-05-06_14-03-38/epoch_0123/ (stored 0%)\n",
            "  adding: content/models/2023-05-06_14-03-38/epoch_0123/dynamics.pth (deflated 8%)\n",
            "  adding: content/models/2023-05-06_14-03-38/epoch_0172/ (stored 0%)\n",
            "  adding: content/models/2023-05-06_14-03-38/epoch_0172/dynamics.pth (deflated 8%)\n",
            "  adding: content/models/2023-05-06_14-03-38/epoch_0007/ (stored 0%)\n",
            "  adding: content/models/2023-05-06_14-03-38/epoch_0007/dynamics.pth (deflated 8%)\n",
            "  adding: content/models/2023-05-06_14-03-38/epoch_0096/ (stored 0%)\n",
            "  adding: content/models/2023-05-06_14-03-38/epoch_0096/dynamics.pth (deflated 8%)\n",
            "  adding: content/models/2023-05-06_14-03-38/epoch_0028/ (stored 0%)\n",
            "  adding: content/models/2023-05-06_14-03-38/epoch_0028/dynamics.pth (deflated 8%)\n",
            "  adding: content/models/2023-05-06_14-03-38/epoch_0199/ (stored 0%)\n",
            "  adding: content/models/2023-05-06_14-03-38/epoch_0199/dynamics.pth (deflated 8%)\n",
            "  adding: content/models/2023-05-06_14-03-38/epoch_0071/ (stored 0%)\n",
            "  adding: content/models/2023-05-06_14-03-38/epoch_0071/dynamics.pth (deflated 8%)\n",
            "  adding: content/models/2023-05-06_14-03-38/epoch_0197/ (stored 0%)\n",
            "  adding: content/models/2023-05-06_14-03-38/epoch_0197/dynamics.pth (deflated 8%)\n",
            "  adding: content/models/2023-05-06_14-03-38/epoch_0198/ (stored 0%)\n",
            "  adding: content/models/2023-05-06_14-03-38/epoch_0198/dynamics.pth (deflated 8%)\n",
            "  adding: content/models/2023-05-06_14-03-38/epoch_0116/ (stored 0%)\n",
            "  adding: content/models/2023-05-06_14-03-38/epoch_0116/dynamics.pth (deflated 8%)\n",
            "  adding: content/models/2023-05-06_14-03-38/epoch_0023/ (stored 0%)\n",
            "  adding: content/models/2023-05-06_14-03-38/epoch_0023/dynamics.pth (deflated 8%)\n",
            "  adding: content/models/2023-05-06_14-03-38/epoch_0018/ (stored 0%)\n",
            "  adding: content/models/2023-05-06_14-03-38/epoch_0018/dynamics.pth (deflated 8%)\n",
            "  adding: content/models/2023-05-06_14-03-38/epoch_0064/ (stored 0%)\n",
            "  adding: content/models/2023-05-06_14-03-38/epoch_0064/dynamics.pth (deflated 8%)\n",
            "  adding: content/models/2023-05-06_14-03-38/epoch_0054/ (stored 0%)\n",
            "  adding: content/models/2023-05-06_14-03-38/epoch_0054/dynamics.pth (deflated 8%)\n",
            "  adding: content/models/2023-05-06_14-03-38/epoch_0195/ (stored 0%)\n",
            "  adding: content/models/2023-05-06_14-03-38/epoch_0195/dynamics.pth (deflated 8%)\n",
            "  adding: content/models/2023-05-06_14-03-38/epoch_0031/ (stored 0%)\n",
            "  adding: content/models/2023-05-06_14-03-38/epoch_0031/dynamics.pth (deflated 8%)\n",
            "  adding: content/models/2023-05-06_14-03-38/epoch_0147/ (stored 0%)\n",
            "  adding: content/models/2023-05-06_14-03-38/epoch_0147/dynamics.pth (deflated 8%)\n",
            "  adding: content/models/2023-05-06_14-03-38/epoch_0008/ (stored 0%)\n",
            "  adding: content/models/2023-05-06_14-03-38/epoch_0008/dynamics.pth (deflated 8%)\n",
            "  adding: content/models/2023-05-06_14-03-38/epoch_0165/ (stored 0%)\n",
            "  adding: content/models/2023-05-06_14-03-38/epoch_0165/dynamics.pth (deflated 8%)\n",
            "  adding: content/models/2023-05-06_14-03-38/epoch_0065/ (stored 0%)\n",
            "  adding: content/models/2023-05-06_14-03-38/epoch_0065/dynamics.pth (deflated 8%)\n",
            "  adding: content/models/2023-05-06_14-03-38/epoch_0180/ (stored 0%)\n",
            "  adding: content/models/2023-05-06_14-03-38/epoch_0180/dynamics.pth (deflated 8%)\n",
            "  adding: content/models/2023-05-06_14-03-38/epoch_0005/ (stored 0%)\n",
            "  adding: content/models/2023-05-06_14-03-38/epoch_0005/dynamics.pth (deflated 8%)\n",
            "  adding: content/models/2023-05-06_14-03-38/epoch_0128/ (stored 0%)\n",
            "  adding: content/models/2023-05-06_14-03-38/epoch_0128/dynamics.pth (deflated 8%)\n",
            "  adding: content/models/2023-05-06_14-03-38/epoch_0078/ (stored 0%)\n",
            "  adding: content/models/2023-05-06_14-03-38/epoch_0078/dynamics.pth (deflated 8%)\n",
            "  adding: content/models/2023-05-06_14-03-38/epoch_0107/ (stored 0%)\n",
            "  adding: content/models/2023-05-06_14-03-38/epoch_0107/dynamics.pth (deflated 8%)\n",
            "  adding: content/models/2023-05-06_14-03-38/epoch_0081/ (stored 0%)\n",
            "  adding: content/models/2023-05-06_14-03-38/epoch_0081/dynamics.pth (deflated 8%)\n",
            "  adding: content/models/2023-05-06_14-03-38/epoch_0010/ (stored 0%)\n",
            "  adding: content/models/2023-05-06_14-03-38/epoch_0010/dynamics.pth (deflated 8%)\n",
            "  adding: content/models/2023-05-06_14-03-38/epoch_0170/ (stored 0%)\n",
            "  adding: content/models/2023-05-06_14-03-38/epoch_0170/dynamics.pth (deflated 8%)\n",
            "  adding: content/models/2023-05-06_14-03-38/epoch_0077/ (stored 0%)\n",
            "  adding: content/models/2023-05-06_14-03-38/epoch_0077/dynamics.pth (deflated 8%)\n",
            "  adding: content/models/2023-05-06_14-03-38/epoch_0171/ (stored 0%)\n",
            "  adding: content/models/2023-05-06_14-03-38/epoch_0171/dynamics.pth (deflated 8%)\n",
            "  adding: content/models/2023-05-06_14-03-38/epoch_0110/ (stored 0%)\n",
            "  adding: content/models/2023-05-06_14-03-38/epoch_0110/dynamics.pth (deflated 8%)\n",
            "  adding: content/models/2023-05-06_14-03-38/epoch_0012/ (stored 0%)\n",
            "  adding: content/models/2023-05-06_14-03-38/epoch_0012/dynamics.pth (deflated 8%)\n",
            "  adding: content/models/2023-05-06_14-03-38/epoch_0006/ (stored 0%)\n",
            "  adding: content/models/2023-05-06_14-03-38/epoch_0006/dynamics.pth (deflated 8%)\n",
            "  adding: content/models/2023-05-06_14-03-38/epoch_0132/ (stored 0%)\n",
            "  adding: content/models/2023-05-06_14-03-38/epoch_0132/dynamics.pth (deflated 8%)\n",
            "  adding: content/models/2023-05-06_14-03-38/epoch_0091/ (stored 0%)\n",
            "  adding: content/models/2023-05-06_14-03-38/epoch_0091/dynamics.pth (deflated 8%)\n",
            "  adding: content/models/2023-05-06_14-03-38/epoch_0027/ (stored 0%)\n",
            "  adding: content/models/2023-05-06_14-03-38/epoch_0027/dynamics.pth (deflated 8%)\n",
            "  adding: content/models/2023-05-06_14-03-38/epoch_0033/ (stored 0%)\n",
            "  adding: content/models/2023-05-06_14-03-38/epoch_0033/dynamics.pth (deflated 8%)\n",
            "  adding: content/models/2023-05-06_14-03-38/epoch_0017/ (stored 0%)\n",
            "  adding: content/models/2023-05-06_14-03-38/epoch_0017/dynamics.pth (deflated 8%)\n",
            "  adding: content/models/2023-05-06_14-03-38/epoch_0069/ (stored 0%)\n",
            "  adding: content/models/2023-05-06_14-03-38/epoch_0069/dynamics.pth (deflated 8%)\n",
            "  adding: content/models/2023-05-06_14-03-38/epoch_0082/ (stored 0%)\n",
            "  adding: content/models/2023-05-06_14-03-38/epoch_0082/dynamics.pth (deflated 8%)\n",
            "  adding: content/models/2023-05-06_14-03-38/epoch_0189/ (stored 0%)\n",
            "  adding: content/models/2023-05-06_14-03-38/epoch_0189/dynamics.pth (deflated 8%)\n",
            "  adding: content/models/2023-05-06_14-03-38/epoch_0046/ (stored 0%)\n",
            "  adding: content/models/2023-05-06_14-03-38/epoch_0046/dynamics.pth (deflated 8%)\n",
            "  adding: content/models/2023-05-06_14-03-38/epoch_0127/ (stored 0%)\n",
            "  adding: content/models/2023-05-06_14-03-38/epoch_0127/dynamics.pth (deflated 8%)\n",
            "  adding: content/models/2023-05-06_14-03-38/epoch_0024/ (stored 0%)\n",
            "  adding: content/models/2023-05-06_14-03-38/epoch_0024/dynamics.pth (deflated 8%)\n",
            "  adding: content/models/2023-05-06_14-03-38/epoch_0043/ (stored 0%)\n",
            "  adding: content/models/2023-05-06_14-03-38/epoch_0043/dynamics.pth (deflated 8%)\n",
            "  adding: content/models/2023-05-06_14-03-38/epoch_0186/ (stored 0%)\n",
            "  adding: content/models/2023-05-06_14-03-38/epoch_0186/dynamics.pth (deflated 8%)\n",
            "  adding: content/models/2023-05-06_14-03-38/epoch_0164/ (stored 0%)\n",
            "  adding: content/models/2023-05-06_14-03-38/epoch_0164/dynamics.pth (deflated 8%)\n",
            "  adding: content/models/2023-05-06_14-03-38/epoch_0066/ (stored 0%)\n",
            "  adding: content/models/2023-05-06_14-03-38/epoch_0066/dynamics.pth (deflated 8%)\n",
            "  adding: content/models/2023-05-06_14-03-38/epoch_0153/ (stored 0%)\n",
            "  adding: content/models/2023-05-06_14-03-38/epoch_0153/dynamics.pth (deflated 8%)\n",
            "  adding: content/models/2023-05-06_14-03-38/epoch_0144/ (stored 0%)\n",
            "  adding: content/models/2023-05-06_14-03-38/epoch_0144/dynamics.pth (deflated 8%)\n",
            "  adding: content/models/2023-05-06_14-03-38/epoch_0100/ (stored 0%)\n",
            "  adding: content/models/2023-05-06_14-03-38/epoch_0100/dynamics.pth (deflated 8%)\n",
            "  adding: content/models/2023-05-06_14-03-38/epoch_0192/ (stored 0%)\n",
            "  adding: content/models/2023-05-06_14-03-38/epoch_0192/dynamics.pth (deflated 8%)\n",
            "  adding: content/models/2023-05-06_14-03-38/epoch_0109/ (stored 0%)\n",
            "  adding: content/models/2023-05-06_14-03-38/epoch_0109/dynamics.pth (deflated 8%)\n",
            "  adding: content/models/2023-05-06_14-03-38/epoch_0139/ (stored 0%)\n",
            "  adding: content/models/2023-05-06_14-03-38/epoch_0139/dynamics.pth (deflated 8%)\n",
            "  adding: content/models/2023-05-06_14-03-38/epoch_0175/ (stored 0%)\n",
            "  adding: content/models/2023-05-06_14-03-38/epoch_0175/dynamics.pth (deflated 8%)\n",
            "  adding: content/models/2023-05-06_14-03-38/epoch_0036/ (stored 0%)\n",
            "  adding: content/models/2023-05-06_14-03-38/epoch_0036/dynamics.pth (deflated 8%)\n",
            "  adding: content/models/2023-05-06_14-03-38/epoch_0158/ (stored 0%)\n",
            "  adding: content/models/2023-05-06_14-03-38/epoch_0158/dynamics.pth (deflated 8%)\n",
            "  adding: content/models/2023-05-06_14-03-38/epoch_0021/ (stored 0%)\n",
            "  adding: content/models/2023-05-06_14-03-38/epoch_0021/dynamics.pth (deflated 8%)\n",
            "  adding: content/models/2023-05-06_14-03-38/epoch_0093/ (stored 0%)\n",
            "  adding: content/models/2023-05-06_14-03-38/epoch_0093/dynamics.pth (deflated 8%)\n",
            "  adding: content/models/2023-05-06_14-03-38/epoch_0079/ (stored 0%)\n",
            "  adding: content/models/2023-05-06_14-03-38/epoch_0079/dynamics.pth (deflated 8%)\n",
            "  adding: content/models/2023-05-06_14-03-38/epoch_0099/ (stored 0%)\n",
            "  adding: content/models/2023-05-06_14-03-38/epoch_0099/dynamics.pth (deflated 8%)\n",
            "  adding: content/models/2023-05-06_14-03-38/epoch_0072/ (stored 0%)\n",
            "  adding: content/models/2023-05-06_14-03-38/epoch_0072/dynamics.pth (deflated 8%)\n",
            "  adding: content/models/2023-05-06_14-03-38/epoch_0174/ (stored 0%)\n",
            "  adding: content/models/2023-05-06_14-03-38/epoch_0174/dynamics.pth (deflated 8%)\n",
            "  adding: content/models/2023-05-06_14-03-38/epoch_0119/ (stored 0%)\n",
            "  adding: content/models/2023-05-06_14-03-38/epoch_0119/dynamics.pth (deflated 8%)\n",
            "  adding: content/models/2023-05-06_14-03-38/epoch_0098/ (stored 0%)\n",
            "  adding: content/models/2023-05-06_14-03-38/epoch_0098/dynamics.pth (deflated 8%)\n",
            "  adding: content/models/2023-05-06_14-03-38/epoch_0083/ (stored 0%)\n",
            "  adding: content/models/2023-05-06_14-03-38/epoch_0083/dynamics.pth (deflated 8%)\n",
            "  adding: content/models/2023-05-06_14-03-38/epoch_0032/ (stored 0%)\n",
            "  adding: content/models/2023-05-06_14-03-38/epoch_0032/dynamics.pth (deflated 8%)\n",
            "  adding: content/models/2023-05-06_14-03-38/epoch_0090/ (stored 0%)\n",
            "  adding: content/models/2023-05-06_14-03-38/epoch_0090/dynamics.pth (deflated 8%)\n",
            "  adding: content/models/2023-05-06_14-03-38/epoch_0055/ (stored 0%)\n",
            "  adding: content/models/2023-05-06_14-03-38/epoch_0055/dynamics.pth (deflated 8%)\n",
            "  adding: content/models/2023-05-06_14-03-38/epoch_0097/ (stored 0%)\n",
            "  adding: content/models/2023-05-06_14-03-38/epoch_0097/dynamics.pth (deflated 8%)\n",
            "  adding: content/models/2023-05-06_14-03-38/epoch_0152/ (stored 0%)\n",
            "  adding: content/models/2023-05-06_14-03-38/epoch_0152/dynamics.pth (deflated 8%)\n",
            "  adding: content/models/2023-05-06_14-03-38/epoch_0020/ (stored 0%)\n",
            "  adding: content/models/2023-05-06_14-03-38/epoch_0020/dynamics.pth (deflated 8%)\n",
            "  adding: content/models/2023-05-06_14-03-38/epoch_0166/ (stored 0%)\n",
            "  adding: content/models/2023-05-06_14-03-38/epoch_0166/dynamics.pth (deflated 8%)\n",
            "  adding: content/models/2023-05-06_14-03-38/epoch_0183/ (stored 0%)\n",
            "  adding: content/models/2023-05-06_14-03-38/epoch_0183/dynamics.pth (deflated 8%)\n",
            "  adding: content/models/2023-05-06_14-03-38/epoch_0154/ (stored 0%)\n",
            "  adding: content/models/2023-05-06_14-03-38/epoch_0154/dynamics.pth (deflated 8%)\n",
            "  adding: content/models/2023-05-06_14-03-38/epoch_0002/ (stored 0%)\n",
            "  adding: content/models/2023-05-06_14-03-38/epoch_0002/dynamics.pth (deflated 8%)\n",
            "  adding: content/models/2023-05-06_14-03-38/epoch_0050/ (stored 0%)\n",
            "  adding: content/models/2023-05-06_14-03-38/epoch_0050/dynamics.pth (deflated 8%)\n",
            "  adding: content/models/2023-05-06_14-03-38/epoch_0089/ (stored 0%)\n",
            "  adding: content/models/2023-05-06_14-03-38/epoch_0089/dynamics.pth (deflated 8%)\n",
            "  adding: content/models/2023-05-06_14-03-38/epoch_0124/ (stored 0%)\n",
            "  adding: content/models/2023-05-06_14-03-38/epoch_0124/dynamics.pth (deflated 8%)\n",
            "  adding: content/models/2023-05-06_14-03-38/epoch_0148/ (stored 0%)\n",
            "  adding: content/models/2023-05-06_14-03-38/epoch_0148/dynamics.pth (deflated 8%)\n",
            "  adding: content/models/2023-05-06_14-03-38/epoch_0062/ (stored 0%)\n",
            "  adding: content/models/2023-05-06_14-03-38/epoch_0062/dynamics.pth (deflated 8%)\n",
            "  adding: content/models/2023-05-06_14-03-38/epoch_0150/ (stored 0%)\n",
            "  adding: content/models/2023-05-06_14-03-38/epoch_0150/dynamics.pth (deflated 8%)\n",
            "  adding: content/models/2023-05-06_14-03-38/epoch_0157/ (stored 0%)\n",
            "  adding: content/models/2023-05-06_14-03-38/epoch_0157/dynamics.pth (deflated 8%)\n",
            "  adding: content/models/2023-05-06_14-03-38/epoch_0196/ (stored 0%)\n",
            "  adding: content/models/2023-05-06_14-03-38/epoch_0196/dynamics.pth (deflated 8%)\n",
            "  adding: content/models/2023-05-06_14-03-38/epoch_0114/ (stored 0%)\n",
            "  adding: content/models/2023-05-06_14-03-38/epoch_0114/dynamics.pth (deflated 8%)\n",
            "  adding: content/models/2023-05-06_14-03-38/epoch_0190/ (stored 0%)\n",
            "  adding: content/models/2023-05-06_14-03-38/epoch_0190/dynamics.pth (deflated 8%)\n",
            "  adding: content/models/2023-05-06_14-03-38/epoch_0029/ (stored 0%)\n",
            "  adding: content/models/2023-05-06_14-03-38/epoch_0029/dynamics.pth (deflated 8%)\n",
            "  adding: content/models/2023-05-06_14-03-38/epoch_0104/ (stored 0%)\n",
            "  adding: content/models/2023-05-06_14-03-38/epoch_0104/dynamics.pth (deflated 8%)\n",
            "  adding: content/models/2023-05-06_14-03-38/epoch_0142/ (stored 0%)\n",
            "  adding: content/models/2023-05-06_14-03-38/epoch_0142/dynamics.pth (deflated 8%)\n",
            "  adding: content/models/2023-05-06_14-03-38/epoch_0053/ (stored 0%)\n",
            "  adding: content/models/2023-05-06_14-03-38/epoch_0053/dynamics.pth (deflated 8%)\n",
            "  adding: content/models/2023-05-06_14-03-38/epoch_0121/ (stored 0%)\n",
            "  adding: content/models/2023-05-06_14-03-38/epoch_0121/dynamics.pth (deflated 8%)\n",
            "  adding: content/models/2023-05-06_14-03-38/epoch_0160/ (stored 0%)\n",
            "  adding: content/models/2023-05-06_14-03-38/epoch_0160/dynamics.pth (deflated 8%)\n",
            "  adding: content/models/2023-05-06_14-03-38/epoch_0108/ (stored 0%)\n",
            "  adding: content/models/2023-05-06_14-03-38/epoch_0108/dynamics.pth (deflated 8%)\n",
            "  adding: content/models/2023-05-06_14-03-38/epoch_0061/ (stored 0%)\n",
            "  adding: content/models/2023-05-06_14-03-38/epoch_0061/dynamics.pth (deflated 8%)\n",
            "  adding: content/models/2023-05-06_14-03-38/epoch_0088/ (stored 0%)\n",
            "  adding: content/models/2023-05-06_14-03-38/epoch_0088/dynamics.pth (deflated 8%)\n",
            "  adding: content/models/2023-05-06_14-03-38/epoch_0016/ (stored 0%)\n",
            "  adding: content/models/2023-05-06_14-03-38/epoch_0016/dynamics.pth (deflated 8%)\n",
            "  adding: content/models/2023-05-06_14-03-38/epoch_0084/ (stored 0%)\n",
            "  adding: content/models/2023-05-06_14-03-38/epoch_0084/dynamics.pth (deflated 8%)\n",
            "  adding: content/models/2023-05-06_14-03-38/epoch_0087/ (stored 0%)\n",
            "  adding: content/models/2023-05-06_14-03-38/epoch_0087/dynamics.pth (deflated 8%)\n",
            "  adding: content/models/2023-05-06_14-03-38/epoch_0182/ (stored 0%)\n",
            "  adding: content/models/2023-05-06_14-03-38/epoch_0182/dynamics.pth (deflated 8%)\n",
            "  adding: content/models/2023-05-06_14-03-38/epoch_0134/ (stored 0%)\n",
            "  adding: content/models/2023-05-06_14-03-38/epoch_0134/dynamics.pth (deflated 8%)\n",
            "  adding: content/models/2023-05-06_14-03-38/epoch_0014/ (stored 0%)\n",
            "  adding: content/models/2023-05-06_14-03-38/epoch_0014/dynamics.pth (deflated 8%)\n",
            "  adding: content/models/2023-05-06_14-03-38/epoch_0113/ (stored 0%)\n",
            "  adding: content/models/2023-05-06_14-03-38/epoch_0113/dynamics.pth (deflated 8%)\n",
            "  adding: content/models/2023-05-06_14-03-38/epoch_0136/ (stored 0%)\n",
            "  adding: content/models/2023-05-06_14-03-38/epoch_0136/dynamics.pth (deflated 8%)\n",
            "  adding: content/models/2023-05-06_14-03-38/epoch_0068/ (stored 0%)\n",
            "  adding: content/models/2023-05-06_14-03-38/epoch_0068/dynamics.pth (deflated 8%)\n",
            "  adding: content/models/2023-05-06_14-03-38/epoch_0155/ (stored 0%)\n",
            "  adding: content/models/2023-05-06_14-03-38/epoch_0155/dynamics.pth (deflated 8%)\n",
            "  adding: content/models/2023-05-06_14-03-38/epoch_0159/ (stored 0%)\n",
            "  adding: content/models/2023-05-06_14-03-38/epoch_0159/dynamics.pth (deflated 8%)\n",
            "  adding: content/models/2023-05-06_14-03-38/epoch_0126/ (stored 0%)\n",
            "  adding: content/models/2023-05-06_14-03-38/epoch_0126/dynamics.pth (deflated 8%)\n",
            "  adding: content/models/2023-05-06_14-03-38/epoch_0112/ (stored 0%)\n",
            "  adding: content/models/2023-05-06_14-03-38/epoch_0112/dynamics.pth (deflated 8%)\n",
            "  adding: content/models/2023-05-06_14-03-38/epoch_0177/ (stored 0%)\n",
            "  adding: content/models/2023-05-06_14-03-38/epoch_0177/dynamics.pth (deflated 8%)\n",
            "  adding: content/models/2023-05-06_14-03-38/epoch_0035/ (stored 0%)\n",
            "  adding: content/models/2023-05-06_14-03-38/epoch_0035/dynamics.pth (deflated 8%)\n",
            "  adding: content/models/2023-05-06_14-03-38/epoch_0167/ (stored 0%)\n",
            "  adding: content/models/2023-05-06_14-03-38/epoch_0167/dynamics.pth (deflated 8%)\n",
            "  adding: content/models/2023-05-06_14-03-38/epoch_0044/ (stored 0%)\n",
            "  adding: content/models/2023-05-06_14-03-38/epoch_0044/dynamics.pth (deflated 8%)\n",
            "  adding: content/models/2023-05-06_14-03-38/epoch_0187/ (stored 0%)\n",
            "  adding: content/models/2023-05-06_14-03-38/epoch_0187/dynamics.pth (deflated 8%)\n",
            "  adding: content/models/2023-05-06_14-03-38/epoch_0103/ (stored 0%)\n",
            "  adding: content/models/2023-05-06_14-03-38/epoch_0103/dynamics.pth (deflated 8%)\n",
            "  adding: content/models/2023-05-06_14-03-38/epoch_0003/ (stored 0%)\n",
            "  adding: content/models/2023-05-06_14-03-38/epoch_0003/dynamics.pth (deflated 8%)\n",
            "  adding: content/models/2023-05-06_14-03-38/epoch_0200/ (stored 0%)\n",
            "  adding: content/models/2023-05-06_14-03-38/epoch_0200/dynamics.pth (deflated 8%)\n",
            "  adding: content/models/2023-05-06_14-03-38/epoch_0105/ (stored 0%)\n",
            "  adding: content/models/2023-05-06_14-03-38/epoch_0105/dynamics.pth (deflated 8%)\n",
            "  adding: content/models/2023-05-06_14-03-38/epoch_0111/ (stored 0%)\n",
            "  adding: content/models/2023-05-06_14-03-38/epoch_0111/dynamics.pth (deflated 8%)\n",
            "  adding: content/models/2023-05-06_14-03-38/epoch_0085/ (stored 0%)\n",
            "  adding: content/models/2023-05-06_14-03-38/epoch_0085/dynamics.pth (deflated 8%)\n",
            "  adding: content/models/2023-05-06_14-03-38/epoch_0173/ (stored 0%)\n",
            "  adding: content/models/2023-05-06_14-03-38/epoch_0173/dynamics.pth (deflated 8%)\n",
            "  adding: content/models/2023-05-06_14-03-38/epoch_0040/ (stored 0%)\n",
            "  adding: content/models/2023-05-06_14-03-38/epoch_0040/dynamics.pth (deflated 8%)\n",
            "  adding: content/models/2023-05-06_14-03-38/epoch_0095/ (stored 0%)\n",
            "  adding: content/models/2023-05-06_14-03-38/epoch_0095/dynamics.pth (deflated 8%)\n",
            "  adding: content/models/2023-05-06_14-03-38/epoch_0080/ (stored 0%)\n",
            "  adding: content/models/2023-05-06_14-03-38/epoch_0080/dynamics.pth (deflated 8%)\n",
            "  adding: content/models/2023-05-06_14-03-38/epoch_0026/ (stored 0%)\n",
            "  adding: content/models/2023-05-06_14-03-38/epoch_0026/dynamics.pth (deflated 8%)\n",
            "  adding: content/models/2023-05-06_14-03-38/epoch_0070/ (stored 0%)\n",
            "  adding: content/models/2023-05-06_14-03-38/epoch_0070/dynamics.pth (deflated 8%)\n",
            "  adding: content/models/2023-05-06_14-03-38/epoch_0133/ (stored 0%)\n",
            "  adding: content/models/2023-05-06_14-03-38/epoch_0133/dynamics.pth (deflated 8%)\n",
            "  adding: content/models/2023-05-06_14-03-38/epoch_0146/ (stored 0%)\n",
            "  adding: content/models/2023-05-06_14-03-38/epoch_0146/dynamics.pth (deflated 8%)\n"
          ]
        },
        {
          "output_type": "display_data",
          "data": {
            "text/plain": [
              "<IPython.core.display.Javascript object>"
            ],
            "application/javascript": [
              "\n",
              "    async function download(id, filename, size) {\n",
              "      if (!google.colab.kernel.accessAllowed) {\n",
              "        return;\n",
              "      }\n",
              "      const div = document.createElement('div');\n",
              "      const label = document.createElement('label');\n",
              "      label.textContent = `Downloading \"${filename}\": `;\n",
              "      div.appendChild(label);\n",
              "      const progress = document.createElement('progress');\n",
              "      progress.max = size;\n",
              "      div.appendChild(progress);\n",
              "      document.body.appendChild(div);\n",
              "\n",
              "      const buffers = [];\n",
              "      let downloaded = 0;\n",
              "\n",
              "      const channel = await google.colab.kernel.comms.open(id);\n",
              "      // Send a message to notify the kernel that we're ready.\n",
              "      channel.send({})\n",
              "\n",
              "      for await (const message of channel.messages) {\n",
              "        // Send a message to notify the kernel that we're ready.\n",
              "        channel.send({})\n",
              "        if (message.buffers) {\n",
              "          for (const buffer of message.buffers) {\n",
              "            buffers.push(buffer);\n",
              "            downloaded += buffer.byteLength;\n",
              "            progress.value = downloaded;\n",
              "          }\n",
              "        }\n",
              "      }\n",
              "      const blob = new Blob(buffers, {type: 'application/binary'});\n",
              "      const a = document.createElement('a');\n",
              "      a.href = window.URL.createObjectURL(blob);\n",
              "      a.download = filename;\n",
              "      div.appendChild(a);\n",
              "      a.click();\n",
              "      div.remove();\n",
              "    }\n",
              "  "
            ]
          },
          "metadata": {}
        },
        {
          "output_type": "display_data",
          "data": {
            "text/plain": [
              "<IPython.core.display.Javascript object>"
            ],
            "application/javascript": [
              "download(\"download_b7177e69-9ffc-4ba8-b17d-db779ce9a8cb\", \"zipped_folder.zip\", 27477506)"
            ]
          },
          "metadata": {}
        }
      ]
    },
    {
      "cell_type": "markdown",
      "metadata": {
        "id": "-TWZSTyG15Es"
      },
      "source": [
        "### Part 2.4: Completing ArmDynamicsStudent\n",
        "\n",
        "After done with training, the ArmDynamicsStudent class need to be compelete following the comments below to load the saved checkpoint (in function init_model) and then use it to predict the new state given the current state and action (in function dynamics_step). Please do not modify the arguments to those functions, even though they might not all be used."
      ]
    },
    {
      "cell_type": "code",
      "execution_count": null,
      "metadata": {
        "id": "Jc0s9sdV2hN9"
      },
      "outputs": [],
      "source": [
        "from arm_dynamics_base import ArmDynamicsBase\n",
        "\n",
        "class ArmDynamicsStudent(ArmDynamicsBase):\n",
        "    def init_model(self, model_path, num_links, time_step, device):\n",
        "        # ---\n",
        "        # Initialize the model loading the saved model from provided model_path\n",
        "        self.model = Model2Link(0.01)\n",
        "        # ---\n",
        "        self.model.load_state_dict(torch.load(model_path))\n",
        "        self.model.eval()\n",
        "        self.model_loaded = True\n",
        "\n",
        "    def dynamics_step(self, state, action, dt):\n",
        "        if self.model_loaded:\n",
        "            # ---\n",
        "            # Use the loaded model to predict new state given the current state and action\n",
        "            x = np.append(state, action)\n",
        "            new_state = self.model.predict(x)\n",
        "            return new_state.T\n",
        "            # ---\n",
        "        else:\n",
        "            return state"
      ]
    },
    {
      "cell_type": "markdown",
      "metadata": {
        "id": "IK686tpd3jAU"
      },
      "source": [
        "### Manually Testing the MPC Controller with the learnt dynamics model\n",
        "Now use the learnt dynamics model will be used. The model is loaded in the dynamics.init_model method. The goal positions can be modified to see how well is the controller performing similar to before. Feel free to play around with the code in this cell to test the performance before the grading part.\n"
      ]
    },
    {
      "cell_type": "code",
      "execution_count": null,
      "metadata": {
        "id": "GU54TdIv3JTG",
        "colab": {
          "base_uri": "https://localhost:8080/"
        },
        "outputId": "56ed9415-f08c-48d6-d523-838661198203"
      },
      "outputs": [
        {
          "output_type": "stream",
          "name": "stderr",
          "text": [
            "\r  0%|          | 0/199 [00:00<?, ?it/s]"
          ]
        },
        {
          "output_type": "stream",
          "name": "stdout",
          "text": [
            "Loaded model: /content/unzipped_folder/content/models/2023-05-06_14-03-38/epoch_0002/dynamics.pth\n"
          ]
        },
        {
          "output_type": "stream",
          "name": "stderr",
          "text": [
            "\r  1%|          | 1/199 [02:15<7:25:47, 135.09s/it]"
          ]
        },
        {
          "output_type": "stream",
          "name": "stdout",
          "text": [
            "Loaded model: /content/unzipped_folder/content/models/2023-05-06_14-03-38/epoch_0003/dynamics.pth\n"
          ]
        },
        {
          "output_type": "stream",
          "name": "stderr",
          "text": [
            "\r  1%|          | 2/199 [03:11<4:51:13, 88.70s/it] "
          ]
        },
        {
          "output_type": "stream",
          "name": "stdout",
          "text": [
            "Loaded model: /content/unzipped_folder/content/models/2023-05-06_14-03-38/epoch_0004/dynamics.pth\n"
          ]
        },
        {
          "output_type": "stream",
          "name": "stderr",
          "text": [
            "\r  2%|▏         | 3/199 [03:53<3:40:14, 67.42s/it]"
          ]
        },
        {
          "output_type": "stream",
          "name": "stdout",
          "text": [
            "Loaded model: /content/unzipped_folder/content/models/2023-05-06_14-03-38/epoch_0005/dynamics.pth\n"
          ]
        },
        {
          "output_type": "stream",
          "name": "stderr",
          "text": [
            "\r  2%|▏         | 4/199 [04:36<3:07:43, 57.76s/it]"
          ]
        },
        {
          "output_type": "stream",
          "name": "stdout",
          "text": [
            "Loaded model: /content/unzipped_folder/content/models/2023-05-06_14-03-38/epoch_0006/dynamics.pth\n"
          ]
        },
        {
          "output_type": "stream",
          "name": "stderr",
          "text": [
            "\r  3%|▎         | 5/199 [05:16<2:46:29, 51.49s/it]"
          ]
        },
        {
          "output_type": "stream",
          "name": "stdout",
          "text": [
            "Loaded model: /content/unzipped_folder/content/models/2023-05-06_14-03-38/epoch_0007/dynamics.pth\n"
          ]
        },
        {
          "output_type": "stream",
          "name": "stderr",
          "text": [
            "\r  3%|▎         | 6/199 [06:00<2:37:04, 48.83s/it]"
          ]
        },
        {
          "output_type": "stream",
          "name": "stdout",
          "text": [
            "Loaded model: /content/unzipped_folder/content/models/2023-05-06_14-03-38/epoch_0008/dynamics.pth\n"
          ]
        },
        {
          "output_type": "stream",
          "name": "stderr",
          "text": [
            "\r  4%|▎         | 7/199 [06:46<2:33:17, 47.90s/it]"
          ]
        },
        {
          "output_type": "stream",
          "name": "stdout",
          "text": [
            "Loaded model: /content/unzipped_folder/content/models/2023-05-06_14-03-38/epoch_0009/dynamics.pth\n"
          ]
        },
        {
          "output_type": "stream",
          "name": "stderr",
          "text": [
            "\r  4%|▍         | 8/199 [07:32<2:31:03, 47.45s/it]"
          ]
        },
        {
          "output_type": "stream",
          "name": "stdout",
          "text": [
            "Loaded model: /content/unzipped_folder/content/models/2023-05-06_14-03-38/epoch_0010/dynamics.pth\n"
          ]
        },
        {
          "output_type": "stream",
          "name": "stderr",
          "text": [
            "\r  5%|▍         | 9/199 [08:23<2:33:19, 48.42s/it]"
          ]
        },
        {
          "output_type": "stream",
          "name": "stdout",
          "text": [
            "Loaded model: /content/unzipped_folder/content/models/2023-05-06_14-03-38/epoch_0011/dynamics.pth\n"
          ]
        },
        {
          "output_type": "stream",
          "name": "stderr",
          "text": [
            "\r  5%|▌         | 10/199 [09:12<2:33:29, 48.73s/it]"
          ]
        },
        {
          "output_type": "stream",
          "name": "stdout",
          "text": [
            "Loaded model: /content/unzipped_folder/content/models/2023-05-06_14-03-38/epoch_0012/dynamics.pth\n"
          ]
        },
        {
          "output_type": "stream",
          "name": "stderr",
          "text": [
            "\r  6%|▌         | 11/199 [10:08<2:39:01, 50.75s/it]"
          ]
        },
        {
          "output_type": "stream",
          "name": "stdout",
          "text": [
            "Loaded model: /content/unzipped_folder/content/models/2023-05-06_14-03-38/epoch_0013/dynamics.pth\n"
          ]
        },
        {
          "output_type": "stream",
          "name": "stderr",
          "text": [
            "\r  6%|▌         | 12/199 [10:50<2:30:28, 48.28s/it]"
          ]
        },
        {
          "output_type": "stream",
          "name": "stdout",
          "text": [
            "Loaded model: /content/unzipped_folder/content/models/2023-05-06_14-03-38/epoch_0014/dynamics.pth\n"
          ]
        },
        {
          "output_type": "stream",
          "name": "stderr",
          "text": [
            "\r  7%|▋         | 13/199 [11:41<2:31:56, 49.01s/it]"
          ]
        },
        {
          "output_type": "stream",
          "name": "stdout",
          "text": [
            "Loaded model: /content/unzipped_folder/content/models/2023-05-06_14-03-38/epoch_0015/dynamics.pth\n"
          ]
        },
        {
          "output_type": "stream",
          "name": "stderr",
          "text": [
            "\r  7%|▋         | 14/199 [12:29<2:30:17, 48.74s/it]"
          ]
        },
        {
          "output_type": "stream",
          "name": "stdout",
          "text": [
            "Loaded model: /content/unzipped_folder/content/models/2023-05-06_14-03-38/epoch_0016/dynamics.pth\n"
          ]
        },
        {
          "output_type": "stream",
          "name": "stderr",
          "text": [
            "\r  8%|▊         | 15/199 [13:13<2:25:09, 47.34s/it]"
          ]
        },
        {
          "output_type": "stream",
          "name": "stdout",
          "text": [
            "Loaded model: /content/unzipped_folder/content/models/2023-05-06_14-03-38/epoch_0017/dynamics.pth\n"
          ]
        },
        {
          "output_type": "stream",
          "name": "stderr",
          "text": [
            "\r  8%|▊         | 16/199 [13:59<2:22:36, 46.76s/it]"
          ]
        },
        {
          "output_type": "stream",
          "name": "stdout",
          "text": [
            "Loaded model: /content/unzipped_folder/content/models/2023-05-06_14-03-38/epoch_0018/dynamics.pth\n"
          ]
        },
        {
          "output_type": "stream",
          "name": "stderr",
          "text": [
            "\r  9%|▊         | 17/199 [14:39<2:16:01, 44.84s/it]"
          ]
        },
        {
          "output_type": "stream",
          "name": "stdout",
          "text": [
            "Loaded model: /content/unzipped_folder/content/models/2023-05-06_14-03-38/epoch_0019/dynamics.pth\n"
          ]
        },
        {
          "output_type": "stream",
          "name": "stderr",
          "text": [
            "\r  9%|▉         | 18/199 [15:21<2:12:16, 43.85s/it]"
          ]
        },
        {
          "output_type": "stream",
          "name": "stdout",
          "text": [
            "Loaded model: /content/unzipped_folder/content/models/2023-05-06_14-03-38/epoch_0020/dynamics.pth\n"
          ]
        },
        {
          "output_type": "stream",
          "name": "stderr",
          "text": [
            "\r 10%|▉         | 19/199 [16:06<2:13:03, 44.35s/it]"
          ]
        },
        {
          "output_type": "stream",
          "name": "stdout",
          "text": [
            "Loaded model: /content/unzipped_folder/content/models/2023-05-06_14-03-38/epoch_0021/dynamics.pth\n"
          ]
        },
        {
          "output_type": "stream",
          "name": "stderr",
          "text": [
            "\r 10%|█         | 20/199 [16:41<2:03:48, 41.50s/it]"
          ]
        },
        {
          "output_type": "stream",
          "name": "stdout",
          "text": [
            "Loaded model: /content/unzipped_folder/content/models/2023-05-06_14-03-38/epoch_0022/dynamics.pth\n"
          ]
        },
        {
          "output_type": "stream",
          "name": "stderr",
          "text": [
            "\r 11%|█         | 21/199 [17:32<2:11:53, 44.46s/it]"
          ]
        },
        {
          "output_type": "stream",
          "name": "stdout",
          "text": [
            "Loaded model: /content/unzipped_folder/content/models/2023-05-06_14-03-38/epoch_0023/dynamics.pth\n"
          ]
        },
        {
          "output_type": "stream",
          "name": "stderr",
          "text": [
            "\r 11%|█         | 22/199 [18:14<2:08:43, 43.64s/it]"
          ]
        },
        {
          "output_type": "stream",
          "name": "stdout",
          "text": [
            "Loaded model: /content/unzipped_folder/content/models/2023-05-06_14-03-38/epoch_0024/dynamics.pth\n"
          ]
        },
        {
          "output_type": "stream",
          "name": "stderr",
          "text": [
            "\r 12%|█▏        | 23/199 [19:04<2:13:25, 45.49s/it]"
          ]
        },
        {
          "output_type": "stream",
          "name": "stdout",
          "text": [
            "Loaded model: /content/unzipped_folder/content/models/2023-05-06_14-03-38/epoch_0025/dynamics.pth\n"
          ]
        },
        {
          "output_type": "stream",
          "name": "stderr",
          "text": [
            "\r 12%|█▏        | 24/199 [19:48<2:11:49, 45.20s/it]"
          ]
        },
        {
          "output_type": "stream",
          "name": "stdout",
          "text": [
            "Loaded model: /content/unzipped_folder/content/models/2023-05-06_14-03-38/epoch_0026/dynamics.pth\n"
          ]
        },
        {
          "output_type": "stream",
          "name": "stderr",
          "text": [
            "\r 13%|█▎        | 25/199 [20:33<2:10:56, 45.15s/it]"
          ]
        },
        {
          "output_type": "stream",
          "name": "stdout",
          "text": [
            "Loaded model: /content/unzipped_folder/content/models/2023-05-06_14-03-38/epoch_0027/dynamics.pth\n"
          ]
        },
        {
          "output_type": "stream",
          "name": "stderr",
          "text": [
            "\r 13%|█▎        | 26/199 [21:18<2:10:09, 45.14s/it]"
          ]
        },
        {
          "output_type": "stream",
          "name": "stdout",
          "text": [
            "Loaded model: /content/unzipped_folder/content/models/2023-05-06_14-03-38/epoch_0028/dynamics.pth\n"
          ]
        },
        {
          "output_type": "stream",
          "name": "stderr",
          "text": [
            "\r 14%|█▎        | 27/199 [21:58<2:04:52, 43.56s/it]"
          ]
        },
        {
          "output_type": "stream",
          "name": "stdout",
          "text": [
            "Loaded model: /content/unzipped_folder/content/models/2023-05-06_14-03-38/epoch_0029/dynamics.pth\n"
          ]
        },
        {
          "output_type": "stream",
          "name": "stderr",
          "text": [
            "\r 14%|█▍        | 28/199 [22:37<2:00:06, 42.15s/it]"
          ]
        },
        {
          "output_type": "stream",
          "name": "stdout",
          "text": [
            "Loaded model: /content/unzipped_folder/content/models/2023-05-06_14-03-38/epoch_0030/dynamics.pth\n"
          ]
        },
        {
          "output_type": "stream",
          "name": "stderr",
          "text": [
            "\r 15%|█▍        | 29/199 [23:21<2:00:59, 42.71s/it]"
          ]
        },
        {
          "output_type": "stream",
          "name": "stdout",
          "text": [
            "Loaded model: /content/unzipped_folder/content/models/2023-05-06_14-03-38/epoch_0031/dynamics.pth\n"
          ]
        },
        {
          "output_type": "stream",
          "name": "stderr",
          "text": [
            "\r 15%|█▌        | 30/199 [24:01<1:57:38, 41.77s/it]"
          ]
        },
        {
          "output_type": "stream",
          "name": "stdout",
          "text": [
            "Loaded model: /content/unzipped_folder/content/models/2023-05-06_14-03-38/epoch_0032/dynamics.pth\n"
          ]
        },
        {
          "output_type": "stream",
          "name": "stderr",
          "text": [
            "\r 16%|█▌        | 31/199 [24:43<1:57:14, 41.87s/it]"
          ]
        },
        {
          "output_type": "stream",
          "name": "stdout",
          "text": [
            "Loaded model: /content/unzipped_folder/content/models/2023-05-06_14-03-38/epoch_0033/dynamics.pth\n"
          ]
        },
        {
          "output_type": "stream",
          "name": "stderr",
          "text": [
            "\r 16%|█▌        | 32/199 [25:26<1:57:54, 42.36s/it]"
          ]
        },
        {
          "output_type": "stream",
          "name": "stdout",
          "text": [
            "Loaded model: /content/unzipped_folder/content/models/2023-05-06_14-03-38/epoch_0034/dynamics.pth\n"
          ]
        },
        {
          "output_type": "stream",
          "name": "stderr",
          "text": [
            "\r 17%|█▋        | 33/199 [26:07<1:56:05, 41.96s/it]"
          ]
        },
        {
          "output_type": "stream",
          "name": "stdout",
          "text": [
            "Loaded model: /content/unzipped_folder/content/models/2023-05-06_14-03-38/epoch_0035/dynamics.pth\n"
          ]
        },
        {
          "output_type": "stream",
          "name": "stderr",
          "text": [
            "\r 17%|█▋        | 34/199 [26:49<1:55:18, 41.93s/it]"
          ]
        },
        {
          "output_type": "stream",
          "name": "stdout",
          "text": [
            "Loaded model: /content/unzipped_folder/content/models/2023-05-06_14-03-38/epoch_0036/dynamics.pth\n"
          ]
        },
        {
          "output_type": "stream",
          "name": "stderr",
          "text": [
            "\r 18%|█▊        | 35/199 [27:37<1:59:04, 43.56s/it]"
          ]
        },
        {
          "output_type": "stream",
          "name": "stdout",
          "text": [
            "Loaded model: /content/unzipped_folder/content/models/2023-05-06_14-03-38/epoch_0037/dynamics.pth\n"
          ]
        },
        {
          "output_type": "stream",
          "name": "stderr",
          "text": [
            "\r 18%|█▊        | 36/199 [28:18<1:56:54, 43.03s/it]"
          ]
        },
        {
          "output_type": "stream",
          "name": "stdout",
          "text": [
            "Loaded model: /content/unzipped_folder/content/models/2023-05-06_14-03-38/epoch_0038/dynamics.pth\n"
          ]
        },
        {
          "output_type": "stream",
          "name": "stderr",
          "text": [
            "\r 19%|█▊        | 37/199 [29:01<1:56:01, 42.97s/it]"
          ]
        },
        {
          "output_type": "stream",
          "name": "stdout",
          "text": [
            "Loaded model: /content/unzipped_folder/content/models/2023-05-06_14-03-38/epoch_0039/dynamics.pth\n"
          ]
        },
        {
          "output_type": "stream",
          "name": "stderr",
          "text": [
            "\r 19%|█▉        | 38/199 [29:46<1:57:02, 43.62s/it]"
          ]
        },
        {
          "output_type": "stream",
          "name": "stdout",
          "text": [
            "Loaded model: /content/unzipped_folder/content/models/2023-05-06_14-03-38/epoch_0040/dynamics.pth\n"
          ]
        },
        {
          "output_type": "stream",
          "name": "stderr",
          "text": [
            "\r 20%|█▉        | 39/199 [30:24<1:51:43, 41.90s/it]"
          ]
        },
        {
          "output_type": "stream",
          "name": "stdout",
          "text": [
            "Loaded model: /content/unzipped_folder/content/models/2023-05-06_14-03-38/epoch_0041/dynamics.pth\n"
          ]
        },
        {
          "output_type": "stream",
          "name": "stderr",
          "text": [
            "\r 20%|██        | 40/199 [31:08<1:52:22, 42.41s/it]"
          ]
        },
        {
          "output_type": "stream",
          "name": "stdout",
          "text": [
            "Loaded model: /content/unzipped_folder/content/models/2023-05-06_14-03-38/epoch_0042/dynamics.pth\n"
          ]
        },
        {
          "output_type": "stream",
          "name": "stderr",
          "text": [
            "\r 21%|██        | 41/199 [31:50<1:51:11, 42.23s/it]"
          ]
        },
        {
          "output_type": "stream",
          "name": "stdout",
          "text": [
            "Loaded model: /content/unzipped_folder/content/models/2023-05-06_14-03-38/epoch_0043/dynamics.pth\n"
          ]
        },
        {
          "output_type": "stream",
          "name": "stderr",
          "text": [
            "\r 21%|██        | 42/199 [32:40<1:57:08, 44.77s/it]"
          ]
        },
        {
          "output_type": "stream",
          "name": "stdout",
          "text": [
            "Loaded model: /content/unzipped_folder/content/models/2023-05-06_14-03-38/epoch_0044/dynamics.pth\n"
          ]
        },
        {
          "output_type": "stream",
          "name": "stderr",
          "text": [
            "\r 22%|██▏       | 43/199 [33:21<1:52:46, 43.38s/it]"
          ]
        },
        {
          "output_type": "stream",
          "name": "stdout",
          "text": [
            "Loaded model: /content/unzipped_folder/content/models/2023-05-06_14-03-38/epoch_0045/dynamics.pth\n"
          ]
        },
        {
          "output_type": "stream",
          "name": "stderr",
          "text": [
            "\r 22%|██▏       | 44/199 [34:06<1:54:02, 44.14s/it]"
          ]
        },
        {
          "output_type": "stream",
          "name": "stdout",
          "text": [
            "Loaded model: /content/unzipped_folder/content/models/2023-05-06_14-03-38/epoch_0046/dynamics.pth\n"
          ]
        },
        {
          "output_type": "stream",
          "name": "stderr",
          "text": [
            "\r 23%|██▎       | 45/199 [34:53<1:55:04, 44.84s/it]"
          ]
        },
        {
          "output_type": "stream",
          "name": "stdout",
          "text": [
            "Loaded model: /content/unzipped_folder/content/models/2023-05-06_14-03-38/epoch_0047/dynamics.pth\n"
          ]
        },
        {
          "output_type": "stream",
          "name": "stderr",
          "text": [
            "\r 23%|██▎       | 46/199 [35:36<1:52:43, 44.21s/it]"
          ]
        },
        {
          "output_type": "stream",
          "name": "stdout",
          "text": [
            "Loaded model: /content/unzipped_folder/content/models/2023-05-06_14-03-38/epoch_0048/dynamics.pth\n"
          ]
        },
        {
          "output_type": "stream",
          "name": "stderr",
          "text": [
            "\r 24%|██▎       | 47/199 [36:22<1:53:54, 44.96s/it]"
          ]
        },
        {
          "output_type": "stream",
          "name": "stdout",
          "text": [
            "Loaded model: /content/unzipped_folder/content/models/2023-05-06_14-03-38/epoch_0049/dynamics.pth\n"
          ]
        },
        {
          "output_type": "stream",
          "name": "stderr",
          "text": [
            "\r 24%|██▍       | 48/199 [37:13<1:57:12, 46.57s/it]"
          ]
        },
        {
          "output_type": "stream",
          "name": "stdout",
          "text": [
            "Loaded model: /content/unzipped_folder/content/models/2023-05-06_14-03-38/epoch_0050/dynamics.pth\n"
          ]
        },
        {
          "output_type": "stream",
          "name": "stderr",
          "text": [
            "\r 25%|██▍       | 49/199 [37:54<1:52:12, 44.88s/it]"
          ]
        },
        {
          "output_type": "stream",
          "name": "stdout",
          "text": [
            "Loaded model: /content/unzipped_folder/content/models/2023-05-06_14-03-38/epoch_0051/dynamics.pth\n"
          ]
        },
        {
          "output_type": "stream",
          "name": "stderr",
          "text": [
            "\r 25%|██▌       | 50/199 [38:37<1:49:59, 44.29s/it]"
          ]
        },
        {
          "output_type": "stream",
          "name": "stdout",
          "text": [
            "Loaded model: /content/unzipped_folder/content/models/2023-05-06_14-03-38/epoch_0052/dynamics.pth\n"
          ]
        },
        {
          "output_type": "stream",
          "name": "stderr",
          "text": [
            "\r 26%|██▌       | 51/199 [39:17<1:46:15, 43.08s/it]"
          ]
        },
        {
          "output_type": "stream",
          "name": "stdout",
          "text": [
            "Loaded model: /content/unzipped_folder/content/models/2023-05-06_14-03-38/epoch_0053/dynamics.pth\n"
          ]
        },
        {
          "output_type": "stream",
          "name": "stderr",
          "text": [
            "\r 26%|██▌       | 52/199 [39:55<1:41:59, 41.63s/it]"
          ]
        },
        {
          "output_type": "stream",
          "name": "stdout",
          "text": [
            "Loaded model: /content/unzipped_folder/content/models/2023-05-06_14-03-38/epoch_0054/dynamics.pth\n"
          ]
        },
        {
          "output_type": "stream",
          "name": "stderr",
          "text": [
            "\r 27%|██▋       | 53/199 [40:40<1:44:02, 42.76s/it]"
          ]
        },
        {
          "output_type": "stream",
          "name": "stdout",
          "text": [
            "Loaded model: /content/unzipped_folder/content/models/2023-05-06_14-03-38/epoch_0055/dynamics.pth\n"
          ]
        },
        {
          "output_type": "stream",
          "name": "stderr",
          "text": [
            "\r 27%|██▋       | 54/199 [41:20<1:41:17, 41.92s/it]"
          ]
        },
        {
          "output_type": "stream",
          "name": "stdout",
          "text": [
            "Loaded model: /content/unzipped_folder/content/models/2023-05-06_14-03-38/epoch_0056/dynamics.pth\n"
          ]
        },
        {
          "output_type": "stream",
          "name": "stderr",
          "text": [
            "\r 28%|██▊       | 55/199 [42:04<1:41:46, 42.41s/it]"
          ]
        },
        {
          "output_type": "stream",
          "name": "stdout",
          "text": [
            "Loaded model: /content/unzipped_folder/content/models/2023-05-06_14-03-38/epoch_0057/dynamics.pth\n"
          ]
        },
        {
          "output_type": "stream",
          "name": "stderr",
          "text": [
            "\r 28%|██▊       | 56/199 [42:45<1:39:51, 41.90s/it]"
          ]
        },
        {
          "output_type": "stream",
          "name": "stdout",
          "text": [
            "Loaded model: /content/unzipped_folder/content/models/2023-05-06_14-03-38/epoch_0058/dynamics.pth\n"
          ]
        },
        {
          "output_type": "stream",
          "name": "stderr",
          "text": [
            "\r 29%|██▊       | 57/199 [43:27<1:39:15, 41.94s/it]"
          ]
        },
        {
          "output_type": "stream",
          "name": "stdout",
          "text": [
            "Loaded model: /content/unzipped_folder/content/models/2023-05-06_14-03-38/epoch_0059/dynamics.pth\n"
          ]
        },
        {
          "output_type": "stream",
          "name": "stderr",
          "text": [
            "\r 29%|██▉       | 58/199 [44:17<1:44:15, 44.36s/it]"
          ]
        },
        {
          "output_type": "stream",
          "name": "stdout",
          "text": [
            "Loaded model: /content/unzipped_folder/content/models/2023-05-06_14-03-38/epoch_0060/dynamics.pth\n"
          ]
        },
        {
          "output_type": "stream",
          "name": "stderr",
          "text": [
            "\r 30%|██▉       | 59/199 [44:58<1:41:30, 43.50s/it]"
          ]
        },
        {
          "output_type": "stream",
          "name": "stdout",
          "text": [
            "Loaded model: /content/unzipped_folder/content/models/2023-05-06_14-03-38/epoch_0061/dynamics.pth\n"
          ]
        },
        {
          "output_type": "stream",
          "name": "stderr",
          "text": [
            "\r 30%|███       | 60/199 [45:43<1:42:00, 44.03s/it]"
          ]
        },
        {
          "output_type": "stream",
          "name": "stdout",
          "text": [
            "Loaded model: /content/unzipped_folder/content/models/2023-05-06_14-03-38/epoch_0062/dynamics.pth\n"
          ]
        },
        {
          "output_type": "stream",
          "name": "stderr",
          "text": [
            "\r 31%|███       | 61/199 [46:24<1:38:49, 42.97s/it]"
          ]
        },
        {
          "output_type": "stream",
          "name": "stdout",
          "text": [
            "Loaded model: /content/unzipped_folder/content/models/2023-05-06_14-03-38/epoch_0063/dynamics.pth\n"
          ]
        },
        {
          "output_type": "stream",
          "name": "stderr",
          "text": [
            "\r 31%|███       | 62/199 [47:05<1:36:45, 42.38s/it]"
          ]
        },
        {
          "output_type": "stream",
          "name": "stdout",
          "text": [
            "Loaded model: /content/unzipped_folder/content/models/2023-05-06_14-03-38/epoch_0064/dynamics.pth\n"
          ]
        },
        {
          "output_type": "stream",
          "name": "stderr",
          "text": [
            "\r 32%|███▏      | 63/199 [47:45<1:34:10, 41.55s/it]"
          ]
        },
        {
          "output_type": "stream",
          "name": "stdout",
          "text": [
            "Loaded model: /content/unzipped_folder/content/models/2023-05-06_14-03-38/epoch_0065/dynamics.pth\n"
          ]
        },
        {
          "output_type": "stream",
          "name": "stderr",
          "text": [
            "\r 32%|███▏      | 64/199 [48:28<1:34:36, 42.05s/it]"
          ]
        },
        {
          "output_type": "stream",
          "name": "stdout",
          "text": [
            "Loaded model: /content/unzipped_folder/content/models/2023-05-06_14-03-38/epoch_0066/dynamics.pth\n"
          ]
        },
        {
          "output_type": "stream",
          "name": "stderr",
          "text": [
            "\r 33%|███▎      | 65/199 [49:14<1:36:23, 43.16s/it]"
          ]
        },
        {
          "output_type": "stream",
          "name": "stdout",
          "text": [
            "Loaded model: /content/unzipped_folder/content/models/2023-05-06_14-03-38/epoch_0067/dynamics.pth\n"
          ]
        },
        {
          "output_type": "stream",
          "name": "stderr",
          "text": [
            "\r 33%|███▎      | 66/199 [50:01<1:38:11, 44.30s/it]"
          ]
        },
        {
          "output_type": "stream",
          "name": "stdout",
          "text": [
            "Loaded model: /content/unzipped_folder/content/models/2023-05-06_14-03-38/epoch_0068/dynamics.pth\n"
          ]
        },
        {
          "output_type": "stream",
          "name": "stderr",
          "text": [
            "\r 34%|███▎      | 67/199 [50:45<1:37:54, 44.50s/it]"
          ]
        },
        {
          "output_type": "stream",
          "name": "stdout",
          "text": [
            "Loaded model: /content/unzipped_folder/content/models/2023-05-06_14-03-38/epoch_0069/dynamics.pth\n"
          ]
        },
        {
          "output_type": "stream",
          "name": "stderr",
          "text": [
            "\r 34%|███▍      | 68/199 [51:28<1:35:42, 43.84s/it]"
          ]
        },
        {
          "output_type": "stream",
          "name": "stdout",
          "text": [
            "Loaded model: /content/unzipped_folder/content/models/2023-05-06_14-03-38/epoch_0070/dynamics.pth\n"
          ]
        },
        {
          "output_type": "stream",
          "name": "stderr",
          "text": [
            "\r 35%|███▍      | 69/199 [52:07<1:31:47, 42.36s/it]"
          ]
        },
        {
          "output_type": "stream",
          "name": "stdout",
          "text": [
            "Loaded model: /content/unzipped_folder/content/models/2023-05-06_14-03-38/epoch_0071/dynamics.pth\n"
          ]
        },
        {
          "output_type": "stream",
          "name": "stderr",
          "text": [
            "\r 35%|███▌      | 70/199 [52:50<1:31:28, 42.54s/it]"
          ]
        },
        {
          "output_type": "stream",
          "name": "stdout",
          "text": [
            "Loaded model: /content/unzipped_folder/content/models/2023-05-06_14-03-38/epoch_0072/dynamics.pth\n"
          ]
        },
        {
          "output_type": "stream",
          "name": "stderr",
          "text": [
            "\r 36%|███▌      | 71/199 [53:36<1:33:04, 43.63s/it]"
          ]
        },
        {
          "output_type": "stream",
          "name": "stdout",
          "text": [
            "Loaded model: /content/unzipped_folder/content/models/2023-05-06_14-03-38/epoch_0073/dynamics.pth\n"
          ]
        },
        {
          "output_type": "stream",
          "name": "stderr",
          "text": [
            "\r 36%|███▌      | 72/199 [54:16<1:30:27, 42.73s/it]"
          ]
        },
        {
          "output_type": "stream",
          "name": "stdout",
          "text": [
            "Loaded model: /content/unzipped_folder/content/models/2023-05-06_14-03-38/epoch_0074/dynamics.pth\n"
          ]
        },
        {
          "output_type": "stream",
          "name": "stderr",
          "text": [
            "\r 37%|███▋      | 73/199 [54:58<1:28:43, 42.25s/it]"
          ]
        },
        {
          "output_type": "stream",
          "name": "stdout",
          "text": [
            "Loaded model: /content/unzipped_folder/content/models/2023-05-06_14-03-38/epoch_0075/dynamics.pth\n"
          ]
        },
        {
          "output_type": "stream",
          "name": "stderr",
          "text": [
            "\r 37%|███▋      | 74/199 [55:40<1:27:59, 42.24s/it]"
          ]
        },
        {
          "output_type": "stream",
          "name": "stdout",
          "text": [
            "Loaded model: /content/unzipped_folder/content/models/2023-05-06_14-03-38/epoch_0076/dynamics.pth\n"
          ]
        },
        {
          "output_type": "stream",
          "name": "stderr",
          "text": [
            "\r 38%|███▊      | 75/199 [56:24<1:28:48, 42.97s/it]"
          ]
        },
        {
          "output_type": "stream",
          "name": "stdout",
          "text": [
            "Loaded model: /content/unzipped_folder/content/models/2023-05-06_14-03-38/epoch_0077/dynamics.pth\n"
          ]
        },
        {
          "output_type": "stream",
          "name": "stderr",
          "text": [
            "\r 38%|███▊      | 76/199 [57:14<1:32:08, 44.94s/it]"
          ]
        },
        {
          "output_type": "stream",
          "name": "stdout",
          "text": [
            "Loaded model: /content/unzipped_folder/content/models/2023-05-06_14-03-38/epoch_0078/dynamics.pth\n"
          ]
        },
        {
          "output_type": "stream",
          "name": "stderr",
          "text": [
            "\r 39%|███▊      | 77/199 [57:55<1:29:04, 43.81s/it]"
          ]
        },
        {
          "output_type": "stream",
          "name": "stdout",
          "text": [
            "Loaded model: /content/unzipped_folder/content/models/2023-05-06_14-03-38/epoch_0079/dynamics.pth\n"
          ]
        },
        {
          "output_type": "stream",
          "name": "stderr",
          "text": [
            "\r 39%|███▉      | 78/199 [58:44<1:31:37, 45.44s/it]"
          ]
        },
        {
          "output_type": "stream",
          "name": "stdout",
          "text": [
            "Loaded model: /content/unzipped_folder/content/models/2023-05-06_14-03-38/epoch_0080/dynamics.pth\n"
          ]
        },
        {
          "output_type": "stream",
          "name": "stderr",
          "text": [
            "\r 40%|███▉      | 79/199 [59:32<1:32:00, 46.00s/it]"
          ]
        },
        {
          "output_type": "stream",
          "name": "stdout",
          "text": [
            "Loaded model: /content/unzipped_folder/content/models/2023-05-06_14-03-38/epoch_0081/dynamics.pth\n"
          ]
        },
        {
          "output_type": "stream",
          "name": "stderr",
          "text": [
            "\r 40%|████      | 80/199 [1:00:14<1:29:11, 44.97s/it]"
          ]
        },
        {
          "output_type": "stream",
          "name": "stdout",
          "text": [
            "Loaded model: /content/unzipped_folder/content/models/2023-05-06_14-03-38/epoch_0082/dynamics.pth\n"
          ]
        },
        {
          "output_type": "stream",
          "name": "stderr",
          "text": [
            "\r 41%|████      | 81/199 [1:00:55<1:25:55, 43.69s/it]"
          ]
        },
        {
          "output_type": "stream",
          "name": "stdout",
          "text": [
            "Loaded model: /content/unzipped_folder/content/models/2023-05-06_14-03-38/epoch_0083/dynamics.pth\n"
          ]
        },
        {
          "output_type": "stream",
          "name": "stderr",
          "text": [
            "\r 41%|████      | 82/199 [1:01:36<1:23:38, 42.89s/it]"
          ]
        },
        {
          "output_type": "stream",
          "name": "stdout",
          "text": [
            "Loaded model: /content/unzipped_folder/content/models/2023-05-06_14-03-38/epoch_0084/dynamics.pth\n"
          ]
        },
        {
          "output_type": "stream",
          "name": "stderr",
          "text": [
            "\r 42%|████▏     | 83/199 [1:02:19<1:23:03, 42.96s/it]"
          ]
        },
        {
          "output_type": "stream",
          "name": "stdout",
          "text": [
            "Loaded model: /content/unzipped_folder/content/models/2023-05-06_14-03-38/epoch_0085/dynamics.pth\n"
          ]
        },
        {
          "output_type": "stream",
          "name": "stderr",
          "text": [
            "\r 42%|████▏     | 84/199 [1:03:05<1:23:51, 43.75s/it]"
          ]
        },
        {
          "output_type": "stream",
          "name": "stdout",
          "text": [
            "Loaded model: /content/unzipped_folder/content/models/2023-05-06_14-03-38/epoch_0086/dynamics.pth\n"
          ]
        },
        {
          "output_type": "stream",
          "name": "stderr",
          "text": [
            "\r 43%|████▎     | 85/199 [1:03:45<1:21:20, 42.81s/it]"
          ]
        },
        {
          "output_type": "stream",
          "name": "stdout",
          "text": [
            "Loaded model: /content/unzipped_folder/content/models/2023-05-06_14-03-38/epoch_0087/dynamics.pth\n"
          ]
        },
        {
          "output_type": "stream",
          "name": "stderr",
          "text": [
            "\r 43%|████▎     | 86/199 [1:04:31<1:22:10, 43.64s/it]"
          ]
        },
        {
          "output_type": "stream",
          "name": "stdout",
          "text": [
            "Loaded model: /content/unzipped_folder/content/models/2023-05-06_14-03-38/epoch_0088/dynamics.pth\n"
          ]
        },
        {
          "output_type": "stream",
          "name": "stderr",
          "text": [
            "\r 44%|████▎     | 87/199 [1:05:14<1:21:02, 43.42s/it]"
          ]
        },
        {
          "output_type": "stream",
          "name": "stdout",
          "text": [
            "Loaded model: /content/unzipped_folder/content/models/2023-05-06_14-03-38/epoch_0089/dynamics.pth\n"
          ]
        },
        {
          "output_type": "stream",
          "name": "stderr",
          "text": [
            "\r 44%|████▍     | 88/199 [1:05:58<1:20:38, 43.59s/it]"
          ]
        },
        {
          "output_type": "stream",
          "name": "stdout",
          "text": [
            "Loaded model: /content/unzipped_folder/content/models/2023-05-06_14-03-38/epoch_0090/dynamics.pth\n"
          ]
        },
        {
          "output_type": "stream",
          "name": "stderr",
          "text": [
            "\r 45%|████▍     | 89/199 [1:06:37<1:17:21, 42.20s/it]"
          ]
        },
        {
          "output_type": "stream",
          "name": "stdout",
          "text": [
            "Loaded model: /content/unzipped_folder/content/models/2023-05-06_14-03-38/epoch_0091/dynamics.pth\n"
          ]
        },
        {
          "output_type": "stream",
          "name": "stderr",
          "text": [
            "\r 45%|████▌     | 90/199 [1:07:27<1:20:49, 44.49s/it]"
          ]
        },
        {
          "output_type": "stream",
          "name": "stdout",
          "text": [
            "Loaded model: /content/unzipped_folder/content/models/2023-05-06_14-03-38/epoch_0092/dynamics.pth\n"
          ]
        },
        {
          "output_type": "stream",
          "name": "stderr",
          "text": [
            "\r 46%|████▌     | 91/199 [1:08:08<1:18:21, 43.54s/it]"
          ]
        },
        {
          "output_type": "stream",
          "name": "stdout",
          "text": [
            "Loaded model: /content/unzipped_folder/content/models/2023-05-06_14-03-38/epoch_0093/dynamics.pth\n"
          ]
        },
        {
          "output_type": "stream",
          "name": "stderr",
          "text": [
            "\r 46%|████▌     | 92/199 [1:08:47<1:15:14, 42.19s/it]"
          ]
        },
        {
          "output_type": "stream",
          "name": "stdout",
          "text": [
            "Loaded model: /content/unzipped_folder/content/models/2023-05-06_14-03-38/epoch_0094/dynamics.pth\n"
          ]
        },
        {
          "output_type": "stream",
          "name": "stderr",
          "text": [
            "\r 47%|████▋     | 93/199 [1:09:27<1:13:38, 41.68s/it]"
          ]
        },
        {
          "output_type": "stream",
          "name": "stdout",
          "text": [
            "Loaded model: /content/unzipped_folder/content/models/2023-05-06_14-03-38/epoch_0095/dynamics.pth\n"
          ]
        },
        {
          "output_type": "stream",
          "name": "stderr",
          "text": [
            "\r 47%|████▋     | 94/199 [1:10:16<1:16:47, 43.88s/it]"
          ]
        },
        {
          "output_type": "stream",
          "name": "stdout",
          "text": [
            "Loaded model: /content/unzipped_folder/content/models/2023-05-06_14-03-38/epoch_0096/dynamics.pth\n"
          ]
        },
        {
          "output_type": "stream",
          "name": "stderr",
          "text": [
            "\r 48%|████▊     | 95/199 [1:11:02<1:16:41, 44.24s/it]"
          ]
        },
        {
          "output_type": "stream",
          "name": "stdout",
          "text": [
            "Loaded model: /content/unzipped_folder/content/models/2023-05-06_14-03-38/epoch_0097/dynamics.pth\n"
          ]
        },
        {
          "output_type": "stream",
          "name": "stderr",
          "text": [
            "\r 48%|████▊     | 96/199 [1:11:48<1:17:19, 45.04s/it]"
          ]
        },
        {
          "output_type": "stream",
          "name": "stdout",
          "text": [
            "Loaded model: /content/unzipped_folder/content/models/2023-05-06_14-03-38/epoch_0098/dynamics.pth\n"
          ]
        },
        {
          "output_type": "stream",
          "name": "stderr",
          "text": [
            "\r 49%|████▊     | 97/199 [1:12:34<1:16:54, 45.24s/it]"
          ]
        },
        {
          "output_type": "stream",
          "name": "stdout",
          "text": [
            "Loaded model: /content/unzipped_folder/content/models/2023-05-06_14-03-38/epoch_0099/dynamics.pth\n"
          ]
        },
        {
          "output_type": "stream",
          "name": "stderr",
          "text": [
            "\r 49%|████▉     | 98/199 [1:13:14<1:13:26, 43.63s/it]"
          ]
        },
        {
          "output_type": "stream",
          "name": "stdout",
          "text": [
            "Loaded model: /content/unzipped_folder/content/models/2023-05-06_14-03-38/epoch_0100/dynamics.pth\n"
          ]
        },
        {
          "output_type": "stream",
          "name": "stderr",
          "text": [
            "\r 50%|████▉     | 99/199 [1:13:56<1:11:40, 43.01s/it]"
          ]
        },
        {
          "output_type": "stream",
          "name": "stdout",
          "text": [
            "Loaded model: /content/unzipped_folder/content/models/2023-05-06_14-03-38/epoch_0101/dynamics.pth\n"
          ]
        },
        {
          "output_type": "stream",
          "name": "stderr",
          "text": [
            "\r 50%|█████     | 100/199 [1:14:35<1:09:15, 41.97s/it]"
          ]
        },
        {
          "output_type": "stream",
          "name": "stdout",
          "text": [
            "Loaded model: /content/unzipped_folder/content/models/2023-05-06_14-03-38/epoch_0102/dynamics.pth\n"
          ]
        },
        {
          "output_type": "stream",
          "name": "stderr",
          "text": [
            "\r 51%|█████     | 101/199 [1:15:14<1:07:10, 41.13s/it]"
          ]
        },
        {
          "output_type": "stream",
          "name": "stdout",
          "text": [
            "Loaded model: /content/unzipped_folder/content/models/2023-05-06_14-03-38/epoch_0103/dynamics.pth\n"
          ]
        },
        {
          "output_type": "stream",
          "name": "stderr",
          "text": [
            "\r 51%|█████▏    | 102/199 [1:16:00<1:08:33, 42.41s/it]"
          ]
        },
        {
          "output_type": "stream",
          "name": "stdout",
          "text": [
            "Loaded model: /content/unzipped_folder/content/models/2023-05-06_14-03-38/epoch_0104/dynamics.pth\n"
          ]
        },
        {
          "output_type": "stream",
          "name": "stderr",
          "text": [
            "\r 52%|█████▏    | 103/199 [1:16:41<1:07:28, 42.17s/it]"
          ]
        },
        {
          "output_type": "stream",
          "name": "stdout",
          "text": [
            "Loaded model: /content/unzipped_folder/content/models/2023-05-06_14-03-38/epoch_0105/dynamics.pth\n"
          ]
        },
        {
          "output_type": "stream",
          "name": "stderr",
          "text": [
            "\r 52%|█████▏    | 104/199 [1:17:25<1:07:38, 42.72s/it]"
          ]
        },
        {
          "output_type": "stream",
          "name": "stdout",
          "text": [
            "Loaded model: /content/unzipped_folder/content/models/2023-05-06_14-03-38/epoch_0106/dynamics.pth\n"
          ]
        },
        {
          "output_type": "stream",
          "name": "stderr",
          "text": [
            "\r 53%|█████▎    | 105/199 [1:18:05<1:05:40, 41.92s/it]"
          ]
        },
        {
          "output_type": "stream",
          "name": "stdout",
          "text": [
            "Loaded model: /content/unzipped_folder/content/models/2023-05-06_14-03-38/epoch_0107/dynamics.pth\n"
          ]
        },
        {
          "output_type": "stream",
          "name": "stderr",
          "text": [
            "\r 53%|█████▎    | 106/199 [1:18:47<1:04:42, 41.75s/it]"
          ]
        },
        {
          "output_type": "stream",
          "name": "stdout",
          "text": [
            "Loaded model: /content/unzipped_folder/content/models/2023-05-06_14-03-38/epoch_0108/dynamics.pth\n"
          ]
        },
        {
          "output_type": "stream",
          "name": "stderr",
          "text": [
            "\r 54%|█████▍    | 107/199 [1:19:35<1:07:08, 43.79s/it]"
          ]
        },
        {
          "output_type": "stream",
          "name": "stdout",
          "text": [
            "Loaded model: /content/unzipped_folder/content/models/2023-05-06_14-03-38/epoch_0109/dynamics.pth\n"
          ]
        },
        {
          "output_type": "stream",
          "name": "stderr",
          "text": [
            "\r 54%|█████▍    | 108/199 [1:20:21<1:07:19, 44.39s/it]"
          ]
        },
        {
          "output_type": "stream",
          "name": "stdout",
          "text": [
            "Loaded model: /content/unzipped_folder/content/models/2023-05-06_14-03-38/epoch_0110/dynamics.pth\n"
          ]
        },
        {
          "output_type": "stream",
          "name": "stderr",
          "text": [
            "\r 55%|█████▍    | 109/199 [1:21:01<1:04:23, 42.93s/it]"
          ]
        },
        {
          "output_type": "stream",
          "name": "stdout",
          "text": [
            "Loaded model: /content/unzipped_folder/content/models/2023-05-06_14-03-38/epoch_0111/dynamics.pth\n"
          ]
        },
        {
          "output_type": "stream",
          "name": "stderr",
          "text": [
            "\r 55%|█████▌    | 110/199 [1:21:49<1:05:59, 44.49s/it]"
          ]
        },
        {
          "output_type": "stream",
          "name": "stdout",
          "text": [
            "Loaded model: /content/unzipped_folder/content/models/2023-05-06_14-03-38/epoch_0112/dynamics.pth\n"
          ]
        },
        {
          "output_type": "stream",
          "name": "stderr",
          "text": [
            "\r 56%|█████▌    | 111/199 [1:22:32<1:04:44, 44.14s/it]"
          ]
        },
        {
          "output_type": "stream",
          "name": "stdout",
          "text": [
            "Loaded model: /content/unzipped_folder/content/models/2023-05-06_14-03-38/epoch_0113/dynamics.pth\n"
          ]
        },
        {
          "output_type": "stream",
          "name": "stderr",
          "text": [
            "\r 56%|█████▋    | 112/199 [1:23:14<1:03:07, 43.53s/it]"
          ]
        },
        {
          "output_type": "stream",
          "name": "stdout",
          "text": [
            "Loaded model: /content/unzipped_folder/content/models/2023-05-06_14-03-38/epoch_0114/dynamics.pth\n"
          ]
        },
        {
          "output_type": "stream",
          "name": "stderr",
          "text": [
            "\r 57%|█████▋    | 113/199 [1:23:59<1:03:03, 43.99s/it]"
          ]
        },
        {
          "output_type": "stream",
          "name": "stdout",
          "text": [
            "Loaded model: /content/unzipped_folder/content/models/2023-05-06_14-03-38/epoch_0115/dynamics.pth\n"
          ]
        },
        {
          "output_type": "stream",
          "name": "stderr",
          "text": [
            "\r 57%|█████▋    | 114/199 [1:24:42<1:01:36, 43.49s/it]"
          ]
        },
        {
          "output_type": "stream",
          "name": "stdout",
          "text": [
            "Loaded model: /content/unzipped_folder/content/models/2023-05-06_14-03-38/epoch_0116/dynamics.pth\n"
          ]
        },
        {
          "output_type": "stream",
          "name": "stderr",
          "text": [
            "\r 58%|█████▊    | 115/199 [1:25:24<1:00:29, 43.21s/it]"
          ]
        },
        {
          "output_type": "stream",
          "name": "stdout",
          "text": [
            "Loaded model: /content/unzipped_folder/content/models/2023-05-06_14-03-38/epoch_0117/dynamics.pth\n"
          ]
        },
        {
          "output_type": "stream",
          "name": "stderr",
          "text": [
            "\r 58%|█████▊    | 116/199 [1:26:07<59:37, 43.10s/it]  "
          ]
        },
        {
          "output_type": "stream",
          "name": "stdout",
          "text": [
            "Loaded model: /content/unzipped_folder/content/models/2023-05-06_14-03-38/epoch_0118/dynamics.pth\n"
          ]
        },
        {
          "output_type": "stream",
          "name": "stderr",
          "text": [
            "\r 59%|█████▉    | 117/199 [1:26:47<57:37, 42.17s/it]"
          ]
        },
        {
          "output_type": "stream",
          "name": "stdout",
          "text": [
            "Loaded model: /content/unzipped_folder/content/models/2023-05-06_14-03-38/epoch_0119/dynamics.pth\n"
          ]
        },
        {
          "output_type": "stream",
          "name": "stderr",
          "text": [
            "\r 59%|█████▉    | 118/199 [1:27:30<57:20, 42.47s/it]"
          ]
        },
        {
          "output_type": "stream",
          "name": "stdout",
          "text": [
            "Loaded model: /content/unzipped_folder/content/models/2023-05-06_14-03-38/epoch_0120/dynamics.pth\n"
          ]
        },
        {
          "output_type": "stream",
          "name": "stderr",
          "text": [
            "\r 60%|█████▉    | 119/199 [1:28:17<58:33, 43.92s/it]"
          ]
        },
        {
          "output_type": "stream",
          "name": "stdout",
          "text": [
            "Loaded model: /content/unzipped_folder/content/models/2023-05-06_14-03-38/epoch_0121/dynamics.pth\n"
          ]
        },
        {
          "output_type": "stream",
          "name": "stderr",
          "text": [
            "\r 60%|██████    | 120/199 [1:29:02<58:05, 44.12s/it]"
          ]
        },
        {
          "output_type": "stream",
          "name": "stdout",
          "text": [
            "Loaded model: /content/unzipped_folder/content/models/2023-05-06_14-03-38/epoch_0122/dynamics.pth\n"
          ]
        },
        {
          "output_type": "stream",
          "name": "stderr",
          "text": [
            "\r 61%|██████    | 121/199 [1:29:44<56:27, 43.43s/it]"
          ]
        },
        {
          "output_type": "stream",
          "name": "stdout",
          "text": [
            "Loaded model: /content/unzipped_folder/content/models/2023-05-06_14-03-38/epoch_0123/dynamics.pth\n"
          ]
        },
        {
          "output_type": "stream",
          "name": "stderr",
          "text": [
            "\r 61%|██████▏   | 122/199 [1:30:28<56:01, 43.66s/it]"
          ]
        },
        {
          "output_type": "stream",
          "name": "stdout",
          "text": [
            "Loaded model: /content/unzipped_folder/content/models/2023-05-06_14-03-38/epoch_0124/dynamics.pth\n"
          ]
        },
        {
          "output_type": "stream",
          "name": "stderr",
          "text": [
            "\r 62%|██████▏   | 123/199 [1:31:14<56:08, 44.32s/it]"
          ]
        },
        {
          "output_type": "stream",
          "name": "stdout",
          "text": [
            "Loaded model: /content/unzipped_folder/content/models/2023-05-06_14-03-38/epoch_0125/dynamics.pth\n"
          ]
        },
        {
          "output_type": "stream",
          "name": "stderr",
          "text": [
            "\r 62%|██████▏   | 124/199 [1:31:59<55:31, 44.42s/it]"
          ]
        },
        {
          "output_type": "stream",
          "name": "stdout",
          "text": [
            "Loaded model: /content/unzipped_folder/content/models/2023-05-06_14-03-38/epoch_0126/dynamics.pth\n"
          ]
        },
        {
          "output_type": "stream",
          "name": "stderr",
          "text": [
            "\r 63%|██████▎   | 125/199 [1:32:44<55:09, 44.72s/it]"
          ]
        },
        {
          "output_type": "stream",
          "name": "stdout",
          "text": [
            "Loaded model: /content/unzipped_folder/content/models/2023-05-06_14-03-38/epoch_0127/dynamics.pth\n"
          ]
        },
        {
          "output_type": "stream",
          "name": "stderr",
          "text": [
            "\r 63%|██████▎   | 126/199 [1:33:26<53:26, 43.92s/it]"
          ]
        },
        {
          "output_type": "stream",
          "name": "stdout",
          "text": [
            "Loaded model: /content/unzipped_folder/content/models/2023-05-06_14-03-38/epoch_0128/dynamics.pth\n"
          ]
        },
        {
          "output_type": "stream",
          "name": "stderr",
          "text": [
            "\r 64%|██████▍   | 127/199 [1:34:14<54:15, 45.22s/it]"
          ]
        },
        {
          "output_type": "stream",
          "name": "stdout",
          "text": [
            "Loaded model: /content/unzipped_folder/content/models/2023-05-06_14-03-38/epoch_0129/dynamics.pth\n"
          ]
        },
        {
          "output_type": "stream",
          "name": "stderr",
          "text": [
            "\r 64%|██████▍   | 128/199 [1:34:58<53:08, 44.90s/it]"
          ]
        },
        {
          "output_type": "stream",
          "name": "stdout",
          "text": [
            "Loaded model: /content/unzipped_folder/content/models/2023-05-06_14-03-38/epoch_0130/dynamics.pth\n"
          ]
        },
        {
          "output_type": "stream",
          "name": "stderr",
          "text": [
            "\r 65%|██████▍   | 129/199 [1:35:43<52:12, 44.75s/it]"
          ]
        },
        {
          "output_type": "stream",
          "name": "stdout",
          "text": [
            "Loaded model: /content/unzipped_folder/content/models/2023-05-06_14-03-38/epoch_0131/dynamics.pth\n"
          ]
        },
        {
          "output_type": "stream",
          "name": "stderr",
          "text": [
            "\r 65%|██████▌   | 130/199 [1:36:28<51:39, 44.93s/it]"
          ]
        },
        {
          "output_type": "stream",
          "name": "stdout",
          "text": [
            "Loaded model: /content/unzipped_folder/content/models/2023-05-06_14-03-38/epoch_0132/dynamics.pth\n"
          ]
        },
        {
          "output_type": "stream",
          "name": "stderr",
          "text": [
            "\r 66%|██████▌   | 131/199 [1:37:12<50:35, 44.64s/it]"
          ]
        },
        {
          "output_type": "stream",
          "name": "stdout",
          "text": [
            "Loaded model: /content/unzipped_folder/content/models/2023-05-06_14-03-38/epoch_0133/dynamics.pth\n"
          ]
        },
        {
          "output_type": "stream",
          "name": "stderr",
          "text": [
            "\r 66%|██████▋   | 132/199 [1:37:59<50:34, 45.29s/it]"
          ]
        },
        {
          "output_type": "stream",
          "name": "stdout",
          "text": [
            "Loaded model: /content/unzipped_folder/content/models/2023-05-06_14-03-38/epoch_0134/dynamics.pth\n"
          ]
        },
        {
          "output_type": "stream",
          "name": "stderr",
          "text": [
            "\r 67%|██████▋   | 133/199 [1:38:39<48:03, 43.68s/it]"
          ]
        },
        {
          "output_type": "stream",
          "name": "stdout",
          "text": [
            "Loaded model: /content/unzipped_folder/content/models/2023-05-06_14-03-38/epoch_0135/dynamics.pth\n"
          ]
        },
        {
          "output_type": "stream",
          "name": "stderr",
          "text": [
            "\r 67%|██████▋   | 134/199 [1:39:19<46:03, 42.52s/it]"
          ]
        },
        {
          "output_type": "stream",
          "name": "stdout",
          "text": [
            "Loaded model: /content/unzipped_folder/content/models/2023-05-06_14-03-38/epoch_0136/dynamics.pth\n"
          ]
        },
        {
          "output_type": "stream",
          "name": "stderr",
          "text": [
            "\r 68%|██████▊   | 135/199 [1:40:05<46:29, 43.59s/it]"
          ]
        },
        {
          "output_type": "stream",
          "name": "stdout",
          "text": [
            "Loaded model: /content/unzipped_folder/content/models/2023-05-06_14-03-38/epoch_0137/dynamics.pth\n"
          ]
        },
        {
          "output_type": "stream",
          "name": "stderr",
          "text": [
            "\r 68%|██████▊   | 136/199 [1:40:49<45:54, 43.72s/it]"
          ]
        },
        {
          "output_type": "stream",
          "name": "stdout",
          "text": [
            "Loaded model: /content/unzipped_folder/content/models/2023-05-06_14-03-38/epoch_0138/dynamics.pth\n"
          ]
        },
        {
          "output_type": "stream",
          "name": "stderr",
          "text": [
            "\r 69%|██████▉   | 137/199 [1:41:38<47:00, 45.49s/it]"
          ]
        },
        {
          "output_type": "stream",
          "name": "stdout",
          "text": [
            "Loaded model: /content/unzipped_folder/content/models/2023-05-06_14-03-38/epoch_0139/dynamics.pth\n"
          ]
        },
        {
          "output_type": "stream",
          "name": "stderr",
          "text": [
            "\r 69%|██████▉   | 138/199 [1:42:24<46:11, 45.43s/it]"
          ]
        },
        {
          "output_type": "stream",
          "name": "stdout",
          "text": [
            "Loaded model: /content/unzipped_folder/content/models/2023-05-06_14-03-38/epoch_0140/dynamics.pth\n"
          ]
        },
        {
          "output_type": "stream",
          "name": "stderr",
          "text": [
            "\r 70%|██████▉   | 139/199 [1:43:15<47:15, 47.25s/it]"
          ]
        },
        {
          "output_type": "stream",
          "name": "stdout",
          "text": [
            "Loaded model: /content/unzipped_folder/content/models/2023-05-06_14-03-38/epoch_0141/dynamics.pth\n"
          ]
        },
        {
          "output_type": "stream",
          "name": "stderr",
          "text": [
            "\r 70%|███████   | 140/199 [1:43:59<45:34, 46.34s/it]"
          ]
        },
        {
          "output_type": "stream",
          "name": "stdout",
          "text": [
            "Loaded model: /content/unzipped_folder/content/models/2023-05-06_14-03-38/epoch_0142/dynamics.pth\n"
          ]
        },
        {
          "output_type": "stream",
          "name": "stderr",
          "text": [
            "\r 71%|███████   | 141/199 [1:44:41<43:32, 45.04s/it]"
          ]
        },
        {
          "output_type": "stream",
          "name": "stdout",
          "text": [
            "Loaded model: /content/unzipped_folder/content/models/2023-05-06_14-03-38/epoch_0143/dynamics.pth\n"
          ]
        },
        {
          "output_type": "stream",
          "name": "stderr",
          "text": [
            "\r 71%|███████▏  | 142/199 [1:45:25<42:26, 44.67s/it]"
          ]
        },
        {
          "output_type": "stream",
          "name": "stdout",
          "text": [
            "Loaded model: /content/unzipped_folder/content/models/2023-05-06_14-03-38/epoch_0144/dynamics.pth\n"
          ]
        },
        {
          "output_type": "stream",
          "name": "stderr",
          "text": [
            "\r 72%|███████▏  | 143/199 [1:46:09<41:20, 44.29s/it]"
          ]
        },
        {
          "output_type": "stream",
          "name": "stdout",
          "text": [
            "Loaded model: /content/unzipped_folder/content/models/2023-05-06_14-03-38/epoch_0145/dynamics.pth\n"
          ]
        },
        {
          "output_type": "stream",
          "name": "stderr",
          "text": [
            "\r 72%|███████▏  | 144/199 [1:46:54<40:56, 44.66s/it]"
          ]
        },
        {
          "output_type": "stream",
          "name": "stdout",
          "text": [
            "Loaded model: /content/unzipped_folder/content/models/2023-05-06_14-03-38/epoch_0146/dynamics.pth\n"
          ]
        },
        {
          "output_type": "stream",
          "name": "stderr",
          "text": [
            "\r 73%|███████▎  | 145/199 [1:47:36<39:24, 43.79s/it]"
          ]
        },
        {
          "output_type": "stream",
          "name": "stdout",
          "text": [
            "Loaded model: /content/unzipped_folder/content/models/2023-05-06_14-03-38/epoch_0147/dynamics.pth\n"
          ]
        },
        {
          "output_type": "stream",
          "name": "stderr",
          "text": [
            "\r 73%|███████▎  | 146/199 [1:48:19<38:22, 43.44s/it]"
          ]
        },
        {
          "output_type": "stream",
          "name": "stdout",
          "text": [
            "Loaded model: /content/unzipped_folder/content/models/2023-05-06_14-03-38/epoch_0148/dynamics.pth\n"
          ]
        },
        {
          "output_type": "stream",
          "name": "stderr",
          "text": [
            "\r 74%|███████▍  | 147/199 [1:49:01<37:29, 43.25s/it]"
          ]
        },
        {
          "output_type": "stream",
          "name": "stdout",
          "text": [
            "Loaded model: /content/unzipped_folder/content/models/2023-05-06_14-03-38/epoch_0149/dynamics.pth\n"
          ]
        },
        {
          "output_type": "stream",
          "name": "stderr",
          "text": [
            "\r 74%|███████▍  | 148/199 [1:49:48<37:34, 44.20s/it]"
          ]
        },
        {
          "output_type": "stream",
          "name": "stdout",
          "text": [
            "Loaded model: /content/unzipped_folder/content/models/2023-05-06_14-03-38/epoch_0150/dynamics.pth\n"
          ]
        },
        {
          "output_type": "stream",
          "name": "stderr",
          "text": [
            "\r 75%|███████▍  | 149/199 [1:50:33<37:10, 44.61s/it]"
          ]
        },
        {
          "output_type": "stream",
          "name": "stdout",
          "text": [
            "Loaded model: /content/unzipped_folder/content/models/2023-05-06_14-03-38/epoch_0151/dynamics.pth\n"
          ]
        },
        {
          "output_type": "stream",
          "name": "stderr",
          "text": [
            "\r 75%|███████▌  | 150/199 [1:51:24<37:50, 46.34s/it]"
          ]
        },
        {
          "output_type": "stream",
          "name": "stdout",
          "text": [
            "Loaded model: /content/unzipped_folder/content/models/2023-05-06_14-03-38/epoch_0152/dynamics.pth\n"
          ]
        },
        {
          "output_type": "stream",
          "name": "stderr",
          "text": [
            "\r 76%|███████▌  | 151/199 [1:52:06<36:00, 45.02s/it]"
          ]
        },
        {
          "output_type": "stream",
          "name": "stdout",
          "text": [
            "Loaded model: /content/unzipped_folder/content/models/2023-05-06_14-03-38/epoch_0153/dynamics.pth\n"
          ]
        },
        {
          "output_type": "stream",
          "name": "stderr",
          "text": [
            "\r 76%|███████▋  | 152/199 [1:52:50<35:09, 44.89s/it]"
          ]
        },
        {
          "output_type": "stream",
          "name": "stdout",
          "text": [
            "Loaded model: /content/unzipped_folder/content/models/2023-05-06_14-03-38/epoch_0154/dynamics.pth\n"
          ]
        },
        {
          "output_type": "stream",
          "name": "stderr",
          "text": [
            "\r 77%|███████▋  | 153/199 [1:53:33<33:54, 44.24s/it]"
          ]
        },
        {
          "output_type": "stream",
          "name": "stdout",
          "text": [
            "Loaded model: /content/unzipped_folder/content/models/2023-05-06_14-03-38/epoch_0155/dynamics.pth\n"
          ]
        },
        {
          "output_type": "stream",
          "name": "stderr",
          "text": [
            "\r 77%|███████▋  | 154/199 [1:54:20<33:43, 44.98s/it]"
          ]
        },
        {
          "output_type": "stream",
          "name": "stdout",
          "text": [
            "Loaded model: /content/unzipped_folder/content/models/2023-05-06_14-03-38/epoch_0156/dynamics.pth\n"
          ]
        },
        {
          "output_type": "stream",
          "name": "stderr",
          "text": [
            "\r 78%|███████▊  | 155/199 [1:55:06<33:17, 45.39s/it]"
          ]
        },
        {
          "output_type": "stream",
          "name": "stdout",
          "text": [
            "Loaded model: /content/unzipped_folder/content/models/2023-05-06_14-03-38/epoch_0157/dynamics.pth\n"
          ]
        },
        {
          "output_type": "stream",
          "name": "stderr",
          "text": [
            "\r 78%|███████▊  | 156/199 [1:55:49<32:01, 44.69s/it]"
          ]
        },
        {
          "output_type": "stream",
          "name": "stdout",
          "text": [
            "Loaded model: /content/unzipped_folder/content/models/2023-05-06_14-03-38/epoch_0158/dynamics.pth\n"
          ]
        },
        {
          "output_type": "stream",
          "name": "stderr",
          "text": [
            "\r 79%|███████▉  | 157/199 [1:56:37<31:55, 45.61s/it]"
          ]
        },
        {
          "output_type": "stream",
          "name": "stdout",
          "text": [
            "Loaded model: /content/unzipped_folder/content/models/2023-05-06_14-03-38/epoch_0159/dynamics.pth\n"
          ]
        },
        {
          "output_type": "stream",
          "name": "stderr",
          "text": [
            "\r 79%|███████▉  | 158/199 [1:57:20<30:39, 44.86s/it]"
          ]
        },
        {
          "output_type": "stream",
          "name": "stdout",
          "text": [
            "Loaded model: /content/unzipped_folder/content/models/2023-05-06_14-03-38/epoch_0160/dynamics.pth\n"
          ]
        },
        {
          "output_type": "stream",
          "name": "stderr",
          "text": [
            "\r 80%|███████▉  | 159/199 [1:58:06<30:07, 45.20s/it]"
          ]
        },
        {
          "output_type": "stream",
          "name": "stdout",
          "text": [
            "Loaded model: /content/unzipped_folder/content/models/2023-05-06_14-03-38/epoch_0161/dynamics.pth\n"
          ]
        },
        {
          "output_type": "stream",
          "name": "stderr",
          "text": [
            "\r 80%|████████  | 160/199 [1:58:49<29:00, 44.63s/it]"
          ]
        },
        {
          "output_type": "stream",
          "name": "stdout",
          "text": [
            "Loaded model: /content/unzipped_folder/content/models/2023-05-06_14-03-38/epoch_0162/dynamics.pth\n"
          ]
        },
        {
          "output_type": "stream",
          "name": "stderr",
          "text": [
            "\r 81%|████████  | 161/199 [1:59:30<27:33, 43.52s/it]"
          ]
        },
        {
          "output_type": "stream",
          "name": "stdout",
          "text": [
            "Loaded model: /content/unzipped_folder/content/models/2023-05-06_14-03-38/epoch_0163/dynamics.pth\n"
          ]
        },
        {
          "output_type": "stream",
          "name": "stderr",
          "text": [
            "\r 81%|████████▏ | 162/199 [2:00:17<27:24, 44.45s/it]"
          ]
        },
        {
          "output_type": "stream",
          "name": "stdout",
          "text": [
            "Loaded model: /content/unzipped_folder/content/models/2023-05-06_14-03-38/epoch_0164/dynamics.pth\n"
          ]
        },
        {
          "output_type": "stream",
          "name": "stderr",
          "text": [
            "\r 82%|████████▏ | 163/199 [2:01:01<26:40, 44.46s/it]"
          ]
        },
        {
          "output_type": "stream",
          "name": "stdout",
          "text": [
            "Loaded model: /content/unzipped_folder/content/models/2023-05-06_14-03-38/epoch_0165/dynamics.pth\n"
          ]
        },
        {
          "output_type": "stream",
          "name": "stderr",
          "text": [
            "\r 82%|████████▏ | 164/199 [2:01:40<25:00, 42.88s/it]"
          ]
        },
        {
          "output_type": "stream",
          "name": "stdout",
          "text": [
            "Loaded model: /content/unzipped_folder/content/models/2023-05-06_14-03-38/epoch_0166/dynamics.pth\n"
          ]
        },
        {
          "output_type": "stream",
          "name": "stderr",
          "text": [
            "\r 83%|████████▎ | 165/199 [2:02:26<24:48, 43.78s/it]"
          ]
        },
        {
          "output_type": "stream",
          "name": "stdout",
          "text": [
            "Loaded model: /content/unzipped_folder/content/models/2023-05-06_14-03-38/epoch_0167/dynamics.pth\n"
          ]
        },
        {
          "output_type": "stream",
          "name": "stderr",
          "text": [
            "\r 83%|████████▎ | 166/199 [2:03:03<22:57, 41.75s/it]"
          ]
        },
        {
          "output_type": "stream",
          "name": "stdout",
          "text": [
            "Loaded model: /content/unzipped_folder/content/models/2023-05-06_14-03-38/epoch_0168/dynamics.pth\n"
          ]
        },
        {
          "output_type": "stream",
          "name": "stderr",
          "text": [
            "\r 84%|████████▍ | 167/199 [2:03:50<23:04, 43.27s/it]"
          ]
        },
        {
          "output_type": "stream",
          "name": "stdout",
          "text": [
            "Loaded model: /content/unzipped_folder/content/models/2023-05-06_14-03-38/epoch_0169/dynamics.pth\n"
          ]
        },
        {
          "output_type": "stream",
          "name": "stderr",
          "text": [
            "\r 84%|████████▍ | 168/199 [2:04:35<22:32, 43.64s/it]"
          ]
        },
        {
          "output_type": "stream",
          "name": "stdout",
          "text": [
            "Loaded model: /content/unzipped_folder/content/models/2023-05-06_14-03-38/epoch_0170/dynamics.pth\n"
          ]
        },
        {
          "output_type": "stream",
          "name": "stderr",
          "text": [
            "\r 85%|████████▍ | 169/199 [2:05:18<21:45, 43.51s/it]"
          ]
        },
        {
          "output_type": "stream",
          "name": "stdout",
          "text": [
            "Loaded model: /content/unzipped_folder/content/models/2023-05-06_14-03-38/epoch_0171/dynamics.pth\n"
          ]
        },
        {
          "output_type": "stream",
          "name": "stderr",
          "text": [
            "\r 85%|████████▌ | 170/199 [2:06:02<21:09, 43.77s/it]"
          ]
        },
        {
          "output_type": "stream",
          "name": "stdout",
          "text": [
            "Loaded model: /content/unzipped_folder/content/models/2023-05-06_14-03-38/epoch_0172/dynamics.pth\n"
          ]
        },
        {
          "output_type": "stream",
          "name": "stderr",
          "text": [
            "\r 86%|████████▌ | 171/199 [2:06:44<20:10, 43.23s/it]"
          ]
        },
        {
          "output_type": "stream",
          "name": "stdout",
          "text": [
            "Loaded model: /content/unzipped_folder/content/models/2023-05-06_14-03-38/epoch_0173/dynamics.pth\n"
          ]
        },
        {
          "output_type": "stream",
          "name": "stderr",
          "text": [
            "\r 86%|████████▋ | 172/199 [2:07:25<19:10, 42.60s/it]"
          ]
        },
        {
          "output_type": "stream",
          "name": "stdout",
          "text": [
            "Loaded model: /content/unzipped_folder/content/models/2023-05-06_14-03-38/epoch_0174/dynamics.pth\n"
          ]
        },
        {
          "output_type": "stream",
          "name": "stderr",
          "text": [
            "\r 87%|████████▋ | 173/199 [2:08:11<18:53, 43.59s/it]"
          ]
        },
        {
          "output_type": "stream",
          "name": "stdout",
          "text": [
            "Loaded model: /content/unzipped_folder/content/models/2023-05-06_14-03-38/epoch_0175/dynamics.pth\n"
          ]
        },
        {
          "output_type": "stream",
          "name": "stderr",
          "text": [
            "\r 87%|████████▋ | 174/199 [2:08:52<17:48, 42.75s/it]"
          ]
        },
        {
          "output_type": "stream",
          "name": "stdout",
          "text": [
            "Loaded model: /content/unzipped_folder/content/models/2023-05-06_14-03-38/epoch_0176/dynamics.pth\n"
          ]
        },
        {
          "output_type": "stream",
          "name": "stderr",
          "text": [
            "\r 88%|████████▊ | 175/199 [2:09:38<17:30, 43.75s/it]"
          ]
        },
        {
          "output_type": "stream",
          "name": "stdout",
          "text": [
            "Loaded model: /content/unzipped_folder/content/models/2023-05-06_14-03-38/epoch_0177/dynamics.pth\n"
          ]
        },
        {
          "output_type": "stream",
          "name": "stderr",
          "text": [
            "\r 88%|████████▊ | 176/199 [2:10:21<16:40, 43.50s/it]"
          ]
        },
        {
          "output_type": "stream",
          "name": "stdout",
          "text": [
            "Loaded model: /content/unzipped_folder/content/models/2023-05-06_14-03-38/epoch_0178/dynamics.pth\n"
          ]
        },
        {
          "output_type": "stream",
          "name": "stderr",
          "text": [
            "\r 89%|████████▉ | 177/199 [2:11:06<16:03, 43.81s/it]"
          ]
        },
        {
          "output_type": "stream",
          "name": "stdout",
          "text": [
            "Loaded model: /content/unzipped_folder/content/models/2023-05-06_14-03-38/epoch_0179/dynamics.pth\n"
          ]
        },
        {
          "output_type": "stream",
          "name": "stderr",
          "text": [
            "\r 89%|████████▉ | 178/199 [2:11:49<15:18, 43.76s/it]"
          ]
        },
        {
          "output_type": "stream",
          "name": "stdout",
          "text": [
            "Loaded model: /content/unzipped_folder/content/models/2023-05-06_14-03-38/epoch_0180/dynamics.pth\n"
          ]
        },
        {
          "output_type": "stream",
          "name": "stderr",
          "text": [
            "\r 90%|████████▉ | 179/199 [2:12:36<14:51, 44.58s/it]"
          ]
        },
        {
          "output_type": "stream",
          "name": "stdout",
          "text": [
            "Loaded model: /content/unzipped_folder/content/models/2023-05-06_14-03-38/epoch_0181/dynamics.pth\n"
          ]
        },
        {
          "output_type": "stream",
          "name": "stderr",
          "text": [
            "\r 90%|█████████ | 180/199 [2:13:18<13:51, 43.79s/it]"
          ]
        },
        {
          "output_type": "stream",
          "name": "stdout",
          "text": [
            "Loaded model: /content/unzipped_folder/content/models/2023-05-06_14-03-38/epoch_0182/dynamics.pth\n"
          ]
        },
        {
          "output_type": "stream",
          "name": "stderr",
          "text": [
            "\r 91%|█████████ | 181/199 [2:14:03<13:16, 44.25s/it]"
          ]
        },
        {
          "output_type": "stream",
          "name": "stdout",
          "text": [
            "Loaded model: /content/unzipped_folder/content/models/2023-05-06_14-03-38/epoch_0183/dynamics.pth\n"
          ]
        },
        {
          "output_type": "stream",
          "name": "stderr",
          "text": [
            "\r 91%|█████████▏| 182/199 [2:14:44<12:14, 43.23s/it]"
          ]
        },
        {
          "output_type": "stream",
          "name": "stdout",
          "text": [
            "Loaded model: /content/unzipped_folder/content/models/2023-05-06_14-03-38/epoch_0184/dynamics.pth\n"
          ]
        },
        {
          "output_type": "stream",
          "name": "stderr",
          "text": [
            "\r 92%|█████████▏| 183/199 [2:15:26<11:24, 42.79s/it]"
          ]
        },
        {
          "output_type": "stream",
          "name": "stdout",
          "text": [
            "Loaded model: /content/unzipped_folder/content/models/2023-05-06_14-03-38/epoch_0185/dynamics.pth\n"
          ]
        },
        {
          "output_type": "stream",
          "name": "stderr",
          "text": [
            "\r 92%|█████████▏| 184/199 [2:16:10<10:50, 43.37s/it]"
          ]
        },
        {
          "output_type": "stream",
          "name": "stdout",
          "text": [
            "Loaded model: /content/unzipped_folder/content/models/2023-05-06_14-03-38/epoch_0186/dynamics.pth\n"
          ]
        },
        {
          "output_type": "stream",
          "name": "stderr",
          "text": [
            "\r 93%|█████████▎| 185/199 [2:16:53<10:05, 43.24s/it]"
          ]
        },
        {
          "output_type": "stream",
          "name": "stdout",
          "text": [
            "Loaded model: /content/unzipped_folder/content/models/2023-05-06_14-03-38/epoch_0187/dynamics.pth\n"
          ]
        },
        {
          "output_type": "stream",
          "name": "stderr",
          "text": [
            "\r 93%|█████████▎| 186/199 [2:17:40<09:37, 44.43s/it]"
          ]
        },
        {
          "output_type": "stream",
          "name": "stdout",
          "text": [
            "Loaded model: /content/unzipped_folder/content/models/2023-05-06_14-03-38/epoch_0188/dynamics.pth\n"
          ]
        },
        {
          "output_type": "stream",
          "name": "stderr",
          "text": [
            "\r 94%|█████████▍| 187/199 [2:18:28<09:02, 45.24s/it]"
          ]
        },
        {
          "output_type": "stream",
          "name": "stdout",
          "text": [
            "Loaded model: /content/unzipped_folder/content/models/2023-05-06_14-03-38/epoch_0189/dynamics.pth\n"
          ]
        },
        {
          "output_type": "stream",
          "name": "stderr",
          "text": [
            "\r 94%|█████████▍| 188/199 [2:19:07<07:59, 43.55s/it]"
          ]
        },
        {
          "output_type": "stream",
          "name": "stdout",
          "text": [
            "Loaded model: /content/unzipped_folder/content/models/2023-05-06_14-03-38/epoch_0190/dynamics.pth\n"
          ]
        },
        {
          "output_type": "stream",
          "name": "stderr",
          "text": [
            "\r 95%|█████████▍| 189/199 [2:19:53<07:22, 44.26s/it]"
          ]
        },
        {
          "output_type": "stream",
          "name": "stdout",
          "text": [
            "Loaded model: /content/unzipped_folder/content/models/2023-05-06_14-03-38/epoch_0191/dynamics.pth\n"
          ]
        },
        {
          "output_type": "stream",
          "name": "stderr",
          "text": [
            "\r 95%|█████████▌| 190/199 [2:20:33<06:26, 42.99s/it]"
          ]
        },
        {
          "output_type": "stream",
          "name": "stdout",
          "text": [
            "Loaded model: /content/unzipped_folder/content/models/2023-05-06_14-03-38/epoch_0192/dynamics.pth\n"
          ]
        },
        {
          "output_type": "stream",
          "name": "stderr",
          "text": [
            "\r 96%|█████████▌| 191/199 [2:21:16<05:43, 42.92s/it]"
          ]
        },
        {
          "output_type": "stream",
          "name": "stdout",
          "text": [
            "Loaded model: /content/unzipped_folder/content/models/2023-05-06_14-03-38/epoch_0193/dynamics.pth\n"
          ]
        },
        {
          "output_type": "stream",
          "name": "stderr",
          "text": [
            "\r 96%|█████████▋| 192/199 [2:21:57<04:56, 42.37s/it]"
          ]
        },
        {
          "output_type": "stream",
          "name": "stdout",
          "text": [
            "Loaded model: /content/unzipped_folder/content/models/2023-05-06_14-03-38/epoch_0194/dynamics.pth\n"
          ]
        },
        {
          "output_type": "stream",
          "name": "stderr",
          "text": [
            "\r 97%|█████████▋| 193/199 [2:22:36<04:07, 41.29s/it]"
          ]
        },
        {
          "output_type": "stream",
          "name": "stdout",
          "text": [
            "Loaded model: /content/unzipped_folder/content/models/2023-05-06_14-03-38/epoch_0195/dynamics.pth\n"
          ]
        },
        {
          "output_type": "stream",
          "name": "stderr",
          "text": [
            "\r 97%|█████████▋| 194/199 [2:23:19<03:29, 41.88s/it]"
          ]
        },
        {
          "output_type": "stream",
          "name": "stdout",
          "text": [
            "Loaded model: /content/unzipped_folder/content/models/2023-05-06_14-03-38/epoch_0196/dynamics.pth\n"
          ]
        },
        {
          "output_type": "stream",
          "name": "stderr",
          "text": [
            "\r 98%|█████████▊| 195/199 [2:24:08<02:56, 44.14s/it]"
          ]
        },
        {
          "output_type": "stream",
          "name": "stdout",
          "text": [
            "Loaded model: /content/unzipped_folder/content/models/2023-05-06_14-03-38/epoch_0197/dynamics.pth\n"
          ]
        },
        {
          "output_type": "stream",
          "name": "stderr",
          "text": [
            "\r 98%|█████████▊| 196/199 [2:24:53<02:12, 44.22s/it]"
          ]
        },
        {
          "output_type": "stream",
          "name": "stdout",
          "text": [
            "Loaded model: /content/unzipped_folder/content/models/2023-05-06_14-03-38/epoch_0198/dynamics.pth\n"
          ]
        },
        {
          "output_type": "stream",
          "name": "stderr",
          "text": [
            "\r 99%|█████████▉| 197/199 [2:25:42<01:31, 45.75s/it]"
          ]
        },
        {
          "output_type": "stream",
          "name": "stdout",
          "text": [
            "Loaded model: /content/unzipped_folder/content/models/2023-05-06_14-03-38/epoch_0199/dynamics.pth\n"
          ]
        },
        {
          "output_type": "stream",
          "name": "stderr",
          "text": [
            "\r 99%|█████████▉| 198/199 [2:26:24<00:44, 44.50s/it]"
          ]
        },
        {
          "output_type": "stream",
          "name": "stdout",
          "text": [
            "Loaded model: /content/unzipped_folder/content/models/2023-05-06_14-03-38/epoch_0200/dynamics.pth\n"
          ]
        },
        {
          "output_type": "stream",
          "name": "stderr",
          "text": [
            "100%|██████████| 199/199 [2:27:04<00:00, 44.35s/it]\n"
          ]
        }
      ],
      "source": [
        "import sys\n",
        "import numpy as np\n",
        "from arm_dynamics_teacher import ArmDynamicsTeacher\n",
        "from robot import Robot\n",
        "from render import Renderer\n",
        "from score import *\n",
        "import torch\n",
        "import time\n",
        "\n",
        "# Teacher arm with 2 links\n",
        "dynamics_teacher = ArmDynamicsTeacher(\n",
        "    num_links=2,\n",
        "    link_mass=0.1,\n",
        "    link_length=1,\n",
        "    joint_viscous_friction=0.1,\n",
        "    dt=0.01)\n",
        "\n",
        "arm = Robot(dynamics_teacher)\n",
        "arm.reset()\n",
        "\n",
        "gui = False\n",
        "action = np.zeros((arm.dynamics.get_action_dim(), 1))\n",
        "if gui:\n",
        "  renderer = Renderer()\n",
        "  time.sleep(1)\n",
        "\n",
        "def sample_goal():\n",
        "      goal = np.zeros((2,1))\n",
        "      r = np.random.uniform(low=0.05, high=1.95)\n",
        "      theta = np.random.uniform(low=np.pi, high=2.0*np.pi)\n",
        "      goal[0,0] = r * np.cos(theta)\n",
        "      goal[1,0] = r * np.sin(theta)\n",
        "      return goal\n",
        "\n",
        "\n",
        "# Controller\n",
        "controller = MPC()\n",
        "dynamics_student = ArmDynamicsStudent(\n",
        "    num_links=2,\n",
        "    link_mass=0.1,\n",
        "    link_length=1,\n",
        "    joint_viscous_friction=0.1,\n",
        "    dt=0.01)\n",
        "device = torch.device('cpu')\n",
        "\n",
        "\n",
        "\n",
        "dist_err_epoch = []\n",
        "vel_ee_err_epoch = [] \n",
        "num_points = 5\n",
        "\n",
        "dt = 0.01\n",
        "time_limit = 2\n",
        "num_steps = round(time_limit/dt)\n",
        "\n",
        "\n",
        "model_dir = '/content/unzipped_folder/content/models/2023-05-06_14-03-38'\n",
        "\n",
        "from tqdm import tqdm \n",
        "for epoch in tqdm(range(2, 201)):\n",
        "    model_folder = f'epoch_{epoch:04d}'\n",
        "    model_path = os.path.join(model_dir, model_folder, 'dynamics.pth')\n",
        "\n",
        "    if os.path.exists(model_path):\n",
        "        dynamics_student.init_model(model_path, 2, 0.01, device)\n",
        "        print(f\"Loaded model: {model_path}\")\n",
        "    # dynamics_student.init_model(model_path, 2, 0.01, device)\n",
        "\n",
        "    dist_err = 0\n",
        "    vel_ee_err = 0\n",
        "\n",
        "    # Control loop\n",
        "\n",
        "    for i in range(num_points):\n",
        "        arm.reset()\n",
        "        action = np.zeros((arm.dynamics.get_action_dim(), 1))\n",
        "        goal = sample_goal()\n",
        "        arm.goal = goal\n",
        "\n",
        "\n",
        "        for s in range(num_steps):\n",
        "\n",
        "          t = time.time()\n",
        "          arm.advance()\n",
        "\n",
        "          if gui:\n",
        "            renderer.plot([(arm, \"tab:blue\")])\n",
        "          time.sleep(max(0, dt - (time.time() - t)))\n",
        "\n",
        "          if s % controller.control_horizon==0:\n",
        "            state = arm.get_state()\n",
        "            action = controller.compute_action(dynamics_student, state, goal, action)\n",
        "            pos_ee = dynamics_teacher.compute_fk(state)\n",
        "            dist = np.linalg.norm(goal-pos_ee)\n",
        "            vel_ee = np.linalg.norm(arm.dynamics.compute_vel_ee(state))\n",
        "            dist_err += dist\n",
        "            vel_ee_err += vel_ee\n",
        "\n",
        "            # print(f'At timestep {s}: Distance to goal: {dist}, Velocity of end effector: {vel_ee}')\n",
        "            # print(action)\n",
        "            arm.set_action(action)\n",
        "\n",
        "    dist_err_epoch.append(dist_err/num_points)\n",
        "    vel_ee_err_epoch.append(vel_ee_err/num_points)"
      ]
    },
    {
      "cell_type": "code",
      "source": [
        "import matplotlib.pyplot as plt\n",
        "\n",
        "plt.figure()\n",
        "plt.yscale('log')\n",
        "plt.plot(dist_err_epoch)\n",
        "plt.xlabel('num points')\n",
        "plt.ylabel('position err')\n",
        "plt.title('Distance error')\n",
        "# plt.legend(['State 1', 'State 2'])\n",
        "plt.grid()\n",
        "plt.show()"
      ],
      "metadata": {
        "colab": {
          "base_uri": "https://localhost:8080/",
          "height": 472
        },
        "id": "TC37KIajLeNy",
        "outputId": "f629968c-1881-453e-f331-8533f681b7fc"
      },
      "execution_count": null,
      "outputs": [
        {
          "output_type": "display_data",
          "data": {
            "text/plain": [
              "<Figure size 640x480 with 1 Axes>"
            ],
            "image/png": "[encoded data removed]"
          },
          "metadata": {}
        }
      ]
    },
    {
      "cell_type": "code",
      "source": [
        "import matplotlib.pyplot as plt\n",
        "import numpy as np\n",
        "from scipy.signal import savgol_filter\n",
        "dist_err_epoch = np.array(dist_err_epoch)\n",
        "\n",
        "smoothed_data = savgol_filter(dist_err_epoch, window_length=20, polyorder=3)\n",
        "\n",
        "plt.figure()\n",
        "plt.yscale('log')\n",
        "plt.plot(smoothed_data)\n",
        "plt.xlabel('num points')\n",
        "plt.ylabel('position err')\n",
        "plt.title('Distance error')\n",
        "min_value = 1e1\n",
        "max_value = 2e2\n",
        "plt.ylim(min_value, max_value)\n",
        "\n",
        "# Display grid lines\n",
        "plt.grid(which='both')\n",
        "\n",
        "plt.show()\n"
      ],
      "metadata": {
        "colab": {
          "base_uri": "https://localhost:8080/",
          "height": 472
        },
        "id": "RgCnFU6Z7a8F",
        "outputId": "0d9bce9a-f672-4a4a-cfe6-26de98835bd3"
      },
      "execution_count": null,
      "outputs": [
        {
          "output_type": "display_data",
          "data": {
            "text/plain": [
              "<Figure size 640x480 with 1 Axes>"
            ],
            "image/png": "[encoded data removed]"
          },
          "metadata": {}
        }
      ]
    },
    {
      "cell_type": "code",
      "source": [
        "plt.figure()\n",
        "plt.yscale('log')\n",
        "plt.plot(vel_ee_err_epoch)\n",
        "plt.xlabel('num points')\n",
        "plt.ylabel('speed err')\n",
        "plt.title('speed error')\n",
        "# plt.legend(['State 1', 'State 2'])\n",
        "plt.grid()\n",
        "plt.show()"
      ],
      "metadata": {
        "colab": {
          "base_uri": "https://localhost:8080/",
          "height": 472
        },
        "id": "BksNcJEsLbXi",
        "outputId": "8ff02807-f988-4e39-dc56-b27d9ea70129"
      },
      "execution_count": null,
      "outputs": [
        {
          "output_type": "display_data",
          "data": {
            "text/plain": [
              "<Figure size 640x480 with 1 Axes>"
            ],
            "image/png": "[encoded data removed]"
          },
          "metadata": {}
        }
      ]
    },
    {
      "cell_type": "code",
      "source": [
        "\n",
        "dist_err_epoch = np.array(vel_ee_err_epoch)\n",
        "\n",
        "# Apply the Savitzky-Golay filter to smooth the curve\n",
        "# You can change the window_length and polyorder parameters to see what works best for your data\n",
        "smoothed_data = savgol_filter(vel_ee_err_epoch, window_length=20, polyorder=3)\n",
        "\n",
        "plt.figure()\n",
        "plt.yscale('log')\n",
        "plt.plot(smoothed_data)\n",
        "plt.xlabel('num points')\n",
        "plt.ylabel('speed err')\n",
        "plt.title('speed error')\n",
        "min_value = 1e1  # Replace with your desired minimum value\n",
        "max_value = 1e2   # Replace with your desired maximum value\n",
        "plt.ylim(min_value, max_value)\n",
        "# plt.legend(['State 1', 'State 2'])\n",
        "# Customize y-axis ticks and grid lines\n",
        "y_ticks = np.logspace(np.log10(min_value), np.log10(max_value), num=1) # You can change num to control the number of ticks\n",
        "plt.yticks(y_ticks, []) # Set yticklabels to an empty list\n",
        "plt.gca().yaxis.grid(True, which='both') # Show major and minor grid lines\n",
        "\n",
        "plt.grid()\n",
        "plt.show()\n"
      ],
      "metadata": {
        "colab": {
          "base_uri": "https://localhost:8080/",
          "height": 472
        },
        "id": "ZL5ArG3twTij",
        "outputId": "adfd4214-8b32-4a27-ceed-31255f48aedb"
      },
      "execution_count": null,
      "outputs": [
        {
          "output_type": "display_data",
          "data": {
            "text/plain": [
              "<Figure size 640x480 with 1 Axes>"
            ],
            "image/png": "[encoded data removed]"
          },
          "metadata": {}
        }
      ]
    },
    {
      "cell_type": "markdown",
      "source": [
        "## Grading and Evaluation of Part 2\n",
        "The model will be evaluated on how well the controller+learnt dynamics works together. The scoring functions consists of 16 random test goals all of which will be below the x axis and between 0.05 to 1.95 lengths away from the origin.\n",
        "The controller will call the compute_action method from your MPC class and apply the action for 10 timesteps\n",
        "```\n",
        "action = controller.compute_action(dynamics_student, state, goal, action)\n",
        "```\n",
        "\n",
        "Each test will run the robot arm for **2.5 seconds**. At the end of the 2.5 seconds the test will be:\n",
        "\n",
        "A success if the end effectors meet this criteria:\n",
        "`distance_to_goal < 0.2 and vel_ee < 0.5` \n",
        "\n",
        "A partial success if the end effectors meet this criteria:\n",
        "`distance_to_goal < 0.3 and vel_ee < 0.5` \n",
        "\n",
        "You need 15 out of the 16 tests to succeed to get a full score"
      ],
      "metadata": {
        "id": "tn1RPPnLxrpf"
      }
    },
    {
      "cell_type": "code",
      "execution_count": null,
      "metadata": {
        "id": "B28gYRyYEgrz"
      },
      "outputs": [],
      "source": [
        "controller = MPC()\n",
        "dynamics_student = ArmDynamicsStudent(\n",
        "    num_links=2,\n",
        "    link_mass=0.1,\n",
        "    link_length=1,\n",
        "    joint_viscous_friction=0.1,\n",
        "    dt=0.01)\n",
        "model_path = '/content/models/2023-05-06_04-57-22/epoch_0040/dynamics.pth'\n",
        "gui=False"
      ]
    },
    {
      "cell_type": "code",
      "source": [
        "# DO NOT CHANGE\n",
        "score_mpc_learnt_dynamics(controller, dynamics_student, model_path, gui)"
      ],
      "metadata": {
        "id": "JgmrICx-1MGg",
        "colab": {
          "base_uri": "https://localhost:8080/",
          "height": 953
        },
        "outputId": "fd9151c0-cc0d-4f7a-efc8-6784986531ae"
      },
      "execution_count": null,
      "outputs": [
        {
          "output_type": "stream",
          "name": "stdout",
          "text": [
            "Part2: EVALUATING CONTROLLER + LEARNED DYNAMICS\n",
            "-----------------------------------------------\n",
            "NUM_LINKS: 2\n",
            "Test  1\n",
            "Fail :(\n",
            " Goal: [-0.53075893 -0.22742767], Final position: [ 1.14840834 -0.98908424], Final velocity: [3.06178803]\n",
            "score: 0/0.5\n",
            "Test  2\n",
            "Fail :(\n",
            " Goal: [ 0.78862946 -0.10868751], Final position: [ 0.90666958 -0.08641431], Final velocity: [1.15328823]\n",
            "score: 0/0.5\n",
            "Test  3\n",
            "Fail :(\n",
            " Goal: [ 0.387238   -0.12048435], Final position: [-0.19005177  0.28720221], Final velocity: [0.28339519]\n",
            "score: 0/0.5\n",
            "Test  4\n",
            "Success! :)\n",
            " Goal: [-0.1461861 -1.0733218], Final position: [-0.109789   -0.98892475], Final velocity: [0.48143715]\n",
            "score: 0.5/0.5\n",
            "Test  5\n",
            "Success! :)\n",
            " Goal: [-0.22381749 -1.71130446], Final position: [-0.26248247 -1.67282309], Final velocity: [0.33504807]\n",
            "score: 0.5/0.5\n",
            "Test  6\n",
            "Partial success :|\n",
            " Goal: [-0.4447835 -1.3547735], Final position: [-0.24967787 -1.43937246], Final velocity: [0.33330483]\n",
            "score: 0.3/0.5\n",
            "Test  7\n",
            "Fail :(\n",
            " Goal: [ 0.9937009  -1.46193928], Final position: [ 0.55033829 -1.73879227], Final velocity: [0.55689929]\n",
            "score: 0/0.5\n",
            "Test  8\n",
            "Success! :)\n",
            " Goal: [-0.71059579 -1.18214728], Final position: [-0.77216513 -1.18014554], Final velocity: [0.0085998]\n",
            "score: 0.5/0.5\n",
            "Test  9\n"
          ]
        },
        {
          "output_type": "error",
          "ename": "KeyboardInterrupt",
          "evalue": "ignored",
          "traceback": [
            "\u001b[0;31m---------------------------------------------------------------------------\u001b[0m",
            "\u001b[0;31mKeyboardInterrupt\u001b[0m                         Traceback (most recent call last)",
            "\u001b[0;32m<ipython-input-84-383dcc46ac78>\u001b[0m in \u001b[0;36m<cell line: 2>\u001b[0;34m()\u001b[0m\n\u001b[1;32m      1\u001b[0m \u001b[0;31m# DO NOT CHANGE\u001b[0m\u001b[0;34m\u001b[0m\u001b[0;34m\u001b[0m\u001b[0m\n\u001b[0;32m----> 2\u001b[0;31m \u001b[0mscore_mpc_learnt_dynamics\u001b[0m\u001b[0;34m(\u001b[0m\u001b[0mcontroller\u001b[0m\u001b[0;34m,\u001b[0m \u001b[0mdynamics_student\u001b[0m\u001b[0;34m,\u001b[0m \u001b[0mmodel_path\u001b[0m\u001b[0;34m,\u001b[0m \u001b[0mgui\u001b[0m\u001b[0;34m)\u001b[0m\u001b[0;34m\u001b[0m\u001b[0;34m\u001b[0m\u001b[0m\n\u001b[0m",
            "\u001b[0;32m/content/score.py\u001b[0m in \u001b[0;36mscore_mpc_learnt_dynamics\u001b[0;34m(controller, arm_student, model_path, gui)\u001b[0m\n\u001b[1;32m    207\u001b[0m             \u001b[0mprint\u001b[0m\u001b[0;34m(\u001b[0m\u001b[0;34m\"Test \"\u001b[0m\u001b[0;34m,\u001b[0m \u001b[0mi\u001b[0m\u001b[0;34m+\u001b[0m\u001b[0;36m1\u001b[0m\u001b[0;34m)\u001b[0m\u001b[0;34m\u001b[0m\u001b[0;34m\u001b[0m\u001b[0m\n\u001b[1;32m    208\u001b[0m             \u001b[0;32mtry\u001b[0m\u001b[0;34m:\u001b[0m\u001b[0;34m\u001b[0m\u001b[0;34m\u001b[0m\u001b[0m\n\u001b[0;32m--> 209\u001b[0;31m                 result, pos_ee, vel_ee = test(arm, dynamics, goal, renderer, \\\n\u001b[0m\u001b[1;32m    210\u001b[0m                           controller, gui, args, dist_limit=[0.2, 0.3], time_limit=2.5)\n\u001b[1;32m    211\u001b[0m             \u001b[0;32mexcept\u001b[0m \u001b[0mException\u001b[0m \u001b[0;32mas\u001b[0m \u001b[0me\u001b[0m\u001b[0;34m:\u001b[0m\u001b[0;34m\u001b[0m\u001b[0;34m\u001b[0m\u001b[0m\n",
            "\u001b[0;32m/content/score.py\u001b[0m in \u001b[0;36mtest\u001b[0;34m(arm, dynamics, goal, renderer, controller, gui, args, dist_limit, time_limit)\u001b[0m\n\u001b[1;32m     55\u001b[0m         \u001b[0mstate\u001b[0m \u001b[0;34m=\u001b[0m \u001b[0marm\u001b[0m\u001b[0;34m.\u001b[0m\u001b[0mget_state\u001b[0m\u001b[0;34m(\u001b[0m\u001b[0;34m)\u001b[0m\u001b[0;34m\u001b[0m\u001b[0;34m\u001b[0m\u001b[0m\n\u001b[1;32m     56\u001b[0m         \u001b[0;32mif\u001b[0m \u001b[0ms\u001b[0m \u001b[0;34m%\u001b[0m \u001b[0mcontroller\u001b[0m\u001b[0;34m.\u001b[0m\u001b[0mcontrol_horizon\u001b[0m \u001b[0;34m==\u001b[0m \u001b[0;36m0\u001b[0m\u001b[0;34m:\u001b[0m\u001b[0;34m\u001b[0m\u001b[0;34m\u001b[0m\u001b[0m\n\u001b[0;32m---> 57\u001b[0;31m             \u001b[0maction\u001b[0m \u001b[0;34m=\u001b[0m \u001b[0mcontroller\u001b[0m\u001b[0;34m.\u001b[0m\u001b[0mcompute_action\u001b[0m\u001b[0;34m(\u001b[0m\u001b[0mdynamics\u001b[0m\u001b[0;34m,\u001b[0m \u001b[0mstate\u001b[0m\u001b[0;34m,\u001b[0m \u001b[0mgoal\u001b[0m\u001b[0;34m,\u001b[0m \u001b[0maction\u001b[0m\u001b[0;34m)\u001b[0m\u001b[0;34m\u001b[0m\u001b[0;34m\u001b[0m\u001b[0m\n\u001b[0m\u001b[1;32m     58\u001b[0m             \u001b[0marm\u001b[0m\u001b[0;34m.\u001b[0m\u001b[0mset_action\u001b[0m\u001b[0;34m(\u001b[0m\u001b[0maction\u001b[0m\u001b[0;34m)\u001b[0m\u001b[0;34m\u001b[0m\u001b[0;34m\u001b[0m\u001b[0m\n\u001b[1;32m     59\u001b[0m         \u001b[0marm\u001b[0m\u001b[0;34m.\u001b[0m\u001b[0madvance\u001b[0m\u001b[0;34m(\u001b[0m\u001b[0;34m)\u001b[0m\u001b[0;34m\u001b[0m\u001b[0;34m\u001b[0m\u001b[0m\n",
            "\u001b[0;32m<ipython-input-6-b36548973f0a>\u001b[0m in \u001b[0;36mcompute_action\u001b[0;34m(self, dynamics, state, goal, action)\u001b[0m\n\u001b[1;32m     70\u001b[0m                     \u001b[0mcost_i_plus\u001b[0m \u001b[0;34m=\u001b[0m \u001b[0mself\u001b[0m\u001b[0;34m.\u001b[0m\u001b[0mcompute_cost\u001b[0m\u001b[0;34m(\u001b[0m\u001b[0mdynamics\u001b[0m\u001b[0;34m,\u001b[0m \u001b[0mtrajectory_i_plus\u001b[0m\u001b[0;34m,\u001b[0m \u001b[0mgoal\u001b[0m\u001b[0;34m)\u001b[0m\u001b[0;34m\u001b[0m\u001b[0;34m\u001b[0m\u001b[0m\n\u001b[1;32m     71\u001b[0m                     \u001b[0mtrajectory_i_minu\u001b[0m \u001b[0;34m=\u001b[0m \u001b[0mself\u001b[0m\u001b[0;34m.\u001b[0m\u001b[0mrollout_trajectory\u001b[0m\u001b[0;34m(\u001b[0m\u001b[0mdynamics\u001b[0m\u001b[0;34m,\u001b[0m \u001b[0mstate\u001b[0m\u001b[0;34m,\u001b[0m \u001b[0mU_i_minu\u001b[0m\u001b[0;34m)\u001b[0m\u001b[0;34m\u001b[0m\u001b[0;34m\u001b[0m\u001b[0m\n\u001b[0;32m---> 72\u001b[0;31m                     \u001b[0mcost_i_minu\u001b[0m \u001b[0;34m=\u001b[0m \u001b[0mself\u001b[0m\u001b[0;34m.\u001b[0m\u001b[0mcompute_cost\u001b[0m\u001b[0;34m(\u001b[0m\u001b[0mdynamics\u001b[0m\u001b[0;34m,\u001b[0m \u001b[0mtrajectory_i_minu\u001b[0m\u001b[0;34m,\u001b[0m \u001b[0mgoal\u001b[0m\u001b[0;34m)\u001b[0m\u001b[0;34m\u001b[0m\u001b[0;34m\u001b[0m\u001b[0m\n\u001b[0m\u001b[1;32m     73\u001b[0m \u001b[0;34m\u001b[0m\u001b[0m\n\u001b[1;32m     74\u001b[0m                     \u001b[0mmin_cost\u001b[0m \u001b[0;34m=\u001b[0m \u001b[0mnp\u001b[0m\u001b[0;34m.\u001b[0m\u001b[0mmin\u001b[0m\u001b[0;34m(\u001b[0m\u001b[0;34m[\u001b[0m\u001b[0mbest_cost\u001b[0m\u001b[0;34m,\u001b[0m \u001b[0mcost_i_plus\u001b[0m\u001b[0;34m,\u001b[0m \u001b[0mcost_i_minu\u001b[0m\u001b[0;34m]\u001b[0m\u001b[0;34m)\u001b[0m\u001b[0;34m\u001b[0m\u001b[0;34m\u001b[0m\u001b[0m\n",
            "\u001b[0;32m<ipython-input-6-b36548973f0a>\u001b[0m in \u001b[0;36mcompute_cost\u001b[0;34m(self, dynamics, trajectory, goal)\u001b[0m\n\u001b[1;32m     20\u001b[0m         \u001b[0;31m# print(trajectory)\u001b[0m\u001b[0;34m\u001b[0m\u001b[0;34m\u001b[0m\u001b[0m\n\u001b[1;32m     21\u001b[0m         \u001b[0;32mfor\u001b[0m \u001b[0mstate\u001b[0m \u001b[0;32min\u001b[0m \u001b[0mtrajectory\u001b[0m\u001b[0;34m:\u001b[0m\u001b[0;34m\u001b[0m\u001b[0;34m\u001b[0m\u001b[0m\n\u001b[0;32m---> 22\u001b[0;31m             \u001b[0mpos_ee\u001b[0m \u001b[0;34m=\u001b[0m \u001b[0mdynamics\u001b[0m\u001b[0;34m.\u001b[0m\u001b[0mcompute_fk\u001b[0m\u001b[0;34m(\u001b[0m\u001b[0mstate\u001b[0m\u001b[0;34m)\u001b[0m\u001b[0;34m\u001b[0m\u001b[0;34m\u001b[0m\u001b[0m\n\u001b[0m\u001b[1;32m     23\u001b[0m             \u001b[0mposition_error\u001b[0m \u001b[0;34m+=\u001b[0m \u001b[0mnp\u001b[0m\u001b[0;34m.\u001b[0m\u001b[0mlinalg\u001b[0m\u001b[0;34m.\u001b[0m\u001b[0mnorm\u001b[0m\u001b[0;34m(\u001b[0m\u001b[0mgoal\u001b[0m \u001b[0;34m-\u001b[0m \u001b[0mpos_ee\u001b[0m\u001b[0;34m)\u001b[0m\u001b[0;34m**\u001b[0m\u001b[0;36m2\u001b[0m\u001b[0;34m\u001b[0m\u001b[0;34m\u001b[0m\u001b[0m\n\u001b[1;32m     24\u001b[0m             \u001b[0mvel_ee\u001b[0m \u001b[0;34m=\u001b[0m \u001b[0mdynamics\u001b[0m\u001b[0;34m.\u001b[0m\u001b[0mcompute_vel_ee\u001b[0m\u001b[0;34m(\u001b[0m\u001b[0mstate\u001b[0m\u001b[0;34m)\u001b[0m\u001b[0;34m\u001b[0m\u001b[0;34m\u001b[0m\u001b[0m\n",
            "\u001b[0;32m/content/arm_dynamics_base.py\u001b[0m in \u001b[0;36mcompute_fk\u001b[0;34m(self, state)\u001b[0m\n\u001b[1;32m     70\u001b[0m         \u001b[0mq\u001b[0m \u001b[0;34m=\u001b[0m \u001b[0mself\u001b[0m\u001b[0;34m.\u001b[0m\u001b[0mget_q\u001b[0m\u001b[0;34m(\u001b[0m\u001b[0mstate\u001b[0m\u001b[0;34m)\u001b[0m\u001b[0;34m\u001b[0m\u001b[0;34m\u001b[0m\u001b[0m\n\u001b[1;32m     71\u001b[0m         \u001b[0mtheta\u001b[0m \u001b[0;34m=\u001b[0m \u001b[0mself\u001b[0m\u001b[0;34m.\u001b[0m\u001b[0mcompute_theta\u001b[0m\u001b[0;34m(\u001b[0m\u001b[0mq\u001b[0m\u001b[0;34m)\u001b[0m\u001b[0;34m\u001b[0m\u001b[0;34m\u001b[0m\u001b[0m\n\u001b[0;32m---> 72\u001b[0;31m         \u001b[0mpos\u001b[0m \u001b[0;34m=\u001b[0m \u001b[0mself\u001b[0m\u001b[0;34m.\u001b[0m\u001b[0mcompute_pos\u001b[0m\u001b[0;34m(\u001b[0m\u001b[0mpos_0\u001b[0m\u001b[0;34m,\u001b[0m \u001b[0mtheta\u001b[0m\u001b[0;34m)\u001b[0m\u001b[0;34m\u001b[0m\u001b[0;34m\u001b[0m\u001b[0m\n\u001b[0m\u001b[1;32m     73\u001b[0m         \u001b[0mpos_ee\u001b[0m \u001b[0;34m=\u001b[0m \u001b[0mnp\u001b[0m\u001b[0;34m.\u001b[0m\u001b[0mzeros\u001b[0m\u001b[0;34m(\u001b[0m\u001b[0;34m(\u001b[0m\u001b[0;36m2\u001b[0m\u001b[0;34m,\u001b[0m\u001b[0;36m1\u001b[0m\u001b[0;34m)\u001b[0m\u001b[0;34m)\u001b[0m\u001b[0;34m\u001b[0m\u001b[0;34m\u001b[0m\u001b[0m\n\u001b[1;32m     74\u001b[0m         \u001b[0mpos_ee\u001b[0m\u001b[0;34m[\u001b[0m\u001b[0;36m0\u001b[0m\u001b[0;34m]\u001b[0m \u001b[0;34m=\u001b[0m \u001b[0mpos\u001b[0m\u001b[0;34m[\u001b[0m\u001b[0;36m2\u001b[0m\u001b[0;34m*\u001b[0m\u001b[0;34m(\u001b[0m\u001b[0mself\u001b[0m\u001b[0;34m.\u001b[0m\u001b[0mnum_links\u001b[0m\u001b[0;34m-\u001b[0m\u001b[0;36m1\u001b[0m\u001b[0;34m)\u001b[0m\u001b[0;34m]\u001b[0m\u001b[0;34m\u001b[0m\u001b[0;34m\u001b[0m\u001b[0m\n",
            "\u001b[0;32m/content/arm_dynamics_base.py\u001b[0m in \u001b[0;36mcompute_pos\u001b[0;34m(self, pos_0, theta)\u001b[0m\n\u001b[1;32m     56\u001b[0m         \u001b[0;32mreturn\u001b[0m \u001b[0mnp\u001b[0m\u001b[0;34m.\u001b[0m\u001b[0mcumsum\u001b[0m\u001b[0;34m(\u001b[0m\u001b[0mqd\u001b[0m\u001b[0;34m,\u001b[0m \u001b[0maxis\u001b[0m\u001b[0;34m=\u001b[0m\u001b[0;36m0\u001b[0m\u001b[0;34m)\u001b[0m\u001b[0;34m\u001b[0m\u001b[0;34m\u001b[0m\u001b[0m\n\u001b[1;32m     57\u001b[0m \u001b[0;34m\u001b[0m\u001b[0m\n\u001b[0;32m---> 58\u001b[0;31m     \u001b[0;32mdef\u001b[0m \u001b[0mcompute_pos\u001b[0m\u001b[0;34m(\u001b[0m\u001b[0mself\u001b[0m\u001b[0;34m,\u001b[0m \u001b[0mpos_0\u001b[0m\u001b[0;34m,\u001b[0m \u001b[0mtheta\u001b[0m\u001b[0;34m)\u001b[0m\u001b[0;34m:\u001b[0m\u001b[0;34m\u001b[0m\u001b[0;34m\u001b[0m\u001b[0m\n\u001b[0m\u001b[1;32m     59\u001b[0m         \u001b[0mpos_0\u001b[0m \u001b[0;34m=\u001b[0m \u001b[0mpos_0\u001b[0m\u001b[0;34m.\u001b[0m\u001b[0mcopy\u001b[0m\u001b[0;34m(\u001b[0m\u001b[0;34m)\u001b[0m\u001b[0;34m\u001b[0m\u001b[0;34m\u001b[0m\u001b[0m\n\u001b[1;32m     60\u001b[0m         \u001b[0mtheta\u001b[0m \u001b[0;34m=\u001b[0m \u001b[0mtheta\u001b[0m\u001b[0;34m.\u001b[0m\u001b[0mcopy\u001b[0m\u001b[0;34m(\u001b[0m\u001b[0;34m)\u001b[0m\u001b[0;34m\u001b[0m\u001b[0;34m\u001b[0m\u001b[0m\n",
            "\u001b[0;31mKeyboardInterrupt\u001b[0m: "
          ]
        }
      ]
    }
  ],
  "metadata": {
    "colab": {
      "provenance": [],
      "include_colab_link": true
    },
    "kernelspec": {
      "display_name": "Python 3",
      "name": "python3"
    },
    "language_info": {
      "name": "python"
    }
  },
  "nbformat": 4,
  "nbformat_minor": 0
}