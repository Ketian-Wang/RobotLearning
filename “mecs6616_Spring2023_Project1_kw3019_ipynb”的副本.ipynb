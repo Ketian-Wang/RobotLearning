{
  "nbformat": 4,
  "nbformat_minor": 0,
  "metadata": {
    "colab": {
      "provenance": [],
      "include_colab_link": true
    },
    "kernelspec": {
      "name": "python3",
      "display_name": "Python 3"
    },
    "language_info": {
      "name": "python"
    }
  },
  "cells": [
    {
      "cell_type": "markdown",
      "metadata": {
        "id": "view-in-github",
        "colab_type": "text"
      },
      "source": [
        "<a href=\"https://colab.research.google.com/github/Ketian-Wang/RobotLearning/blob/main/%E2%80%9Cmecs6616_Spring2023_Project1_kw3019_ipynb%E2%80%9D%E7%9A%84%E5%89%AF%E6%9C%AC.ipynb\" target=\"_parent\"><img src=\"https://colab.research.google.com/assets/colab-badge.svg\" alt=\"Open In Colab\"/></a>"
      ]
    },
    {
      "cell_type": "markdown",
      "source": [],
      "metadata": {
        "id": "EgzMVmyhsf27"
      }
    },
    {
      "cell_type": "markdown",
      "source": [
        "# ***Important***\n",
        "\n",
        "**Before starting, make sure to read the [Assignment Instructions](https://courseworks2.columbia.edu/courses/172081/pages/assignment-instructions) page on Courseworks2 to learn the workflow for completing this project.**"
      ],
      "metadata": {
        "id": "tp8PVN5sJ9pd"
      }
    },
    {
      "cell_type": "markdown",
      "source": [
        "# Introduction\n",
        "\n",
        "This project aims to demonstrate how classical machine learning methods can be used in robotics setting. In this project, we will be working on a navigation agent that navigates inside a simple 2D maze.\n",
        "\n",
        "<div>\n",
        "<img src=\"https://drive.google.com/uc?id=1mSpegY1psdek3Lgh6cxzcCGUCF-lddnV\" width=\"300\"/>\n",
        "</div>\n",
        "\n",
        "\n",
        "The image above shows the simulation world. The \"robot\" (also called \"agent\") is shown by the green dot. The goal location is shown by the red square. The aim of the agent is to navigate to the goal.\n",
        "\n",
        "The ultimate goal in this project is to learn an appropriate behavior for the agent by imitating demonstrations from an expert user. These demonstrations have been collected by a human controlling the agent via a keyboard, and will be provided to you as training data.\n",
        "\n",
        "Note that in this project we are explicitly not allowing the use of Deep Learning or Reinforcement Learning. We will be using these in future projects, which will allow us to see what significant benefits these technologies bring. Until then, this project is restricted to \"traditional\" supervised learning.\n",
        "\n",
        "The library you should use for the learning algorithms is scikit-learn. Its general use, as well as individual functions, are extensively documented on the [scikit-learn page](https://scikit-learn.org/stable/)\n",
        "\n",
        "This project has 3 parts. The instructions for each part are below."
      ],
      "metadata": {
        "id": "on62OZpXBKKZ"
      }
    },
    {
      "cell_type": "markdown",
      "source": [
        "# Part 0. Project Setup (do NOT change)\n",
        "\n",
        "\n",
        "***IMPORTANT:***\n",
        "- Do NOT install any other dependencies or a different version of an already provided package. You may, however, import other packages. Note that scikit-learn is already installed in colab\n",
        "- your code should go in the \"Solutions\" section. (You can minimize sections with the arrows on the left.)"
      ],
      "metadata": {
        "id": "yfv6pTUGEm90"
      }
    },
    {
      "cell_type": "markdown",
      "source": [
        "You will be accessing data files located in a class github repo. The following cell clones the repo into the working directory"
      ],
      "metadata": {
        "id": "XJ9gCqN944fa"
      }
    },
    {
      "cell_type": "code",
      "source": [
        "# do NOT change\n",
        "\n",
        "# After running this cell, the folder 'robot-learning-S2023' will show up in the file explorer on the left (click on the folder icon if it's not open)\n",
        "# It may take a few seconds to appear\n",
        "!git clone https://github.com/roamlab/robot-learning-S2023.git"
      ],
      "metadata": {
        "id": "LYtdJaVWOMER",
        "colab": {
          "base_uri": "https://localhost:8080/"
        },
        "outputId": "88fa29e0-5fd1-414c-8071-911a5a6913d7"
      },
      "execution_count": null,
      "outputs": [
        {
          "output_type": "stream",
          "name": "stdout",
          "text": [
            "Cloning into 'robot-learning-S2023'...\n",
            "remote: Enumerating objects: 44, done.\u001b[K\n",
            "remote: Counting objects: 100% (44/44), done.\u001b[K\n",
            "remote: Compressing objects: 100% (32/32), done.\u001b[K\n",
            "remote: Total 44 (delta 12), reused 39 (delta 10), pack-reused 0\u001b[K\n",
            "Unpacking objects: 100% (44/44), 129.23 KiB | 283.00 KiB/s, done.\n"
          ]
        }
      ]
    },
    {
      "cell_type": "code",
      "source": [
        "# do NOT change\n",
        "\n",
        "# copy all needed files into the working directory. This is simply to make accessing files easier\n",
        "!cp -av /content/robot-learning-S2023/project1/* /content/"
      ],
      "metadata": {
        "id": "emXMmFbVBKV1",
        "colab": {
          "base_uri": "https://localhost:8080/"
        },
        "outputId": "ea1e08dc-1b1e-49e6-e3aa-690af04060e1"
      },
      "execution_count": null,
      "outputs": [
        {
          "output_type": "stream",
          "name": "stdout",
          "text": [
            "'/content/robot-learning-S2023/project1/data' -> '/content/data'\n",
            "'/content/robot-learning-S2023/project1/data/bc_data.pkl' -> '/content/data/bc_data.pkl'\n",
            "'/content/robot-learning-S2023/project1/data/bc_with_gtpos_data.pkl' -> '/content/data/bc_with_gtpos_data.pkl'\n",
            "'/content/robot-learning-S2023/project1/data/reg_test_data.pkl' -> '/content/data/reg_test_data.pkl'\n",
            "'/content/robot-learning-S2023/project1/data/regression_data.pkl' -> '/content/data/regression_data.pkl'\n",
            "'/content/robot-learning-S2023/project1/data_utils.py' -> '/content/data_utils.py'\n",
            "'/content/robot-learning-S2023/project1/mjcf' -> '/content/mjcf'\n",
            "'/content/robot-learning-S2023/project1/mjcf/common' -> '/content/mjcf/common'\n",
            "'/content/robot-learning-S2023/project1/mjcf/common/materials.xml' -> '/content/mjcf/common/materials.xml'\n",
            "'/content/robot-learning-S2023/project1/mjcf/common/skybox.xml' -> '/content/mjcf/common/skybox.xml'\n",
            "'/content/robot-learning-S2023/project1/mjcf/common/visual.xml' -> '/content/mjcf/common/visual.xml'\n",
            "'/content/robot-learning-S2023/project1/mjcf/point_mass.xml' -> '/content/mjcf/point_mass.xml'\n",
            "'/content/robot-learning-S2023/project1/mjcf/test_mjcf.xml' -> '/content/mjcf/test_mjcf.xml'\n",
            "'/content/robot-learning-S2023/project1/score_policy.py' -> '/content/score_policy.py'\n",
            "'/content/robot-learning-S2023/project1/simple_maze.py' -> '/content/simple_maze.py'\n"
          ]
        }
      ]
    },
    {
      "cell_type": "code",
      "source": [
        "# do NOT change\n",
        "\n",
        "!pip install pybullet"
      ],
      "metadata": {
        "id": "6p0k4jBuVNQQ",
        "colab": {
          "base_uri": "https://localhost:8080/"
        },
        "outputId": "6dc7c80d-4c92-4e40-9db3-c9de00fc6ab9"
      },
      "execution_count": null,
      "outputs": [
        {
          "output_type": "stream",
          "name": "stdout",
          "text": [
            "Looking in indexes: https://pypi.org/simple, https://us-python.pkg.dev/colab-wheels/public/simple/\n",
            "Collecting pybullet\n",
            "  Downloading pybullet-3.2.5-cp38-cp38-manylinux_2_5_x86_64.manylinux1_x86_64.whl (91.7 MB)\n",
            "\u001b[2K     \u001b[90m━━━━━━━━━━━━━━━━━━━━━━━━━━━━━━━━━━━━━━━━\u001b[0m \u001b[32m91.7/91.7 MB\u001b[0m \u001b[31m5.5 MB/s\u001b[0m eta \u001b[36m0:00:00\u001b[0m\n",
            "\u001b[?25hInstalling collected packages: pybullet\n",
            "Successfully installed pybullet-3.2.5\n"
          ]
        }
      ]
    },
    {
      "cell_type": "markdown",
      "source": [
        "# Solutions (enter solutions here)"
      ],
      "metadata": {
        "id": "BfFhtY9pNllL"
      }
    },
    {
      "cell_type": "markdown",
      "source": [
        "## Part 1. Inferring the position of an agent with RGB images"
      ],
      "metadata": {
        "id": "m6kijhsXNoaw"
      }
    },
    {
      "cell_type": "markdown",
      "source": [
        "<div>\n",
        "<img src=\"https://drive.google.com/uc?id=1Cn2sAcz0sOXX5x1dvRCEtKCL5yJDYkKS\" width=\"300\"/>\n",
        "</div>\n",
        "\n",
        "The first task is to learn to infer where the agent is inside the maze based on RGB image observations like the one shown above. Each such observation will consist of an RGB image of size [64, 64] for each color channel, so the total size of each observation is [64, 64, 3].\n",
        "\n",
        "The maze has its own coordinate system, in which the agent's location must be expressed. You will be provided with RGB image observations in this environment, as well as the groundtruth location of the agent in each image, expressed in the maze coordinate system. The task is to learn a model that can predict the location of an agent given this RGB observation.\n",
        "\n",
        "Note that this can be seen as a regression problem (if the location of the agent is a continuous variable) or a classification problem (if we discretize the output space to a finite number of possible locations).\n",
        "\n",
        "In this part, you will need to implement the class PositionRegressor. Your class will need to implement two methods to get a score. The methods to implement are documented below.\n",
        "\n",
        "We will test the performance of your model in this part using mean square error (MSE) between the predicted positions and the groundtruth. We will perform this evaluation on both the training data which is provided to you, and which your model will be training with, and on some additional testing data that is held out. Your score will be: score = 1 - MSE and then clipped between 0 and 1.\n",
        "\n",
        "Please implement your class below."
      ],
      "metadata": {
        "id": "HbsQ79WoHU9C"
      }
    },
    {
      "cell_type": "code",
      "source": [
        "# enter solution for part 1 here\n",
        "\n",
        "import numpy as np\n",
        "# additional packages\n",
        "import pickle\n",
        "from sklearn.linear_model import LinearRegression as LR\n",
        "import numpy as np\n",
        "import random\n",
        "import math\n",
        "from sklearn.model_selection import KFold\n",
        "import pandas as pd\n",
        "\n",
        "\n",
        "\n",
        "class PositionRegressor():\n",
        "\n",
        "    \"\"\" Implement solution for Part 1 below  \"\"\"\n",
        "    print('start')\n",
        "\n",
        "    def train(self, data):\n",
        "        \"\"\"A method that trains a regressor with given data\n",
        "\n",
        "           Args:\n",
        "               data: a dictionary that contains images and the groundtruth location of\n",
        "                     an agent.\n",
        "           Returns:\n",
        "               Nothing\n",
        "        \"\"\"\n",
        "\n",
        "        # for key, val in data.items():\n",
        "            # print(key, val)\n",
        "        \n",
        "        # answer start here   \n",
        "        # def load_data(path):\n",
        "        #   with open(path, 'rb') as f:\n",
        "        #     data = pickle.load(f)\n",
        "        #   return data\n",
        "\n",
        "        # data = load_data('./data/regression_data.pkl')\n",
        "\n",
        "        # figure data\n",
        "        imgs = data['obs']\n",
        "        RBGarray = []\n",
        "        for image in imgs:\n",
        "            RBGarray.append(image.reshape(1, -1)[0])\n",
        "        RBGarray = np.array(RBGarray)\n",
        "\n",
        "        # ground truth\n",
        "        info = data['info']\n",
        "        agentPos = []\n",
        "        for pos in info:\n",
        "            agentPos.append(pos['agent_pos'])\n",
        "        agentPos = np.array(agentPos)\n",
        "\n",
        "        self.model = LR()\n",
        "        self.model.fit(RBGarray,agentPos)\n",
        "\n",
        "        print(\"Using dummy solution for PositionRegressor\")\n",
        "        pass\n",
        "\n",
        "    def predict(self, Xs):\n",
        "        \"\"\"A method that predicts y's given a batch of X's\n",
        "\n",
        "           Args:\n",
        "               Xs: a batch of data (in this project, it is in shape [batch_size, 64, 64, 3])\n",
        "           Returns:\n",
        "               The fed-forward results (predicted y's) with a trained model.\n",
        "        \"\"\"\n",
        "        xx = Xs.reshape(Xs.shape[0], -1)\n",
        "        result = self.model.predict(xx)\n",
        "\n",
        "        return result\n"
      ],
      "metadata": {
        "id": "uJdME_SVNnRK",
        "colab": {
          "base_uri": "https://localhost:8080/"
        },
        "outputId": "f99ad04b-257e-493d-b329-8d41781b6b5a"
      },
      "execution_count": null,
      "outputs": [
        {
          "output_type": "stream",
          "name": "stdout",
          "text": [
            "start\n"
          ]
        }
      ]
    },
    {
      "cell_type": "markdown",
      "source": [
        "## Part 2. Behavioral cloning with low dimensional data"
      ],
      "metadata": {
        "id": "POFHlL1xNx8s"
      }
    },
    {
      "cell_type": "markdown",
      "source": [
        "In this part, your model is asked to determine what action the agent should take, based on an observation from its environment. The action can be one of three choices: go up, go left, or go right. The goal of the agent is to reach the goal squre, shown in red in the images above.\n",
        "\n",
        "Note that, in general terms, what you are providing here is a \"policy\" - a model that selects an action based on observations from the world. Numerous methods are available for training policies, and we will cover many of them in the Reinforcement Learning part of the class.\n",
        "\n",
        "However, learning a policy can also sometimes be a Supervised Learning problem: you will be provided with labeled examples from an \"expert\". Each labeled example will contain a tuple of the form $(o, a)_i$, where $o$ represents an observation and $a$ represents the  action taken by the expert given that observation. You must simply learn to imitate the expert, a process also known as behavioral cloning. If the action space is discrete, then behavioral cloning is a classification problem and if the action space is continuous, it will be a regression problem.\n",
        "\n",
        "In this project, we will be working on an environment with a discrete action space, so we can see behavioral cloning as a classification problem with three output classes (go up, go left, go right). While the action space is the same in Parts II and III, the nature of the observation used in each case will be different.\n",
        "\n",
        "In Part II, the observation will consist of the ground truth position of the agent in the maze coordinate system. Training data will thus contain tuples $(o, a)_i$  where $o$ is the agent's location in the maze, and $a$ is the action taken by the expert at that location. You can use any classification method from Scikit-learn to learn the mapping between observations and actions.\n",
        "\n",
        "In this part, you will need to implement the class PositionRegressor. Your class will need to implement two methods to get a score. The methods to implement are documented below.\n",
        "\n",
        "In this part, you will need to implement the class POSBCRobot(). The methods to implement are documented below.\n",
        "\n",
        "In this part, we will evaluate your model by simply having the robot follow the commands that it provides, or, in other words, \"rolling out your policy\" in the environment. After 20 steps, we will evaluate how close to the goal the robot has ended up. Formally,  the score for a single run will be calculated based on the minimum distance between your agent and the target location achieved over a trajectory of 100 steps. We will run your agent for 20 times in the environment and use the following formula to calculate your score: score = $\\frac{(Init\\_dist -  min\\_dists)/20}{Init\\_dist}$.\n",
        "\n",
        "Please implement your class below."
      ],
      "metadata": {
        "id": "MW80lZu0Jr1e"
      }
    },
    {
      "cell_type": "code",
      "source": [
        "# enter solution for part 2 here\n",
        "\n",
        "import numpy as np\n",
        "\n",
        "from sklearn.svm import SVC\n",
        "\n",
        "import matplotlib.pyplot as plt\n",
        "\n",
        "\n",
        "class POSBCRobot():\n",
        "    \n",
        "    \"\"\" Implement solution for Part 2 below \"\"\"\n",
        "\n",
        "    def train(self, data):\n",
        "        \"\"\"A method for training a policy.\n",
        "\n",
        "            Args:\n",
        "                data: a dictionary that contains X (observations) and y (actions).\n",
        "            \n",
        "            Returns:\n",
        "                This method does not return anything. It will just need to update the\n",
        "                property of a RobotPolicy instance.\n",
        "        \"\"\"\n",
        "\n",
        "        # for key, val in data.items():\n",
        "            # print(key, val.shape)\n",
        "\n",
        "        # data read\n",
        "        agentPos = data['obs']\n",
        "        agentAction = data['actions']\n",
        "        agentAction = agentAction.reshape(-1)\n",
        "\n",
        "\n",
        "        self.svc=SVC(kernel='poly',degree=1,coef0=0)\n",
        "\n",
        "        self.svc.fit(agentPos, agentAction)\n",
        "\n",
        "\n",
        "        print(\"Using dummy solution for POSBCRobot\")\n",
        "        pass\n",
        "\n",
        "    def get_actions(self, observations):\n",
        "        \"\"\"A method for getting actions. You can do data preprocessing and feed\n",
        "            forward of your trained model here.\n",
        "            \n",
        "            Args:\n",
        "                observations: a batch of observations (images or vectors)\n",
        "            \n",
        "            Returns:\n",
        "                A batch of actions with the same batch size as observations.\n",
        "        \"\"\"\n",
        "        result = self.svc.predict(observations)\n",
        "\n",
        "        return result\n"
      ],
      "metadata": {
        "id": "OfTObQ5hN0gp"
      },
      "execution_count": null,
      "outputs": []
    },
    {
      "cell_type": "markdown",
      "source": [
        "## Part 3. Behavioral cloning with visual observations"
      ],
      "metadata": {
        "id": "CRtN8RuwN0zS"
      }
    },
    {
      "cell_type": "markdown",
      "source": [
        "In this part, you asked to do a similar task as Part II, but the observations will be a lot more challenging to use. Instead of being provided with the actual robot location, your model will receive as input RGB image observations of the world, similar to the ones you used to do localization in Part I.\n",
        "\n",
        "All requirements from your code, as well as the evaluation method, are unchanged compared to Part II. The only difference is the nature of the observation that is provided to you.\n",
        "\n",
        "Please implement your class below."
      ],
      "metadata": {
        "id": "Ub_ejt1bL9NC"
      }
    },
    {
      "cell_type": "code",
      "source": [
        "# enter solution for part 3 here\n",
        "\n",
        "import numpy as np\n",
        "\n",
        "import matplotlib.pyplot as plt\n",
        "\n",
        "from sklearn.neighbors import KNeighborsClassifier\n",
        "from sklearn.svm import LinearSVC,SVC\n",
        "from sklearn.preprocessing import StandardScaler\n",
        "from sklearn.decomposition import KernelPCA\n",
        "\n",
        "\n",
        "class RGBBCRobot():\n",
        "\n",
        "    \"\"\" Implement solution for Part3 below \"\"\"\n",
        "\n",
        "    def train(self, data):\n",
        "        \"\"\"A method for training a policy.\n",
        "\n",
        "            Args:\n",
        "                data: a dictionary that contains X (observations) and y (actions).\n",
        "            \n",
        "            Returns:\n",
        "                This method does not return anything. It will just need to update the\n",
        "                property of a RobotPolicy instance.\n",
        "        \"\"\"\n",
        "\n",
        "        # for key, val in data.items():\n",
        "            # print(key, val.shape)\n",
        "\n",
        "        imgs = data['obs']\n",
        "        RGBarray = []\n",
        "        for image in imgs:\n",
        "            RGBarray.append(image.reshape(1, -1)[0])\n",
        "        RGBarray = np.array(RGBarray)\n",
        "\n",
        "        self.SScaler= StandardScaler()\n",
        "        self.SScaler.fit(RGBarray)\n",
        "        RGBarrayScaled = self.SScaler.transform(RGBarray)\n",
        "        \n",
        "        agentAction = data['actions']\n",
        "        agentAction = agentAction.reshape(-1)\n",
        "\n",
        "        self.KernelPCAmodel = KernelPCA(n_components=30, kernel='rbf')\n",
        "        self.KernelPCAmodel.fit(RGBarrayScaled)\n",
        "        RGBTransed = self.KernelPCAmodel.transform(RGBarrayScaled)\n",
        "        # print(RGBTransed)\n",
        "        # print(RGBTransed.shape)\n",
        "\n",
        "        self.svc = SVC(kernel='poly',degree=2, C=10, coef0=0.5)\n",
        "        self.svc.fit(RGBTransed, agentAction)\n",
        "\n",
        "\n",
        "        print(\"Using dummy solution for RGBBCRobot\")\n",
        "        pass\n",
        "\n",
        "    def get_actions(self, observations):\n",
        "        \"\"\"A method for getting actions. You can do data preprocessing and feed\n",
        "            forward of your trained model here.\n",
        "            \n",
        "            Args:\n",
        "                observations: a batch of observations (images or vectors)\n",
        "            \n",
        "            Returns:\n",
        "                A batch of actions with the same batch size as observations.\n",
        "        \"\"\"\n",
        "        obsScaler = self.SScaler.transform(observations)\n",
        "        obsTransed = self.KernelPCAmodel.transform(obsScaler)\n",
        "        resultSVC = self.svc.predict(obsTransed)\n",
        "\n",
        "        return resultSVC"
      ],
      "metadata": {
        "id": "9trpNkL8N3Di"
      },
      "execution_count": null,
      "outputs": []
    },
    {
      "cell_type": "markdown",
      "source": [
        "# Testing\n",
        "\n",
        "We will be using the cells below to auto-generate your score for this project. To see how you are doing with the project, simply run the cells below.\n",
        "\n",
        "If you would like to visualize your policy just set gui_enable to True. This will generate an animated .png file which can be visualized with the cell at the end of the notebook. Note that this does take a little bit longer to run.\n",
        "\n",
        "The solution cells provided to you return zeros. You are required to update them with your solutions.\n",
        "\n",
        "\n",
        "\n",
        "**Grading Rubrics**\n",
        "\n",
        "You are graded based on the scores you achieved for each part. Each part is 5 points and the final grade you get for this project is the sum of all points from three parts (thus, 15 maximum in total)\n",
        "\n",
        "**Part 1**\n",
        "\n",
        "- score >= 0.99, you get 5/5\n",
        "- score >= 0.95, you get 4/5\n",
        "- score >= 0.80, you get 2/5\n",
        "\n",
        "**Part 2**\n",
        "\n",
        "- score >= 0.99, you get 5/5\n",
        "- score >= 0.80, you get 3/5\n",
        "\n",
        "**Part 3**\n",
        "\n",
        "- score >= 0.99, you get 5/5 \n",
        "- score >= 0.90, you get 4/5 \n",
        "- score >= 0.80, you get 3/5\n",
        "- score >= 0.60. you get 2/5 "
      ],
      "metadata": {
        "id": "BHBv0jRpNgZB"
      }
    },
    {
      "cell_type": "markdown",
      "source": [
        "### Turn GUI on/off (you may change) -- **please set to False before submission**"
      ],
      "metadata": {
        "id": "NTBR5b_xrDS8"
      }
    },
    {
      "cell_type": "code",
      "source": [
        "# Enabling the gui saves animated pngs to the working directory\n",
        "# You can view the pngs using the cell at the bottom of the notebook\n",
        "# Code runs slightly slower when gui is enabled\n",
        "\n",
        "gui = False"
      ],
      "metadata": {
        "id": "5UOXzIhFrGiq"
      },
      "execution_count": null,
      "outputs": []
    },
    {
      "cell_type": "markdown",
      "source": [
        "### Score Policy (do NOT change)"
      ],
      "metadata": {
        "id": "NRuhidcFQaNv"
      }
    },
    {
      "cell_type": "code",
      "source": [
        "# do NOT change\n",
        "\n",
        "!pip3 install numpngw"
      ],
      "metadata": {
        "id": "5x36MBlJpgTs",
        "colab": {
          "base_uri": "https://localhost:8080/"
        },
        "outputId": "8d42954a-1760-4d60-b400-0c3e86cf6357"
      },
      "execution_count": null,
      "outputs": [
        {
          "output_type": "stream",
          "name": "stdout",
          "text": [
            "Looking in indexes: https://pypi.org/simple, https://us-python.pkg.dev/colab-wheels/public/simple/\n",
            "Collecting numpngw\n",
            "  Downloading numpngw-0.1.2-py3-none-any.whl (21 kB)\n",
            "Requirement already satisfied: numpy>=1.6.0 in /usr/local/lib/python3.8/dist-packages (from numpngw) (1.21.6)\n",
            "Installing collected packages: numpngw\n",
            "Successfully installed numpngw-0.1.2\n"
          ]
        }
      ]
    },
    {
      "cell_type": "code",
      "source": [
        "# do NOT change\n",
        "\n",
        "from score_policy import *\n",
        "score_all_parts(POSBCRobot(), RGBBCRobot(), PositionRegressor(), gui_enable=gui)"
      ],
      "metadata": {
        "id": "5yxmcyyW4jvj",
        "colab": {
          "base_uri": "https://localhost:8080/"
        },
        "outputId": "887711b2-fd7e-4369-d06a-7a87ae386e98"
      },
      "execution_count": null,
      "outputs": [
        {
          "output_type": "stream",
          "name": "stdout",
          "text": [
            "Using dummy solution for POSBCRobot\n",
            "Using dummy solution for RGBBCRobot\n",
            "Using dummy solution for PositionRegressor\n",
            "\n",
            "\n",
            "\n",
            "--------SCORES--------\n",
            "Position regression: 5/5\n",
            "BC with positions: 5/5\n",
            "BC with rgb images: 5/5\n",
            "\n",
            "Final score: 15/15\n",
            "----------------------\n"
          ]
        }
      ]
    },
    {
      "cell_type": "markdown",
      "source": [
        "### Show GUI (optional, you may change)"
      ],
      "metadata": {
        "id": "8I3gqaxOnig0"
      }
    },
    {
      "cell_type": "code",
      "source": [
        "from IPython.display import Image\n",
        "# Image(filename='pos_bc_anim.png', width=200, height=200)\n",
        "# Image(filename='rgb_bc_anim.png', width=200, height=200)"
      ],
      "metadata": {
        "id": "Vz3iUfjdVsxp"
      },
      "execution_count": null,
      "outputs": []
    },
    {
      "cell_type": "code",
      "source": [],
      "metadata": {
        "id": "pejhe7RPnTnI"
      },
      "execution_count": null,
      "outputs": []
    }
  ]
}