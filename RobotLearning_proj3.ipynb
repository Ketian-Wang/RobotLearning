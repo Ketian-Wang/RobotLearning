{
  "cells": [
    {
      "cell_type": "markdown",
      "metadata": {
        "id": "view-in-github",
        "colab_type": "text"
      },
      "source": [
        "<a href=\"https://colab.research.google.com/github/Ketian-Wang/RobotLearning/blob/main/RobotLearning_proj3.ipynb\" target=\"_parent\"><img src=\"https://colab.research.google.com/assets/colab-badge.svg\" alt=\"Open In Colab\"/></a>"
      ]
    },
    {
      "cell_type": "markdown",
      "metadata": {
        "id": "inY7y5CRo97q"
      },
      "source": [
        "# Project Setup\n"
      ]
    },
    {
      "cell_type": "code",
      "execution_count": null,
      "metadata": {
        "id": "QPIiNSZ8hb8Z",
        "colab": {
          "base_uri": "https://localhost:8080/"
        },
        "outputId": "546ed857-02bd-460c-9d9a-9fef410226e8"
      },
      "outputs": [
        {
          "output_type": "stream",
          "name": "stdout",
          "text": [
            "Cloning into 'mecs6616_sp23_project3'...\n",
            "remote: Enumerating objects: 27, done.\u001b[K\n",
            "remote: Counting objects: 100% (27/27), done.\u001b[K\n",
            "remote: Compressing objects: 100% (20/20), done.\u001b[K\n",
            "remote: Total 27 (delta 11), reused 22 (delta 6), pack-reused 0\u001b[K\n",
            "Unpacking objects: 100% (27/27), 23.05 KiB | 1.65 MiB/s, done.\n"
          ]
        }
      ],
      "source": [
        "!git clone https://github.com/roamlab/mecs6616_sp23_project3.git\n",
        "!cp -av /content/mecs6616_sp23_project3/* /content/\n",
        "!pip install ray"
      ]
    },
    {
      "cell_type": "markdown",
      "metadata": {
        "id": "D1vjDH2fL9Tu"
      },
      "source": [
        "# Starter Code Explanation\n",
        "\n",
        "This project uses two 3-link arms, one called arm_teacher (blue) and the other called arm_student (red), as shown in the image below. For each test, a constant torque will be applied to the first joint of both arms for 5 seconds. arm_teacher is moving according to the provided ground truth forward dynamics and your job is to use deep learning to train the arm_student to learn the forward dynamics of the arm_teacher so that it can imitate its behavior. The forward dynamics is a function that takes in the current state of and an action applied to the arm, and then computes the new state of the arm. This project uses a time step of 0.01 second, meaning each time we advance the simulation, we compute the forward dynamics for 0.01 second. In the example image, the student arm is not updating its state and remains static but we will make it move after training is done.\n",
        "\n",
        "\n",
        "\n",
        "<div>\n",
        "<img src=\"https://github.com/roamlab/mecs6616_sp23_project3/blob/master/imgs/example.png?raw=true\" width=\"600\"/>\n",
        "</div>\n",
        "\n",
        "The interface for controlling the robot is defined in the `Robot` class in `robot.py` file. Each robot is initialized with a corresponding forward dynamics (the base class for forward dynamics definition is in `arm_dynamic_base.py`). The arm_teacher is initialized with the provided ground truth forward dynamics, as defined in `arm_dynamics_teacher.py`. You are welcome to look in-depth into this file to understand how the ground truth forward dynamics is computed for an arm, given its number of links, link mass, and viscous friction of the environment - this is recommended but not necessary to successfully complete this assignment. The state of each arm is defined with a (6,1)-dimensional numpy array (three joint positions in radians + three joint velocities in radians per second). An action is defined as the three toques (in Nm) applied to the three joints respectively, which is a (3,1) numpy array. **Throughout this project, the problem is simpllified by only applying a torque to the first joint, so the actions always look like `[torque,0,0]`.** Also, when scoring your model the robot will always start off in a hanging position, meaning an initial state of `[-pi/2,0,0,0,0,0]` so if the collected data from part 1 looks similar, the model will perform better. The `robot.py` file provides you with some functions to set/get the state and set the action for the arm.\n",
        "\n",
        "`geometry.py` provides some geometry functions and `render.py` defines how the visualization is rendered. These two files are not of particular interest for completing this project."
      ]
    },
    {
      "cell_type": "markdown",
      "metadata": {
        "id": "Wz0ALBOu6coY"
      },
      "source": [
        "# Part I. Data collection.\n",
        "\n",
        "Firstly, the project need to collect a dataset for training the forward dynamics. After running the cell, it will generate a pickle file `data.pkl` that contains a data dictionary `data = {'X': X, 'Y': Y}`. The shape of `data['X']` should be (`num_samples`, 9), the first 6 elements are state and the last 3 elements are the action. The shape of `data['Y']` should be (`num_samples`, 6), which saves the next state after applying the action using the ground truth forward dynamics of arm_teacher. \n",
        "\n",
        "**After the data file is generated, `data.pkl` will appear under the 'Files' icon in the left sidebar.** \n",
        "\n",
        "\n",
        "\n"
      ]
    },
    {
      "cell_type": "code",
      "execution_count": null,
      "metadata": {
        "id": "NAb3tE7h9uUd",
        "colab": {
          "base_uri": "https://localhost:8080/"
        },
        "outputId": "6325dfd2-68df-42bf-f052-6546bc31da84"
      },
      "outputs": [
        {
          "output_type": "stream",
          "name": "stderr",
          "text": [
            "\r  0%|          | 0/1 [00:00<?, ?it/s]"
          ]
        },
        {
          "output_type": "stream",
          "name": "stdout",
          "text": [
            "been here 0\n"
          ]
        },
        {
          "output_type": "stream",
          "name": "stderr",
          "text": [
            "100%|██████████| 1/1 [04:36<00:00, 276.88s/it]\n"
          ]
        },
        {
          "output_type": "stream",
          "name": "stdout",
          "text": [
            "(400000, 9)\n"
          ]
        }
      ],
      "source": [
        "import numpy as np\n",
        "import os\n",
        "from arm_dynamics_teacher import ArmDynamicsTeacher\n",
        "from robot import Robot\n",
        "import pickle\n",
        "import math\n",
        "from render import Renderer\n",
        "import time\n",
        "np.random.seed(0)\n",
        "\n",
        "# DO NOT CHANGE\n",
        "# Teacher arm\n",
        "dynamics_teacher = ArmDynamicsTeacher(\n",
        "    num_links=3,\n",
        "    link_mass=0.1,\n",
        "    link_length=1,\n",
        "    joint_viscous_friction=0.1,\n",
        "    dt=0.01\n",
        ")\n",
        "arm_teacher = Robot(dynamics_teacher)\n",
        "\n",
        "# ---\n",
        "# You code starts here. X and Y should eventually be populated with your collected data\n",
        "\n",
        "num_state = 1\n",
        "num_action = 400\n",
        "num_steps = 1000\n",
        "\n",
        "X = np.zeros((num_state * num_action * num_steps, arm_teacher.dynamics.get_state_dim() + arm_teacher.dynamics.get_action_dim()))\n",
        "Y = np.zeros((num_state * num_action * num_steps, arm_teacher.dynamics.get_state_dim()))\n",
        "\n",
        "# GUI visualization, this will drastically reudce the speed of the simulator!\n",
        "gui = False\n",
        "\n",
        "# Initialize the GUI\n",
        "if gui:\n",
        "    renderer = Renderer()\n",
        "    time.sleep(1)\n",
        "\n",
        "from tqdm import tqdm\n",
        "for count_state in tqdm(range(num_state)):\n",
        "  # random initial states. \n",
        "  initial_state = np.zeros((arm_teacher.dynamics.get_state_dim(), 1))  # position + velocity\n",
        "  initial_state[0] = -math.pi / 2.0\n",
        "  print(\"been here\", count_state)\n",
        "  for count_action in range(num_action):\n",
        "    # random action. Also let torque of joints 2&3 to be none zero \n",
        "    arm_teacher.set_state(initial_state)\n",
        "    action = np.append((-2 + count_action * 4 / num_action), np.zeros((2,1))).reshape(-1,1)\n",
        "    arm_teacher.set_action(action)\n",
        "\n",
        "    for count_step in range(num_steps):\n",
        "      # Get the current state\n",
        "      state = arm_teacher.get_state()\n",
        "      position = count_state * (num_action * num_steps) + count_action * num_steps + count_step\n",
        "\n",
        "      X[position] = np.append(state, action)\n",
        "\n",
        "      # The advance function will simulate the action for 1 time step\n",
        "      arm_teacher.advance()\n",
        "      if gui:\n",
        "         renderer.plot([(arm_teacher, 'tab:blue')])\n",
        "    \n",
        "      # Get the new state after advancing one time step\n",
        "      new_state = arm_teacher.get_state()\n",
        "      new_state = new_state.reshape(1, -1)\n",
        "      Y[position] = new_state\n",
        "# ---\n",
        "print(X.shape)\n",
        "# DO NOT CHANGE\n",
        "# Save the collected data in the data.pkl file\n",
        "data = {'X': X, 'Y': Y}\n",
        "pickle.dump(data, open( \"data.pkl\", \"wb\" ) )"
      ]
    },
    {
      "cell_type": "markdown",
      "metadata": {
        "id": "9lCviC34x8ar"
      },
      "source": [
        "# Part 2. Learning the forward dynamics.\n",
        "\n",
        "## Training\n",
        "\n",
        "After the data is collected, the model then need to use the collected dataset to learn the forward dynamics. \n",
        "\n",
        "The model creates the dataset class and loads the dataset with a random 0.8/0.2 train/test split. This cell should save the model that it trains. \n",
        "\n",
        "In machine learning, it is a very good practice to save not only the final model but also the checkpoints, such that you have a wider range of models to choose from. \n"
      ]
    },
    {
      "cell_type": "markdown",
      "source": [
        "### Important: choosing the best model\n",
        "\n",
        "The code will keep track of the checkpoint with the smallest loss on the test set. The path of that checkpoint will be saved to the variable `model_path`. In the evaluation code, the checkpoint from `model_path` will be loaded and evaluated.  "
      ],
      "metadata": {
        "id": "eLbHyqsYghhD"
      }
    },
    {
      "cell_type": "code",
      "execution_count": null,
      "metadata": {
        "id": "jFxpaIrSzf-I",
        "colab": {
          "base_uri": "https://localhost:8080/"
        },
        "outputId": "c5e0d9c3-783b-4ada-bed1-5f7e4fee5dfc"
      },
      "outputs": [
        {
          "output_type": "stream",
          "name": "stdout",
          "text": [
            "320000\n"
          ]
        },
        {
          "output_type": "stream",
          "name": "stderr",
          "text": [
            "\r  0%|          | 0/50 [00:00<?, ?it/s]"
          ]
        },
        {
          "output_type": "stream",
          "name": "stdout",
          "text": [
            "train loss: 0.000205328787249357\n"
          ]
        },
        {
          "output_type": "stream",
          "name": "stderr",
          "text": [
            "\r  2%|▏         | 1/50 [00:12<09:52, 12.08s/it]"
          ]
        },
        {
          "output_type": "stream",
          "name": "stdout",
          "text": [
            "test loss: 0.00018242800673874628\n",
            "train loss: 0.00013910224935173687\n"
          ]
        },
        {
          "output_type": "stream",
          "name": "stderr",
          "text": [
            "\r  4%|▍         | 2/50 [00:20<07:51,  9.82s/it]"
          ]
        },
        {
          "output_type": "stream",
          "name": "stdout",
          "text": [
            "test loss: 0.00013718585020114916\n",
            "train loss: 9.747933427632916e-05\n"
          ]
        },
        {
          "output_type": "stream",
          "name": "stderr",
          "text": [
            "\r  6%|▌         | 3/50 [00:29<07:27,  9.53s/it]"
          ]
        },
        {
          "output_type": "stream",
          "name": "stdout",
          "text": [
            "test loss: 9.037310023529699e-05\n",
            "train loss: 6.381811811920102e-05\n"
          ]
        },
        {
          "output_type": "stream",
          "name": "stderr",
          "text": [
            "\r  8%|▊         | 4/50 [00:37<06:42,  8.76s/it]"
          ]
        },
        {
          "output_type": "stream",
          "name": "stdout",
          "text": [
            "test loss: 5.8418308101977344e-05\n",
            "train loss: 4.230681083569721e-05\n"
          ]
        },
        {
          "output_type": "stream",
          "name": "stderr",
          "text": [
            "\r 10%|█         | 5/50 [00:46<06:42,  8.94s/it]"
          ]
        },
        {
          "output_type": "stream",
          "name": "stdout",
          "text": [
            "test loss: 3.807569219418383e-05\n",
            "train loss: 2.713666899119005e-05\n"
          ]
        },
        {
          "output_type": "stream",
          "name": "stderr",
          "text": [
            "\r 12%|█▏        | 6/50 [00:54<06:26,  8.79s/it]"
          ]
        },
        {
          "output_type": "stream",
          "name": "stdout",
          "text": [
            "test loss: 2.334426355531605e-05\n",
            "train loss: 1.6387657205925166e-05\n"
          ]
        },
        {
          "output_type": "stream",
          "name": "stderr",
          "text": [
            "\r 14%|█▍        | 7/50 [01:03<06:11,  8.64s/it]"
          ]
        },
        {
          "output_type": "stream",
          "name": "stdout",
          "text": [
            "test loss: 1.3521535830705034e-05\n",
            "train loss: 9.756691699145392e-06\n"
          ]
        },
        {
          "output_type": "stream",
          "name": "stderr",
          "text": [
            "\r 16%|█▌        | 8/50 [01:12<06:11,  8.85s/it]"
          ]
        },
        {
          "output_type": "stream",
          "name": "stdout",
          "text": [
            "test loss: 8.377680444198177e-06\n",
            "train loss: 6.215115179095676e-06\n"
          ]
        },
        {
          "output_type": "stream",
          "name": "stderr",
          "text": [
            "\r 18%|█▊        | 9/50 [01:20<05:49,  8.53s/it]"
          ]
        },
        {
          "output_type": "stream",
          "name": "stdout",
          "text": [
            "test loss: 5.252760388287925e-06\n",
            "train loss: 4.215555867155274e-06\n"
          ]
        },
        {
          "output_type": "stream",
          "name": "stderr",
          "text": [
            "\r 20%|██        | 10/50 [01:31<06:13,  9.34s/it]"
          ]
        },
        {
          "output_type": "stream",
          "name": "stdout",
          "text": [
            "test loss: 3.601927342486988e-06\n",
            "train loss: 3.0077139846262923e-06\n"
          ]
        },
        {
          "output_type": "stream",
          "name": "stderr",
          "text": [
            "\r 22%|██▏       | 11/50 [01:40<06:03,  9.33s/it]"
          ]
        },
        {
          "output_type": "stream",
          "name": "stdout",
          "text": [
            "test loss: 2.6256973690408357e-06\n",
            "train loss: 2.2608810236057765e-06\n"
          ]
        },
        {
          "output_type": "stream",
          "name": "stderr",
          "text": [
            "\r 24%|██▍       | 12/50 [01:48<05:36,  8.84s/it]"
          ]
        },
        {
          "output_type": "stream",
          "name": "stdout",
          "text": [
            "test loss: 1.997013654744251e-06\n",
            "train loss: 1.751340803757273e-06\n"
          ]
        },
        {
          "output_type": "stream",
          "name": "stderr",
          "text": [
            "\r 26%|██▌       | 13/50 [01:57<05:32,  8.99s/it]"
          ]
        },
        {
          "output_type": "stream",
          "name": "stdout",
          "text": [
            "test loss: 1.5517999737824085e-06\n",
            "train loss: 1.393011016723733e-06\n"
          ]
        },
        {
          "output_type": "stream",
          "name": "stderr",
          "text": [
            "\r 28%|██▊       | 14/50 [02:05<05:10,  8.62s/it]"
          ]
        },
        {
          "output_type": "stream",
          "name": "stdout",
          "text": [
            "test loss: 1.2656097572616431e-06\n",
            "train loss: 1.1405176708123576e-06\n"
          ]
        },
        {
          "output_type": "stream",
          "name": "stderr",
          "text": [
            "\r 30%|███       | 15/50 [02:14<05:07,  8.78s/it]"
          ]
        },
        {
          "output_type": "stream",
          "name": "stdout",
          "text": [
            "test loss: 1.0516497022194926e-06\n",
            "train loss: 9.589295565159971e-07\n"
          ]
        },
        {
          "output_type": "stream",
          "name": "stderr",
          "text": [
            "\r 32%|███▏      | 16/50 [02:24<05:03,  8.94s/it]"
          ]
        },
        {
          "output_type": "stream",
          "name": "stdout",
          "text": [
            "test loss: 8.820095232309199e-07\n",
            "train loss: 8.193628222841198e-07\n"
          ]
        },
        {
          "output_type": "stream",
          "name": "stderr",
          "text": [
            "\r 34%|███▍      | 17/50 [02:31<04:42,  8.57s/it]"
          ]
        },
        {
          "output_type": "stream",
          "name": "stdout",
          "text": [
            "test loss: 7.721190963749791e-07\n",
            "train loss: 7.203120166199284e-07\n"
          ]
        },
        {
          "output_type": "stream",
          "name": "stderr",
          "text": [
            "\r 36%|███▌      | 18/50 [02:41<04:41,  8.81s/it]"
          ]
        },
        {
          "output_type": "stream",
          "name": "stdout",
          "text": [
            "test loss: 7.469959885852973e-07\n",
            "train loss: 6.460232617300222e-07\n"
          ]
        },
        {
          "output_type": "stream",
          "name": "stderr",
          "text": [
            "\r 38%|███▊      | 19/50 [02:48<04:23,  8.51s/it]"
          ]
        },
        {
          "output_type": "stream",
          "name": "stdout",
          "text": [
            "test loss: 6.667120645431624e-07\n",
            "train loss: 5.832115912784985e-07\n"
          ]
        },
        {
          "output_type": "stream",
          "name": "stderr",
          "text": [
            "\r 40%|████      | 20/50 [02:58<04:21,  8.72s/it]"
          ]
        },
        {
          "output_type": "stream",
          "name": "stdout",
          "text": [
            "test loss: 5.719510044954745e-07\n",
            "train loss: 5.318740782289666e-07\n"
          ]
        },
        {
          "output_type": "stream",
          "name": "stderr",
          "text": [
            "\r 42%|████▏     | 21/50 [03:10<04:41,  9.71s/it]"
          ]
        },
        {
          "output_type": "stream",
          "name": "stdout",
          "text": [
            "test loss: 5.096924529901515e-07\n",
            "train loss: 4.921914126843064e-07\n"
          ]
        },
        {
          "output_type": "stream",
          "name": "stderr",
          "text": [
            "\r 44%|████▍     | 22/50 [03:17<04:15,  9.13s/it]"
          ]
        },
        {
          "output_type": "stream",
          "name": "stdout",
          "text": [
            "test loss: 4.720158344007075e-07\n",
            "train loss: 4.575341009216416e-07\n"
          ]
        },
        {
          "output_type": "stream",
          "name": "stderr",
          "text": [
            "\r 46%|████▌     | 23/50 [03:27<04:10,  9.29s/it]"
          ]
        },
        {
          "output_type": "stream",
          "name": "stdout",
          "text": [
            "test loss: 4.455034429717841e-07\n",
            "train loss: 4.281219908097711e-07\n"
          ]
        },
        {
          "output_type": "stream",
          "name": "stderr",
          "text": [
            "\r 48%|████▊     | 24/50 [03:35<03:50,  8.87s/it]"
          ]
        },
        {
          "output_type": "stream",
          "name": "stdout",
          "text": [
            "test loss: 4.6965833606193996e-07\n",
            "train loss: 4.034013362996802e-07\n"
          ]
        },
        {
          "output_type": "stream",
          "name": "stderr",
          "text": [
            "\r 50%|█████     | 25/50 [03:44<03:43,  8.96s/it]"
          ]
        },
        {
          "output_type": "stream",
          "name": "stdout",
          "text": [
            "test loss: 3.9476951030792406e-07\n",
            "train loss: 3.813212978576175e-07\n"
          ]
        },
        {
          "output_type": "stream",
          "name": "stderr",
          "text": [
            "\r 52%|█████▏    | 26/50 [03:55<03:50,  9.59s/it]"
          ]
        },
        {
          "output_type": "stream",
          "name": "stdout",
          "text": [
            "test loss: 3.7775492755187657e-07\n",
            "train loss: 3.621074100923494e-07\n"
          ]
        },
        {
          "output_type": "stream",
          "name": "stderr",
          "text": [
            "\r 54%|█████▍    | 27/50 [04:03<03:29,  9.10s/it]"
          ]
        },
        {
          "output_type": "stream",
          "name": "stdout",
          "text": [
            "test loss: 3.5420038049238654e-07\n",
            "train loss: 3.444675685093657e-07\n"
          ]
        },
        {
          "output_type": "stream",
          "name": "stderr",
          "text": [
            "\r 56%|█████▌    | 28/50 [04:12<03:21,  9.15s/it]"
          ]
        },
        {
          "output_type": "stream",
          "name": "stdout",
          "text": [
            "test loss: 3.5818624169792204e-07\n",
            "train loss: 3.294527443031825e-07\n"
          ]
        },
        {
          "output_type": "stream",
          "name": "stderr",
          "text": [
            "\r 58%|█████▊    | 29/50 [04:20<03:02,  8.70s/it]"
          ]
        },
        {
          "output_type": "stream",
          "name": "stdout",
          "text": [
            "test loss: 3.2001179736340644e-07\n",
            "train loss: 3.1527746136905676e-07\n"
          ]
        },
        {
          "output_type": "stream",
          "name": "stderr",
          "text": [
            "\r 60%|██████    | 30/50 [04:29<02:57,  8.89s/it]"
          ]
        },
        {
          "output_type": "stream",
          "name": "stdout",
          "text": [
            "test loss: 3.1220070917825637e-07\n",
            "train loss: 3.030623462807469e-07\n"
          ]
        },
        {
          "output_type": "stream",
          "name": "stderr",
          "text": [
            "\r 62%|██████▏   | 31/50 [04:38<02:49,  8.90s/it]"
          ]
        },
        {
          "output_type": "stream",
          "name": "stdout",
          "text": [
            "test loss: 2.988149606863999e-07\n",
            "train loss: 2.915722291252365e-07\n"
          ]
        },
        {
          "output_type": "stream",
          "name": "stderr",
          "text": [
            "\r 64%|██████▍   | 32/50 [04:46<02:35,  8.65s/it]"
          ]
        },
        {
          "output_type": "stream",
          "name": "stdout",
          "text": [
            "test loss: 2.8300889775678684e-07\n",
            "train loss: 2.8279560372101996e-07\n"
          ]
        },
        {
          "output_type": "stream",
          "name": "stderr",
          "text": [
            "\r 66%|██████▌   | 33/50 [04:56<02:30,  8.88s/it]"
          ]
        },
        {
          "output_type": "stream",
          "name": "stdout",
          "text": [
            "test loss: 2.8086323270670734e-07\n",
            "train loss: 2.753458767568162e-07\n"
          ]
        },
        {
          "output_type": "stream",
          "name": "stderr",
          "text": [
            "\r 68%|██████▊   | 34/50 [05:04<02:16,  8.54s/it]"
          ]
        },
        {
          "output_type": "stream",
          "name": "stdout",
          "text": [
            "test loss: 2.6642770214024834e-07\n",
            "train loss: 2.655333664969284e-07\n"
          ]
        },
        {
          "output_type": "stream",
          "name": "stderr",
          "text": [
            "\r 70%|███████   | 35/50 [05:13<02:11,  8.77s/it]"
          ]
        },
        {
          "output_type": "stream",
          "name": "stdout",
          "text": [
            "test loss: 2.618345856220117e-07\n",
            "train loss: 2.591140798080538e-07\n"
          ]
        },
        {
          "output_type": "stream",
          "name": "stderr",
          "text": [
            "\r 72%|███████▏  | 36/50 [05:22<02:03,  8.79s/it]"
          ]
        },
        {
          "output_type": "stream",
          "name": "stdout",
          "text": [
            "test loss: 2.6307400997183094e-07\n",
            "train loss: 2.5309269046980276e-07\n"
          ]
        },
        {
          "output_type": "stream",
          "name": "stderr",
          "text": [
            "\r 74%|███████▍  | 37/50 [05:30<01:52,  8.62s/it]"
          ]
        },
        {
          "output_type": "stream",
          "name": "stdout",
          "text": [
            "test loss: 2.495568359339728e-07\n",
            "train loss: 2.465768791859446e-07\n"
          ]
        },
        {
          "output_type": "stream",
          "name": "stderr",
          "text": [
            "\r 76%|███████▌  | 38/50 [05:39<01:46,  8.85s/it]"
          ]
        },
        {
          "output_type": "stream",
          "name": "stdout",
          "text": [
            "test loss: 2.471573146678452e-07\n",
            "train loss: 2.403095518244136e-07\n"
          ]
        },
        {
          "output_type": "stream",
          "name": "stderr",
          "text": [
            "\r 78%|███████▊  | 39/50 [05:47<01:33,  8.47s/it]"
          ]
        },
        {
          "output_type": "stream",
          "name": "stdout",
          "text": [
            "test loss: 2.516576491018441e-07\n",
            "train loss: 2.353940765442708e-07\n"
          ]
        },
        {
          "output_type": "stream",
          "name": "stderr",
          "text": [
            "\r 80%|████████  | 40/50 [05:56<01:27,  8.74s/it]"
          ]
        },
        {
          "output_type": "stream",
          "name": "stdout",
          "text": [
            "test loss: 2.3150452291176293e-07\n",
            "train loss: 2.2971010606775977e-07\n"
          ]
        },
        {
          "output_type": "stream",
          "name": "stderr",
          "text": [
            "\r 82%|████████▏ | 41/50 [06:05<01:18,  8.71s/it]"
          ]
        },
        {
          "output_type": "stream",
          "name": "stdout",
          "text": [
            "test loss: 2.889391024574195e-07\n",
            "train loss: 2.2595789417989564e-07\n"
          ]
        },
        {
          "output_type": "stream",
          "name": "stderr",
          "text": [
            "\r 84%|████████▍ | 42/50 [06:15<01:12,  9.06s/it]"
          ]
        },
        {
          "output_type": "stream",
          "name": "stdout",
          "text": [
            "test loss: 2.163102304386655e-07\n",
            "train loss: 2.2115127211508324e-07\n"
          ]
        },
        {
          "output_type": "stream",
          "name": "stderr",
          "text": [
            "\r 86%|████████▌ | 43/50 [06:24<01:03,  9.13s/it]"
          ]
        },
        {
          "output_type": "stream",
          "name": "stdout",
          "text": [
            "test loss: 2.1938007310318142e-07\n",
            "train loss: 2.167071640601925e-07\n"
          ]
        },
        {
          "output_type": "stream",
          "name": "stderr",
          "text": [
            "\r 88%|████████▊ | 44/50 [06:32<00:52,  8.76s/it]"
          ]
        },
        {
          "output_type": "stream",
          "name": "stdout",
          "text": [
            "test loss: 2.1503504559206022e-07\n",
            "train loss: 2.1325077141032266e-07\n"
          ]
        },
        {
          "output_type": "stream",
          "name": "stderr",
          "text": [
            "\r 90%|█████████ | 45/50 [06:41<00:44,  8.83s/it]"
          ]
        },
        {
          "output_type": "stream",
          "name": "stdout",
          "text": [
            "test loss: 2.2661547567359718e-07\n",
            "train loss: 2.1013920992185575e-07\n"
          ]
        },
        {
          "output_type": "stream",
          "name": "stderr",
          "text": [
            "\r 92%|█████████▏| 46/50 [06:50<00:35,  8.96s/it]"
          ]
        },
        {
          "output_type": "stream",
          "name": "stdout",
          "text": [
            "test loss: 2.265077223562173e-07\n",
            "train loss: 2.059629816897335e-07\n"
          ]
        },
        {
          "output_type": "stream",
          "name": "stderr",
          "text": [
            "\r 94%|█████████▍| 47/50 [06:58<00:25,  8.58s/it]"
          ]
        },
        {
          "output_type": "stream",
          "name": "stdout",
          "text": [
            "test loss: 2.0164329761485078e-07\n",
            "train loss: 2.0309585528899278e-07\n"
          ]
        },
        {
          "output_type": "stream",
          "name": "stderr",
          "text": [
            "\r 96%|█████████▌| 48/50 [07:07<00:17,  8.80s/it]"
          ]
        },
        {
          "output_type": "stream",
          "name": "stdout",
          "text": [
            "test loss: 2.0388287706119e-07\n",
            "train loss: 1.9951052377287226e-07\n"
          ]
        },
        {
          "output_type": "stream",
          "name": "stderr",
          "text": [
            "\r 98%|█████████▊| 49/50 [07:15<00:08,  8.50s/it]"
          ]
        },
        {
          "output_type": "stream",
          "name": "stdout",
          "text": [
            "test loss: 2.006867245984978e-07\n",
            "train loss: 1.9668866521715955e-07\n"
          ]
        },
        {
          "output_type": "stream",
          "name": "stderr",
          "text": [
            "100%|██████████| 50/50 [07:24<00:00,  8.90s/it]"
          ]
        },
        {
          "output_type": "stream",
          "name": "stdout",
          "text": [
            "test loss: 1.932903591139734e-07\n"
          ]
        },
        {
          "output_type": "stream",
          "name": "stderr",
          "text": [
            "\n"
          ]
        }
      ],
      "source": [
        "import torch\n",
        "from torch.utils.data import Dataset, DataLoader, random_split\n",
        "import os\n",
        "import numpy as np\n",
        "import torch\n",
        "import torch.nn as nn\n",
        "import argparse\n",
        "import time\n",
        "import pickle\n",
        "np.set_printoptions(suppress=True)\n",
        "\n",
        "torch.manual_seed(0)\n",
        "\n",
        "class DynamicDataset(Dataset):\n",
        "    def __init__(self, data_file):\n",
        "        data = pickle.load(open(data_file, \"rb\" ))\n",
        "        # X: (N, 9), Y: (N, 6)\n",
        "        self.X = data['X'].astype(np.float32)\n",
        "        self.Y = data['Y'].astype(np.float32)\n",
        "\n",
        "    def __len__(self):\n",
        "        return self.X.shape[0]\n",
        "\n",
        "    def __getitem__(self, idx):\n",
        "        return self.X[idx], self.Y[idx]\n",
        "\n",
        "\n",
        "class Net(nn.Module):\n",
        "    # ---\n",
        "    # Your code goes here\n",
        "    def __init__(self):\n",
        "      super(Net, self).__init__()\n",
        "      self.layer1 = nn.Linear(9, 128)\n",
        "      self.layer2 = nn.Linear(128,32)\n",
        "      self.layer3 = nn.Linear(32,3) # output three accelartions\n",
        "\n",
        "    def forward(self, x):\n",
        "      old_x = x\n",
        "      y = torch.nn.functional.relu(self.layer1(x))\n",
        "      y = torch.nn.functional.relu(self.layer2(y))    \n",
        "      y = self.layer3(y)\n",
        "      y = acce2PosAndSpeed(old_x, y)\n",
        "\n",
        "      return y\n",
        "\n",
        "\n",
        "    def predict(self, features):\n",
        "      self.eval()\n",
        "      features = torch.from_numpy(features).float()\n",
        "      features = features.unsqueeze(0)\n",
        "      return self.forward(features).detach().numpy()\n",
        "\n",
        "    # ---\n",
        "\n",
        "network = Net()\n",
        "learning_rate = 0.0001\n",
        "criterion = nn.MSELoss()\n",
        "optimizer = torch.optim.Adam(network.parameters(),lr = learning_rate) #, betas=(0.9, 0.999), eps=1e-08, weight_decay=0, amsgrad=False)\n",
        "scheduler = torch.optim.lr_scheduler.StepLR(optimizer, step_size=100, gamma=0.1)\n",
        "batch_size = 100\n",
        "\n",
        "def train(model, loader):\n",
        "    model.train()\n",
        "    total_loss = 0.0\n",
        "    for i, data in enumerate(loader):\n",
        "      x = data[0]\n",
        "      y = data[1]\n",
        "      optimizer.zero_grad()\n",
        "      predictions = model.forward(x)\n",
        "      loss = criterion(predictions, y)\n",
        "      loss.backward()\n",
        "      total_loss += loss.item()\n",
        "      optimizer.step()\n",
        "    scheduler.step()\n",
        "    return total_loss/(i+1)\n",
        "\n",
        "\n",
        "\n",
        "def test(model, loader):\n",
        "    model.eval()\n",
        "\n",
        "    # --\n",
        "    # Your code goes here\n",
        "    test_loss = 0.0\n",
        "    for i, data in enumerate(loader):\n",
        "      x = data[0]\n",
        "      y = data[1]\n",
        "      predictions = model.forward(x)\n",
        "      loss = criterion(predictions, y)\n",
        "      loss.backward()\n",
        "      test_loss += loss.item()\n",
        "    return test_loss/(i+1)\n",
        "\n",
        "def acce2PosAndSpeed(x, acce):\n",
        "    # print(x.shape)\n",
        "    pos = x[:, :3]\n",
        "    vel = x[:, 3:6]\n",
        "\n",
        "    new_vel = vel + acce * 0.01\n",
        "    new_pos = pos + vel * 0.01 + acce * 0.5 * 0.01 * 0.01\n",
        "\n",
        "    output = torch.cat([new_pos, new_vel], dim=1)\n",
        "    return output    \n",
        "\n",
        "\n",
        "\n",
        "# The ratio of the dataset used for testing\n",
        "split = 0.2\n",
        "\n",
        "# We are only using CPU, and GPU is not allowed.\n",
        "device = torch.device(\"cpu\")\n",
        "\n",
        "dataset = DynamicDataset('data.pkl')\n",
        "dataset_size = len(dataset)\n",
        "test_size = int(np.floor(split * dataset_size))\n",
        "train_size = dataset_size - test_size\n",
        "train_set, test_set = random_split(dataset, [train_size, test_size])\n",
        "print(len(train_set))\n",
        "train_loader = torch.utils.data.DataLoader(train_set, shuffle=True, batch_size = batch_size)\n",
        "test_loader = torch.utils.data.DataLoader(test_set, shuffle=True, batch_size = batch_size)\n",
        "\n",
        "# The name of the directory to save all the checkpoints\n",
        "timestr = time.strftime(\"%Y-%m-%d_%H-%M-%S\")\n",
        "model_dir = os.path.join('models', timestr) \n",
        "\n",
        "# Keep track of the checkpoint with the smallest test loss and save in model_path\n",
        "model_path = None\n",
        "\n",
        "\n",
        "\n",
        "epochs = 50\n",
        "min_loss = 100\n",
        "from tqdm import tqdm\n",
        "for epoch in tqdm(range(1, 1 + epochs)):\n",
        "    # ---\n",
        "    # Your code goes here\n",
        "    total_loss = train(network, train_loader)\n",
        "    print(\"train loss:\", total_loss)\n",
        "\n",
        "    test_loss =  test(network, test_loader)\n",
        "    print(\"test loss:\", test_loss)\n",
        "    \n",
        "    if test_loss < min_loss:\n",
        "      min_loss  = test_loss\n",
        "      model_folder_name = f'epoch_{epoch:04d}_loss_{test_loss:.8f}'\n",
        "      if not os.path.exists(os.path.join(model_dir, model_folder_name)):\n",
        "          os.makedirs(os.path.join(model_dir, model_folder_name))\n",
        "      torch.save(network.state_dict(), os.path.join(model_dir, model_folder_name, 'dynamics.pth'))\n",
        "      model_path = os.path.join(model_dir, model_folder_name, 'dynamics.pth')\n"
      ]
    },
    {
      "cell_type": "markdown",
      "source": [
        "## Prediction\n",
        "\n",
        "After done with training, the saved checkpoint (in function init_model) is loaded and then useed to predict the new state given the current state and action (in function dynamics_step)."
      ],
      "metadata": {
        "id": "18hwnds98XG7"
      }
    },
    {
      "cell_type": "code",
      "source": [
        "from arm_dynamics_base import ArmDynamicsBase\n",
        "\n",
        "class ArmDynamicsStudent(ArmDynamicsBase):\n",
        "    def init_model(self, model_path, num_links, time_step, device):\n",
        "        # Initialize the model loading the saved model from provided model_path\n",
        "        \n",
        "        self.model = Net()\n",
        "        self.model.load_state_dict(torch.load(model_path))\n",
        "        self.model.eval()\n",
        "        self.model_loaded = True\n",
        "\n",
        "    def dynamics_step(self, state, action, dt):\n",
        "        if self.model_loaded:\n",
        "            # Use the loaded model to predict new state given the current state and action\n",
        "            # Output should be an array of shape (6,1)\n",
        "            x = np.append(state, action)\n",
        "            new_state = self.model.predict(x)\n",
        "            return new_state.T\n",
        "            \n",
        "            # ---\n",
        "        else:\n",
        "            return state"
      ],
      "metadata": {
        "id": "EdEe4LbY8r1J"
      },
      "execution_count": null,
      "outputs": []
    },
    {
      "cell_type": "markdown",
      "metadata": {
        "id": "JLchnZGWZYeP"
      },
      "source": [
        "# Evaluation and Grading\n",
        "\n",
        "The total number of points for this project is 15. There are 3 types of tests, each is worth 5 points. \n",
        "\n",
        "**For each type, there are 50 tests.** For each test, a score of 1, 0.5, or 0 is generated. The final grade for each type is the averaged score across 50 tests * 5. \n",
        "\n",
        "- *Type 1*: for each test, a constant torque randomly sampled from [-1.5Nm, 1.5Nm] is applied to the first joint of the arm for 5 seconds. If the MSE (Mean Squred Error) between the predicted arm state (arm_student) and the ground truth arm state (arm_teacher) is < 0.0005, score 1 will be assigned for this test. If 0.0005 <= MSE < 0.008, score 0.5 will be assigned for this test. Otherwise you get 0.\n",
        "- *Type 2*: for each test, a torque that linearly increases from 0 to a random torque in [0.5Nm, 1.5Nm] is applied to the first joint of the arm for 5 seconds. If MSE < 0.0005, score 1 will be assigned for this test. If 0.0005 <= MSE < 0.008, score 0.5 will be assigned for this test. Otherwise you get 0. \n",
        "- *Type 3*: for each test, one torque is applied for the first 2.5 seconds and another torque is applied for the remaining 2.5 seconds. Both torques are sampled from [-1Nm, 1Nm]. If MSE < 0.015, score 1 will be assigned for this test. If 0.015 <= MSE < 0.05, score 0.5 will be assigned for this test. Otherwise you get 0. \n"
      ]
    },
    {
      "cell_type": "code",
      "execution_count": null,
      "metadata": {
        "id": "sITf5AIz3Bm1",
        "colab": {
          "base_uri": "https://localhost:8080/"
        },
        "outputId": "c57aab28-3dd8-4650-f8ef-d897dd2235aa"
      },
      "outputs": [
        {
          "output_type": "stream",
          "name": "stdout",
          "text": [
            "models/2023-04-01_02-08-43/epoch_0050_loss_0.00000019/dynamics.pth\n"
          ]
        }
      ],
      "source": [
        "# DO NOT CHANGE\n",
        "# Set up grading\n",
        "\n",
        "# Make sure model_path is correctly set\n",
        "print(model_path)\n",
        "import importlib\n",
        "import score\n",
        "importlib.reload(score)\n",
        "\n",
        "# Create the teacher arm\n",
        "dynamics_teacher = ArmDynamicsTeacher(\n",
        "    num_links=3,\n",
        "    link_mass=0.1,\n",
        "    link_length=1,\n",
        "    joint_viscous_friction=0.1,\n",
        "    dt=0.01\n",
        ")\n",
        "arm_teacher = Robot(dynamics_teacher)\n",
        "\n",
        "# Create the student arm\n",
        "dynamics_student = ArmDynamicsStudent(\n",
        "    num_links=3,\n",
        "    link_mass=0.1,\n",
        "    link_length=1,\n",
        "    joint_viscous_friction=0.1,\n",
        "    dt=0.01\n",
        ")\n",
        "if model_path is not None:\n",
        "  dynamics_student.init_model(model_path, num_links=3, time_step=0.01, device=torch.device('cpu'))\n",
        "arm_student = Robot(dynamics_student)"
      ]
    },
    {
      "cell_type": "code",
      "execution_count": null,
      "metadata": {
        "id": "ZporTBmpmahZ",
        "colab": {
          "base_uri": "https://localhost:8080/",
          "height": 1000
        },
        "outputId": "1d74ef8a-da4e-41ba-b0af-f8823cc23557"
      },
      "outputs": [
        {
          "output_type": "stream",
          "name": "stdout",
          "text": [
            "\n",
            "----------------------------------------\n",
            "TEST 1 (Torque = 0.8139619298002381 Nm)\n",
            "\n",
            "average mse: 6.323112087717268e-05\n",
            "Score: 1/1\n",
            "----------------------------------------\n",
            "\n",
            "\n",
            "----------------------------------------\n",
            "TEST 2 (Torque = -1.4377441519217955 Nm)\n",
            "\n",
            "average mse: 0.0004937247228007773\n",
            "Score: 1/1\n",
            "----------------------------------------\n",
            "\n",
            "\n",
            "----------------------------------------\n",
            "TEST 3 (Torque = 0.4009447047788264 Nm)\n",
            "\n",
            "average mse: 3.0213453034725436e-05\n",
            "Score: 1/1\n",
            "----------------------------------------\n",
            "\n",
            "\n",
            "----------------------------------------\n",
            "TEST 4 (Torque = 0.7464116476158358 Nm)\n",
            "\n",
            "average mse: 3.4612379813069965e-05\n",
            "Score: 1/1\n",
            "----------------------------------------\n",
            "\n",
            "\n",
            "----------------------------------------\n",
            "TEST 5 (Torque = -0.004478963092228838 Nm)\n",
            "\n",
            "average mse: 2.038855146621431e-07\n",
            "Score: 1/1\n",
            "----------------------------------------\n",
            "\n",
            "\n",
            "----------------------------------------\n",
            "TEST 6 (Torque = -0.825610063407457 Nm)\n",
            "\n",
            "average mse: 6.451971877853717e-05\n",
            "Score: 1/1\n",
            "----------------------------------------\n",
            "\n",
            "\n",
            "----------------------------------------\n",
            "TEST 7 (Torque = -0.9058114057211281 Nm)\n",
            "\n",
            "average mse: 4.67451148200298e-05\n",
            "Score: 1/1\n",
            "----------------------------------------\n",
            "\n",
            "\n",
            "----------------------------------------\n",
            "TEST 8 (Torque = 0.7815921365968763 Nm)\n",
            "\n",
            "average mse: 5.7783878016007344e-05\n",
            "Score: 1/1\n",
            "----------------------------------------\n",
            "\n",
            "\n",
            "----------------------------------------\n",
            "TEST 9 (Torque = -0.9926674903123937 Nm)\n",
            "\n",
            "average mse: 5.467903634845652e-05\n",
            "Score: 1/1\n",
            "----------------------------------------\n",
            "\n",
            "\n",
            "----------------------------------------\n",
            "TEST 10 (Torque = -1.2349805574779693 Nm)\n",
            "\n",
            "average mse: 0.00011192542159673273\n",
            "Score: 1/1\n",
            "----------------------------------------\n",
            "\n",
            "\n",
            "----------------------------------------\n",
            "TEST 11 (Torque = 0.5560794551033919 Nm)\n",
            "\n",
            "average mse: 3.03036812455178e-05\n",
            "Score: 1/1\n",
            "----------------------------------------\n",
            "\n",
            "\n",
            "----------------------------------------\n",
            "TEST 12 (Torque = 1.3601800385848097 Nm)\n",
            "\n",
            "average mse: 8.560204836864204e-05\n",
            "Score: 1/1\n",
            "----------------------------------------\n",
            "\n",
            "\n",
            "----------------------------------------\n",
            "TEST 13 (Torque = -1.4881552010162566 Nm)\n",
            "\n",
            "average mse: 0.00044091125347433835\n",
            "Score: 1/1\n",
            "----------------------------------------\n",
            "\n",
            "\n",
            "----------------------------------------\n",
            "TEST 14 (Torque = 0.03657679015732995 Nm)\n",
            "\n",
            "average mse: 2.9100491690530756e-06\n",
            "Score: 1/1\n",
            "----------------------------------------\n",
            "\n",
            "\n",
            "----------------------------------------\n",
            "TEST 15 (Torque = 0.9378628849563406 Nm)\n",
            "\n",
            "average mse: 4.692576972375822e-05\n",
            "Score: 1/1\n",
            "----------------------------------------\n",
            "\n",
            "\n",
            "----------------------------------------\n",
            "TEST 16 (Torque = 0.33757820048816445 Nm)\n",
            "\n",
            "average mse: 8.565379880239287e-06\n",
            "Score: 1/1\n",
            "----------------------------------------\n",
            "\n",
            "\n",
            "----------------------------------------\n",
            "TEST 17 (Torque = 0.6652659522953988 Nm)\n",
            "\n",
            "average mse: 2.863754691786241e-05\n",
            "Score: 1/1\n",
            "----------------------------------------\n",
            "\n",
            "\n",
            "----------------------------------------\n",
            "TEST 18 (Torque = -0.6243717954881005 Nm)\n",
            "\n",
            "average mse: 8.690248923991327e-05\n",
            "Score: 1/1\n",
            "----------------------------------------\n",
            "\n",
            "\n",
            "----------------------------------------\n",
            "TEST 19 (Torque = 1.2533223675388303 Nm)\n",
            "\n",
            "average mse: 0.00016415111104096933\n",
            "Score: 1/1\n",
            "----------------------------------------\n",
            "\n",
            "\n",
            "----------------------------------------\n",
            "TEST 20 (Torque = 0.6437273501930716 Nm)\n",
            "\n",
            "average mse: 3.4353784025461986e-05\n",
            "Score: 1/1\n",
            "----------------------------------------\n",
            "\n",
            "\n",
            "----------------------------------------\n",
            "TEST 21 (Torque = 0.1276331040337837 Nm)\n",
            "\n",
            "average mse: 6.709540831783145e-06\n",
            "Score: 1/1\n",
            "----------------------------------------\n",
            "\n",
            "\n",
            "----------------------------------------\n",
            "TEST 22 (Torque = -1.073489857195419 Nm)\n",
            "\n",
            "average mse: 6.675715786808163e-05\n",
            "Score: 1/1\n",
            "----------------------------------------\n",
            "\n",
            "\n",
            "----------------------------------------\n",
            "TEST 23 (Torque = -0.37997771984559225 Nm)\n",
            "\n",
            "average mse: 2.357299719648619e-05\n",
            "Score: 1/1\n",
            "----------------------------------------\n",
            "\n",
            "\n",
            "----------------------------------------\n",
            "TEST 24 (Torque = 0.5224008451990358 Nm)\n",
            "\n",
            "average mse: 3.3751476842092575e-05\n",
            "Score: 1/1\n",
            "----------------------------------------\n",
            "\n",
            "\n",
            "----------------------------------------\n",
            "TEST 25 (Torque = -0.17450047673101166 Nm)\n",
            "\n",
            "average mse: 1.547411003976991e-05\n",
            "Score: 1/1\n",
            "----------------------------------------\n",
            "\n",
            "\n",
            "----------------------------------------\n",
            "TEST 26 (Torque = -0.19795802000011875 Nm)\n",
            "\n",
            "average mse: 1.835955671441334e-05\n",
            "Score: 1/1\n",
            "----------------------------------------\n",
            "\n",
            "\n",
            "----------------------------------------\n",
            "TEST 27 (Torque = 0.3533009354079515 Nm)\n",
            "\n",
            "average mse: 8.634779107532942e-06\n",
            "Score: 1/1\n",
            "----------------------------------------\n",
            "\n",
            "\n",
            "----------------------------------------\n",
            "TEST 28 (Torque = 0.039414727663172666 Nm)\n",
            "\n",
            "average mse: 3.2928530707323583e-06\n",
            "Score: 1/1\n",
            "----------------------------------------\n",
            "\n",
            "\n",
            "----------------------------------------\n",
            "TEST 29 (Torque = 0.4511915457944018 Nm)\n",
            "\n",
            "average mse: 4.825507733977729e-05\n",
            "Score: 1/1\n",
            "----------------------------------------\n",
            "\n",
            "\n",
            "----------------------------------------\n",
            "TEST 30 (Torque = 0.30311686021363315 Nm)\n",
            "\n",
            "average mse: 7.3273275085348644e-06\n",
            "Score: 1/1\n",
            "----------------------------------------\n",
            "\n",
            "\n",
            "----------------------------------------\n",
            "TEST 31 (Torque = 0.9156695904982395 Nm)\n",
            "\n",
            "average mse: 5.7287955957488024e-05\n",
            "Score: 1/1\n",
            "----------------------------------------\n",
            "\n",
            "\n",
            "----------------------------------------\n",
            "TEST 32 (Torque = 0.06494145718090238 Nm)\n",
            "\n",
            "average mse: 6.8253765471789455e-06\n",
            "Score: 1/1\n",
            "----------------------------------------\n",
            "\n",
            "\n",
            "----------------------------------------\n",
            "TEST 33 (Torque = 1.2259466424260048 Nm)\n",
            "\n",
            "average mse: 0.00015380967945043516\n",
            "Score: 1/1\n",
            "----------------------------------------\n",
            "\n",
            "\n",
            "----------------------------------------\n",
            "TEST 34 (Torque = -0.5422917330343642 Nm)\n",
            "\n"
          ]
        },
        {
          "output_type": "error",
          "ename": "KeyboardInterrupt",
          "evalue": "ignored",
          "traceback": [
            "\u001b[0;31m---------------------------------------------------------------------------\u001b[0m",
            "\u001b[0;31mKeyboardInterrupt\u001b[0m                         Traceback (most recent call last)",
            "\u001b[0;32m<ipython-input-15-c9d195538fcc>\u001b[0m in \u001b[0;36m<cell line: 4>\u001b[0;34m()\u001b[0m\n\u001b[1;32m      2\u001b[0m \u001b[0;34m\u001b[0m\u001b[0m\n\u001b[1;32m      3\u001b[0m \u001b[0;31m# Test on randomly sampled torques from [-1.5, 1.5]\u001b[0m\u001b[0;34m\u001b[0m\u001b[0;34m\u001b[0m\u001b[0m\n\u001b[0;32m----> 4\u001b[0;31m \u001b[0mscore\u001b[0m\u001b[0;34m.\u001b[0m\u001b[0mscore_random_torque\u001b[0m\u001b[0;34m(\u001b[0m\u001b[0marm_teacher\u001b[0m\u001b[0;34m,\u001b[0m \u001b[0marm_student\u001b[0m\u001b[0;34m,\u001b[0m \u001b[0mgui\u001b[0m\u001b[0;34m=\u001b[0m\u001b[0;32mFalse\u001b[0m\u001b[0;34m)\u001b[0m\u001b[0;34m\u001b[0m\u001b[0;34m\u001b[0m\u001b[0m\n\u001b[0m",
            "\u001b[0;32m/content/score.py\u001b[0m in \u001b[0;36mscore_random_torque\u001b[0;34m(arm_teacher, arm_student, gui)\u001b[0m\n\u001b[1;32m     51\u001b[0m             \u001b[0mt\u001b[0m \u001b[0;34m=\u001b[0m \u001b[0mtime\u001b[0m\u001b[0;34m.\u001b[0m\u001b[0mtime\u001b[0m\u001b[0;34m(\u001b[0m\u001b[0;34m)\u001b[0m\u001b[0;34m\u001b[0m\u001b[0;34m\u001b[0m\u001b[0m\n\u001b[1;32m     52\u001b[0m             \u001b[0marm_teacher\u001b[0m\u001b[0;34m.\u001b[0m\u001b[0madvance\u001b[0m\u001b[0;34m(\u001b[0m\u001b[0;34m)\u001b[0m\u001b[0;34m\u001b[0m\u001b[0;34m\u001b[0m\u001b[0m\n\u001b[0;32m---> 53\u001b[0;31m             \u001b[0marm_student\u001b[0m\u001b[0;34m.\u001b[0m\u001b[0madvance\u001b[0m\u001b[0;34m(\u001b[0m\u001b[0;34m)\u001b[0m\u001b[0;34m\u001b[0m\u001b[0;34m\u001b[0m\u001b[0m\n\u001b[0m\u001b[1;32m     54\u001b[0m             \u001b[0;32mif\u001b[0m \u001b[0mgui\u001b[0m\u001b[0;34m:\u001b[0m\u001b[0;34m\u001b[0m\u001b[0;34m\u001b[0m\u001b[0m\n\u001b[1;32m     55\u001b[0m                 \u001b[0mrenderer\u001b[0m\u001b[0;34m.\u001b[0m\u001b[0mplot\u001b[0m\u001b[0;34m(\u001b[0m\u001b[0;34m[\u001b[0m\u001b[0;34m(\u001b[0m\u001b[0marm_teacher\u001b[0m\u001b[0;34m,\u001b[0m \u001b[0;34m'tab:blue'\u001b[0m\u001b[0;34m)\u001b[0m\u001b[0;34m,\u001b[0m \u001b[0;34m(\u001b[0m\u001b[0marm_student\u001b[0m\u001b[0;34m,\u001b[0m \u001b[0;34m'tab:red'\u001b[0m\u001b[0;34m)\u001b[0m\u001b[0;34m]\u001b[0m\u001b[0;34m)\u001b[0m\u001b[0;34m\u001b[0m\u001b[0;34m\u001b[0m\u001b[0m\n",
            "\u001b[0;32m/content/robot.py\u001b[0m in \u001b[0;36madvance\u001b[0;34m(self)\u001b[0m\n\u001b[1;32m     18\u001b[0m     \u001b[0;32mdef\u001b[0m \u001b[0madvance\u001b[0m\u001b[0;34m(\u001b[0m\u001b[0mself\u001b[0m\u001b[0;34m)\u001b[0m\u001b[0;34m:\u001b[0m\u001b[0;34m\u001b[0m\u001b[0;34m\u001b[0m\u001b[0m\n\u001b[1;32m     19\u001b[0m         \u001b[0mstate\u001b[0m \u001b[0;34m=\u001b[0m \u001b[0mself\u001b[0m\u001b[0;34m.\u001b[0m\u001b[0mstate\u001b[0m\u001b[0;34m.\u001b[0m\u001b[0mcopy\u001b[0m\u001b[0;34m(\u001b[0m\u001b[0;34m)\u001b[0m\u001b[0;34m\u001b[0m\u001b[0;34m\u001b[0m\u001b[0m\n\u001b[0;32m---> 20\u001b[0;31m         \u001b[0mstate\u001b[0m \u001b[0;34m=\u001b[0m \u001b[0mself\u001b[0m\u001b[0;34m.\u001b[0m\u001b[0mdynamics\u001b[0m\u001b[0;34m.\u001b[0m\u001b[0madvance\u001b[0m\u001b[0;34m(\u001b[0m\u001b[0mstate\u001b[0m\u001b[0;34m,\u001b[0m \u001b[0mself\u001b[0m\u001b[0;34m.\u001b[0m\u001b[0maction\u001b[0m\u001b[0;34m)\u001b[0m\u001b[0;34m\u001b[0m\u001b[0;34m\u001b[0m\u001b[0m\n\u001b[0m\u001b[1;32m     21\u001b[0m         \u001b[0mself\u001b[0m\u001b[0;34m.\u001b[0m\u001b[0mstate\u001b[0m \u001b[0;34m=\u001b[0m \u001b[0mstate\u001b[0m\u001b[0;34m\u001b[0m\u001b[0;34m\u001b[0m\u001b[0m\n\u001b[1;32m     22\u001b[0m         \u001b[0mself\u001b[0m\u001b[0;34m.\u001b[0m\u001b[0mt\u001b[0m \u001b[0;34m+=\u001b[0m \u001b[0mself\u001b[0m\u001b[0;34m.\u001b[0m\u001b[0mdynamics\u001b[0m\u001b[0;34m.\u001b[0m\u001b[0mdt\u001b[0m\u001b[0;34m\u001b[0m\u001b[0;34m\u001b[0m\u001b[0m\n",
            "\u001b[0;32m/content/arm_dynamics_base.py\u001b[0m in \u001b[0;36madvance\u001b[0;34m(self, state, action)\u001b[0m\n\u001b[1;32m     99\u001b[0m         \u001b[0mstart_time\u001b[0m \u001b[0;34m=\u001b[0m \u001b[0mtime\u001b[0m\u001b[0;34m.\u001b[0m\u001b[0mtime\u001b[0m\u001b[0;34m(\u001b[0m\u001b[0;34m)\u001b[0m\u001b[0;34m\u001b[0m\u001b[0;34m\u001b[0m\u001b[0m\n\u001b[1;32m    100\u001b[0m         \u001b[0mdt\u001b[0m \u001b[0;34m=\u001b[0m \u001b[0mself\u001b[0m\u001b[0;34m.\u001b[0m\u001b[0mdt\u001b[0m\u001b[0;34m\u001b[0m\u001b[0;34m\u001b[0m\u001b[0m\n\u001b[0;32m--> 101\u001b[0;31m         \u001b[0mnew_state\u001b[0m \u001b[0;34m=\u001b[0m \u001b[0mself\u001b[0m\u001b[0;34m.\u001b[0m\u001b[0mdynamics_step\u001b[0m\u001b[0;34m(\u001b[0m\u001b[0mstate\u001b[0m\u001b[0;34m,\u001b[0m \u001b[0maction\u001b[0m\u001b[0;34m,\u001b[0m \u001b[0mdt\u001b[0m\u001b[0;34m)\u001b[0m\u001b[0;34m\u001b[0m\u001b[0;34m\u001b[0m\u001b[0m\n\u001b[0m\u001b[1;32m    102\u001b[0m         \u001b[0mself\u001b[0m\u001b[0;34m.\u001b[0m\u001b[0mcpu_time_consumed\u001b[0m \u001b[0;34m+=\u001b[0m \u001b[0mtime\u001b[0m\u001b[0;34m.\u001b[0m\u001b[0mtime\u001b[0m\u001b[0;34m(\u001b[0m\u001b[0;34m)\u001b[0m \u001b[0;34m-\u001b[0m \u001b[0mstart_time\u001b[0m\u001b[0;34m\u001b[0m\u001b[0;34m\u001b[0m\u001b[0m\n\u001b[1;32m    103\u001b[0m         \u001b[0;32mreturn\u001b[0m \u001b[0mnew_state\u001b[0m\u001b[0;34m\u001b[0m\u001b[0;34m\u001b[0m\u001b[0m\n",
            "\u001b[0;32m<ipython-input-12-8bbac3a0c13a>\u001b[0m in \u001b[0;36mdynamics_step\u001b[0;34m(self, state, action, dt)\u001b[0m\n\u001b[1;32m     19\u001b[0m             \u001b[0;31m# Output should be an array of shape (6,1)\u001b[0m\u001b[0;34m\u001b[0m\u001b[0;34m\u001b[0m\u001b[0m\n\u001b[1;32m     20\u001b[0m             \u001b[0mx\u001b[0m \u001b[0;34m=\u001b[0m \u001b[0mnp\u001b[0m\u001b[0;34m.\u001b[0m\u001b[0mappend\u001b[0m\u001b[0;34m(\u001b[0m\u001b[0mstate\u001b[0m\u001b[0;34m,\u001b[0m \u001b[0maction\u001b[0m\u001b[0;34m)\u001b[0m\u001b[0;34m\u001b[0m\u001b[0;34m\u001b[0m\u001b[0m\n\u001b[0;32m---> 21\u001b[0;31m             \u001b[0mnew_state\u001b[0m \u001b[0;34m=\u001b[0m \u001b[0mself\u001b[0m\u001b[0;34m.\u001b[0m\u001b[0mmodel\u001b[0m\u001b[0;34m.\u001b[0m\u001b[0mpredict\u001b[0m\u001b[0;34m(\u001b[0m\u001b[0mx\u001b[0m\u001b[0;34m)\u001b[0m\u001b[0;34m\u001b[0m\u001b[0;34m\u001b[0m\u001b[0m\n\u001b[0m\u001b[1;32m     22\u001b[0m             \u001b[0;32mreturn\u001b[0m \u001b[0mnew_state\u001b[0m\u001b[0;34m.\u001b[0m\u001b[0mT\u001b[0m\u001b[0;34m\u001b[0m\u001b[0;34m\u001b[0m\u001b[0m\n\u001b[1;32m     23\u001b[0m \u001b[0;34m\u001b[0m\u001b[0m\n",
            "\u001b[0;32m<ipython-input-5-62859f00af87>\u001b[0m in \u001b[0;36mpredict\u001b[0;34m(self, features)\u001b[0m\n\u001b[1;32m     49\u001b[0m       \u001b[0mfeatures\u001b[0m \u001b[0;34m=\u001b[0m \u001b[0mtorch\u001b[0m\u001b[0;34m.\u001b[0m\u001b[0mfrom_numpy\u001b[0m\u001b[0;34m(\u001b[0m\u001b[0mfeatures\u001b[0m\u001b[0;34m)\u001b[0m\u001b[0;34m.\u001b[0m\u001b[0mfloat\u001b[0m\u001b[0;34m(\u001b[0m\u001b[0;34m)\u001b[0m\u001b[0;34m\u001b[0m\u001b[0;34m\u001b[0m\u001b[0m\n\u001b[1;32m     50\u001b[0m       \u001b[0mfeatures\u001b[0m \u001b[0;34m=\u001b[0m \u001b[0mfeatures\u001b[0m\u001b[0;34m.\u001b[0m\u001b[0munsqueeze\u001b[0m\u001b[0;34m(\u001b[0m\u001b[0;36m0\u001b[0m\u001b[0;34m)\u001b[0m\u001b[0;34m\u001b[0m\u001b[0;34m\u001b[0m\u001b[0m\n\u001b[0;32m---> 51\u001b[0;31m       \u001b[0;32mreturn\u001b[0m \u001b[0mself\u001b[0m\u001b[0;34m.\u001b[0m\u001b[0mforward\u001b[0m\u001b[0;34m(\u001b[0m\u001b[0mfeatures\u001b[0m\u001b[0;34m)\u001b[0m\u001b[0;34m.\u001b[0m\u001b[0mdetach\u001b[0m\u001b[0;34m(\u001b[0m\u001b[0;34m)\u001b[0m\u001b[0;34m.\u001b[0m\u001b[0mnumpy\u001b[0m\u001b[0;34m(\u001b[0m\u001b[0;34m)\u001b[0m\u001b[0;34m\u001b[0m\u001b[0;34m\u001b[0m\u001b[0m\n\u001b[0m\u001b[1;32m     52\u001b[0m \u001b[0;34m\u001b[0m\u001b[0m\n\u001b[1;32m     53\u001b[0m     \u001b[0;31m# ---\u001b[0m\u001b[0;34m\u001b[0m\u001b[0;34m\u001b[0m\u001b[0m\n",
            "\u001b[0;32m<ipython-input-5-62859f00af87>\u001b[0m in \u001b[0;36mforward\u001b[0;34m(self, x)\u001b[0m\n\u001b[1;32m     40\u001b[0m       \u001b[0my\u001b[0m \u001b[0;34m=\u001b[0m \u001b[0mtorch\u001b[0m\u001b[0;34m.\u001b[0m\u001b[0mnn\u001b[0m\u001b[0;34m.\u001b[0m\u001b[0mfunctional\u001b[0m\u001b[0;34m.\u001b[0m\u001b[0mrelu\u001b[0m\u001b[0;34m(\u001b[0m\u001b[0mself\u001b[0m\u001b[0;34m.\u001b[0m\u001b[0mlayer2\u001b[0m\u001b[0;34m(\u001b[0m\u001b[0my\u001b[0m\u001b[0;34m)\u001b[0m\u001b[0;34m)\u001b[0m\u001b[0;34m\u001b[0m\u001b[0;34m\u001b[0m\u001b[0m\n\u001b[1;32m     41\u001b[0m       \u001b[0my\u001b[0m \u001b[0;34m=\u001b[0m \u001b[0mself\u001b[0m\u001b[0;34m.\u001b[0m\u001b[0mlayer3\u001b[0m\u001b[0;34m(\u001b[0m\u001b[0my\u001b[0m\u001b[0;34m)\u001b[0m\u001b[0;34m\u001b[0m\u001b[0;34m\u001b[0m\u001b[0m\n\u001b[0;32m---> 42\u001b[0;31m       \u001b[0my\u001b[0m \u001b[0;34m=\u001b[0m \u001b[0macce2PosAndSpeed\u001b[0m\u001b[0;34m(\u001b[0m\u001b[0mold_x\u001b[0m\u001b[0;34m,\u001b[0m \u001b[0my\u001b[0m\u001b[0;34m)\u001b[0m\u001b[0;34m\u001b[0m\u001b[0;34m\u001b[0m\u001b[0m\n\u001b[0m\u001b[1;32m     43\u001b[0m \u001b[0;34m\u001b[0m\u001b[0m\n\u001b[1;32m     44\u001b[0m       \u001b[0;32mreturn\u001b[0m \u001b[0my\u001b[0m\u001b[0;34m\u001b[0m\u001b[0;34m\u001b[0m\u001b[0m\n",
            "\u001b[0;32m<ipython-input-5-62859f00af87>\u001b[0m in \u001b[0;36macce2PosAndSpeed\u001b[0;34m(x, acce)\u001b[0m\n\u001b[1;32m     97\u001b[0m     \u001b[0mvel\u001b[0m \u001b[0;34m=\u001b[0m \u001b[0mx\u001b[0m\u001b[0;34m[\u001b[0m\u001b[0;34m:\u001b[0m\u001b[0;34m,\u001b[0m \u001b[0;36m3\u001b[0m\u001b[0;34m:\u001b[0m\u001b[0;36m6\u001b[0m\u001b[0;34m]\u001b[0m\u001b[0;34m\u001b[0m\u001b[0;34m\u001b[0m\u001b[0m\n\u001b[1;32m     98\u001b[0m \u001b[0;34m\u001b[0m\u001b[0m\n\u001b[0;32m---> 99\u001b[0;31m     \u001b[0mnew_vel\u001b[0m \u001b[0;34m=\u001b[0m \u001b[0mvel\u001b[0m \u001b[0;34m+\u001b[0m \u001b[0macce\u001b[0m \u001b[0;34m*\u001b[0m \u001b[0;36m0.01\u001b[0m\u001b[0;34m\u001b[0m\u001b[0;34m\u001b[0m\u001b[0m\n\u001b[0m\u001b[1;32m    100\u001b[0m     \u001b[0mnew_pos\u001b[0m \u001b[0;34m=\u001b[0m \u001b[0mpos\u001b[0m \u001b[0;34m+\u001b[0m \u001b[0mvel\u001b[0m \u001b[0;34m*\u001b[0m \u001b[0;36m0.01\u001b[0m \u001b[0;34m+\u001b[0m \u001b[0macce\u001b[0m \u001b[0;34m*\u001b[0m \u001b[0;36m0.5\u001b[0m \u001b[0;34m*\u001b[0m \u001b[0;36m0.01\u001b[0m \u001b[0;34m*\u001b[0m \u001b[0;36m0.01\u001b[0m\u001b[0;34m\u001b[0m\u001b[0;34m\u001b[0m\u001b[0m\n\u001b[1;32m    101\u001b[0m \u001b[0;34m\u001b[0m\u001b[0m\n",
            "\u001b[0;31mKeyboardInterrupt\u001b[0m: "
          ]
        }
      ],
      "source": [
        "# Test on randomly sampled torques from [-1.5, 1.5]\n",
        "score.score_random_torque(arm_teacher, arm_student, gui=False)"
      ]
    },
    {
      "cell_type": "code",
      "execution_count": null,
      "metadata": {
        "id": "Ra8NSxj5K9D3",
        "colab": {
          "base_uri": "https://localhost:8080/"
        },
        "outputId": "89d4fa28-0002-4f3c-e64a-1ed1ffa448e8"
      },
      "outputs": [
        {
          "output_type": "stream",
          "name": "stdout",
          "text": [
            "\n",
            "----------------------------------------\n",
            "TEST 1 (Torque 0 -> 1.2713206432667459 Nm)\n",
            "\n",
            "average mse: 0.00020128817059078324\n",
            "Score: 1/1\n",
            "----------------------------------------\n",
            "\n",
            "\n",
            "----------------------------------------\n",
            "TEST 2 (Torque 0 -> 0.5207519493594015 Nm)\n",
            "\n",
            "average mse: 7.6388676327018e-06\n",
            "Score: 1/1\n",
            "----------------------------------------\n",
            "\n",
            "\n",
            "----------------------------------------\n",
            "TEST 3 (Torque 0 -> 1.1336482349262753 Nm)\n",
            "\n",
            "average mse: 0.00015544526011794814\n",
            "Score: 1/1\n",
            "----------------------------------------\n",
            "\n",
            "\n",
            "----------------------------------------\n",
            "TEST 4 (Torque 0 -> 1.2488038825386119 Nm)\n",
            "\n",
            "average mse: 0.00019504395199310836\n",
            "Score: 1/1\n",
            "----------------------------------------\n",
            "\n",
            "\n",
            "----------------------------------------\n",
            "TEST 5 (Torque 0 -> 0.9985070123025904 Nm)\n",
            "\n",
            "average mse: 0.00010885304675862717\n",
            "Score: 1/1\n",
            "----------------------------------------\n",
            "\n",
            "\n",
            "----------------------------------------\n",
            "TEST 6 (Torque 0 -> 0.7247966455308477 Nm)\n",
            "\n",
            "average mse: 1.823558660216139e-05\n",
            "Score: 1/1\n",
            "----------------------------------------\n",
            "\n",
            "\n",
            "----------------------------------------\n",
            "TEST 7 (Torque 0 -> 0.698062864759624 Nm)\n",
            "\n",
            "average mse: 1.6194462012393883e-05\n",
            "Score: 1/1\n",
            "----------------------------------------\n",
            "\n",
            "\n",
            "----------------------------------------\n",
            "TEST 8 (Torque 0 -> 1.2605307121989586 Nm)\n",
            "\n",
            "average mse: 0.0001983277634839502\n",
            "Score: 1/1\n",
            "----------------------------------------\n",
            "\n",
            "\n",
            "----------------------------------------\n",
            "TEST 9 (Torque 0 -> 0.6691108365625354 Nm)\n",
            "\n",
            "average mse: 1.4361930702131859e-05\n",
            "Score: 1/1\n",
            "----------------------------------------\n",
            "\n",
            "\n",
            "----------------------------------------\n",
            "TEST 10 (Torque 0 -> 0.5883398141740103 Nm)\n",
            "\n",
            "average mse: 9.959265230188014e-06\n",
            "Score: 1/1\n",
            "----------------------------------------\n",
            "\n",
            "\n",
            "----------------------------------------\n",
            "TEST 11 (Torque 0 -> 1.1853598183677971 Nm)\n",
            "\n",
            "average mse: 0.0001747903340227758\n",
            "Score: 1/1\n",
            "----------------------------------------\n",
            "\n",
            "\n",
            "----------------------------------------\n",
            "TEST 12 (Torque 0 -> 1.4533933461949364 Nm)\n",
            "\n",
            "average mse: 0.00020187761677515213\n",
            "Score: 1/1\n",
            "----------------------------------------\n",
            "\n",
            "\n",
            "----------------------------------------\n",
            "TEST 13 (Torque 0 -> 0.5039482663279145 Nm)\n",
            "\n",
            "average mse: 7.1460139693511214e-06\n",
            "Score: 1/1\n",
            "----------------------------------------\n",
            "\n",
            "\n",
            "----------------------------------------\n",
            "TEST 14 (Torque 0 -> 1.0121922633857765 Nm)\n",
            "\n",
            "average mse: 0.00011351881541901914\n",
            "Score: 1/1\n",
            "----------------------------------------\n",
            "\n",
            "\n",
            "----------------------------------------\n",
            "TEST 15 (Torque 0 -> 1.3126209616521134 Nm)\n",
            "\n",
            "average mse: 0.0002112546896748047\n",
            "Score: 1/1\n",
            "----------------------------------------\n",
            "\n",
            "\n",
            "----------------------------------------\n",
            "TEST 16 (Torque 0 -> 1.1125260668293881 Nm)\n",
            "\n",
            "average mse: 0.0001476649708830703\n",
            "Score: 1/1\n",
            "----------------------------------------\n",
            "\n",
            "\n",
            "----------------------------------------\n",
            "TEST 17 (Torque 0 -> 1.2217553174317994 Nm)\n",
            "\n",
            "average mse: 0.00018697802361447032\n",
            "Score: 1/1\n",
            "----------------------------------------\n",
            "\n",
            "\n",
            "----------------------------------------\n",
            "TEST 18 (Torque 0 -> 0.7918760681706332 Nm)\n",
            "\n",
            "average mse: 2.906448804614634e-05\n",
            "Score: 1/1\n",
            "----------------------------------------\n",
            "\n",
            "\n",
            "----------------------------------------\n",
            "TEST 19 (Torque 0 -> 1.4177741225129434 Nm)\n",
            "\n",
            "average mse: 0.00021011004479141342\n",
            "Score: 1/1\n",
            "----------------------------------------\n",
            "\n",
            "\n",
            "----------------------------------------\n",
            "TEST 20 (Torque 0 -> 1.2145757833976907 Nm)\n",
            "\n",
            "average mse: 0.0001846970300261176\n",
            "Score: 1/1\n",
            "----------------------------------------\n",
            "\n",
            "\n",
            "----------------------------------------\n",
            "TEST 21 (Torque 0 -> 1.0425443680112614 Nm)\n",
            "\n",
            "average mse: 0.00012371453061958573\n",
            "Score: 1/1\n",
            "----------------------------------------\n",
            "\n",
            "\n",
            "----------------------------------------\n",
            "TEST 22 (Torque 0 -> 0.642170047601527 Nm)\n",
            "\n",
            "average mse: 1.2742595065439977e-05\n",
            "Score: 1/1\n",
            "----------------------------------------\n",
            "\n",
            "\n",
            "----------------------------------------\n",
            "TEST 23 (Torque 0 -> 0.8733407600514692 Nm)\n",
            "\n",
            "average mse: 6.097684669503805e-05\n",
            "Score: 1/1\n",
            "----------------------------------------\n",
            "\n",
            "\n",
            "----------------------------------------\n",
            "TEST 24 (Torque 0 -> 1.1741336150663453 Nm)\n",
            "\n",
            "average mse: 0.00017071122511527837\n",
            "Score: 1/1\n",
            "----------------------------------------\n",
            "\n",
            "\n",
            "----------------------------------------\n",
            "TEST 25 (Torque 0 -> 0.9418331744229961 Nm)\n",
            "\n",
            "average mse: 8.908887097445305e-05\n",
            "Score: 1/1\n",
            "----------------------------------------\n",
            "\n",
            "\n",
            "----------------------------------------\n",
            "TEST 26 (Torque 0 -> 0.9340139933332937 Nm)\n",
            "\n",
            "average mse: 8.628368562993806e-05\n",
            "Score: 1/1\n",
            "----------------------------------------\n",
            "\n",
            "\n",
            "----------------------------------------\n",
            "TEST 27 (Torque 0 -> 1.1177669784693172 Nm)\n",
            "\n",
            "average mse: 0.0001495678992727054\n",
            "Score: 1/1\n",
            "----------------------------------------\n",
            "\n",
            "\n",
            "----------------------------------------\n",
            "TEST 28 (Torque 0 -> 1.0131382425543909 Nm)\n",
            "\n",
            "average mse: 0.00011385110086679665\n",
            "Score: 1/1\n",
            "----------------------------------------\n",
            "\n",
            "\n",
            "----------------------------------------\n",
            "TEST 29 (Torque 0 -> 1.1503971819314671 Nm)\n",
            "\n",
            "average mse: 0.00016178856982515267\n",
            "Score: 1/1\n",
            "----------------------------------------\n",
            "\n",
            "\n",
            "----------------------------------------\n",
            "TEST 30 (Torque 0 -> 1.1010389534045444 Nm)\n",
            "\n",
            "average mse: 0.00014360076323713768\n",
            "Score: 1/1\n",
            "----------------------------------------\n",
            "\n",
            "\n",
            "----------------------------------------\n",
            "TEST 31 (Torque 0 -> 1.3052231968327463 Nm)\n",
            "\n",
            "average mse: 0.00020971019483012683\n",
            "Score: 1/1\n",
            "----------------------------------------\n",
            "\n",
            "\n",
            "----------------------------------------\n",
            "TEST 32 (Torque 0 -> 1.0216471523936341 Nm)\n",
            "\n",
            "average mse: 0.00011671822454834353\n",
            "Score: 1/1\n",
            "----------------------------------------\n",
            "\n",
            "\n",
            "----------------------------------------\n",
            "TEST 33 (Torque 0 -> 1.4086488808086681 Nm)\n",
            "\n",
            "average mse: 0.0002118062540065078\n",
            "Score: 1/1\n",
            "----------------------------------------\n",
            "\n",
            "\n",
            "----------------------------------------\n",
            "TEST 34 (Torque 0 -> 0.8192360889885453 Nm)\n",
            "\n",
            "average mse: 3.72197707995859e-05\n",
            "Score: 1/1\n",
            "----------------------------------------\n",
            "\n",
            "\n",
            "----------------------------------------\n",
            "TEST 35 (Torque 0 -> 0.5904593492709074 Nm)\n",
            "\n",
            "average mse: 1.0047991269203862e-05\n",
            "Score: 1/1\n",
            "----------------------------------------\n",
            "\n",
            "\n",
            "----------------------------------------\n",
            "TEST 36 (Torque 0 -> 0.8007000566362034 Nm)\n",
            "\n",
            "average mse: 3.140900720503148e-05\n",
            "Score: 1/1\n",
            "----------------------------------------\n",
            "\n",
            "\n",
            "----------------------------------------\n",
            "TEST 37 (Torque 0 -> 0.6139843618635498 Nm)\n",
            "\n",
            "average mse: 1.1170524660674193e-05\n",
            "Score: 1/1\n",
            "----------------------------------------\n",
            "\n",
            "\n",
            "----------------------------------------\n",
            "TEST 38 (Torque 0 -> 1.3286813263076767 Nm)\n",
            "\n",
            "average mse: 0.00021398048124402852\n",
            "Score: 1/1\n",
            "----------------------------------------\n",
            "\n",
            "\n",
            "----------------------------------------\n",
            "TEST 39 (Torque 0 -> 0.5468963193892498 Nm)\n",
            "\n",
            "average mse: 8.429401814662203e-06\n",
            "Score: 1/1\n",
            "----------------------------------------\n",
            "\n",
            "\n",
            "----------------------------------------\n",
            "TEST 40 (Torque 0 -> 1.1262871483113925 Nm)\n",
            "\n",
            "average mse: 0.00015268808152129213\n",
            "Score: 1/1\n",
            "----------------------------------------\n",
            "\n",
            "\n",
            "----------------------------------------\n",
            "TEST 41 (Torque 0 -> 1.0475861559192436 Nm)\n",
            "\n",
            "average mse: 0.00012542043264213837\n",
            "Score: 1/1\n",
            "----------------------------------------\n",
            "\n",
            "\n",
            "----------------------------------------\n",
            "TEST 42 (Torque 0 -> 1.3192869956700686 Nm)\n",
            "\n",
            "average mse: 0.0002124918584128798\n",
            "Score: 1/1\n",
            "----------------------------------------\n",
            "\n",
            "\n",
            "----------------------------------------\n",
            "TEST 43 (Torque 0 -> 0.6989475396788123 Nm)\n",
            "\n",
            "average mse: 1.6252983230343416e-05\n",
            "Score: 1/1\n",
            "----------------------------------------\n",
            "\n",
            "\n",
            "----------------------------------------\n",
            "TEST 44 (Torque 0 -> 1.3568503024577332 Nm)\n",
            "\n",
            "average mse: 0.00021642666672107267\n",
            "Score: 1/1\n",
            "----------------------------------------\n",
            "\n",
            "\n",
            "----------------------------------------\n",
            "TEST 45 (Torque 0 -> 0.8516526394320879 Nm)\n",
            "\n",
            "average mse: 5.0527748022089534e-05\n",
            "Score: 1/1\n",
            "----------------------------------------\n",
            "\n",
            "\n",
            "----------------------------------------\n",
            "TEST 46 (Torque 0 -> 1.2546476915298572 Nm)\n",
            "\n",
            "average mse: 0.00019668525045537673\n",
            "Score: 1/1\n",
            "----------------------------------------\n",
            "\n",
            "\n",
            "----------------------------------------\n",
            "TEST 47 (Torque 0 -> 0.7959617068796787 Nm)\n",
            "\n",
            "average mse: 3.0120416943585112e-05\n",
            "Score: 1/1\n",
            "----------------------------------------\n",
            "\n",
            "\n",
            "----------------------------------------\n",
            "TEST 48 (Torque 0 -> 1.3839364795611862 Nm)\n",
            "\n",
            "average mse: 0.00021519454914988004\n",
            "Score: 1/1\n",
            "----------------------------------------\n",
            "\n",
            "\n",
            "----------------------------------------\n",
            "TEST 49 (Torque 0 -> 0.8255116378322488 Nm)\n",
            "\n",
            "average mse: 3.94880085781214e-05\n",
            "Score: 1/1\n",
            "----------------------------------------\n",
            "\n",
            "\n",
            "----------------------------------------\n",
            "TEST 50 (Torque 0 -> 0.6650158977191485 Nm)\n",
            "\n",
            "average mse: 1.411153037375818e-05\n",
            "Score: 1/1\n",
            "----------------------------------------\n",
            "\n",
            "\n",
            "----------------------------------------\n",
            "Final Score: 50/50*5 = 5.00\n",
            "----------------------------------------\n",
            "\n"
          ]
        }
      ],
      "source": [
        "# Test on torques that linearly increase from 0 to a random number from [0.5, 1.5]\n",
        "score.score_linear_torques(arm_teacher, arm_student, gui=False)"
      ]
    },
    {
      "cell_type": "code",
      "execution_count": null,
      "metadata": {
        "id": "ABtChtqBLcoE",
        "colab": {
          "base_uri": "https://localhost:8080/"
        },
        "outputId": "2498a6db-12ec-4b09-82ab-c4b80341fc59"
      },
      "outputs": [
        {
          "output_type": "stream",
          "name": "stdout",
          "text": [
            "\n",
            "----------------------------------------\n",
            "TEST 1 (Torque 1 = 0.542641286533492 Nm,  Torque 2 = -0.21494151210682544 Nm)\n",
            "\n",
            "average mse: 0.0007055059512260844\n",
            "Score: 1/1\n",
            "----------------------------------------\n",
            "\n",
            "\n",
            "----------------------------------------\n",
            "TEST 2 (Torque 1 = -0.958496101281197 Nm,  Torque 2 = -0.8130792508826994 Nm)\n",
            "\n",
            "average mse: 0.0001592978891771538\n",
            "Score: 1/1\n",
            "----------------------------------------\n",
            "\n",
            "\n",
            "----------------------------------------\n",
            "TEST 3 (Torque 1 = 0.26729646985255084 Nm,  Torque 2 = 0.6422113156738569 Nm)\n",
            "\n",
            "average mse: 0.0001346399035160972\n",
            "Score: 1/1\n",
            "----------------------------------------\n",
            "\n",
            "\n",
            "----------------------------------------\n",
            "TEST 4 (Torque 1 = 0.4976077650772237 Nm,  Torque 2 = -0.6976959607148723 Nm)\n",
            "\n",
            "average mse: 0.0013735120058505654\n",
            "Score: 1/1\n",
            "----------------------------------------\n",
            "\n",
            "\n",
            "----------------------------------------\n",
            "TEST 5 (Torque 1 = -0.0029859753948191514 Nm,  Torque 2 = -0.23177110261560085 Nm)\n",
            "\n",
            "average mse: 1.3467292798124317e-05\n",
            "Score: 1/1\n",
            "----------------------------------------\n",
            "\n",
            "\n",
            "----------------------------------------\n",
            "TEST 6 (Torque 1 = -0.5504067089383047 Nm,  Torque 2 = 0.8885214244776023 Nm)\n",
            "\n",
            "average mse: 0.003119197609599723\n",
            "Score: 1/1\n",
            "----------------------------------------\n",
            "\n",
            "\n",
            "----------------------------------------\n",
            "TEST 7 (Torque 1 = -0.603874270480752 Nm,  Torque 2 = 0.9752509498037445 Nm)\n",
            "\n",
            "average mse: 0.004338435546750969\n",
            "Score: 1/1\n",
            "----------------------------------------\n",
            "\n",
            "\n",
            "----------------------------------------\n",
            "TEST 8 (Torque 1 = 0.5210614243979175 Nm,  Torque 2 = -0.08739090581043185 Nm)\n",
            "\n",
            "average mse: 0.00047594140336270615\n",
            "Score: 1/1\n",
            "----------------------------------------\n",
            "\n",
            "\n",
            "----------------------------------------\n",
            "TEST 9 (Torque 1 = -0.6617783268749291 Nm,  Torque 2 = 0.6522456876854796 Nm)\n",
            "\n",
            "average mse: 0.003129040474322403\n",
            "Score: 1/1\n",
            "----------------------------------------\n",
            "\n",
            "\n",
            "----------------------------------------\n",
            "TEST 10 (Torque 1 = -0.8233203716519795 Nm,  Torque 2 = -0.4972517315858813 Nm)\n",
            "\n",
            "average mse: 0.00014794472856817815\n",
            "Score: 1/1\n",
            "----------------------------------------\n",
            "\n",
            "\n",
            "----------------------------------------\n",
            "TEST 11 (Torque 1 = 0.3707196367355945 Nm,  Torque 2 = 0.19474329646176858 Nm)\n",
            "\n",
            "average mse: 4.852533073672981e-05\n",
            "Score: 1/1\n",
            "----------------------------------------\n",
            "\n",
            "\n",
            "----------------------------------------\n",
            "TEST 12 (Torque 1 = 0.9067866923898731 Nm,  Torque 2 = 0.8056635206632548 Nm)\n",
            "\n",
            "average mse: 0.0001604229831993635\n",
            "Score: 1/1\n",
            "----------------------------------------\n",
            "\n",
            "\n",
            "----------------------------------------\n",
            "TEST 13 (Torque 1 = -0.9921034673441711 Nm,  Torque 2 = 0.06911589760363013 Nm)\n",
            "\n",
            "average mse: 0.0027380228556192644\n",
            "Score: 1/1\n",
            "----------------------------------------\n",
            "\n",
            "\n",
            "----------------------------------------\n",
            "TEST 14 (Torque 1 = 0.024384526771553228 Nm,  Torque 2 = 0.18040272597084583 Nm)\n",
            "\n",
            "average mse: 7.202203803039772e-06\n",
            "Score: 1/1\n",
            "----------------------------------------\n",
            "\n",
            "\n",
            "----------------------------------------\n",
            "TEST 15 (Torque 1 = 0.625241923304227 Nm,  Torque 2 = -0.9214364655492253 Nm)\n",
            "\n",
            "average mse: 0.004370542807678134\n",
            "Score: 1/1\n",
            "----------------------------------------\n",
            "\n",
            "\n",
            "----------------------------------------\n",
            "TEST 16 (Torque 1 = 0.2250521336587763 Nm,  Torque 2 = -0.28563648273092745 Nm)\n",
            "\n",
            "average mse: 9.290668480426568e-05\n",
            "Score: 1/1\n",
            "----------------------------------------\n",
            "\n",
            "\n",
            "----------------------------------------\n",
            "TEST 17 (Torque 1 = 0.4435106348635991 Nm,  Torque 2 = -0.8407738196880716 Nm)\n",
            "\n",
            "average mse: 0.0012903265706250549\n",
            "Score: 1/1\n",
            "----------------------------------------\n",
            "\n",
            "\n",
            "----------------------------------------\n",
            "TEST 18 (Torque 1 = -0.4162478636587337 Nm,  Torque 2 = -0.38908016331436346 Nm)\n",
            "\n",
            "average mse: 3.2728049813883266e-05\n",
            "Score: 1/1\n",
            "----------------------------------------\n",
            "\n",
            "\n",
            "----------------------------------------\n",
            "TEST 19 (Torque 1 = 0.8355482450258869 Nm,  Torque 2 = -0.338561376035736 Nm)\n",
            "\n",
            "average mse: 0.0035761746378163185\n",
            "Score: 1/1\n",
            "----------------------------------------\n",
            "\n",
            "\n",
            "----------------------------------------\n",
            "TEST 20 (Torque 1 = 0.42915156679538113 Nm,  Torque 2 = 0.5476605924211917 Nm)\n",
            "\n",
            "average mse: 0.00010302844244610669\n",
            "Score: 1/1\n",
            "----------------------------------------\n",
            "\n",
            "\n",
            "----------------------------------------\n",
            "TEST 21 (Torque 1 = 0.08508873602252254 Nm,  Torque 2 = -0.9200815826200455 Nm)\n",
            "\n",
            "average mse: 4.995488770905252e-05\n",
            "Score: 1/1\n",
            "----------------------------------------\n",
            "\n",
            "\n",
            "----------------------------------------\n",
            "TEST 22 (Torque 1 = -0.7156599047969461 Nm,  Torque 2 = -0.14101564313672332 Nm)\n",
            "\n",
            "average mse: 0.0002922731068456192\n",
            "Score: 1/1\n",
            "----------------------------------------\n",
            "\n",
            "\n",
            "----------------------------------------\n",
            "TEST 23 (Torque 1 = -0.2533184798970616 Nm,  Torque 2 = -0.3701462563146234 Nm)\n",
            "\n",
            "average mse: 5.4497989225481216e-05\n",
            "Score: 1/1\n",
            "----------------------------------------\n",
            "\n",
            "\n",
            "----------------------------------------\n",
            "TEST 24 (Torque 1 = 0.34826723013269056 Nm,  Torque 2 = 0.27298228613508924 Nm)\n",
            "\n",
            "average mse: 1.1645125207575845e-05\n",
            "Score: 1/1\n",
            "----------------------------------------\n",
            "\n",
            "\n",
            "----------------------------------------\n",
            "TEST 25 (Torque 1 = -0.11633365115400784 Nm,  Torque 2 = -0.30730569983993394 Nm)\n",
            "\n",
            "average mse: 2.8297142617023805e-05\n",
            "Score: 1/1\n",
            "----------------------------------------\n",
            "\n",
            "\n",
            "----------------------------------------\n",
            "TEST 26 (Torque 1 = -0.13197201333341257 Nm,  Torque 2 = -0.9138052875900111 Nm)\n",
            "\n",
            "average mse: 4.876807894262999e-05\n",
            "Score: 1/1\n",
            "----------------------------------------\n",
            "\n",
            "\n",
            "----------------------------------------\n",
            "TEST 27 (Torque 1 = 0.23553395693863433 Nm,  Torque 2 = 0.759830349035832 Nm)\n",
            "\n",
            "average mse: 0.0002960294529046927\n",
            "Score: 1/1\n",
            "----------------------------------------\n",
            "\n",
            "\n",
            "----------------------------------------\n",
            "TEST 28 (Torque 1 = 0.026276485108781777 Nm,  Torque 2 = 0.5264811742873621 Nm)\n",
            "\n",
            "average mse: 1.0049471921720857e-05\n",
            "Score: 1/1\n",
            "----------------------------------------\n",
            "\n",
            "\n",
            "----------------------------------------\n",
            "TEST 29 (Torque 1 = 0.30079436386293446 Nm,  Torque 2 = 0.7561932854497166 Nm)\n",
            "\n",
            "average mse: 0.0003775058711709565\n",
            "Score: 1/1\n",
            "----------------------------------------\n",
            "\n",
            "\n",
            "----------------------------------------\n",
            "TEST 30 (Torque 1 = 0.20207790680908877 Nm,  Torque 2 = -0.16498171232146608 Nm)\n",
            "\n",
            "average mse: 4.8665284146267966e-05\n",
            "Score: 1/1\n",
            "----------------------------------------\n",
            "\n",
            "\n",
            "----------------------------------------\n",
            "TEST 31 (Torque 1 = 0.6104463936654929 Nm,  Torque 2 = 0.21115512878751352 Nm)\n",
            "\n",
            "average mse: 0.0004156700042661977\n",
            "Score: 1/1\n",
            "----------------------------------------\n",
            "\n",
            "\n",
            "----------------------------------------\n",
            "TEST 32 (Torque 1 = 0.043294304787268256 Nm,  Torque 2 = 0.026933254816576824 Nm)\n",
            "\n",
            "average mse: 4.43978329284747e-06\n",
            "Score: 1/1\n",
            "----------------------------------------\n",
            "\n",
            "\n",
            "----------------------------------------\n",
            "TEST 33 (Torque 1 = 0.8172977616173365 Nm,  Torque 2 = 0.1956732959259473 Nm)\n",
            "\n",
            "average mse: 0.0008659973187375187\n",
            "Score: 1/1\n",
            "----------------------------------------\n",
            "\n",
            "\n",
            "----------------------------------------\n",
            "TEST 34 (Torque 1 = -0.36152782202290945 Nm,  Torque 2 = -0.47556867773609945 Nm)\n",
            "\n",
            "average mse: 6.717931081641362e-05\n",
            "Score: 1/1\n",
            "----------------------------------------\n",
            "\n",
            "\n",
            "----------------------------------------\n",
            "TEST 35 (Torque 1 = -0.8190813014581853 Nm,  Torque 2 = -0.3982573821185855 Nm)\n",
            "\n",
            "average mse: 0.00020033602365783468\n",
            "Score: 1/1\n",
            "----------------------------------------\n",
            "\n",
            "\n",
            "----------------------------------------\n",
            "TEST 36 (Torque 1 = -0.3985998867275933 Nm,  Torque 2 = -0.9492004358997879 Nm)\n",
            "\n",
            "average mse: 0.0002397840753503542\n",
            "Score: 1/1\n",
            "----------------------------------------\n",
            "\n",
            "\n",
            "----------------------------------------\n",
            "TEST 37 (Torque 1 = -0.7720312762729005 Nm,  Torque 2 = -0.3938748786979305 Nm)\n",
            "\n",
            "average mse: 0.0001360340523993089\n",
            "Score: 1/1\n",
            "----------------------------------------\n",
            "\n",
            "\n",
            "----------------------------------------\n",
            "TEST 38 (Torque 1 = 0.6573626526153533 Nm,  Torque 2 = -0.5158482491929453 Nm)\n",
            "\n",
            "average mse: 0.002243202557244552\n",
            "Score: 1/1\n",
            "----------------------------------------\n",
            "\n",
            "\n",
            "----------------------------------------\n",
            "TEST 39 (Torque 1 = -0.9062073612215005 Nm,  Torque 2 = 0.11515637732528838 Nm)\n",
            "\n",
            "average mse: 0.002294926421716932\n",
            "Score: 1/1\n",
            "----------------------------------------\n",
            "\n",
            "\n",
            "----------------------------------------\n",
            "TEST 40 (Torque 1 = 0.2525742966227851 Nm,  Torque 2 = 0.13101403977633508 Nm)\n",
            "\n",
            "average mse: 2.193744865846192e-05\n",
            "Score: 1/1\n",
            "----------------------------------------\n",
            "\n",
            "\n",
            "----------------------------------------\n",
            "TEST 41 (Torque 1 = 0.09517231183848707 Nm,  Torque 2 = -0.049735505169898886 Nm)\n",
            "\n",
            "average mse: 2.1019423588376526e-05\n",
            "Score: 1/1\n",
            "----------------------------------------\n",
            "\n",
            "\n",
            "----------------------------------------\n",
            "TEST 42 (Torque 1 = 0.6385739913401374 Nm,  Torque 2 = -0.4144040474209818 Nm)\n",
            "\n",
            "average mse: 0.0017029227371194286\n",
            "Score: 1/1\n",
            "----------------------------------------\n",
            "\n",
            "\n",
            "----------------------------------------\n",
            "TEST 43 (Torque 1 = -0.6021049206423754 Nm,  Torque 2 = -0.8714978786103511 Nm)\n",
            "\n",
            "average mse: 0.0006576134142579281\n",
            "Score: 1/1\n",
            "----------------------------------------\n",
            "\n",
            "\n",
            "----------------------------------------\n",
            "TEST 44 (Torque 1 = 0.7137006049154664 Nm,  Torque 2 = 0.9576382915152852 Nm)\n",
            "\n",
            "average mse: 0.0005288078683157468\n",
            "Score: 1/1\n",
            "----------------------------------------\n",
            "\n",
            "\n",
            "----------------------------------------\n",
            "TEST 45 (Torque 1 = -0.2966947211358242 Nm,  Torque 2 = -0.3205843127242727 Nm)\n",
            "\n",
            "average mse: 1.506109722737488e-05\n",
            "Score: 1/1\n",
            "----------------------------------------\n",
            "\n",
            "\n",
            "----------------------------------------\n",
            "TEST 46 (Torque 1 = 0.5092953830597144 Nm,  Torque 2 = -0.009902738235091357 Nm)\n",
            "\n",
            "average mse: 0.0003958146512379161\n",
            "Score: 1/1\n",
            "----------------------------------------\n",
            "\n",
            "\n",
            "----------------------------------------\n",
            "TEST 47 (Torque 1 = -0.4080765862406426 Nm,  Torque 2 = 0.9541614518453636 Nm)\n",
            "\n",
            "average mse: 0.0016893718510507935\n",
            "Score: 1/1\n",
            "----------------------------------------\n",
            "\n",
            "\n",
            "----------------------------------------\n",
            "TEST 48 (Torque 1 = 0.7678729591223725 Nm,  Torque 2 = -0.11845235019866696 Nm)\n",
            "\n",
            "average mse: 0.0016772152113184305\n",
            "Score: 1/1\n",
            "----------------------------------------\n",
            "\n",
            "\n",
            "----------------------------------------\n",
            "TEST 49 (Torque 1 = -0.3489767243355024 Nm,  Torque 2 = -0.3634543890420976 Nm)\n",
            "\n",
            "average mse: 1.8518346149273447e-05\n",
            "Score: 1/1\n",
            "----------------------------------------\n",
            "\n",
            "\n",
            "----------------------------------------\n",
            "TEST 50 (Torque 1 = -0.669968204561703 Nm,  Torque 2 = 0.03959397175076029 Nm)\n",
            "\n",
            "average mse: 0.0005219549903810642\n",
            "Score: 1/1\n",
            "----------------------------------------\n",
            "\n",
            "\n",
            "----------------------------------------\n",
            "Final Score: 50/50*5 = 5.00\n",
            "----------------------------------------\n",
            "\n"
          ]
        }
      ],
      "source": [
        "# Test on one torque applied to the first 2.5s and another torque applied to the second 2.5s\n",
        "# Both torques are sampled from [-1, 1]\n",
        "score.score_two_torques(arm_teacher, arm_student, gui=False)"
      ]
    }
  ],
  "metadata": {
    "colab": {
      "provenance": [],
      "include_colab_link": true
    },
    "gpuClass": "standard",
    "kernelspec": {
      "display_name": "Python 3",
      "name": "python3"
    },
    "language_info": {
      "name": "python"
    }
  },
  "nbformat": 4,
  "nbformat_minor": 0
}