{
  "nbformat": 4,
  "nbformat_minor": 0,
  "metadata": {
    "colab": {
      "provenance": [],
      "gpuType": "T4",
      "include_colab_link": true
    },
    "kernelspec": {
      "name": "python3",
      "display_name": "Python 3"
    },
    "language_info": {
      "name": "python"
    },
    "gpuClass": "standard"
  },
  "cells": [
    {
      "cell_type": "markdown",
      "metadata": {
        "id": "view-in-github",
        "colab_type": "text"
      },
      "source": [
        "<a href=\"https://colab.research.google.com/github/Ketian-Wang/RobotLearning/blob/main/benchmark_version_mece6616_Spring2023_Project5_kw3019.ipynb\" target=\"_parent\"><img src=\"https://colab.research.google.com/assets/colab-badge.svg\" alt=\"Open In Colab\"/></a>"
      ]
    },
    {
      "cell_type": "markdown",
      "metadata": {
        "id": "inY7y5CRo97q"
      },
      "source": [
        "# Project Setup\n"
      ]
    },
    {
      "cell_type": "code",
      "execution_count": null,
      "metadata": {
        "id": "QPIiNSZ8hb8Z",
        "colab": {
          "base_uri": "https://localhost:8080/"
        },
        "outputId": "3a3c7026-4ce6-4904-ae81-74938811ea15"
      },
      "outputs": [
        {
          "output_type": "stream",
          "name": "stdout",
          "text": [
            "Cloning into 'mecs6616_sp23_project5'...\n",
            "remote: Enumerating objects: 43, done.\u001b[K\n",
            "remote: Counting objects: 100% (43/43), done.\u001b[K\n",
            "remote: Compressing objects: 100% (36/36), done.\u001b[K\n",
            "remote: Total 43 (delta 19), reused 23 (delta 7), pack-reused 0\u001b[K\n",
            "Unpacking objects: 100% (43/43), 13.83 KiB | 566.00 KiB/s, done.\n"
          ]
        }
      ],
      "source": [
        "# DO NOT CHANGE\n",
        "\n",
        "# After running this cell, the folder 'mecs6616_sp23_project3' will show up in the file explorer on the left (click on the folder icon if it's not open)\n",
        "# It may take a few seconds to appear\n",
        "!git clone https://github.com/roamlab/mecs6616_sp23_project5.git"
      ]
    },
    {
      "cell_type": "code",
      "execution_count": null,
      "metadata": {
        "id": "ise8RAQhhs3X",
        "colab": {
          "base_uri": "https://localhost:8080/"
        },
        "outputId": "a7c1127f-8892-4706-8b9d-3b5437824917"
      },
      "outputs": [
        {
          "output_type": "stream",
          "name": "stdout",
          "text": [
            "'/content/mecs6616_sp23_project5/arm_dynamics_base.py' -> '/content/arm_dynamics_base.py'\n",
            "'/content/mecs6616_sp23_project5/arm_dynamics.py' -> '/content/arm_dynamics.py'\n",
            "'/content/mecs6616_sp23_project5/arm_env.py' -> '/content/arm_env.py'\n",
            "'/content/mecs6616_sp23_project5/geometry.py' -> '/content/geometry.py'\n",
            "'/content/mecs6616_sp23_project5/render.py' -> '/content/render.py'\n",
            "'/content/mecs6616_sp23_project5/robot.py' -> '/content/robot.py'\n",
            "'/content/mecs6616_sp23_project5/score.py' -> '/content/score.py'\n"
          ]
        }
      ],
      "source": [
        "# DO NOT CHANGE\n",
        "\n",
        "# copy all needed files into the working directory. This is simply to make accessing files easier\n",
        "!cp -av /content/mecs6616_sp23_project5/* /content/"
      ]
    },
    {
      "cell_type": "code",
      "source": [
        "# DO NOT CHANGE\n",
        "\n",
        "# There will be error messages from this command. You can ignore those error messages \n",
        "# as long as you see \"Successfully installed setuptools-65.5.0\" at the end.\n",
        "\n",
        "!pip install setuptools==65.5.0"
      ],
      "metadata": {
        "id": "gYlcOXqbosEA",
        "colab": {
          "base_uri": "https://localhost:8080/"
        },
        "outputId": "5c40f05b-6afc-47d8-8f5b-4f4307c5f43e"
      },
      "execution_count": null,
      "outputs": [
        {
          "output_type": "stream",
          "name": "stdout",
          "text": [
            "Looking in indexes: https://pypi.org/simple, https://us-python.pkg.dev/colab-wheels/public/simple/\n",
            "Collecting setuptools==65.5.0\n",
            "  Downloading setuptools-65.5.0-py3-none-any.whl (1.2 MB)\n",
            "\u001b[2K     \u001b[90m━━━━━━━━━━━━━━━━━━━━━━━━━━━━━━━━━━━━━━━━\u001b[0m \u001b[32m1.2/1.2 MB\u001b[0m \u001b[31m8.2 MB/s\u001b[0m eta \u001b[36m0:00:00\u001b[0m\n",
            "\u001b[?25hInstalling collected packages: setuptools\n",
            "  Attempting uninstall: setuptools\n",
            "    Found existing installation: setuptools 67.7.2\n",
            "    Uninstalling setuptools-67.7.2:\n",
            "      Successfully uninstalled setuptools-67.7.2\n",
            "\u001b[31mERROR: pip's dependency resolver does not currently take into account all the packages that are installed. This behaviour is the source of the following dependency conflicts.\n",
            "ipython 7.34.0 requires jedi>=0.16, which is not installed.\n",
            "cvxpy 1.3.1 requires setuptools>65.5.1, but you have setuptools 65.5.0 which is incompatible.\u001b[0m\u001b[31m\n",
            "\u001b[0mSuccessfully installed setuptools-65.5.0\n"
          ]
        }
      ]
    },
    {
      "cell_type": "code",
      "source": [
        "# DO NOT CHANGE\n",
        "\n",
        "# There will be error messages from this command. You can ignore those error messages \n",
        "# as long as you see \"Successfully installed gym-0.21.0 stable-baselines3-1.5.0\" at the end.\n",
        "\n",
        "!pip install gym==0.21.0 stable-baselines3==1.5.0"
      ],
      "metadata": {
        "id": "RChyEFYYqLGl",
        "colab": {
          "base_uri": "https://localhost:8080/"
        },
        "outputId": "aae12b18-f8ad-4561-91d8-da0411a4b594"
      },
      "execution_count": null,
      "outputs": [
        {
          "output_type": "stream",
          "name": "stdout",
          "text": [
            "Looking in indexes: https://pypi.org/simple, https://us-python.pkg.dev/colab-wheels/public/simple/\n",
            "Collecting gym==0.21.0\n",
            "  Downloading gym-0.21.0.tar.gz (1.5 MB)\n",
            "\u001b[2K     \u001b[90m━━━━━━━━━━━━━━━━━━━━━━━━━━━━━━━━━━━━━━━━\u001b[0m \u001b[32m1.5/1.5 MB\u001b[0m \u001b[31m17.8 MB/s\u001b[0m eta \u001b[36m0:00:00\u001b[0m\n",
            "\u001b[?25h  Preparing metadata (setup.py) ... \u001b[?25l\u001b[?25hdone\n",
            "Collecting stable-baselines3==1.5.0\n",
            "  Downloading stable_baselines3-1.5.0-py3-none-any.whl (177 kB)\n",
            "\u001b[2K     \u001b[90m━━━━━━━━━━━━━━━━━━━━━━━━━━━━━━━━━━━━━━━\u001b[0m \u001b[32m177.7/177.7 kB\u001b[0m \u001b[31m2.4 MB/s\u001b[0m eta \u001b[36m0:00:00\u001b[0m\n",
            "\u001b[?25hRequirement already satisfied: numpy>=1.18.0 in /usr/local/lib/python3.10/dist-packages (from gym==0.21.0) (1.22.4)\n",
            "Requirement already satisfied: cloudpickle>=1.2.0 in /usr/local/lib/python3.10/dist-packages (from gym==0.21.0) (2.2.1)\n",
            "Requirement already satisfied: matplotlib in /usr/local/lib/python3.10/dist-packages (from stable-baselines3==1.5.0) (3.7.1)\n",
            "Requirement already satisfied: torch>=1.8.1 in /usr/local/lib/python3.10/dist-packages (from stable-baselines3==1.5.0) (2.0.0+cu118)\n",
            "Requirement already satisfied: pandas in /usr/local/lib/python3.10/dist-packages (from stable-baselines3==1.5.0) (1.5.3)\n",
            "Requirement already satisfied: typing-extensions in /usr/local/lib/python3.10/dist-packages (from torch>=1.8.1->stable-baselines3==1.5.0) (4.5.0)\n",
            "Requirement already satisfied: triton==2.0.0 in /usr/local/lib/python3.10/dist-packages (from torch>=1.8.1->stable-baselines3==1.5.0) (2.0.0)\n",
            "Requirement already satisfied: sympy in /usr/local/lib/python3.10/dist-packages (from torch>=1.8.1->stable-baselines3==1.5.0) (1.11.1)\n",
            "Requirement already satisfied: jinja2 in /usr/local/lib/python3.10/dist-packages (from torch>=1.8.1->stable-baselines3==1.5.0) (3.1.2)\n",
            "Requirement already satisfied: networkx in /usr/local/lib/python3.10/dist-packages (from torch>=1.8.1->stable-baselines3==1.5.0) (3.1)\n",
            "Requirement already satisfied: filelock in /usr/local/lib/python3.10/dist-packages (from torch>=1.8.1->stable-baselines3==1.5.0) (3.12.0)\n",
            "Requirement already satisfied: lit in /usr/local/lib/python3.10/dist-packages (from triton==2.0.0->torch>=1.8.1->stable-baselines3==1.5.0) (16.0.2)\n",
            "Requirement already satisfied: cmake in /usr/local/lib/python3.10/dist-packages (from triton==2.0.0->torch>=1.8.1->stable-baselines3==1.5.0) (3.25.2)\n",
            "Requirement already satisfied: fonttools>=4.22.0 in /usr/local/lib/python3.10/dist-packages (from matplotlib->stable-baselines3==1.5.0) (4.39.3)\n",
            "Requirement already satisfied: cycler>=0.10 in /usr/local/lib/python3.10/dist-packages (from matplotlib->stable-baselines3==1.5.0) (0.11.0)\n",
            "Requirement already satisfied: pyparsing>=2.3.1 in /usr/local/lib/python3.10/dist-packages (from matplotlib->stable-baselines3==1.5.0) (3.0.9)\n",
            "Requirement already satisfied: kiwisolver>=1.0.1 in /usr/local/lib/python3.10/dist-packages (from matplotlib->stable-baselines3==1.5.0) (1.4.4)\n",
            "Requirement already satisfied: python-dateutil>=2.7 in /usr/local/lib/python3.10/dist-packages (from matplotlib->stable-baselines3==1.5.0) (2.8.2)\n",
            "Requirement already satisfied: packaging>=20.0 in /usr/local/lib/python3.10/dist-packages (from matplotlib->stable-baselines3==1.5.0) (23.1)\n",
            "Requirement already satisfied: contourpy>=1.0.1 in /usr/local/lib/python3.10/dist-packages (from matplotlib->stable-baselines3==1.5.0) (1.0.7)\n",
            "Requirement already satisfied: pillow>=6.2.0 in /usr/local/lib/python3.10/dist-packages (from matplotlib->stable-baselines3==1.5.0) (8.4.0)\n",
            "Requirement already satisfied: pytz>=2020.1 in /usr/local/lib/python3.10/dist-packages (from pandas->stable-baselines3==1.5.0) (2022.7.1)\n",
            "Requirement already satisfied: six>=1.5 in /usr/local/lib/python3.10/dist-packages (from python-dateutil>=2.7->matplotlib->stable-baselines3==1.5.0) (1.16.0)\n",
            "Requirement already satisfied: MarkupSafe>=2.0 in /usr/local/lib/python3.10/dist-packages (from jinja2->torch>=1.8.1->stable-baselines3==1.5.0) (2.1.2)\n",
            "Requirement already satisfied: mpmath>=0.19 in /usr/local/lib/python3.10/dist-packages (from sympy->torch>=1.8.1->stable-baselines3==1.5.0) (1.3.0)\n",
            "Building wheels for collected packages: gym\n",
            "  \u001b[1;31merror\u001b[0m: \u001b[1msubprocess-exited-with-error\u001b[0m\n",
            "  \n",
            "  \u001b[31m×\u001b[0m \u001b[32mpython setup.py bdist_wheel\u001b[0m did not run successfully.\n",
            "  \u001b[31m│\u001b[0m exit code: \u001b[1;36m1\u001b[0m\n",
            "  \u001b[31m╰─>\u001b[0m See above for output.\n",
            "  \n",
            "  \u001b[1;35mnote\u001b[0m: This error originates from a subprocess, and is likely not a problem with pip.\n",
            "  Building wheel for gym (setup.py) ... \u001b[?25lerror\n",
            "\u001b[31m  ERROR: Failed building wheel for gym\u001b[0m\u001b[31m\n",
            "\u001b[0m\u001b[?25h  Running setup.py clean for gym\n",
            "Failed to build gym\n",
            "Installing collected packages: gym, stable-baselines3\n",
            "  Attempting uninstall: gym\n",
            "    Found existing installation: gym 0.25.2\n",
            "    Uninstalling gym-0.25.2:\n",
            "      Successfully uninstalled gym-0.25.2\n",
            "  Running setup.py install for gym ... \u001b[?25l\u001b[?25hdone\n",
            "\u001b[33m  DEPRECATION: gym was installed using the legacy 'setup.py install' method, because a wheel could not be built for it. pip 23.1 will enforce this behaviour change. A possible replacement is to fix the wheel build issue reported above. Discussion can be found at https://github.com/pypa/pip/issues/8368\u001b[0m\u001b[33m\n",
            "\u001b[0mSuccessfully installed gym-0.21.0 stable-baselines3-1.5.0\n"
          ]
        }
      ]
    },
    {
      "cell_type": "markdown",
      "source": [
        "# Part 1: Implement DQN\n",
        "\n",
        "This part will implement DQN from scratch. This section will NOT use any RL libraries."
      ],
      "metadata": {
        "id": "-KNg9fzU5Un7"
      }
    },
    {
      "cell_type": "markdown",
      "metadata": {
        "id": "t-JvzRuwNsYz"
      },
      "source": [
        "## Starter Code Explanation\n",
        "In addition to code that have been used from the previous project (i.e. arm dynamics, etc.) an \"Environment\" is provided in the `ArmEnv` class. The environment \"wraps around\" the arm dynamics and provides the key functions that an RL algorithm expects: reset(...) and step(...). The implementation of `ArmEnv` follows the [OpenAI Gym](https://www.gymlibrary.dev/api/core/) API standard. It is a standard that is accepeted by many RL libraries and allows for our problem to be easily solved with various RL libraries. Take a moment to familiarize yourself with these functions! See [here](https://www.gymlibrary.dev/api/core/) for more information on the definition of the reset(...) and step(...) functions.\n",
        "\n",
        "Important notes:\n",
        "\n",
        "* The ArmEnv expects an action similar to the one used previously: a vector with a torque for every arm joint. Thus, the native action space for this environment is high-dimensional, and continuous. DQN will require an action space that is 1-dimensional and discrete. You will need to convert between these. For example, you can have an action space of [0, 1, 2,] where each number just represents the identity of an action candidate, and a conversion dictionary {0: [-0.1, -0.1], 1: [0.1, 0.1], 2: [0, 0]}. Then, when the Q network output an action 1, it will be converted into [0.1, 0.1] and used by the environment. Note that this is just an example method to implement the conversion and you do not have to follow the same procedure.\n",
        "* The observation provided by the environment will comprise the same state vector as before, to which we append the current position of the end_effector and the goal for the end-effector. Since your policy must learn to reach arbitrary goals, the goal must be provided as part of the observation. So the observation will consist of 8 values: 4 for the state, 2 for the pos_ee and 2 for the goal.\n",
        "* The maximum episode length of the environment is 200 steps. Each step is simulated for 0.01 second. This should be used for both training and testing.\n",
        "* The reward function of this environment is by default r(s, a) = - dist(pos_ee, goal)^2 where represents the negative square of L2 distance between the current position of the end-effector and the goal position."
      ]
    },
    {
      "cell_type": "markdown",
      "source": [
        "### Arm Environment Example\n",
        "It is encouraged to view the `arm_env.py` file to understand the `random_goal()`, `reset()` and `step()`  functions but do not modify the file.\n",
        "\n",
        "The `env.reset()` method, will reset the arm in the vertically downwards position and set a new random goal by calling the `random_goal()` method. By understanding how the goals are set you could guide your training in that direction. You can also provide your own goal as a (2,1) array to the reset function as an argument. This could come handy later when training the model.\n",
        "\n",
        "The `env.step()` function takes an action as a (2,1) shaped array and outputs the next observation, reward, done and info. `info` is a dictionary with pos_ee and vel_ee values. This can come handy if you attempt to do some reward engineering.\n",
        "\n",
        "The cell below provides an example of random policy interacting with the ArmEnv for 50 steps (0.5 seconds)"
      ],
      "metadata": {
        "id": "gw8H0PZcSv7F"
      }
    },
    {
      "cell_type": "code",
      "execution_count": null,
      "metadata": {
        "colab": {
          "base_uri": "https://localhost:8080/"
        },
        "outputId": "91e290bc-ef0e-44f3-f927-3ad5eeb7987c",
        "id": "o6r9kJ5jpeds"
      },
      "outputs": [
        {
          "output_type": "stream",
          "name": "stdout",
          "text": [
            "[[ 0.40045932]\n",
            " [-1.65265665]]\n"
          ]
        }
      ],
      "source": [
        "from render import Renderer\n",
        "from arm_env import ArmEnv\n",
        "from robot import Robot\n",
        "from arm_dynamics import ArmDynamics\n",
        "import numpy as np\n",
        "\n",
        "# DO NOT CHANGE arm parameters\n",
        "arm = Robot(\n",
        "        ArmDynamics(\n",
        "            num_links=2,\n",
        "            link_mass=0.1,\n",
        "            link_length=1,\n",
        "            joint_viscous_friction=0.1,\n",
        "            dt=0.01,\n",
        "\t    \t\t\tgravity=False\t    \n",
        "        )\n",
        "    )\n",
        "arm.reset()\n",
        "# ------------------\n",
        "\n",
        "env = ArmEnv(arm, gui=False)\n",
        "\n",
        "# Passing our own defined goal to the reset function\n",
        "# goal = np.array([[0.5], [-1.5]])\n",
        "obs = env.reset()\n",
        "goal = env.goal\n",
        "print(goal)\n",
        "\n",
        "# Resetting the environment without the goal will set a random goal position\n",
        "# obs = env.reset()\n",
        "\n",
        "for i in range(1):\n",
        "  rand_action = [0.1, 0.05]\n",
        "  obs, reward, done, info = env.step(rand_action)\n",
        "  state = env.get_obs()\n",
        "  # print(state)\n",
        "  test_reward = np.linalg.norm(info['pos_ee'] - goal) ** 2\n",
        "  # print(i)\n",
        "  # print('done', done)\n",
        "  # print('reward', reward)\n",
        "  # print('test_reward', test_reward)"
      ]
    },
    {
      "cell_type": "markdown",
      "metadata": {
        "id": "4jmXTT_ngdqG"
      },
      "source": [
        "### QNetwork\n",
        "This class defines the architecture of the network.\n",
        "\n",
        "The action space should be discrete, with whatever cardinality you decide. The size of the output layer of your Q-Network should thus be the same as the cardinality of your action space. When selecting an action, a policy must choose the one that has the highest estimated Q-value for the current state. As part of the QNetwork class, we are providing the function select_discrete_action(...) which does exactly that.\n",
        "\n",
        "The arm environment itself however expects a 2-dimensional, continuous action vector. Therefore, when it comes to send an action to the environment, the kind of action the environment expects will be provided. \n",
        "This section will determine how to convert between the discrete action space of the Q-Network and the continuous action space of the arm. The step function of the environment like this:\n",
        "\n",
        "```\n",
        "self.env.step(self.q_network.action_discrete_to_continuous(discrete_action))\n",
        "```"
      ]
    },
    {
      "cell_type": "code",
      "source": [
        "\n",
        "import torch\n",
        "import torch.nn as nn\n",
        "import torch.nn.functional as F\n",
        "import numpy as np\n",
        "import random\n",
        "random.seed(0)\n",
        "\n",
        "class QNetwork(nn.Module):\n",
        "    def __init__(self, env):\n",
        "        super(QNetwork, self).__init__()\n",
        "        \n",
        "        # torque_range_1 = np.arange(-1, 1.5, 0.5)\n",
        "        # torque_range_2 = np.arange(-0.5, 0.75, 0.25)\n",
        "        # torque_combinations = [np.array([torque_1, torque_2]) for torque_1 in torque_range_1 for torque_2 in torque_range_2]\n",
        "        # # random.shuffle(torque_combinations)\n",
        "\n",
        "        # action_mapping = {}\n",
        "        # for action_idx, torque_pair in enumerate(torque_combinations):\n",
        "        #     action_mapping[action_idx] = torque_pair\n",
        "        self.action_mapping = {0: [0, 0],\n",
        "                               1: [-2, -2], \n",
        "                               2: [2, -2], 3: [-2, 2], 4: [2, 2], \n",
        "                               5: [-0.05, -0.025], 6: [0.05, -0.025], \n",
        "                               7: [-0.05, 0.025], 8: [0.05, 0.025]}\n",
        "\n",
        "        self.obs_dim = env.observation_space.shape[0]\n",
        "        self.action_dim = len(self.action_mapping)\n",
        "        \n",
        "        self.fc1 = nn.Linear(self.obs_dim, 128)\n",
        "        self.fc2 = nn.Linear(128, 32)\n",
        "        self.fc3 = nn.Linear(32, self.action_dim)\n",
        "\n",
        "\n",
        "\n",
        "    def forward(self, x, device):\n",
        "        x = F.relu(self.fc1(x))\n",
        "        x = F.relu(self.fc2(x))\n",
        "        x = self.fc3(x)\n",
        "        return x\n",
        "\n",
        "    def select_discrete_action(self, obs, device):\n",
        "        # Put the observation through the network to estimate q values for all possible discrete actions\n",
        "        obs = torch.Tensor(obs)\n",
        "        est_q_vals = self.forward(obs.reshape((1,) + obs.shape), device)\n",
        "        # Choose the discrete action with the highest estimated q value\n",
        "        discrete_action = torch.argmax(est_q_vals, dim=1).tolist()[0]\n",
        "        return discrete_action\n",
        "\n",
        "    def action_discrete_to_continuous(self, discrete_action):\n",
        "        continuous_action = self.action_mapping[discrete_action]\n",
        "        return continuous_action\n"
      ],
      "metadata": {
        "id": "qauj_n4A71pH"
      },
      "execution_count": null,
      "outputs": []
    },
    {
      "cell_type": "markdown",
      "source": [
        "The code to use the replay buffer in your RL implementation is provided. The ReplayBuffer class do not need to be changed.\n",
        "```\n",
        "rb = ReplayBuffer()\n",
        "```\n",
        "After creating a ReplayBuffer object you can add samples in the buffer using `put()`:\n",
        "```\n",
        "rb.put((obs, action, reward, next_obs, done))\n",
        "```\n",
        "Take random samples from the buffer using:\n",
        "```\n",
        "obs, actions, rewards, next_obses, dones = rb.sample(batch_size)\n",
        "```\n"
      ],
      "metadata": {
        "id": "IUjAeQcPdsGR"
      }
    },
    {
      "cell_type": "code",
      "execution_count": null,
      "metadata": {
        "id": "q7NytRAXtYkE"
      },
      "outputs": [],
      "source": [
        "import collections\n",
        "import random\n",
        "import numpy as np\n",
        "\n",
        "\n",
        "class ReplayBuffer():\n",
        "    def __init__(self, buffer_limit):\n",
        "        self.buffer = collections.deque(maxlen=buffer_limit)\n",
        "\n",
        "    def put(self, transition):\n",
        "        self.buffer.append(transition)\n",
        "\n",
        "    def sample(self, n):\n",
        "        mini_batch = random.sample(self.buffer, n)\n",
        "        s_lst, a_lst, r_lst, s_prime_lst, done_mask_lst = [], [], [], [], []\n",
        "\n",
        "        for transition in mini_batch:\n",
        "            s, a, r, s_prime, done_mask = transition\n",
        "            s_lst.append(s)\n",
        "            a_lst.append(a)\n",
        "            r_lst.append(r)\n",
        "            s_prime_lst.append(s_prime)\n",
        "            done_mask_lst.append(done_mask)\n",
        "\n",
        "        return np.array(s_lst), np.array(a_lst), \\\n",
        "               np.array(r_lst), np.array(s_prime_lst), \\\n",
        "               np.array(done_mask_lst)"
      ]
    },
    {
      "cell_type": "markdown",
      "source": [
        "### TrainDQN\n",
        "Here, you must fill in the train(...) function that actually trains your network. \n",
        "\n",
        "We are providing a helper function called save_model(...) that will save the current Q-network. Use this as you see fit.\n",
        "\n",
        "To set one network equal to another one, you can use code like this:\n",
        "```\n",
        "target_network.load_state_dict(self.q_network.state_dict())\n",
        "```\n",
        "\n",
        "If you would like to be graded with a specific seed for the random number generators, make sure to change the default seed in the initialization of the TrainDQN class.\n",
        "\n",
        "The time taken to train the model will depend mainly on how big is your model architecture and the number of episodes you run the training for. As a reference, the time taken to train a model on 1500 episodes, which passed all evaluation metrics was about an hour.\n",
        "* Reference value for clipping the gradient value as mentioned in class: 0.2\n",
        "* Reference value for a typical size of Replay Buffer: >10k\n",
        "* Reference value for batch size while training: 64 - 512\n",
        "\n",
        "Note that these are just reference values and larger is not always better as it may slow things down.\n",
        "\n",
        "It is good practice in RL to ensure simpler things are working before complicating environments or training techniques.\n",
        "\n",
        "If you think your training method is not working at all, you could pass a fixed goal to the `env.reset()` method during the training loop to ensure that your model is learning."
      ],
      "metadata": {
        "id": "pxVawoBLe3bd"
      }
    },
    {
      "cell_type": "code",
      "source": [
        "\n",
        "import time\n",
        "from render import Renderer\n",
        "from arm_env import ArmEnv\n",
        "import numpy as np\n",
        "from math import dist\n",
        "import os\n",
        "import torch\n",
        "import torch.optim as optim\n",
        "import seaborn as sns\n",
        "\n",
        "\n",
        "class TrainDQN:\n",
        "\n",
        "\n",
        "    def __init__(self, env, seed=0):\n",
        "        np.random.seed(seed)\n",
        "        torch.manual_seed(seed)\n",
        "        torch.backends.cudnn.deterministic = False\n",
        "        self.env = env\n",
        "        self.device = torch.device('cpu')\n",
        "        self.q_network = QNetwork(env).to(self.device)\n",
        "        self.target_network = QNetwork(env).to(self.device)\n",
        "        self.target_network.load_state_dict(self.q_network.state_dict())\n",
        "\n",
        "        self.env.seed(seed)\n",
        "        self.env.observation_space.seed(seed)\n",
        "\n",
        "        self.num_action = 9\n",
        "\n",
        "        self.epsilon = 0.8\n",
        "        self.epsilon_dacay = 0.95\n",
        "        self.epsilon_min = 0.2\n",
        "\n",
        "        self.replay_buffer = ReplayBuffer(10000)\n",
        "        \n",
        "        self.batch_size = 128\n",
        "        self.gamma = 0.95\n",
        "        self.criterion = nn.MSELoss()\n",
        "        self.lr = 0.001\n",
        "        self.optimizer = optim.Adam(self.q_network.parameters(), lr=self.lr)\n",
        "        self.num_episodes = 500\n",
        "\n",
        "        self.q_update_num = 5\n",
        "\n",
        "\n",
        "    def to_tensor(self, states, action_indexs, rewards, next_states):\n",
        "        states = torch.from_numpy(states).float()\n",
        "        action_indexs = torch.from_numpy(action_indexs).long()\n",
        "        rewards = torch.from_numpy(rewards).float()\n",
        "        next_states = torch.from_numpy(next_states).float()\n",
        "        return states, action_indexs, rewards, next_states\n",
        "\n",
        "    def train_batch(self):\n",
        "        self.optimizer.zero_grad()\n",
        "        states, action_indexs, rewards, next_states, dones = self.replay_buffer.sample(self.batch_size)\n",
        "        states, action_indexs, rewards, next_states = self.to_tensor(states, action_indexs, rewards, next_states)\n",
        "\n",
        "        q_a = self.q_network.forward(states, self.device).gather(1, action_indexs.view(-1, 1)).squeeze()\n",
        "\n",
        "        q_t = self.target_network.forward(next_states, self.device)\n",
        "\n",
        "        q_t_max = torch.max(q_t.detach(), dim=1)[0]\n",
        "        q_tar = rewards + self.gamma * q_t_max\n",
        "\n",
        "        loss = self.criterion(q_a, q_tar)\n",
        "        loss.backward()\n",
        "\n",
        "        # clamp\n",
        "        for para in self.q_network.parameters():\n",
        "            para.grad.data.clamp_(-0.05, 0.05)\n",
        "        \n",
        "        self.optimizer.step()\n",
        "        \n",
        "        return loss.item()\n",
        "\n",
        "    def get_reward(self, target_goal, info):\n",
        "\n",
        "      positiona_error = np.linalg.norm(info['pos_ee'] - target_goal)\n",
        "      reward_temp = - positiona_error ** 2\n",
        "      if positiona_error < 0.3:\n",
        "         reward_temp += 10\n",
        "        # print('positiona_error', positiona_error)\n",
        "      if positiona_error < 0.1:\n",
        "         reward_temp += 10\n",
        "      #   # print('positiona_error', positiona_error)\n",
        "      # elif positiona_error < 0.1:\n",
        "      #   reward_temp += 10\n",
        "      #   # print('positiona_error', positiona_error)\n",
        "      # elif positiona_error < 0.05:\n",
        "      #   reward_temp += 10\n",
        "      #   # print('wowowo_positiona_error', positiona_error)\n",
        "\n",
        "\n",
        "      return reward_temp\n",
        "\n",
        "\n",
        "    def train(self):\n",
        "        best_reawrd = -np.inf\n",
        "        deacied_epsilon = self.epsilon\n",
        "        loss_history = []\n",
        "        reward_history = []\n",
        "        for episode in range(self.num_episodes):\n",
        "\n",
        "            # goal = np.array([[0.5], [-1.5]])\n",
        "            episode_reward = 0\n",
        "            state = self.env.reset()\n",
        "            # print(state)\n",
        "            target_goal = self.env.goal\n",
        "            # print(target_goal)\n",
        "            loss = 0\n",
        "\n",
        "            deacied_epsilon = np.max([self.epsilon_min, deacied_epsilon * self.epsilon_dacay])\n",
        "            # print(deacied_epsilon)\n",
        "            while True:            \n",
        "                \n",
        "                if random.random() < deacied_epsilon:\n",
        "                    index = np.random.randint(0, self.num_action)\n",
        "                else:\n",
        "                    index = self.q_network.select_discrete_action(state, self.device)\n",
        "\n",
        "                action = self.q_network.action_discrete_to_continuous(index)\n",
        "\n",
        "                state_next, reward, done, info = self.env.step(action)\n",
        "                if done:\n",
        "                    break\n",
        "\n",
        "                self.replay_buffer.put((state, index, reward, state_next, done))\n",
        "   \n",
        "                reward_temp = self.get_reward(target_goal, info)\n",
        "                \n",
        "                episode_reward += reward_temp\n",
        "\n",
        "                if len(self.replay_buffer.buffer) >= 1000:\n",
        "                    loss += self.train_batch()\n",
        "                state = state_next\n",
        "\n",
        "            if episode % self.q_update_num == 0:\n",
        "                self.target_network.load_state_dict(self.q_network.state_dict()) # update num\n",
        "                self.save_model(episode)\n",
        "\n",
        "\n",
        "            \n",
        "            loss_history.append(loss)\n",
        "\n",
        "            # print('loss', loss)\n",
        "            reward_history.append(episode_reward)\n",
        "            # if episode_reward > best_reawrd:\n",
        "            #   best_reawrd = episode_reward\n",
        "            #   print(\"Episode:\", episode, \"  reward:\", episode_reward)\n",
        "            #   self.save_model(episode)\n",
        "            \n",
        "            # if episode > (self.num_episodes - 10):\n",
        "            #   print(\"Episode:\", episode, \"  reward:\", episode_reward)\n",
        "            #   self.save_model(episode)\n",
        "            \n",
        "            # if episode % 5 == 0:\n",
        "            #   self.save_model(episode)\n",
        "            \n",
        "            # if episode_reward < 1500:\n",
        "            #   print('bad point', target_goal)\n",
        "            #   print(\"Episode:\", episode, \"  reward:\", episode_reward)\n",
        "            \n",
        "        return loss_history, reward_history\n",
        "\n",
        "\n",
        "\n",
        "\n",
        "\n",
        "    def save_model(self, episode_num, save_dir='models'):\n",
        "        \n",
        "        timestr = time.strftime(\"%Y-%m-%d_%H-%M-%S\")\n",
        "        model_dir = os.path.join(save_dir) \n",
        "        if not os.path.exists(os.path.join(model_dir)):\n",
        "            os.makedirs(os.path.join(model_dir))\n",
        "        savepath = os.path.join(model_dir, f'q_network_ep_{episode_num:04d}.pth')\n",
        "        torch.save(self.q_network.state_dict(), savepath)\n",
        "        print(f'model saved to {savepath}\\n')\n",
        "\n",
        "\n"
      ],
      "metadata": {
        "id": "dwxFcuP_CxFY"
      },
      "execution_count": null,
      "outputs": []
    },
    {
      "cell_type": "code",
      "execution_count": null,
      "metadata": {
        "id": "sEHSV1Q1BT1t",
        "colab": {
          "base_uri": "https://localhost:8080/"
        },
        "outputId": "aad1d5e8-1a13-46a9-8006-2a5c3db6bdae"
      },
      "outputs": [
        {
          "output_type": "stream",
          "name": "stdout",
          "text": [
            "model saved to models/q_network_ep_0000.pth\n",
            "\n",
            "model saved to models/q_network_ep_0005.pth\n",
            "\n",
            "model saved to models/q_network_ep_0010.pth\n",
            "\n",
            "model saved to models/q_network_ep_0015.pth\n",
            "\n",
            "model saved to models/q_network_ep_0020.pth\n",
            "\n",
            "model saved to models/q_network_ep_0025.pth\n",
            "\n",
            "model saved to models/q_network_ep_0030.pth\n",
            "\n",
            "model saved to models/q_network_ep_0035.pth\n",
            "\n",
            "model saved to models/q_network_ep_0040.pth\n",
            "\n",
            "model saved to models/q_network_ep_0045.pth\n",
            "\n",
            "model saved to models/q_network_ep_0050.pth\n",
            "\n",
            "model saved to models/q_network_ep_0055.pth\n",
            "\n",
            "model saved to models/q_network_ep_0060.pth\n",
            "\n",
            "model saved to models/q_network_ep_0065.pth\n",
            "\n",
            "model saved to models/q_network_ep_0070.pth\n",
            "\n",
            "model saved to models/q_network_ep_0075.pth\n",
            "\n",
            "model saved to models/q_network_ep_0080.pth\n",
            "\n",
            "model saved to models/q_network_ep_0085.pth\n",
            "\n",
            "model saved to models/q_network_ep_0090.pth\n",
            "\n",
            "model saved to models/q_network_ep_0095.pth\n",
            "\n",
            "model saved to models/q_network_ep_0100.pth\n",
            "\n",
            "model saved to models/q_network_ep_0105.pth\n",
            "\n",
            "model saved to models/q_network_ep_0110.pth\n",
            "\n",
            "model saved to models/q_network_ep_0115.pth\n",
            "\n",
            "model saved to models/q_network_ep_0120.pth\n",
            "\n",
            "model saved to models/q_network_ep_0125.pth\n",
            "\n",
            "model saved to models/q_network_ep_0130.pth\n",
            "\n",
            "model saved to models/q_network_ep_0135.pth\n",
            "\n",
            "model saved to models/q_network_ep_0140.pth\n",
            "\n",
            "model saved to models/q_network_ep_0145.pth\n",
            "\n",
            "model saved to models/q_network_ep_0150.pth\n",
            "\n",
            "model saved to models/q_network_ep_0155.pth\n",
            "\n",
            "model saved to models/q_network_ep_0160.pth\n",
            "\n",
            "model saved to models/q_network_ep_0165.pth\n",
            "\n",
            "model saved to models/q_network_ep_0170.pth\n",
            "\n",
            "model saved to models/q_network_ep_0175.pth\n",
            "\n",
            "model saved to models/q_network_ep_0180.pth\n",
            "\n",
            "model saved to models/q_network_ep_0185.pth\n",
            "\n",
            "model saved to models/q_network_ep_0190.pth\n",
            "\n",
            "model saved to models/q_network_ep_0195.pth\n",
            "\n",
            "model saved to models/q_network_ep_0200.pth\n",
            "\n",
            "model saved to models/q_network_ep_0205.pth\n",
            "\n",
            "model saved to models/q_network_ep_0210.pth\n",
            "\n",
            "model saved to models/q_network_ep_0215.pth\n",
            "\n",
            "model saved to models/q_network_ep_0220.pth\n",
            "\n",
            "model saved to models/q_network_ep_0225.pth\n",
            "\n",
            "model saved to models/q_network_ep_0230.pth\n",
            "\n",
            "model saved to models/q_network_ep_0235.pth\n",
            "\n",
            "model saved to models/q_network_ep_0240.pth\n",
            "\n",
            "model saved to models/q_network_ep_0245.pth\n",
            "\n",
            "model saved to models/q_network_ep_0250.pth\n",
            "\n",
            "model saved to models/q_network_ep_0255.pth\n",
            "\n",
            "model saved to models/q_network_ep_0260.pth\n",
            "\n",
            "model saved to models/q_network_ep_0265.pth\n",
            "\n",
            "model saved to models/q_network_ep_0270.pth\n",
            "\n",
            "model saved to models/q_network_ep_0275.pth\n",
            "\n",
            "model saved to models/q_network_ep_0280.pth\n",
            "\n",
            "model saved to models/q_network_ep_0285.pth\n",
            "\n",
            "model saved to models/q_network_ep_0290.pth\n",
            "\n",
            "model saved to models/q_network_ep_0295.pth\n",
            "\n",
            "model saved to models/q_network_ep_0300.pth\n",
            "\n",
            "model saved to models/q_network_ep_0305.pth\n",
            "\n",
            "model saved to models/q_network_ep_0310.pth\n",
            "\n",
            "model saved to models/q_network_ep_0315.pth\n",
            "\n",
            "model saved to models/q_network_ep_0320.pth\n",
            "\n",
            "model saved to models/q_network_ep_0325.pth\n",
            "\n",
            "model saved to models/q_network_ep_0330.pth\n",
            "\n",
            "model saved to models/q_network_ep_0335.pth\n",
            "\n",
            "model saved to models/q_network_ep_0340.pth\n",
            "\n",
            "model saved to models/q_network_ep_0345.pth\n",
            "\n",
            "model saved to models/q_network_ep_0350.pth\n",
            "\n",
            "model saved to models/q_network_ep_0355.pth\n",
            "\n",
            "model saved to models/q_network_ep_0360.pth\n",
            "\n",
            "model saved to models/q_network_ep_0365.pth\n",
            "\n",
            "model saved to models/q_network_ep_0370.pth\n",
            "\n",
            "model saved to models/q_network_ep_0375.pth\n",
            "\n",
            "model saved to models/q_network_ep_0380.pth\n",
            "\n",
            "model saved to models/q_network_ep_0385.pth\n",
            "\n",
            "model saved to models/q_network_ep_0390.pth\n",
            "\n",
            "model saved to models/q_network_ep_0395.pth\n",
            "\n",
            "model saved to models/q_network_ep_0400.pth\n",
            "\n",
            "model saved to models/q_network_ep_0405.pth\n",
            "\n",
            "model saved to models/q_network_ep_0410.pth\n",
            "\n",
            "model saved to models/q_network_ep_0415.pth\n",
            "\n",
            "model saved to models/q_network_ep_0420.pth\n",
            "\n",
            "model saved to models/q_network_ep_0425.pth\n",
            "\n",
            "model saved to models/q_network_ep_0430.pth\n",
            "\n",
            "model saved to models/q_network_ep_0435.pth\n",
            "\n",
            "model saved to models/q_network_ep_0440.pth\n",
            "\n",
            "model saved to models/q_network_ep_0445.pth\n",
            "\n",
            "model saved to models/q_network_ep_0450.pth\n",
            "\n",
            "model saved to models/q_network_ep_0455.pth\n",
            "\n",
            "model saved to models/q_network_ep_0460.pth\n",
            "\n",
            "model saved to models/q_network_ep_0465.pth\n",
            "\n",
            "model saved to models/q_network_ep_0470.pth\n",
            "\n",
            "model saved to models/q_network_ep_0475.pth\n",
            "\n",
            "model saved to models/q_network_ep_0480.pth\n",
            "\n",
            "model saved to models/q_network_ep_0485.pth\n",
            "\n",
            "model saved to models/q_network_ep_0490.pth\n",
            "\n",
            "model saved to models/q_network_ep_0495.pth\n",
            "\n"
          ]
        }
      ],
      "source": [
        "from robot import Robot\n",
        "from arm_dynamics import ArmDynamics\n",
        "\n",
        "# DO NOT CHANGE\n",
        "# ---------------\n",
        "arm = Robot(\n",
        "        ArmDynamics(\n",
        "            num_links=2,\n",
        "            link_mass=0.1,\n",
        "            link_length=1,\n",
        "            joint_viscous_friction=0.1,\n",
        "            dt=0.01,\n",
        "\t    \t\t\tgravity=False\n",
        "        )\n",
        "    )\n",
        "arm.reset()\n",
        "env = ArmEnv(arm, gui=False)\n",
        "tqdn = TrainDQN(env)\n",
        "# ---------------\n",
        "\n",
        "# Call your trin function here\n",
        "loss_history, reward_history = tqdn.train()\n",
        "# tqdn.plot_returns(returns)"
      ]
    },
    {
      "cell_type": "code",
      "source": [
        "import matplotlib.pyplot as plt\n",
        "import numpy as np\n",
        "from scipy.signal import savgol_filter\n",
        "reward_history = np.array(reward_history)\n",
        "\n",
        "smoothed_data = savgol_filter(reward_history, window_length=50, polyorder=3)\n",
        "\n",
        "plt.figure()\n",
        "plt.yscale('log')\n",
        "plt.plot(-reward_history)\n",
        "plt.xlabel('epoches')\n",
        "plt.ylabel('reward')\n",
        "plt.title('DQN training')\n",
        "# min_value = 1e1\n",
        "# max_value = 2e2\n",
        "# plt.ylim(min_value, max_value)\n",
        "\n",
        "# Display grid lines\n",
        "plt.grid(which='both')\n",
        "\n",
        "plt.show()\n"
      ],
      "metadata": {
        "colab": {
          "base_uri": "https://localhost:8080/",
          "height": 472
        },
        "id": "kPea4yDx1KSG",
        "outputId": "f0e9e63f-5ae3-46d9-af70-e9302aa8bb0a"
      },
      "execution_count": null,
      "outputs": [
        {
          "output_type": "display_data",
          "data": {
            "text/plain": [
              "<Figure size 640x480 with 1 Axes>"
            ],
            "image/png": "[encoded data removed]"
          },
          "metadata": {}
        }
      ]
    },
    {
      "cell_type": "code",
      "source": [
        "loss_history = np.array(loss_history)\n",
        "\n",
        "smoothed_data = savgol_filter(loss_history, window_length=5, polyorder=2)\n",
        "\n",
        "plt.figure()\n",
        "plt.yscale('log')\n",
        "plt.plot(loss_history)\n",
        "plt.xlabel('epoches')\n",
        "plt.ylabel('loss_history')\n",
        "plt.title('DQN training')\n",
        "# min_value = 1e1\n",
        "# max_value = 2e2\n",
        "# plt.ylim(min_value, max_value)\n",
        "\n",
        "# Display grid lines\n",
        "plt.grid(which='both')\n",
        "\n",
        "plt.show()"
      ],
      "metadata": {
        "colab": {
          "base_uri": "https://localhost:8080/",
          "height": 472
        },
        "id": "5unokNEz1leA",
        "outputId": "5dd53301-78dd-44b2-e2a8-21a6f58ca1e5"
      },
      "execution_count": null,
      "outputs": [
        {
          "output_type": "display_data",
          "data": {
            "text/plain": [
              "<Figure size 640x480 with 1 Axes>"
            ],
            "image/png": "[encoded data removed]"
          },
          "metadata": {}
        }
      ]
    },
    {
      "cell_type": "code",
      "source": [
        "loss_history[0]"
      ],
      "metadata": {
        "colab": {
          "base_uri": "https://localhost:8080/"
        },
        "id": "xPlKVYv_vXAT",
        "outputId": "2763adfd-64d8-4e80-c1f2-3eea92d37a46"
      },
      "execution_count": null,
      "outputs": [
        {
          "output_type": "execute_result",
          "data": {
            "text/plain": [
              "0.0"
            ]
          },
          "metadata": {},
          "execution_count": 33
        }
      ]
    },
    {
      "cell_type": "markdown",
      "source": [
        "To keep track of your experiments, it is good practice to plot and check how well is your model trained based on the returns vs episodes plot. With a large number of episodes, this  plot may look very jagged making it difficult to ascertain how well you are doing. We are proving code to smoothen out the plot by. This will take a large list of returns in every episode and plot a smoothened version of the list. Feel free to use it if it helps.\n",
        "```\n",
        "import seaborn as sns\n",
        "returns = __\n",
        "smoothing = 10\n",
        "\n",
        "smoothened = [sum(returns[i:i+smoothing])/smoothing for i in range(0, len(returns), smoothing)]\n",
        "sns.lineplot(smoothened)\n",
        "```"
      ],
      "metadata": {
        "id": "jAlaOcVJsn5a"
      }
    },
    {
      "cell_type": "markdown",
      "metadata": {
        "id": "lIcBDbeTRNZI"
      },
      "source": [
        "### Load your model and test its performance\n",
        "Change your model path and the goal to see how well your learnt model is performing"
      ]
    },
    {
      "cell_type": "code",
      "execution_count": null,
      "metadata": {
        "id": "x5gTRNKhRQQM",
        "colab": {
          "base_uri": "https://localhost:8080/"
        },
        "outputId": "9249dc96-7809-4879-df4b-af6a38138c9d"
      },
      "outputs": [
        {
          "output_type": "stream",
          "name": "stderr",
          "text": [
            "100%|██████████| 98/98 [01:37<00:00,  1.01it/s]\n"
          ]
        }
      ],
      "source": [
        "import collections\n",
        "import random\n",
        "import numpy as np\n",
        "import torch\n",
        "import torch.nn as nn\n",
        "import torch.nn.functional as F\n",
        "import time\n",
        "from render import Renderer\n",
        "from arm_env import ArmEnv\n",
        "import numpy as np\n",
        "import os\n",
        "from math import dist\n",
        "import seaborn as sns\n",
        "from robot import Robot\n",
        "from arm_dynamics import ArmDynamics\n",
        "from geometry import polar2cartesian\n",
        "\n",
        "\n",
        "# DO NOT CHANGE arm parameters\n",
        "arm = Robot(\n",
        "        ArmDynamics(\n",
        "            num_links=2,\n",
        "            link_mass=0.1,\n",
        "            link_length=1,\n",
        "            joint_viscous_friction=0.1,\n",
        "            dt=0.01,\n",
        "\t    \t\t\tgravity=False\t    \n",
        "        )\n",
        "    )\n",
        "arm.reset()\n",
        "# ------------------\n",
        "\n",
        "def sample_goal():\n",
        "      goal = np.zeros((2,1))\n",
        "      r = np.random.uniform(low=0.5, high=1.5)\n",
        "      theta = np.random.uniform(low=-2/3 * np.pi, high=-1/3 *np.pi)\n",
        "      goal[0,0] = r * np.cos(theta)\n",
        "      goal[1,0] = r * np.sin(theta)\n",
        "      return goal\n",
        "\n",
        "goal_list = [polar2cartesian(1.8, 0.2 - np.pi / 2.0),\n",
        "             polar2cartesian(1.9, -0.15 - np.pi / 2.0),\n",
        "             polar2cartesian(1.6, 0.25 - np.pi / 2.0),\n",
        "             polar2cartesian(1.8, -0.25 - np.pi / 2.0),\n",
        "             polar2cartesian(1.6, 0.45 - np.pi / 2.0)]\n",
        "\n",
        "env = ArmEnv(arm, gui=False)\n",
        "# model_path = '/content/models/2023-05-03_19-46-41/q_network_ep_0460.pth' # Fill in the model_path\n",
        "device = torch.device('cpu')\n",
        "qnet = QNetwork(env).to(device)\n",
        "# qnet.load_state_dict(torch.load(model_path))\n",
        "# qnet.eval()\n",
        "# goal = sample_goal()\n",
        "# done = False\n",
        "# obs = env.reset(goal)\n",
        "\n",
        "\n",
        "num_points = 10\n",
        "reward_history = []\n",
        "\n",
        "model_dir = '/content/models/'\n",
        "from tqdm import tqdm \n",
        "for epoch in tqdm(range(10, 500, 5)):\n",
        "    model_folder = f'q_network_ep_{epoch:04d}.pth'\n",
        "    model_path = os.path.join(model_dir, model_folder)\n",
        "    # print(model_path)\n",
        "    qnet.load_state_dict(torch.load(model_path))\n",
        "    qnet.eval()\n",
        "\n",
        "    episode_return = 0\n",
        "\n",
        "    for i in range(5):\n",
        "        goal = goal_list[i]\n",
        "        done = False\n",
        "        obs = env.reset(goal)\n",
        "\n",
        "        while not done:\n",
        "          action = qnet.select_discrete_action(obs, device)\n",
        "          action = qnet.action_discrete_to_continuous(action)\n",
        "          new_obs, reward, done, info = env.step(action)\n",
        "          episode_return += reward\n",
        "\n",
        "          # pos_ee = info['pos_ee']\n",
        "          # vel_ee = info['vel_ee']\n",
        "          # dist = np.linalg.norm(pos_ee - goal)\n",
        "\n",
        "          obs = new_obs\n",
        "        # print('Episode return: ', episode_return)\n",
        "    reward_history.append(episode_return / num_points)"
      ]
    },
    {
      "cell_type": "code",
      "source": [
        "goal_list = [polar2cartesian(1.8, 0.2 - np.pi / 2.0),\n",
        "             polar2cartesian(1.9, -0.15 - np.pi / 2.0),\n",
        "             polar2cartesian(1.6, 0.25 - np.pi / 2.0),\n",
        "             polar2cartesian(1.8, -0.25 - np.pi / 2.0),\n",
        "             polar2cartesian(1.6, 0.45 - np.pi / 2.0)]\n",
        "goal = goal_list[0]\n",
        "goal"
      ],
      "metadata": {
        "colab": {
          "base_uri": "https://localhost:8080/"
        },
        "id": "W6ShSSaXDne3",
        "outputId": "472e3f19-c9ff-43f3-fe2e-eae317b55814"
      },
      "execution_count": null,
      "outputs": [
        {
          "output_type": "execute_result",
          "data": {
            "text/plain": [
              "array([[ 0.3576048 ],\n",
              "       [-1.76411984]])"
            ]
          },
          "metadata": {},
          "execution_count": 26
        }
      ]
    },
    {
      "cell_type": "code",
      "source": [
        "reward_history = np.array(reward_history)\n",
        "\n",
        "smoothed_data = savgol_filter(reward_history, window_length=5, polyorder=2)\n",
        "\n",
        "plt.figure()\n",
        "plt.yscale('log')\n",
        "plt.plot(range(10, 500, 5), -reward_history)\n",
        "plt.xlabel('epoches')\n",
        "plt.ylabel('Distance error')\n",
        "plt.title('DQN testing')\n",
        "# min_value = 1e1\n",
        "# max_value = 2e2\n",
        "# plt.ylim(min_value, max_value)\n",
        "\n",
        "# Display grid lines\n",
        "plt.grid(which='both')\n",
        "\n",
        "plt.show()"
      ],
      "metadata": {
        "colab": {
          "base_uri": "https://localhost:8080/",
          "height": 472
        },
        "id": "UumYFjx2AcEH",
        "outputId": "37639698-0706-4e0d-dea7-4675fee21297"
      },
      "execution_count": null,
      "outputs": [
        {
          "output_type": "display_data",
          "data": {
            "text/plain": [
              "<Figure size 640x480 with 1 Axes>"
            ],
            "image/png": "[encoded data removed]"
          },
          "metadata": {}
        }
      ]
    },
    {
      "cell_type": "markdown",
      "source": [
        "### Grading and Evaluation\n",
        "You will be evaluated on 5 different goal positions worth 1.5 points each. You must pass the best `model_path` for your network. The scoring function will run one episode for every goal position and find the total reward (aka return) for the episode. For every goal you get:\n",
        "\n",
        "* 1 Point if `easy target < total reward < hard target`\n",
        "* 1.5 Points if `hard target < total reward`"
      ],
      "metadata": {
        "id": "pUDEYLsZLSp4"
      }
    },
    {
      "cell_type": "code",
      "source": [
        "from score import compute_score\n",
        "import torch.nn as nn\n",
        "import torch\n",
        "import torch.nn.functional as F\n",
        "from render import Renderer\n",
        "from arm_env import ArmEnv\n",
        "from robot import Robot\n",
        "from arm_dynamics import ArmDynamics\n",
        "import numpy as np\n",
        "\n",
        "\n",
        "# DO NOT CHANGE arm parameters\n",
        "arm = Robot(\n",
        "        ArmDynamics(\n",
        "            num_links=2,\n",
        "            link_mass=0.1,\n",
        "            link_length=1,\n",
        "            joint_viscous_friction=0.1,\n",
        "            dt=0.01,\n",
        "\t    \t\t\tgravity=False\t    \n",
        "        )\n",
        "    )\n",
        "arm.reset()\n",
        "# ------------------\n",
        "\n",
        "env = ArmEnv(arm, gui=False)\n",
        "\n",
        "# train the model is about 5 mins, you can use any model from the last five eps (495 - 499), They should all have a full mark\n",
        "\n",
        "model_path = '/content/models/q_network_ep_0120.pth' # Fill in the model_path\n",
        "device = torch.device('cpu')\n",
        "qnet = QNetwork(env).to(device)\n",
        "qnet.load_state_dict(torch.load(model_path))\n",
        "qnet.eval()\n",
        "score = compute_score(qnet, env, device)"
      ],
      "metadata": {
        "id": "OhPD-u6TIxdl",
        "colab": {
          "base_uri": "https://localhost:8080/"
        },
        "outputId": "3ef58026-ba0e-45ea-dbcd-c430396f1cc1"
      },
      "execution_count": null,
      "outputs": [
        {
          "output_type": "stream",
          "name": "stdout",
          "text": [
            "---Computing score---\n",
            "\n",
            "Goal 1:\n",
            "Total reward: -9.06662099999511\n",
            "easy target: -7\n",
            "hard target: -5\n",
            "points: 0\n",
            "\n",
            "Goal 2:\n",
            "Total reward: -28.284415928381403\n",
            "easy target: -7\n",
            "hard target: -5\n",
            "points: 0\n",
            "\n",
            "Goal 3:\n",
            "Total reward: -25.471368555913166\n",
            "easy target: -7\n",
            "hard target: -5\n",
            "points: 0\n",
            "\n",
            "Goal 4:\n",
            "Total reward: -30.89865531344848\n",
            "easy target: -7\n",
            "hard target: -5\n",
            "points: 0\n",
            "\n",
            "Goal 5:\n",
            "Total reward: -36.76409207461504\n",
            "easy target: -10\n",
            "hard target: -7\n",
            "points: 0\n",
            "\n",
            "\n",
            "Final score: 0\n"
          ]
        }
      ]
    },
    {
      "cell_type": "markdown",
      "source": [
        "# Part 2: PPO with an open source RL library\n",
        "\n",
        "In this part, you will use one of the most popular open source RL libraries ([Stable-Baselines3](https://stable-baselines3.readthedocs.io/en/master/)) to solve the same goal reaching problem as Part 1. We will use the same `ArmEnv` gym environment. The algorithm you should choose to use is PPO. "
      ],
      "metadata": {
        "id": "vkCvO0-05XK5"
      }
    },
    {
      "cell_type": "markdown",
      "source": [
        "## PPO training\n",
        "\n",
        "We provide the code to construct parallel environments. Parallel environments can be very useful if you have good CPUs and it can speed up training. "
      ],
      "metadata": {
        "id": "UBK89P2B8CgL"
      }
    },
    {
      "cell_type": "code",
      "source": [
        "# DO NOT CHANGE\n",
        "\n",
        "from stable_baselines3.common.vec_env.subproc_vec_env import SubprocVecEnv\n",
        "from stable_baselines3.common.vec_env.vec_monitor import VecMonitor\n",
        "from copy import deepcopy\n",
        "from robot import Robot\n",
        "from arm_dynamics import ArmDynamics\n",
        "from arm_env import ArmEnv\n",
        "\n",
        "class EnvMaker:\n",
        "    def __init__(self,  arm, seed):\n",
        "        self.seed = seed\n",
        "        self.arm = arm\n",
        "\n",
        "    def __call__(self):\n",
        "        arm = deepcopy(self.arm)\n",
        "        env = ArmEnv(arm)\n",
        "        env.seed(self.seed)\n",
        "        return env\n",
        "\n",
        "def make_vec_env(arm, nenv, seed):\n",
        "    return VecMonitor(SubprocVecEnv([EnvMaker(arm, seed  + 100 * i) for i in range(nenv)]))\n",
        "\n",
        "# conveniet function to create a robot arm\n",
        "def make_arm():\n",
        "    arm = Robot(\n",
        "        ArmDynamics(\n",
        "            num_links=2,\n",
        "            link_mass=0.1,\n",
        "            link_length=1,\n",
        "            joint_viscous_friction=0.1,\n",
        "            dt=0.01\n",
        "        )\n",
        "    )\n",
        "    arm.reset()\n",
        "    return arm\n"
      ],
      "metadata": {
        "id": "2RTqfmpVwMja"
      },
      "execution_count": null,
      "outputs": []
    },
    {
      "cell_type": "markdown",
      "source": [
        "You will need to complete the code to train the policy using the [PPO class](https://stable-baselines3.readthedocs.io/en/master/modules/ppo.html) from stable_baselines3. We provide the code to generate the name of the directory to save the checkpoint, an example is `ppo_models/2023-04-13_01-14-13`. Your checkpoint model should be named `ppo_network.zip`. See the [save](https://stable-baselines3.readthedocs.io/en/master/modules/ppo.html#stable_baselines3.ppo.PPO.save) function. Training should take less than 40 minutes."
      ],
      "metadata": {
        "id": "Bniz2TouwM3S"
      }
    },
    {
      "cell_type": "code",
      "source": [
        "\n",
        "from stable_baselines3.ppo import PPO\n",
        "import os\n",
        "import time\n",
        "from stable_baselines3.common.utils import set_random_seed\n",
        "\n",
        "\n",
        "# Default parameters\n",
        "timesteps = 500000\n",
        "nenv = 8  # number of parallel environments. This can speed up training when you have good CPUs\n",
        "seed = 8\n",
        "batch_size = 1024\n",
        "\n",
        "# Generate path of the directory to save the checkpoint\n",
        "# timestr = time.strftime(\"%Y-%m-%d_%H-%M-%S\")\n",
        "# save_dir = os.path.join('ppo_models')\n",
        "save_dir  = f'ppo_models_{i:04d}'\n",
        "# Set random seed\n",
        "set_random_seed(seed)\n",
        "\n",
        "# Create arm\n",
        "arm = make_arm()\n",
        "\n",
        "# Create parallel envs\n",
        "vec_env = make_vec_env(arm=arm, nenv=nenv, seed=seed)\n",
        "\n",
        "# Create the PPO model\n",
        "model = PPO(\"MlpPolicy\", vec_env, n_steps=batch_size) # ent_coef=0.0, learning_rate=2.5e-4, vf_coef=0.5, max_grad_norm=0.5, gae_lambda=0.95, n_epochs=4, clip_range=0.2, clip_range_vf=None, verbose=1, seed=seed)\n",
        "\n",
        "# Train the model\n",
        "model.learn(total_timesteps=timesteps)\n",
        "\n",
        "# Save the model\n",
        "if not os.path.exists(save_dir):\n",
        "    os.makedirs(save_dir)\n",
        "model.save(os.path.join(save_dir, \"ppo_network.zip\"))\n"
      ],
      "metadata": {
        "id": "ZkwkiWqy1Saj"
      },
      "execution_count": null,
      "outputs": []
    },
    {
      "cell_type": "code",
      "source": [
        "import os\n",
        "from stable_baselines3 import PPO\n",
        "from stable_baselines3.common.vec_env import VecNormalize\n",
        "from stable_baselines3.common.callbacks import BaseCallback\n",
        "\n",
        "# Default parameters\n",
        "timesteps = 500000\n",
        "nenv = 8\n",
        "seed = 8\n",
        "batch_size = 1024\n",
        "save_interval = 500\n",
        "\n",
        "save_dir = f'ppo_models_4'\n",
        "set_random_seed(seed)\n",
        "\n",
        "arm = make_arm()\n",
        "\n",
        "vec_env = make_vec_env(arm=arm, nenv=nenv, seed=seed)\n",
        "\n",
        "model = PPO(\"MlpPolicy\", vec_env, n_steps=batch_size)\n",
        "\n",
        "class SaveIntermediateModelCallback(BaseCallback):\n",
        "    def __init__(self, save_interval, save_dir):\n",
        "        super(SaveIntermediateModelCallback, self).__init__()\n",
        "        self.save_interval = save_interval\n",
        "        self.save_dir = save_dir\n",
        "\n",
        "    def _on_step(self) -> bool:\n",
        "        if self.n_calls % self.save_interval == 0:\n",
        "            save_path = os.path.join(self.save_dir, f\"ppo_network_step_{self.n_calls}.zip\")\n",
        "            self.model.save(save_path)\n",
        "            print(f\"Saved model at time step {self.n_calls}\")\n",
        "        return True\n",
        "\n",
        "if not os.path.exists(save_dir):\n",
        "    os.makedirs(save_dir)\n",
        "\n",
        "save_callback = SaveIntermediateModelCallback(save_interval, save_dir)\n",
        "\n",
        "model.learn(total_timesteps=timesteps, callback=save_callback)\n"
      ],
      "metadata": {
        "colab": {
          "base_uri": "https://localhost:8080/"
        },
        "id": "b7nCxtl_IsWc",
        "outputId": "86db6f2a-ac2f-4244-bf18-7a218a867d68"
      },
      "execution_count": null,
      "outputs": [
        {
          "output_type": "stream",
          "name": "stdout",
          "text": [
            "Saved model at time step 500\n",
            "Saved model at time step 1000\n",
            "Saved model at time step 1500\n",
            "Saved model at time step 2000\n",
            "Saved model at time step 2500\n",
            "Saved model at time step 3000\n",
            "Saved model at time step 3500\n",
            "Saved model at time step 4000\n",
            "Saved model at time step 4500\n",
            "Saved model at time step 5000\n",
            "Saved model at time step 5500\n",
            "Saved model at time step 6000\n",
            "Saved model at time step 6500\n",
            "Saved model at time step 7000\n",
            "Saved model at time step 7500\n",
            "Saved model at time step 8000\n",
            "Saved model at time step 8500\n",
            "Saved model at time step 9000\n",
            "Saved model at time step 9500\n",
            "Saved model at time step 10000\n",
            "Saved model at time step 10500\n",
            "Saved model at time step 11000\n",
            "Saved model at time step 11500\n",
            "Saved model at time step 12000\n",
            "Saved model at time step 12500\n",
            "Saved model at time step 13000\n",
            "Saved model at time step 13500\n",
            "Saved model at time step 14000\n",
            "Saved model at time step 14500\n",
            "Saved model at time step 15000\n",
            "Saved model at time step 15500\n",
            "Saved model at time step 16000\n",
            "Saved model at time step 16500\n",
            "Saved model at time step 17000\n",
            "Saved model at time step 17500\n",
            "Saved model at time step 18000\n",
            "Saved model at time step 18500\n",
            "Saved model at time step 19000\n",
            "Saved model at time step 19500\n",
            "Saved model at time step 20000\n",
            "Saved model at time step 20500\n",
            "Saved model at time step 21000\n",
            "Saved model at time step 21500\n",
            "Saved model at time step 22000\n",
            "Saved model at time step 22500\n",
            "Saved model at time step 23000\n",
            "Saved model at time step 23500\n",
            "Saved model at time step 24000\n",
            "Saved model at time step 24500\n",
            "Saved model at time step 25000\n",
            "Saved model at time step 25500\n",
            "Saved model at time step 26000\n",
            "Saved model at time step 26500\n",
            "Saved model at time step 27000\n",
            "Saved model at time step 27500\n",
            "Saved model at time step 28000\n",
            "Saved model at time step 28500\n",
            "Saved model at time step 29000\n",
            "Saved model at time step 29500\n",
            "Saved model at time step 30000\n",
            "Saved model at time step 30500\n",
            "Saved model at time step 31000\n",
            "Saved model at time step 31500\n",
            "Saved model at time step 32000\n",
            "Saved model at time step 32500\n",
            "Saved model at time step 33000\n",
            "Saved model at time step 33500\n",
            "Saved model at time step 34000\n",
            "Saved model at time step 34500\n",
            "Saved model at time step 35000\n",
            "Saved model at time step 35500\n",
            "Saved model at time step 36000\n",
            "Saved model at time step 36500\n",
            "Saved model at time step 37000\n",
            "Saved model at time step 37500\n",
            "Saved model at time step 38000\n",
            "Saved model at time step 38500\n",
            "Saved model at time step 39000\n",
            "Saved model at time step 39500\n",
            "Saved model at time step 40000\n",
            "Saved model at time step 40500\n",
            "Saved model at time step 41000\n",
            "Saved model at time step 41500\n",
            "Saved model at time step 42000\n",
            "Saved model at time step 42500\n",
            "Saved model at time step 43000\n",
            "Saved model at time step 43500\n",
            "Saved model at time step 44000\n",
            "Saved model at time step 44500\n",
            "Saved model at time step 45000\n",
            "Saved model at time step 45500\n",
            "Saved model at time step 46000\n",
            "Saved model at time step 46500\n",
            "Saved model at time step 47000\n",
            "Saved model at time step 47500\n",
            "Saved model at time step 48000\n",
            "Saved model at time step 48500\n",
            "Saved model at time step 49000\n",
            "Saved model at time step 49500\n",
            "Saved model at time step 50000\n",
            "Saved model at time step 50500\n",
            "Saved model at time step 51000\n",
            "Saved model at time step 51500\n",
            "Saved model at time step 52000\n",
            "Saved model at time step 52500\n",
            "Saved model at time step 53000\n",
            "Saved model at time step 53500\n",
            "Saved model at time step 54000\n",
            "Saved model at time step 54500\n",
            "Saved model at time step 55000\n",
            "Saved model at time step 55500\n",
            "Saved model at time step 56000\n",
            "Saved model at time step 56500\n",
            "Saved model at time step 57000\n",
            "Saved model at time step 57500\n",
            "Saved model at time step 58000\n",
            "Saved model at time step 58500\n",
            "Saved model at time step 59000\n",
            "Saved model at time step 59500\n",
            "Saved model at time step 60000\n",
            "Saved model at time step 60500\n",
            "Saved model at time step 61000\n",
            "Saved model at time step 61500\n",
            "Saved model at time step 62000\n",
            "Saved model at time step 62500\n",
            "Saved model at time step 63000\n"
          ]
        },
        {
          "output_type": "execute_result",
          "data": {
            "text/plain": [
              "<stable_baselines3.ppo.ppo.PPO at 0x7fa3c5e17370>"
            ]
          },
          "metadata": {},
          "execution_count": 43
        }
      ]
    },
    {
      "cell_type": "markdown",
      "source": [
        "## Grading and evaluation\n",
        "\n",
        "The total number of points for Part 2 is 7.5. We will evaluate your trained model on 5 random goal locations. For each test, we assign points based on the distance between the end effector and the goal location at the end of the episode.\n",
        "\n",
        "- If 0 < distance < 0.05, you get 1.5 points.\n",
        "- If 0.05 <= distance < 0.1, you get 1 point.\n",
        "- If distance >= 0.1, you get 0 point.\n",
        "\n"
      ],
      "metadata": {
        "id": "f9N2falIz9rq"
      }
    },
    {
      "cell_type": "code",
      "source": [
        "from score import score_policy\n",
        "from stable_baselines3 import PPO\n",
        "from stable_baselines3.common.utils import set_random_seed\n",
        "from robot import Robot\n",
        "from arm_dynamics import ArmDynamics\n",
        "from render import Renderer\n",
        "import time\n",
        "\n",
        "# Set the path to your model\n",
        "model_path = '/content/ppo_models_4/ppo_network_step_13500.zip'\n",
        "\n",
        "set_random_seed(seed=100)\n",
        "\n",
        "# Create arm robot\n",
        "arm = make_arm()\n",
        "\n",
        "# Create environment\n",
        "env = ArmEnv(arm, gui=False)\n",
        "env.seed(100)\n",
        "\n",
        "# Load and test policy\n",
        "policy = PPO.load(model_path)\n",
        "score_policy(policy, env)"
      ],
      "metadata": {
        "id": "X6eQ2mzglwd0",
        "colab": {
          "base_uri": "https://localhost:8080/"
        },
        "outputId": "3a9cd069-8b97-4a7f-c904-2e1452d802bf"
      },
      "execution_count": null,
      "outputs": [
        {
          "output_type": "stream",
          "name": "stdout",
          "text": [
            "\n",
            "--- Computing score ---\n",
            "\n",
            "Goal 1: 0\n",
            "\n",
            "Goal 2: 1\n",
            "\n",
            "Goal 3: 0\n",
            "\n",
            "Goal 4: 1.5\n",
            "\n",
            "Goal 5: 0\n",
            "\n",
            "\n",
            "---\n",
            "Final score: 2.5/7.5\n",
            "---\n"
          ]
        },
        {
          "output_type": "execute_result",
          "data": {
            "text/plain": [
              "2.5"
            ]
          },
          "metadata": {},
          "execution_count": 51
        }
      ]
    },
    {
      "cell_type": "code",
      "source": [
        "\n",
        "\n",
        "def test_policy(policy, env, goal):\n",
        "    env.reset()\n",
        "    env.set_goal(goal)\n",
        "    env.arm.reset()  # force arm to be in vertical configuration\n",
        "    # import ipdb; ipdb.set_trace()\n",
        "    obs, rewards, done, info = env.step(env.action_space.sample() * 0)\n",
        "    while True:\n",
        "        action, _states = policy.predict(obs, deterministic=True)\n",
        "        obs, rewards, done, info = env.step(action)\n",
        "        if done:\n",
        "            break\n",
        "    state = env.arm.get_state()\n",
        "    pos_ee = env.arm.dynamics.compute_fk(state)\n",
        "    dist = np.linalg.norm((pos_ee - goal))\n",
        "    return dist\n",
        "\n",
        "# Create arm robot\n",
        "arm = make_arm()\n",
        "\n",
        "# Create environment\n",
        "env = ArmEnv(arm, gui=False)\n",
        "env.seed(100)\n",
        "\n",
        "\n",
        "start = 500\n",
        "end = 63000\n",
        "step = 500\n",
        "\n",
        "score_history = []\n",
        "for i in tqdm(range(start, end + step, step)):\n",
        "    model_path = f'/content/ppo_models_4/ppo_network_step_{i}.zip'\n",
        "\n",
        "    set_random_seed(seed=100)\n",
        "\n",
        "\n",
        "    # Load and test policy\n",
        "    policy = PPO.load(model_path)\n",
        "        \n",
        "    score = 0\n",
        "        \n",
        "    goal = polar2cartesian(1.8, 0.2 - np.pi / 2.0)\n",
        "    score += test_policy(policy, env, goal)\n",
        "\n",
        "\n",
        "    goal = polar2cartesian(1.9, -0.15 - np.pi / 2.0)\n",
        "    score += test_policy(policy, env, goal)\n",
        "\n",
        "\n",
        "    goal = polar2cartesian(1.6, 0.25 - np.pi / 2.0)\n",
        "    score += test_policy(policy, env, goal)\n",
        "\n",
        "\n",
        "    goal = polar2cartesian(1.8, -0.25 - np.pi / 2.0)\n",
        "    score += test_policy(policy, env, goal)\n",
        "\n",
        "\n",
        "    goal = polar2cartesian(1.6, 0.45 - np.pi / 2.0)\n",
        "    score += test_policy(policy, env, goal)\n",
        "    score_history.append(score)\n",
        "\n",
        "\n",
        "\n"
      ],
      "metadata": {
        "colab": {
          "base_uri": "https://localhost:8080/"
        },
        "id": "GOJrTo2KUs43",
        "outputId": "b741fc1a-c3b6-4112-814e-7ee18aa65bca"
      },
      "execution_count": null,
      "outputs": [
        {
          "output_type": "stream",
          "name": "stderr",
          "text": [
            "100%|██████████| 126/126 [02:54<00:00,  1.39s/it]\n"
          ]
        }
      ]
    },
    {
      "cell_type": "code",
      "source": [
        "score_history = np.array(score_history)\n",
        "\n",
        "smoothed_data = savgol_filter(score_history, window_length=5, polyorder=2)\n",
        "\n",
        "plt.figure()\n",
        "# plt.yscale('log')\n",
        "plt.plot(score_history)\n",
        "plt.xlabel('epoches')\n",
        "plt.ylabel('distance error')\n",
        "plt.title('PPO testing')\n",
        "# min_value = 1e1\n",
        "# max_value = 2e2\n",
        "# plt.ylim(min_value, max_value)\n",
        "\n",
        "# Display grid lines\n",
        "plt.grid(which='both')\n",
        "\n",
        "plt.show()"
      ],
      "metadata": {
        "colab": {
          "base_uri": "https://localhost:8080/",
          "height": 472
        },
        "id": "zj56-WKmZL_M",
        "outputId": "30f1cdf7-7cb2-4ad1-c306-7027efe887f4"
      },
      "execution_count": null,
      "outputs": [
        {
          "output_type": "display_data",
          "data": {
            "text/plain": [
              "<Figure size 640x480 with 1 Axes>"
            ],
            "image/png": "[encoded data removed]"
          },
          "metadata": {}
        }
      ]
    }
  ]
}